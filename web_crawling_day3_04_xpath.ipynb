{
 "cells": [
  {
   "cell_type": "markdown",
   "id": "636e90bb",
   "metadata": {},
   "source": [
    "#### xpath\n",
    "- html element를 선택하는 방법\n",
    "- scrapy에서 기본적으로 사용하는 selector\n",
    "- scrapy : 파이썬 코드로 웹페이지의 데이터를 수집하는 프레임워크"
   ]
  },
  {
   "cell_type": "code",
   "execution_count": 2,
   "id": "abe2fa6c",
   "metadata": {},
   "outputs": [
    {
     "name": "stdout",
     "output_type": "stream",
     "text": [
      "Collecting scrapy\n",
      "  Downloading Scrapy-2.6.2-py2.py3-none-any.whl (264 kB)\n",
      "Collecting parsel>=1.5.0\n",
      "  Downloading parsel-1.6.0-py2.py3-none-any.whl (13 kB)\n",
      "Collecting service-identity>=16.0.0\n",
      "  Downloading service_identity-21.1.0-py2.py3-none-any.whl (12 kB)\n",
      "Collecting tldextract\n",
      "  Downloading tldextract-3.3.1-py3-none-any.whl (93 kB)\n",
      "Requirement already satisfied: pyOpenSSL>=16.2.0 in c:\\users\\user\\anaconda3\\lib\\site-packages (from scrapy) (20.0.1)\n",
      "Collecting protego>=0.1.15\n",
      "  Downloading Protego-0.2.1-py2.py3-none-any.whl (8.2 kB)\n",
      "Collecting itemadapter>=0.1.0\n",
      "  Downloading itemadapter-0.7.0-py3-none-any.whl (10 kB)\n",
      "Collecting Twisted>=17.9.0\n",
      "  Downloading Twisted-22.4.0-py3-none-any.whl (3.1 MB)\n",
      "Collecting PyDispatcher>=2.0.5\n",
      "  Downloading PyDispatcher-2.0.5.zip (47 kB)\n",
      "Requirement already satisfied: cryptography>=2.0 in c:\\users\\user\\anaconda3\\lib\\site-packages (from scrapy) (3.4.7)\n",
      "Collecting queuelib>=1.4.2\n",
      "  Downloading queuelib-1.6.2-py2.py3-none-any.whl (13 kB)\n",
      "Collecting w3lib>=1.17.0\n",
      "  Downloading w3lib-1.22.0-py2.py3-none-any.whl (20 kB)\n",
      "Requirement already satisfied: lxml>=3.5.0 in c:\\users\\user\\anaconda3\\lib\\site-packages (from scrapy) (4.6.3)\n",
      "Requirement already satisfied: zope.interface>=4.1.3 in c:\\users\\user\\anaconda3\\lib\\site-packages (from scrapy) (5.3.0)\n",
      "Collecting itemloaders>=1.0.1\n",
      "  Downloading itemloaders-1.0.4-py3-none-any.whl (11 kB)\n",
      "Collecting cssselect>=0.9.1\n",
      "  Downloading cssselect-1.1.0-py2.py3-none-any.whl (16 kB)\n",
      "Requirement already satisfied: setuptools in c:\\users\\user\\anaconda3\\lib\\site-packages (from scrapy) (52.0.0.post20210125)\n",
      "Requirement already satisfied: cffi>=1.12 in c:\\users\\user\\anaconda3\\lib\\site-packages (from cryptography>=2.0->scrapy) (1.14.5)\n",
      "Requirement already satisfied: pycparser in c:\\users\\user\\anaconda3\\lib\\site-packages (from cffi>=1.12->cryptography>=2.0->scrapy) (2.20)\n",
      "Collecting jmespath>=0.9.5\n",
      "  Downloading jmespath-1.0.1-py3-none-any.whl (20 kB)\n",
      "Requirement already satisfied: six>=1.6.0 in c:\\users\\user\\anaconda3\\lib\\site-packages (from parsel>=1.5.0->scrapy) (1.15.0)\n",
      "Requirement already satisfied: attrs>=19.1.0 in c:\\users\\user\\anaconda3\\lib\\site-packages (from service-identity>=16.0.0->scrapy) (20.3.0)\n",
      "Collecting pyasn1-modules\n",
      "  Downloading pyasn1_modules-0.2.8-py2.py3-none-any.whl (155 kB)\n",
      "Collecting pyasn1\n",
      "  Downloading pyasn1-0.4.8-py2.py3-none-any.whl (77 kB)\n",
      "Collecting Automat>=0.8.0\n",
      "  Downloading Automat-20.2.0-py2.py3-none-any.whl (31 kB)\n",
      "Requirement already satisfied: typing-extensions>=3.6.5 in c:\\users\\user\\anaconda3\\lib\\site-packages (from Twisted>=17.9.0->scrapy) (3.7.4.3)\n",
      "Collecting incremental>=21.3.0\n",
      "  Downloading incremental-21.3.0-py2.py3-none-any.whl (15 kB)\n",
      "Collecting constantly>=15.1\n",
      "  Downloading constantly-15.1.0-py2.py3-none-any.whl (7.9 kB)\n",
      "Collecting twisted-iocpsupport<2,>=1.0.2\n",
      "  Downloading twisted_iocpsupport-1.0.2-cp38-cp38-win_amd64.whl (45 kB)\n",
      "Collecting hyperlink>=17.1.1\n",
      "  Downloading hyperlink-21.0.0-py2.py3-none-any.whl (74 kB)\n",
      "Requirement already satisfied: idna>=2.5 in c:\\users\\user\\anaconda3\\lib\\site-packages (from hyperlink>=17.1.1->Twisted>=17.9.0->scrapy) (2.10)\n",
      "Requirement already satisfied: requests>=2.1.0 in c:\\users\\user\\anaconda3\\lib\\site-packages (from tldextract->scrapy) (2.25.1)\n",
      "Collecting requests-file>=1.4\n",
      "  Downloading requests_file-1.5.1-py2.py3-none-any.whl (3.7 kB)\n",
      "Requirement already satisfied: filelock>=3.0.8 in c:\\users\\user\\anaconda3\\lib\\site-packages (from tldextract->scrapy) (3.0.12)\n",
      "Requirement already satisfied: chardet<5,>=3.0.2 in c:\\users\\user\\anaconda3\\lib\\site-packages (from requests>=2.1.0->tldextract->scrapy) (4.0.0)\n",
      "Requirement already satisfied: urllib3<1.27,>=1.21.1 in c:\\users\\user\\anaconda3\\lib\\site-packages (from requests>=2.1.0->tldextract->scrapy) (1.26.4)\n",
      "Requirement already satisfied: certifi>=2017.4.17 in c:\\users\\user\\anaconda3\\lib\\site-packages (from requests>=2.1.0->tldextract->scrapy) (2020.12.5)\n",
      "Building wheels for collected packages: PyDispatcher\n",
      "  Building wheel for PyDispatcher (setup.py): started\n",
      "  Building wheel for PyDispatcher (setup.py): finished with status 'done'\n",
      "  Created wheel for PyDispatcher: filename=PyDispatcher-2.0.5-py3-none-any.whl size=12547 sha256=a20745a3f1458a4467f8c862b8a91142fdd37db5239da9a153ebe765fa6b7605\n",
      "  Stored in directory: c:\\users\\user\\appdata\\local\\pip\\cache\\wheels\\3c\\31\\7f\\d7d7b5f0b9bad841ed856138ff0c5ee2bf2e04dbeb413097c8\n",
      "Successfully built PyDispatcher\n",
      "Installing collected packages: w3lib, pyasn1, cssselect, twisted-iocpsupport, requests-file, pyasn1-modules, parsel, jmespath, itemadapter, incremental, hyperlink, constantly, Automat, Twisted, tldextract, service-identity, queuelib, PyDispatcher, protego, itemloaders, scrapy\n",
      "Successfully installed Automat-20.2.0 PyDispatcher-2.0.5 Twisted-22.4.0 constantly-15.1.0 cssselect-1.1.0 hyperlink-21.0.0 incremental-21.3.0 itemadapter-0.7.0 itemloaders-1.0.4 jmespath-1.0.1 parsel-1.6.0 protego-0.2.1 pyasn1-0.4.8 pyasn1-modules-0.2.8 queuelib-1.6.2 requests-file-1.5.1 scrapy-2.6.2 service-identity-21.1.0 tldextract-3.3.1 twisted-iocpsupport-1.0.2 w3lib-1.22.0\n"
     ]
    }
   ],
   "source": [
    "# !pip install scrapy"
   ]
  },
  {
   "cell_type": "code",
   "execution_count": 3,
   "id": "90db1472",
   "metadata": {},
   "outputs": [],
   "source": [
    "import scrapy, requests\n",
    "from scrapy.http import TextResponse"
   ]
  },
  {
   "cell_type": "code",
   "execution_count": null,
   "id": "91b4069e",
   "metadata": {},
   "outputs": [],
   "source": [
    "# 네이버 연관검색어 수집"
   ]
  },
  {
   "cell_type": "code",
   "execution_count": 5,
   "id": "44730fb8",
   "metadata": {},
   "outputs": [
    {
     "data": {
      "text/plain": [
       "'https://search.naver.com/search.naver?query=kt'"
      ]
     },
     "execution_count": 5,
     "metadata": {},
     "output_type": "execute_result"
    }
   ],
   "source": [
    "query = 'kt'\n",
    "url = f\"https://search.naver.com/search.naver?query={query}\"\n",
    "url"
   ]
  },
  {
   "cell_type": "code",
   "execution_count": 6,
   "id": "235f6be0",
   "metadata": {},
   "outputs": [],
   "source": [
    "response = requests.get(url)\n",
    "dom = TextResponse(response.url,body=response.text,encoding=\"utf-8\")"
   ]
  },
  {
   "cell_type": "code",
   "execution_count": 7,
   "id": "2671994f",
   "metadata": {},
   "outputs": [],
   "source": [
    "#xpath syntax\n",
    "# //*[@id =\"nx_footer_related_keywords\"]/div/div[2]/ul/li[1]/a /div\n",
    "# // : 최상위 엘리먼트\n",
    "# * : 모든 하위 엘리먼트 : css selector(.wrap p)\n",
    "#[@id =\"nx_footer_related_keywords\"] 속성값으로 엘리먼트 선택\n",
    "# / : 한단계 하위 엘리먼트 : css selector(.wrap > p)\n",
    "# [n] : nth-child(n) : n 번째 엘리먼트"
   ]
  },
  {
   "cell_type": "code",
   "execution_count": 9,
   "id": "ff5686e8",
   "metadata": {},
   "outputs": [
    {
     "data": {
      "text/plain": [
       "[<Selector xpath='//*[@id=\"nx_footer_related_keywords\"]/div/div[2]/ul/li/a/div' data='<div class=\"tit\">삼성전자</div>'>,\n",
       " <Selector xpath='//*[@id=\"nx_footer_related_keywords\"]/div/div[2]/ul/li/a/div' data='<div class=\"tit\">kt 고객센터</div>'>,\n",
       " <Selector xpath='//*[@id=\"nx_footer_related_keywords\"]/div/div[2]/ul/li/a/div' data='<div class=\"tit\">kt 인터넷</div>'>,\n",
       " <Selector xpath='//*[@id=\"nx_footer_related_keywords\"]/div/div[2]/ul/li/a/div' data='<div class=\"tit\">ky</div>'>,\n",
       " <Selector xpath='//*[@id=\"nx_footer_related_keywords\"]/div/div[2]/ul/li/a/div' data='<div class=\"tit\">환율</div>'>,\n",
       " <Selector xpath='//*[@id=\"nx_footer_related_keywords\"]/div/div[2]/ul/li/a/div' data='<div class=\"tit\">kt 대리점</div>'>,\n",
       " <Selector xpath='//*[@id=\"nx_footer_related_keywords\"]/div/div[2]/ul/li/a/div' data='<div class=\"tit\">kr</div>'>,\n",
       " <Selector xpath='//*[@id=\"nx_footer_related_keywords\"]/div/div[2]/ul/li/a/div' data='<div class=\"tit\">날씨</div>'>,\n",
       " <Selector xpath='//*[@id=\"nx_footer_related_keywords\"]/div/div[2]/ul/li/a/div' data='<div class=\"tit\">SKT</div>'>,\n",
       " <Selector xpath='//*[@id=\"nx_footer_related_keywords\"]/div/div[2]/ul/li/a/div' data='<div class=\"tit\">kt 고객센터 전화번호</div>'>]"
      ]
     },
     "execution_count": 9,
     "metadata": {},
     "output_type": "execute_result"
    }
   ],
   "source": [
    "dom.xpath('//*[@id=\"nx_footer_related_keywords\"]/div/div[2]/ul/li/a/div')"
   ]
  },
  {
   "cell_type": "code",
   "execution_count": 10,
   "id": "7daf7ba7",
   "metadata": {},
   "outputs": [
    {
     "data": {
      "text/plain": [
       "[<Selector xpath='//*[@id=\"nx_footer_related_keywords\"]/div/div[2]/ul/li[1]/a/div' data='<div class=\"tit\">삼성전자</div>'>]"
      ]
     },
     "execution_count": 10,
     "metadata": {},
     "output_type": "execute_result"
    }
   ],
   "source": [
    "dom.xpath('//*[@id=\"nx_footer_related_keywords\"]/div/div[2]/ul/li[1]/a/div')"
   ]
  },
  {
   "cell_type": "code",
   "execution_count": 11,
   "id": "1f83863b",
   "metadata": {},
   "outputs": [
    {
     "data": {
      "text/plain": [
       "[<Selector xpath='//*[@id=\"nx_footer_related_keywords\"]/div/div[2]/ul/li/a/div' data='<div class=\"tit\">삼성전자</div>'>,\n",
       " <Selector xpath='//*[@id=\"nx_footer_related_keywords\"]/div/div[2]/ul/li/a/div' data='<div class=\"tit\">kt 고객센터</div>'>]"
      ]
     },
     "execution_count": 11,
     "metadata": {},
     "output_type": "execute_result"
    }
   ],
   "source": [
    "dom.xpath('//*[@id=\"nx_footer_related_keywords\"]/div/div[2]/ul/li/a/div')[:2]"
   ]
  },
  {
   "cell_type": "code",
   "execution_count": 14,
   "id": "e92dceac",
   "metadata": {},
   "outputs": [
    {
     "name": "stdout",
     "output_type": "stream",
     "text": [
      "['삼성전자', 'kt 고객센터', 'kt 인터넷', 'ky', '환율', 'kt 대리점', 'kr', '날씨', 'SKT', 'kt 고객센터 전화번호']\n"
     ]
    }
   ],
   "source": [
    "#text 수집\n",
    "keywords = dom.xpath('//*[@id=\"nx_footer_related_keywords\"]/div/div[2]/ul/li/a/div/text()').extract()\n",
    "print(keywords)"
   ]
  },
  {
   "cell_type": "code",
   "execution_count": 15,
   "id": "8b148432",
   "metadata": {},
   "outputs": [],
   "source": [
    "# selenium 에서의 xpath는 for 을 사용해서 데이터를 수집"
   ]
  },
  {
   "cell_type": "code",
   "execution_count": 17,
   "id": "6a0fbe46",
   "metadata": {},
   "outputs": [],
   "source": [
    "# yield\n",
    "# iterable : 순서가 있는 데이터 집합 : list, tuple\n",
    "# iterator : next 함수를 실행하여 값을 발생시키는 값 생성기\n",
    "# generator : iterator 간단하게 구현한 문법"
   ]
  },
  {
   "cell_type": "code",
   "execution_count": 19,
   "id": "9b533620",
   "metadata": {},
   "outputs": [],
   "source": [
    "# 이터레이터 만들기\n",
    "iterator = iter([1,2,3])"
   ]
  },
  {
   "cell_type": "code",
   "execution_count": 20,
   "id": "e5afe4b0",
   "metadata": {},
   "outputs": [
    {
     "data": {
      "text/plain": [
       "list_iterator"
      ]
     },
     "execution_count": 20,
     "metadata": {},
     "output_type": "execute_result"
    }
   ],
   "source": [
    "type(iterator)"
   ]
  },
  {
   "cell_type": "code",
   "execution_count": 24,
   "id": "16ddda1a",
   "metadata": {},
   "outputs": [
    {
     "ename": "StopIteration",
     "evalue": "",
     "output_type": "error",
     "traceback": [
      "\u001b[1;31m---------------------------------------------------------------------------\u001b[0m",
      "\u001b[1;31mStopIteration\u001b[0m                             Traceback (most recent call last)",
      "\u001b[1;32m<ipython-input-24-4ce711c44abc>\u001b[0m in \u001b[0;36m<module>\u001b[1;34m\u001b[0m\n\u001b[1;32m----> 1\u001b[1;33m \u001b[0mnext\u001b[0m\u001b[1;33m(\u001b[0m\u001b[0miterator\u001b[0m\u001b[1;33m)\u001b[0m\u001b[1;33m\u001b[0m\u001b[1;33m\u001b[0m\u001b[0m\n\u001b[0m",
      "\u001b[1;31mStopIteration\u001b[0m: "
     ]
    }
   ],
   "source": [
    "next(iterator)"
   ]
  },
  {
   "cell_type": "code",
   "execution_count": null,
   "id": "4b435dfb",
   "metadata": {},
   "outputs": [],
   "source": [
    "# 클래스로 이터레이터 만들기 : 피보나치 수열"
   ]
  },
  {
   "cell_type": "code",
   "execution_count": 26,
   "id": "b55ec623",
   "metadata": {},
   "outputs": [],
   "source": [
    "class Fib:\n",
    "    def __init__(self):\n",
    "        self.prev = 0\n",
    "        self.curr = 1\n",
    "    def __iter__(self):\n",
    "        return self\n",
    "    def __next__(self):\n",
    "        value = self.curr\n",
    "        self.curr += self.prev\n",
    "        return value"
   ]
  },
  {
   "cell_type": "code",
   "execution_count": null,
   "id": "bbf58df9",
   "metadata": {},
   "outputs": [],
   "source": [
    "# 0 1 1 2 3 5 8 13 21 34"
   ]
  },
  {
   "cell_type": "code",
   "execution_count": 27,
   "id": "690c311e",
   "metadata": {},
   "outputs": [
    {
     "data": {
      "text/plain": [
       "__main__.Fib"
      ]
     },
     "execution_count": 27,
     "metadata": {},
     "output_type": "execute_result"
    }
   ],
   "source": [
    "fib = Fib()\n",
    "type(fib)"
   ]
  },
  {
   "cell_type": "code",
   "execution_count": 29,
   "id": "12aa246e",
   "metadata": {},
   "outputs": [
    {
     "data": {
      "text/plain": [
       "1"
      ]
     },
     "execution_count": 29,
     "metadata": {},
     "output_type": "execute_result"
    }
   ],
   "source": [
    "next(fib)"
   ]
  },
  {
   "cell_type": "code",
   "execution_count": null,
   "id": "c656504f",
   "metadata": {},
   "outputs": [],
   "source": [
    "# yield : 일반 함수를 제너레이터로 만들어주는 명령어\n",
    "# next 함수를 실행해서 yield를 만나면 코드 실행 중단"
   ]
  },
  {
   "cell_type": "code",
   "execution_count": 31,
   "id": "3eaa34c4",
   "metadata": {},
   "outputs": [],
   "source": [
    "def fib():\n",
    "    prev, curr = 0,1\n",
    "    while True:\n",
    "        yield curr # curr를 return 하고 코드 실행 중단\n",
    "        prev, curr = curr, prev + curr"
   ]
  },
  {
   "cell_type": "code",
   "execution_count": 33,
   "id": "84b80dee",
   "metadata": {},
   "outputs": [],
   "source": [
    "# 0 1 1 2 3 5 8"
   ]
  },
  {
   "cell_type": "code",
   "execution_count": 34,
   "id": "6157a396",
   "metadata": {},
   "outputs": [],
   "source": [
    "f = fib()"
   ]
  },
  {
   "cell_type": "code",
   "execution_count": 35,
   "id": "d6956372",
   "metadata": {},
   "outputs": [
    {
     "data": {
      "text/plain": [
       "generator"
      ]
     },
     "execution_count": 35,
     "metadata": {},
     "output_type": "execute_result"
    }
   ],
   "source": [
    "type(f)"
   ]
  },
  {
   "cell_type": "code",
   "execution_count": 38,
   "id": "9aa7226c",
   "metadata": {},
   "outputs": [
    {
     "data": {
      "text/plain": [
       "2"
      ]
     },
     "execution_count": 38,
     "metadata": {},
     "output_type": "execute_result"
    }
   ],
   "source": [
    "next(f)"
   ]
  },
  {
   "cell_type": "code",
   "execution_count": 39,
   "id": "9e00ff17",
   "metadata": {},
   "outputs": [],
   "source": [
    "# yield : 함수를 호출할때 마다 return을 여러번 하는 방법"
   ]
  },
  {
   "cell_type": "code",
   "execution_count": 40,
   "id": "e708dd0c",
   "metadata": {},
   "outputs": [],
   "source": [
    "def gen():\n",
    "    yield 1\n",
    "    yield 2\n",
    "    yield 3\n",
    "\n",
    "g = gen()"
   ]
  },
  {
   "cell_type": "code",
   "execution_count": 44,
   "id": "26989212",
   "metadata": {},
   "outputs": [
    {
     "ename": "StopIteration",
     "evalue": "",
     "output_type": "error",
     "traceback": [
      "\u001b[1;31m---------------------------------------------------------------------------\u001b[0m",
      "\u001b[1;31mStopIteration\u001b[0m                             Traceback (most recent call last)",
      "\u001b[1;32m<ipython-input-44-e734f8aca5ac>\u001b[0m in \u001b[0;36m<module>\u001b[1;34m\u001b[0m\n\u001b[1;32m----> 1\u001b[1;33m \u001b[0mnext\u001b[0m\u001b[1;33m(\u001b[0m\u001b[0mg\u001b[0m\u001b[1;33m)\u001b[0m\u001b[1;33m\u001b[0m\u001b[1;33m\u001b[0m\u001b[0m\n\u001b[0m",
      "\u001b[1;31mStopIteration\u001b[0m: "
     ]
    }
   ],
   "source": [
    "next(g)"
   ]
  },
  {
   "cell_type": "code",
   "execution_count": null,
   "id": "c72c4743",
   "metadata": {},
   "outputs": [],
   "source": []
  }
 ],
 "metadata": {
  "kernelspec": {
   "display_name": "Python 3",
   "language": "python",
   "name": "python3"
  },
  "language_info": {
   "codemirror_mode": {
    "name": "ipython",
    "version": 3
   },
   "file_extension": ".py",
   "mimetype": "text/x-python",
   "name": "python",
   "nbconvert_exporter": "python",
   "pygments_lexer": "ipython3",
   "version": "3.8.8"
  }
 },
 "nbformat": 4,
 "nbformat_minor": 5
}
