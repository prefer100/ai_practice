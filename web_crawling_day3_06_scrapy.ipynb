{
 "cells": [
  {
   "cell_type": "markdown",
   "id": "24d8cd41",
   "metadata": {},
   "source": [
    "### scrapy\n",
    "- 비동기 방식으로 데이터를 수집 > 데이터 수집 속도가 빠름"
   ]
  },
  {
   "cell_type": "code",
   "execution_count": 2,
   "id": "4b745430",
   "metadata": {},
   "outputs": [],
   "source": [
    "import scrapy, requests\n",
    "from scrapy.http import TextResponse"
   ]
  },
  {
   "cell_type": "code",
   "execution_count": 3,
   "id": "97c5bf2a",
   "metadata": {},
   "outputs": [],
   "source": [
    "# Gmarket 베스트 200 상품 데이터 수집"
   ]
  },
  {
   "cell_type": "code",
   "execution_count": 4,
   "id": "15e64e46",
   "metadata": {},
   "outputs": [],
   "source": [
    "# 1. 스크레피 프로젝트 생성 "
   ]
  },
  {
   "cell_type": "code",
   "execution_count": 8,
   "id": "5d8ae66a",
   "metadata": {},
   "outputs": [
    {
     "name": "stdout",
     "output_type": "stream",
     "text": [
      "New Scrapy project 'gmarket', using template directory 'c:\\users\\user\\anaconda3\\lib\\site-packages\\scrapy\\templates\\project', created in:\n",
      "    C:\\Users\\User\\gmarket\n",
      "\n",
      "You can start your first spider with:\n",
      "    cd gmarket\n",
      "    scrapy genspider example example.com\n"
     ]
    }
   ],
   "source": [
    "!scrapy startproject gmarket\n",
    "# 마지막에는 프로젝트 이름"
   ]
  },
  {
   "cell_type": "code",
   "execution_count": 9,
   "id": "e2472342",
   "metadata": {},
   "outputs": [
    {
     "name": "stdout",
     "output_type": "stream",
     "text": [
      "폴더 PATH의 목록입니다.\n",
      "볼륨 일련 번호가 000000FA 7C6C:FC35입니다.\n",
      "C:\\USERS\\USER\\GMARKET\n",
      "│  scrapy.cfg\n",
      "│  \n",
      "└─gmarket\n",
      "    │  items.py\n",
      "    │  middlewares.py\n",
      "    │  pipelines.py\n",
      "    │  settings.py\n",
      "    │  __init__.py\n",
      "    │  \n",
      "    └─spiders\n",
      "            __init__.py\n",
      "            \n"
     ]
    }
   ],
   "source": [
    "!tree gmarket /f"
   ]
  },
  {
   "cell_type": "code",
   "execution_count": null,
   "id": "0cbe9216",
   "metadata": {},
   "outputs": [],
   "source": [
    "# items.py : 수집할 데이터의 구조 정의\n",
    "# middlewares.py : 데이터를 수집할 때 headers 정보와 같은 내용을 설정\n",
    "# pipelines.py : 데이터를 수집한 후에 코드 실행 정의\n",
    "# settings.py : 크롤링 설정 : 크롤링 시간 텀, robots.txt 규칙\n",
    "# spiders : 디렉토리 : 크롤링 절차 정의"
   ]
  },
  {
   "cell_type": "code",
   "execution_count": 5,
   "id": "14a81d13",
   "metadata": {},
   "outputs": [],
   "source": [
    "# 2. xpath 찾기 : 링크, 상세 페이지의 데이터"
   ]
  },
  {
   "cell_type": "code",
   "execution_count": null,
   "id": "6b203213",
   "metadata": {},
   "outputs": [],
   "source": [
    "url = \"http://corners.gmarket.co.kr/Bestsellers\""
   ]
  },
  {
   "cell_type": "code",
   "execution_count": 10,
   "id": "5c930c88",
   "metadata": {},
   "outputs": [],
   "source": [
    "# 링크 데이터 수집"
   ]
  },
  {
   "cell_type": "code",
   "execution_count": 14,
   "id": "a32d0b71",
   "metadata": {},
   "outputs": [],
   "source": [
    "request = requests.get(\"http://corners.gmarket.co.kr/Bestsellers\")\n",
    "response = TextResponse(request.url, body=request.text, encoding=\"utf-8\")"
   ]
  },
  {
   "cell_type": "code",
   "execution_count": 17,
   "id": "91829215",
   "metadata": {},
   "outputs": [
    {
     "data": {
      "text/plain": [
       "['http://item.gmarket.co.kr/Item?goodscode=2519604129&ver=637953126299881366',\n",
       " 'http://item.gmarket.co.kr/Item?goodscode=2520466046&ver=637953126299881366']"
      ]
     },
     "execution_count": 17,
     "metadata": {},
     "output_type": "execute_result"
    }
   ],
   "source": [
    "links = response.xpath('//*[@id=\"gBestWrap\"]/div/div[3]/div/ul/li/a/@href').extract()\n",
    "links[:2]"
   ]
  },
  {
   "cell_type": "code",
   "execution_count": 11,
   "id": "06e359fd",
   "metadata": {},
   "outputs": [],
   "source": [
    "# 상세 페이지 데이터 수집"
   ]
  },
  {
   "cell_type": "code",
   "execution_count": 19,
   "id": "54186697",
   "metadata": {},
   "outputs": [],
   "source": [
    "link = links[0]\n",
    "request = requests.get(link)\n",
    "response = TextResponse(request.url, body=request.text, encoding=\"utf-8\")"
   ]
  },
  {
   "cell_type": "code",
   "execution_count": 20,
   "id": "3cb588d4",
   "metadata": {},
   "outputs": [
    {
     "data": {
      "text/plain": [
       "('브라운 면도기 세정액 CCR5+1 ', '25,030')"
      ]
     },
     "execution_count": 20,
     "metadata": {},
     "output_type": "execute_result"
    }
   ],
   "source": [
    "title = response.xpath('//*[@id=\"itemcase_basic\"]/div/h1/text()')[0].extract()\n",
    "price = response.xpath('//*[@id=\"itemcase_basic\"]/div/p/span/strong/text()')[0].extract()\n",
    "title, price"
   ]
  },
  {
   "cell_type": "code",
   "execution_count": 6,
   "id": "cbfccb8d",
   "metadata": {},
   "outputs": [],
   "source": [
    "# 3. items.py : 코드 작성 : model(데이터의 구조: 수집할 데이터의 컬럼을 정의)"
   ]
  },
  {
   "cell_type": "code",
   "execution_count": 26,
   "id": "50487e3c",
   "metadata": {},
   "outputs": [
    {
     "name": "stdout",
     "output_type": "stream",
     "text": [
      "Overwriting gmarket/gmarket/items.py\n"
     ]
    }
   ],
   "source": [
    "%%writefile gmarket/gmarket/items.py\n",
    "import scrapy\n",
    "\n",
    "class GmarketItem(scrapy.Item):\n",
    "    title = scrapy.Field()\n",
    "    price = scrapy.Field()\n",
    "    link = scrapy.Field()"
   ]
  },
  {
   "cell_type": "code",
   "execution_count": null,
   "id": "2754da92",
   "metadata": {},
   "outputs": [],
   "source": [
    "# 4. spider.py: 코드 작성 : 크롤링 절차 정의"
   ]
  },
  {
   "cell_type": "code",
   "execution_count": 27,
   "id": "c98a36fb",
   "metadata": {},
   "outputs": [
    {
     "name": "stdout",
     "output_type": "stream",
     "text": [
      "Overwriting gmarket/gmarket/spiders/spider.py\n"
     ]
    }
   ],
   "source": [
    "%%writefile gmarket/gmarket/spiders/spider.py\n",
    "import scrapy\n",
    "from gmarket.items import GmarketItem\n",
    "\n",
    "class GMSpider(scrapy.Spider):\n",
    "    name = \"GMB\"\n",
    "    allow_domain = [\"gmarket.co.kr\"]\n",
    "    start_urls = [\"http://corners.gmarket.co.kr/Bestsellers\"]\n",
    "    \n",
    "    def parse(self, response):\n",
    "        links = response.xpath('//*[@id=\"gBestWrap\"]/div/div[3]/div/ul/li/a/@href').extract()\n",
    "        for link in links[:20]:\n",
    "            yield scrapy.Request(link, callback=self.parse_content)\n",
    "    \n",
    "    def parse_content(self, response):\n",
    "        item = GmarketItem()\n",
    "        item[\"title\"] = response.xpath('//*[@id=\"itemcase_basic\"]/div[1]/h1/text()')[0].extract()\n",
    "        item[\"price\"] = response.xpath('//*[@id=\"itemcase_basic\"]/div[1]/p/span/strong/text()')[0].extract()\n",
    "        item[\"link\"] = response.url\n",
    "        yield item"
   ]
  },
  {
   "cell_type": "code",
   "execution_count": null,
   "id": "6a81656a",
   "metadata": {},
   "outputs": [],
   "source": [
    "# 5. 스크레피 프로젝트 실행\n",
    "# gmarket 디렉토리 \n",
    "# -o : ouput\n",
    "# scrapy crawl GMB -o items.csv"
   ]
  },
  {
   "cell_type": "code",
   "execution_count": 25,
   "id": "18d46a5b",
   "metadata": {},
   "outputs": [
    {
     "data": {
      "text/plain": [
       "'C:\\\\Users\\\\User'"
      ]
     },
     "execution_count": 25,
     "metadata": {},
     "output_type": "execute_result"
    }
   ],
   "source": [
    "%pwd"
   ]
  },
  {
   "cell_type": "code",
   "execution_count": null,
   "id": "99c98378",
   "metadata": {},
   "outputs": [],
   "source": [
    "# C:\\\\Users\\\\User\\\\Gmarket 으로하면 unknown 에러 해결됨"
   ]
  },
  {
   "cell_type": "code",
   "execution_count": 29,
   "id": "65e9b17b",
   "metadata": {
    "scrolled": true
   },
   "outputs": [
    {
     "data": {
      "text/html": [
       "<div>\n",
       "<style scoped>\n",
       "    .dataframe tbody tr th:only-of-type {\n",
       "        vertical-align: middle;\n",
       "    }\n",
       "\n",
       "    .dataframe tbody tr th {\n",
       "        vertical-align: top;\n",
       "    }\n",
       "\n",
       "    .dataframe thead th {\n",
       "        text-align: right;\n",
       "    }\n",
       "</style>\n",
       "<table border=\"1\" class=\"dataframe\">\n",
       "  <thead>\n",
       "    <tr style=\"text-align: right;\">\n",
       "      <th></th>\n",
       "      <th>link</th>\n",
       "      <th>price</th>\n",
       "      <th>title</th>\n",
       "    </tr>\n",
       "  </thead>\n",
       "  <tbody>\n",
       "    <tr>\n",
       "      <th>0</th>\n",
       "      <td>http://item.gmarket.co.kr/Item?goodscode=25196...</td>\n",
       "      <td>25,030</td>\n",
       "      <td>브라운 면도기 세정액 CCR5+1</td>\n",
       "    </tr>\n",
       "    <tr>\n",
       "      <th>1</th>\n",
       "      <td>http://item.gmarket.co.kr/Item?goodscode=16659...</td>\n",
       "      <td>15,900</td>\n",
       "      <td>무료반품/10+12%/런닝 5매/남성/남자/여성/여자/아동/속옷/모시/인견/텐셀/쿨...</td>\n",
       "    </tr>\n",
       "    <tr>\n",
       "      <th>2</th>\n",
       "      <td>http://item.gmarket.co.kr/Item?goodscode=19279...</td>\n",
       "      <td>23,900</td>\n",
       "      <td>양꼬치 양깍두기 양고기 1kg  + 쯔란1봉</td>\n",
       "    </tr>\n",
       "    <tr>\n",
       "      <th>3</th>\n",
       "      <td>http://item.gmarket.co.kr/Item?goodscode=22825...</td>\n",
       "      <td>5,900</td>\n",
       "      <td>풀문 여름 시즌오프 버킷햇/레그워머/양말/왕리본/집게핀</td>\n",
       "    </tr>\n",
       "    <tr>\n",
       "      <th>4</th>\n",
       "      <td>http://item.gmarket.co.kr/Item?goodscode=22474...</td>\n",
       "      <td>3,900</td>\n",
       "      <td>10%할인+사은품_책속에서 여름나기 인기도서 260종_무료배송</td>\n",
       "    </tr>\n",
       "    <tr>\n",
       "      <th>5</th>\n",
       "      <td>http://item.gmarket.co.kr/Item?goodscode=20965...</td>\n",
       "      <td>109,000</td>\n",
       "      <td>BLDC 입체회전 써큘레이터 SIF-DPNW90 ---시즌오프 특가---</td>\n",
       "    </tr>\n",
       "    <tr>\n",
       "      <th>6</th>\n",
       "      <td>http://item.gmarket.co.kr/Item?goodscode=20396...</td>\n",
       "      <td>49,900</td>\n",
       "      <td>1+1 2개 무선 선풍기 탁상용 미니 휴대용 캠핑용 벽걸이 사무실 선물용 가정용</td>\n",
       "    </tr>\n",
       "    <tr>\n",
       "      <th>7</th>\n",
       "      <td>http://item.gmarket.co.kr/Item?goodscode=16359...</td>\n",
       "      <td>9,900</td>\n",
       "      <td>아삭아삭 미니 오이 20개 /2개주문시 50개발송</td>\n",
       "    </tr>\n",
       "    <tr>\n",
       "      <th>8</th>\n",
       "      <td>http://item.gmarket.co.kr/Item?goodscode=24572...</td>\n",
       "      <td>12,000</td>\n",
       "      <td>레고 닌자고 브릭마스터 외 6종 선택구매</td>\n",
       "    </tr>\n",
       "    <tr>\n",
       "      <th>9</th>\n",
       "      <td>http://item.gmarket.co.kr/Item?goodscode=20361...</td>\n",
       "      <td>10,000</td>\n",
       "      <td>무료반품 15% 할인쿠폰 마르조 오나라 단하루특가</td>\n",
       "    </tr>\n",
       "    <tr>\n",
       "      <th>10</th>\n",
       "      <td>http://item.gmarket.co.kr/Item?goodscode=21414...</td>\n",
       "      <td>11,500</td>\n",
       "      <td>붕어빵 아기물티슈 썸머에디션 핫한 고평량 70매 10팩 70gsm</td>\n",
       "    </tr>\n",
       "    <tr>\n",
       "      <th>11</th>\n",
       "      <td>http://item.gmarket.co.kr/Item?goodscode=23678...</td>\n",
       "      <td>17,900</td>\n",
       "      <td>군산 반건조 서대 박대구이 특대 5미 2개(쿠폰15940)</td>\n",
       "    </tr>\n",
       "    <tr>\n",
       "      <th>12</th>\n",
       "      <td>http://item.gmarket.co.kr/Item?goodscode=25149...</td>\n",
       "      <td>7,900</td>\n",
       "      <td>DCOVERS/디커버스/반팔티/티셔츠/여성/남자/빅사이즈</td>\n",
       "    </tr>\n",
       "    <tr>\n",
       "      <th>13</th>\n",
       "      <td>http://item.gmarket.co.kr/Item?goodscode=18059...</td>\n",
       "      <td>99,450</td>\n",
       "      <td>신일   화이트   에어서큘레이터(SIF-FA800B)</td>\n",
       "    </tr>\n",
       "    <tr>\n",
       "      <th>14</th>\n",
       "      <td>http://item.gmarket.co.kr/Item?goodscode=22664...</td>\n",
       "      <td>3,900</td>\n",
       "      <td>3900원 균일가 시즌오프 블라우스/티셔츠/원피스/팬츠 外</td>\n",
       "    </tr>\n",
       "    <tr>\n",
       "      <th>15</th>\n",
       "      <td>http://item.gmarket.co.kr/Item?goodscode=15870...</td>\n",
       "      <td>15,900</td>\n",
       "      <td>청정우 양지 300gX3팩</td>\n",
       "    </tr>\n",
       "    <tr>\n",
       "      <th>16</th>\n",
       "      <td>http://item.gmarket.co.kr/Item?goodscode=23495...</td>\n",
       "      <td>71,000</td>\n",
       "      <td>별똥별_NEW 야물야물 그림책 (전20권)</td>\n",
       "    </tr>\n",
       "    <tr>\n",
       "      <th>17</th>\n",
       "      <td>http://item.gmarket.co.kr/Item?goodscode=25204...</td>\n",
       "      <td>28,800</td>\n",
       "      <td>(롯데백화점)남여공용 디스럽터 테이피 테잎 _ FS1HTB1091X</td>\n",
       "    </tr>\n",
       "    <tr>\n",
       "      <th>18</th>\n",
       "      <td>http://item.gmarket.co.kr/Item?goodscode=22464...</td>\n",
       "      <td>19,360</td>\n",
       "      <td>서울우유 클릭유 커피 200ml x 24입 (1박스)</td>\n",
       "    </tr>\n",
       "    <tr>\n",
       "      <th>19</th>\n",
       "      <td>http://item.gmarket.co.kr/Item?goodscode=21674...</td>\n",
       "      <td>72,000</td>\n",
       "      <td>닌자 프로페셔널 초퍼 믹서기 블렌더 NJ1001KR</td>\n",
       "    </tr>\n",
       "  </tbody>\n",
       "</table>\n",
       "</div>"
      ],
      "text/plain": [
       "                                                 link    price  \\\n",
       "0   http://item.gmarket.co.kr/Item?goodscode=25196...   25,030   \n",
       "1   http://item.gmarket.co.kr/Item?goodscode=16659...   15,900   \n",
       "2   http://item.gmarket.co.kr/Item?goodscode=19279...   23,900   \n",
       "3   http://item.gmarket.co.kr/Item?goodscode=22825...    5,900   \n",
       "4   http://item.gmarket.co.kr/Item?goodscode=22474...    3,900   \n",
       "5   http://item.gmarket.co.kr/Item?goodscode=20965...  109,000   \n",
       "6   http://item.gmarket.co.kr/Item?goodscode=20396...   49,900   \n",
       "7   http://item.gmarket.co.kr/Item?goodscode=16359...    9,900   \n",
       "8   http://item.gmarket.co.kr/Item?goodscode=24572...   12,000   \n",
       "9   http://item.gmarket.co.kr/Item?goodscode=20361...   10,000   \n",
       "10  http://item.gmarket.co.kr/Item?goodscode=21414...   11,500   \n",
       "11  http://item.gmarket.co.kr/Item?goodscode=23678...   17,900   \n",
       "12  http://item.gmarket.co.kr/Item?goodscode=25149...    7,900   \n",
       "13  http://item.gmarket.co.kr/Item?goodscode=18059...   99,450   \n",
       "14  http://item.gmarket.co.kr/Item?goodscode=22664...    3,900   \n",
       "15  http://item.gmarket.co.kr/Item?goodscode=15870...   15,900   \n",
       "16  http://item.gmarket.co.kr/Item?goodscode=23495...   71,000   \n",
       "17  http://item.gmarket.co.kr/Item?goodscode=25204...   28,800   \n",
       "18  http://item.gmarket.co.kr/Item?goodscode=22464...   19,360   \n",
       "19  http://item.gmarket.co.kr/Item?goodscode=21674...   72,000   \n",
       "\n",
       "                                                title  \n",
       "0                                 브라운 면도기 세정액 CCR5+1   \n",
       "1   무료반품/10+12%/런닝 5매/남성/남자/여성/여자/아동/속옷/모시/인견/텐셀/쿨...  \n",
       "2                           양꼬치 양깍두기 양고기 1kg  + 쯔란1봉   \n",
       "3                     풀문 여름 시즌오프 버킷햇/레그워머/양말/왕리본/집게핀   \n",
       "4                 10%할인+사은품_책속에서 여름나기 인기도서 260종_무료배송   \n",
       "5           BLDC 입체회전 써큘레이터 SIF-DPNW90 ---시즌오프 특가---   \n",
       "6       1+1 2개 무선 선풍기 탁상용 미니 휴대용 캠핑용 벽걸이 사무실 선물용 가정용   \n",
       "7                        아삭아삭 미니 오이 20개 /2개주문시 50개발송   \n",
       "8                             레고 닌자고 브릭마스터 외 6종 선택구매   \n",
       "9                        무료반품 15% 할인쿠폰 마르조 오나라 단하루특가   \n",
       "10              붕어빵 아기물티슈 썸머에디션 핫한 고평량 70매 10팩 70gsm   \n",
       "11                  군산 반건조 서대 박대구이 특대 5미 2개(쿠폰15940)   \n",
       "12                   DCOVERS/디커버스/반팔티/티셔츠/여성/남자/빅사이즈   \n",
       "13                    신일   화이트   에어서큘레이터(SIF-FA800B)   \n",
       "14                  3900원 균일가 시즌오프 블라우스/티셔츠/원피스/팬츠 外   \n",
       "15                                    청정우 양지 300gX3팩   \n",
       "16                           별똥별_NEW 야물야물 그림책 (전20권)   \n",
       "17             (롯데백화점)남여공용 디스럽터 테이피 테잎 _ FS1HTB1091X   \n",
       "18                     서울우유 클릭유 커피 200ml x 24입 (1박스)   \n",
       "19                      닌자 프로페셔널 초퍼 믹서기 블렌더 NJ1001KR   "
      ]
     },
     "execution_count": 29,
     "metadata": {},
     "output_type": "execute_result"
    }
   ],
   "source": [
    "pd.read_csv(\"gmarket/items.csv\")"
   ]
  },
  {
   "cell_type": "code",
   "execution_count": null,
   "id": "b0efde04",
   "metadata": {},
   "outputs": [],
   "source": []
  }
 ],
 "metadata": {
  "kernelspec": {
   "display_name": "Python 3",
   "language": "python",
   "name": "python3"
  },
  "language_info": {
   "codemirror_mode": {
    "name": "ipython",
    "version": 3
   },
   "file_extension": ".py",
   "mimetype": "text/x-python",
   "name": "python",
   "nbconvert_exporter": "python",
   "pygments_lexer": "ipython3",
   "version": "3.8.8"
  }
 },
 "nbformat": 4,
 "nbformat_minor": 5
}
