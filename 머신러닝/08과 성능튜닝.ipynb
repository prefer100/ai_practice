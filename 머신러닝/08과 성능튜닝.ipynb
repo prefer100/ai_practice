{
 "cells": [
  {
   "cell_type": "markdown",
   "metadata": {
    "id": "cVB9pY-v8uv5"
   },
   "source": [
    "# 성능튜닝"
   ]
  },
  {
   "cell_type": "markdown",
   "metadata": {
    "id": "O1uL0UIEzBPw"
   },
   "source": [
    "## 1.환경준비"
   ]
  },
  {
   "cell_type": "markdown",
   "metadata": {
    "id": "vNt997De17qz"
   },
   "source": [
    "### (1) import"
   ]
  },
  {
   "cell_type": "code",
   "execution_count": 1,
   "metadata": {
    "id": "GugpCLBiVHzd"
   },
   "outputs": [],
   "source": [
    "#라이브러리들을 불러오자.\n",
    "import numpy as np\n",
    "import pandas as pd\n",
    "import matplotlib.pyplot as plt\n",
    "import seaborn as sns\n",
    "\n",
    "# 전처리\n",
    "from sklearn.model_selection import train_test_split\n",
    "from sklearn.preprocessing import MinMaxScaler\n",
    "\n",
    "# 모델링\n",
    "from sklearn.linear_model import LogisticRegression\n",
    "from sklearn.tree import DecisionTreeClassifier, plot_tree\n",
    "from sklearn.neighbors import KNeighborsClassifier\n",
    "from sklearn.svm import SVC\n",
    "from sklearn.metrics import * \n",
    "\n",
    "import warnings    # 경고메시지 제외\n",
    "warnings.filterwarnings(action='ignore')"
   ]
  },
  {
   "cell_type": "markdown",
   "metadata": {
    "id": "CG-FeAY4f25C"
   },
   "source": [
    "### (2) 데이터 준비"
   ]
  },
  {
   "cell_type": "markdown",
   "metadata": {
    "id": "LBOR4ttK_6JA"
   },
   "source": [
    "* 변수설명\n",
    "    * COLLEGE : 대학 졸업여부\n",
    "    * INCOME : 연수입\n",
    "    * OVERAGE : 월평균 초과사용 시간(분)\n",
    "    * LEFTOVER : 월평균 잔여시간비율(%)\n",
    "    * HOUSE : 집값\n",
    "    * HANDSET_PRICE : 스마트폰 가격\n",
    "    * OVER_15MINS_CALLS_PER_MONTH : 월평균 장기통화(15분이상) 횟수\n",
    "    * AVERAGE_CALL_DURATION : 평균 통화 시간\n",
    "    * REPORTED_SATISFACTION : 만족도 설문조사 결과\n",
    "    * REPORTED_USAGE_LEVEL : 사용도 자가진단 결과\n",
    "    * CONSIDERING_CHANGE_OF_PLAN : 향후 변경계획 설문조사 결과\n",
    "    * CHURN : 이탈(번호이동) 여부 (1-이탈, 0-잔류, Target 변수)\n"
   ]
  },
  {
   "cell_type": "code",
   "execution_count": 2,
   "metadata": {
    "id": "pl1Ar13F_6JB"
   },
   "outputs": [
    {
     "data": {
      "text/html": [
       "<div>\n",
       "<style scoped>\n",
       "    .dataframe tbody tr th:only-of-type {\n",
       "        vertical-align: middle;\n",
       "    }\n",
       "\n",
       "    .dataframe tbody tr th {\n",
       "        vertical-align: top;\n",
       "    }\n",
       "\n",
       "    .dataframe thead th {\n",
       "        text-align: right;\n",
       "    }\n",
       "</style>\n",
       "<table border=\"1\" class=\"dataframe\">\n",
       "  <thead>\n",
       "    <tr style=\"text-align: right;\">\n",
       "      <th></th>\n",
       "      <th>id</th>\n",
       "      <th>COLLEGE</th>\n",
       "      <th>INCOME</th>\n",
       "      <th>OVERAGE</th>\n",
       "      <th>LEFTOVER</th>\n",
       "      <th>HOUSE</th>\n",
       "      <th>HANDSET_PRICE</th>\n",
       "      <th>OVER_15MINS_CALLS_PER_MONTH</th>\n",
       "      <th>AVERAGE_CALL_DURATION</th>\n",
       "      <th>REPORTED_SATISFACTION</th>\n",
       "      <th>REPORTED_USAGE_LEVEL</th>\n",
       "      <th>CONSIDERING_CHANGE_OF_PLAN</th>\n",
       "      <th>CHURN</th>\n",
       "    </tr>\n",
       "  </thead>\n",
       "  <tbody>\n",
       "    <tr>\n",
       "      <th>3178</th>\n",
       "      <td>3179</td>\n",
       "      <td>0</td>\n",
       "      <td>119512</td>\n",
       "      <td>51</td>\n",
       "      <td>31</td>\n",
       "      <td>248566</td>\n",
       "      <td>229</td>\n",
       "      <td>5</td>\n",
       "      <td>2</td>\n",
       "      <td>very_sat</td>\n",
       "      <td>very_high</td>\n",
       "      <td>considering</td>\n",
       "      <td>1</td>\n",
       "    </tr>\n",
       "    <tr>\n",
       "      <th>14926</th>\n",
       "      <td>14927</td>\n",
       "      <td>1</td>\n",
       "      <td>142144</td>\n",
       "      <td>192</td>\n",
       "      <td>15</td>\n",
       "      <td>774317</td>\n",
       "      <td>581</td>\n",
       "      <td>29</td>\n",
       "      <td>4</td>\n",
       "      <td>unsat</td>\n",
       "      <td>very_little</td>\n",
       "      <td>never_thought</td>\n",
       "      <td>1</td>\n",
       "    </tr>\n",
       "    <tr>\n",
       "      <th>15116</th>\n",
       "      <td>15117</td>\n",
       "      <td>1</td>\n",
       "      <td>142308</td>\n",
       "      <td>0</td>\n",
       "      <td>79</td>\n",
       "      <td>306426</td>\n",
       "      <td>497</td>\n",
       "      <td>1</td>\n",
       "      <td>1</td>\n",
       "      <td>sat</td>\n",
       "      <td>little</td>\n",
       "      <td>considering</td>\n",
       "      <td>0</td>\n",
       "    </tr>\n",
       "    <tr>\n",
       "      <th>12733</th>\n",
       "      <td>12734</td>\n",
       "      <td>1</td>\n",
       "      <td>113385</td>\n",
       "      <td>0</td>\n",
       "      <td>0</td>\n",
       "      <td>333599</td>\n",
       "      <td>819</td>\n",
       "      <td>1</td>\n",
       "      <td>6</td>\n",
       "      <td>very_unsat</td>\n",
       "      <td>very_high</td>\n",
       "      <td>considering</td>\n",
       "      <td>1</td>\n",
       "    </tr>\n",
       "    <tr>\n",
       "      <th>14032</th>\n",
       "      <td>14033</td>\n",
       "      <td>1</td>\n",
       "      <td>90348</td>\n",
       "      <td>209</td>\n",
       "      <td>10</td>\n",
       "      <td>637286</td>\n",
       "      <td>360</td>\n",
       "      <td>26</td>\n",
       "      <td>4</td>\n",
       "      <td>unsat</td>\n",
       "      <td>little</td>\n",
       "      <td>actively_looking_into_it</td>\n",
       "      <td>0</td>\n",
       "    </tr>\n",
       "  </tbody>\n",
       "</table>\n",
       "</div>"
      ],
      "text/plain": [
       "          id  COLLEGE  INCOME  OVERAGE  LEFTOVER   HOUSE  HANDSET_PRICE  \\\n",
       "3178    3179        0  119512       51        31  248566            229   \n",
       "14926  14927        1  142144      192        15  774317            581   \n",
       "15116  15117        1  142308        0        79  306426            497   \n",
       "12733  12734        1  113385        0         0  333599            819   \n",
       "14032  14033        1   90348      209        10  637286            360   \n",
       "\n",
       "       OVER_15MINS_CALLS_PER_MONTH  AVERAGE_CALL_DURATION  \\\n",
       "3178                             5                      2   \n",
       "14926                           29                      4   \n",
       "15116                            1                      1   \n",
       "12733                            1                      6   \n",
       "14032                           26                      4   \n",
       "\n",
       "      REPORTED_SATISFACTION REPORTED_USAGE_LEVEL CONSIDERING_CHANGE_OF_PLAN  \\\n",
       "3178               very_sat            very_high                considering   \n",
       "14926                 unsat          very_little              never_thought   \n",
       "15116                   sat               little                considering   \n",
       "12733            very_unsat            very_high                considering   \n",
       "14032                 unsat               little   actively_looking_into_it   \n",
       "\n",
       "       CHURN  \n",
       "3178       1  \n",
       "14926      1  \n",
       "15116      0  \n",
       "12733      1  \n",
       "14032      0  "
      ]
     },
     "execution_count": 2,
     "metadata": {},
     "output_type": "execute_result"
    }
   ],
   "source": [
    "# 데이터를 불러옵시다.\n",
    "path = 'https://raw.githubusercontent.com/DA4BAM/dataset/master/mobile_cust_churn.csv'\n",
    "data = pd.read_csv(path)\n",
    "data = data.sample(5000, random_state = 2022)\n",
    "data['CHURN'] = data['CHURN'].map({'LEAVE':1, 'STAY':0})\n",
    "data.head()"
   ]
  },
  {
   "cell_type": "markdown",
   "metadata": {
    "id": "wW0d0eGmCYJM"
   },
   "source": [
    "## 2.데이터 준비"
   ]
  },
  {
   "cell_type": "markdown",
   "metadata": {
    "id": "y9Q6jR6OZjUk"
   },
   "source": [
    "### (1) 데이터 정리"
   ]
  },
  {
   "cell_type": "code",
   "execution_count": 3,
   "metadata": {
    "id": "Dhi6-3jgrEgQ"
   },
   "outputs": [],
   "source": [
    "drop_cols = ['id']\n",
    "data.drop(drop_cols, axis = 1, inplace = True )"
   ]
  },
  {
   "cell_type": "markdown",
   "metadata": {
    "id": "WpJEGpUuuVWm"
   },
   "source": [
    "### (2) 데이터분할1 : x, y 나누기"
   ]
  },
  {
   "cell_type": "code",
   "execution_count": 4,
   "metadata": {
    "id": "3u8-Ovu4ADVn"
   },
   "outputs": [],
   "source": [
    "target = 'CHURN'\n",
    "x = data.drop(target, axis = 1)\n",
    "y = data.loc[:, target]"
   ]
  },
  {
   "cell_type": "markdown",
   "metadata": {
    "id": "mp_5volyuaA1"
   },
   "source": [
    "### (3) NA 조치"
   ]
  },
  {
   "cell_type": "markdown",
   "metadata": {
    "id": "nOF9fSLQugGf"
   },
   "source": [
    "### (4) 가변수화"
   ]
  },
  {
   "cell_type": "code",
   "execution_count": 5,
   "metadata": {
    "id": "CZgBC2QSoKc8"
   },
   "outputs": [],
   "source": [
    "dumm_cols = ['REPORTED_SATISFACTION','REPORTED_USAGE_LEVEL','CONSIDERING_CHANGE_OF_PLAN']\n",
    "x = pd.get_dummies(x, columns = dumm_cols, drop_first = True)"
   ]
  },
  {
   "cell_type": "markdown",
   "metadata": {
    "id": "VBwpOKgkf5Am"
   },
   "source": [
    "### (5) 데이터분할2 : train : validation 나누기"
   ]
  },
  {
   "cell_type": "code",
   "execution_count": 6,
   "metadata": {
    "id": "1iHmTnHCgBw5"
   },
   "outputs": [],
   "source": [
    "x_train, x_val, y_train, y_val = train_test_split(x, y, test_size = .3, random_state = 20)"
   ]
  },
  {
   "cell_type": "markdown",
   "metadata": {
    "id": "59bBv0a8heYh"
   },
   "source": [
    "### (6) Scaling"
   ]
  },
  {
   "cell_type": "code",
   "execution_count": 7,
   "metadata": {
    "id": "vA28buJg9GpV"
   },
   "outputs": [],
   "source": [
    "scaler = MinMaxScaler()\n",
    "x_train_s = scaler.fit_transform(x_train)\n",
    "x_val_s = scaler.transform(x_val)"
   ]
  },
  {
   "cell_type": "markdown",
   "metadata": {
    "id": "Db2kkXxgf25E"
   },
   "source": [
    "## 3.선형모델 튜닝\n",
    "\n",
    "Logistic Regression : 전진선택법\n",
    "* 변수를 하나씩 늘려가면서\n",
    "* AIC를 가장 낮추는 모델 찾기"
   ]
  },
  {
   "cell_type": "markdown",
   "metadata": {
    "id": "IUfTRB1AZnKM"
   },
   "source": [
    "### (1) 전진선택을 수행할 함수 만들기( **로지스틱 회귀** 용)"
   ]
  },
  {
   "cell_type": "code",
   "execution_count": 8,
   "metadata": {
    "id": "JtuIPRybXPKE"
   },
   "outputs": [],
   "source": [
    "# 아래 함수는 로지스틱 회귀를 위한 전진선택법 함수 입니다.\n",
    "import statsmodels.api as sm\n",
    "\n",
    "def forward_stepwise_logistic(x_train, y_train):\n",
    "\n",
    "    # 변수목록, 선택된 변수 목록, 단계별 모델과 AIC 저장소 정의\n",
    "    features = list(x_train)\n",
    "    selected = []\n",
    "    step_df = pd.DataFrame({ 'step':[], 'feature':[],'aic':[]})\n",
    "\n",
    "    # \n",
    "    for s in range(0, len(features)) :\n",
    "        result =  { 'step':[], 'feature':[],'aic':[]}\n",
    "\n",
    "        # 변수 목록에서 변수 한개씩 뽑아서 모델에 추가\n",
    "        for f in features :\n",
    "            vars = selected + [f]\n",
    "            x_tr = x_train[vars]\n",
    "            model = sm.Logit(y_train, x_tr).fit()\n",
    "            result['step'].append(s+1)\n",
    "            result['feature'].append(vars)\n",
    "            result['aic'].append(model.aic)\n",
    "        \n",
    "        # 모델별 aic 집계\n",
    "        temp = pd.DataFrame(result).sort_values('aic').reset_index(drop = True)\n",
    "\n",
    "        # 만약 이전 aic보다 새로운 aic 가 크다면 멈추기\n",
    "        if step_df['aic'].min() < temp['aic'].min() :\n",
    "            break\n",
    "        step_df = pd.concat([step_df, temp], axis = 0).reset_index(drop = True)\n",
    "\n",
    "        # 선택된 변수 제거\n",
    "        v = temp.loc[0,'feature'][s]\n",
    "        features.remove(v)\n",
    "\n",
    "        selected.append(v)\n",
    "    \n",
    "    # 선택된 변수와 step_df 결과 반환\n",
    "    return selected, step_df"
   ]
  },
  {
   "cell_type": "markdown",
   "metadata": {
    "id": "vp6_CDIvaJ8I"
   },
   "source": [
    "### (2) 전진선택법 수행"
   ]
  },
  {
   "cell_type": "code",
   "execution_count": 9,
   "metadata": {
    "id": "X2_UhsQ0f25E"
   },
   "outputs": [
    {
     "name": "stdout",
     "output_type": "stream",
     "text": [
      "Optimization terminated successfully.\n",
      "         Current function value: 0.693075\n",
      "         Iterations 3\n",
      "Optimization terminated successfully.\n",
      "         Current function value: 0.693062\n",
      "         Iterations 2\n",
      "Optimization terminated successfully.\n",
      "         Current function value: 0.683528\n",
      "         Iterations 4\n",
      "Optimization terminated successfully.\n",
      "         Current function value: 0.693007\n",
      "         Iterations 3\n",
      "Optimization terminated successfully.\n",
      "         Current function value: 0.684909\n",
      "         Iterations 2\n",
      "Optimization terminated successfully.\n",
      "         Current function value: 0.693042\n",
      "         Iterations 2\n",
      "Optimization terminated successfully.\n",
      "         Current function value: 0.686899\n",
      "         Iterations 4\n",
      "Optimization terminated successfully.\n",
      "         Current function value: 0.692565\n",
      "         Iterations 3\n",
      "Optimization terminated successfully.\n",
      "         Current function value: 0.692806\n",
      "         Iterations 4\n",
      "Optimization terminated successfully.\n",
      "         Current function value: 0.693137\n",
      "         Iterations 3\n",
      "Optimization terminated successfully.\n",
      "         Current function value: 0.691866\n",
      "         Iterations 4\n",
      "Optimization terminated successfully.\n",
      "         Current function value: 0.693146\n",
      "         Iterations 2\n",
      "Optimization terminated successfully.\n",
      "         Current function value: 0.693147\n",
      "         Iterations 1\n",
      "Optimization terminated successfully.\n",
      "         Current function value: 0.693015\n",
      "         Iterations 3\n",
      "Optimization terminated successfully.\n",
      "         Current function value: 0.692965\n",
      "         Iterations 3\n",
      "Optimization terminated successfully.\n",
      "         Current function value: 0.692882\n",
      "         Iterations 3\n",
      "Optimization terminated successfully.\n",
      "         Current function value: 0.692579\n",
      "         Iterations 3\n",
      "Optimization terminated successfully.\n",
      "         Current function value: 0.693046\n",
      "         Iterations 3\n",
      "Optimization terminated successfully.\n",
      "         Current function value: 0.693080\n",
      "         Iterations 3\n",
      "Optimization terminated successfully.\n",
      "         Current function value: 0.693058\n",
      "         Iterations 3\n",
      "Optimization terminated successfully.\n",
      "         Current function value: 0.679039\n",
      "         Iterations 4\n",
      "Optimization terminated successfully.\n",
      "         Current function value: 0.679064\n",
      "         Iterations 4\n",
      "Optimization terminated successfully.\n",
      "         Current function value: 0.682035\n",
      "         Iterations 4\n",
      "Optimization terminated successfully.\n",
      "         Current function value: 0.643056\n",
      "         Iterations 4\n",
      "Optimization terminated successfully.\n",
      "         Current function value: 0.679443\n",
      "         Iterations 4\n",
      "Optimization terminated successfully.\n",
      "         Current function value: 0.683317\n",
      "         Iterations 4\n",
      "Optimization terminated successfully.\n",
      "         Current function value: 0.674460\n",
      "         Iterations 4\n",
      "Optimization terminated successfully.\n",
      "         Current function value: 0.682313\n",
      "         Iterations 4\n",
      "Optimization terminated successfully.\n",
      "         Current function value: 0.682292\n",
      "         Iterations 4\n",
      "Optimization terminated successfully.\n",
      "         Current function value: 0.678103\n",
      "         Iterations 4\n",
      "Optimization terminated successfully.\n",
      "         Current function value: 0.680840\n",
      "         Iterations 4\n",
      "Optimization terminated successfully.\n",
      "         Current function value: 0.683068\n",
      "         Iterations 4\n",
      "Optimization terminated successfully.\n",
      "         Current function value: 0.679251\n",
      "         Iterations 4\n",
      "Optimization terminated successfully.\n",
      "         Current function value: 0.680933\n",
      "         Iterations 4\n",
      "Optimization terminated successfully.\n",
      "         Current function value: 0.681200\n",
      "         Iterations 4\n",
      "Optimization terminated successfully.\n",
      "         Current function value: 0.677933\n",
      "         Iterations 4\n",
      "Optimization terminated successfully.\n",
      "         Current function value: 0.682371\n",
      "         Iterations 4\n",
      "Optimization terminated successfully.\n",
      "         Current function value: 0.682062\n",
      "         Iterations 4\n",
      "Optimization terminated successfully.\n",
      "         Current function value: 0.682863\n",
      "         Iterations 4\n",
      "Optimization terminated successfully.\n",
      "         Current function value: 0.642039\n",
      "         Iterations 5\n",
      "Optimization terminated successfully.\n",
      "         Current function value: 0.635596\n",
      "         Iterations 4\n",
      "Optimization terminated successfully.\n",
      "         Current function value: 0.639711\n",
      "         Iterations 4\n",
      "Optimization terminated successfully.\n",
      "         Current function value: 0.635522\n",
      "         Iterations 4\n",
      "Optimization terminated successfully.\n",
      "         Current function value: 0.642894\n",
      "         Iterations 4\n",
      "Optimization terminated successfully.\n",
      "         Current function value: 0.642569\n",
      "         Iterations 5\n",
      "Optimization terminated successfully.\n",
      "         Current function value: 0.642966\n",
      "         Iterations 5\n",
      "Optimization terminated successfully.\n",
      "         Current function value: 0.642830\n",
      "         Iterations 5\n",
      "Optimization terminated successfully.\n",
      "         Current function value: 0.642966\n",
      "         Iterations 5\n",
      "Optimization terminated successfully.\n",
      "         Current function value: 0.641766\n",
      "         Iterations 5\n",
      "Optimization terminated successfully.\n",
      "         Current function value: 0.642866\n",
      "         Iterations 5\n",
      "Optimization terminated successfully.\n",
      "         Current function value: 0.642929\n",
      "         Iterations 5\n",
      "Optimization terminated successfully.\n",
      "         Current function value: 0.642750\n",
      "         Iterations 5\n",
      "Optimization terminated successfully.\n",
      "         Current function value: 0.642940\n",
      "         Iterations 5\n",
      "Optimization terminated successfully.\n",
      "         Current function value: 0.643014\n",
      "         Iterations 5\n",
      "Optimization terminated successfully.\n",
      "         Current function value: 0.643051\n",
      "         Iterations 5\n",
      "Optimization terminated successfully.\n",
      "         Current function value: 0.642672\n",
      "         Iterations 5\n",
      "Optimization terminated successfully.\n",
      "         Current function value: 0.643053\n",
      "         Iterations 5\n",
      "Optimization terminated successfully.\n",
      "         Current function value: 0.635399\n",
      "         Iterations 5\n",
      "Optimization terminated successfully.\n",
      "         Current function value: 0.634914\n",
      "         Iterations 4\n",
      "Optimization terminated successfully.\n",
      "         Current function value: 0.633893\n",
      "         Iterations 5\n",
      "Optimization terminated successfully.\n",
      "         Current function value: 0.635419\n",
      "         Iterations 4\n",
      "Optimization terminated successfully.\n",
      "         Current function value: 0.635464\n",
      "         Iterations 4\n",
      "Optimization terminated successfully.\n",
      "         Current function value: 0.635187\n",
      "         Iterations 5\n",
      "Optimization terminated successfully.\n",
      "         Current function value: 0.635504\n",
      "         Iterations 5\n",
      "Optimization terminated successfully.\n",
      "         Current function value: 0.634933\n",
      "         Iterations 5\n",
      "Optimization terminated successfully.\n",
      "         Current function value: 0.635116\n",
      "         Iterations 5\n",
      "Optimization terminated successfully.\n",
      "         Current function value: 0.635470\n",
      "         Iterations 4\n",
      "Optimization terminated successfully.\n",
      "         Current function value: 0.635439\n",
      "         Iterations 5\n",
      "Optimization terminated successfully.\n",
      "         Current function value: 0.635494\n",
      "         Iterations 5\n",
      "Optimization terminated successfully.\n",
      "         Current function value: 0.635521\n",
      "         Iterations 5\n",
      "Optimization terminated successfully.\n",
      "         Current function value: 0.635391\n",
      "         Iterations 5\n",
      "Optimization terminated successfully.\n",
      "         Current function value: 0.635503\n",
      "         Iterations 5\n",
      "Optimization terminated successfully.\n",
      "         Current function value: 0.635451\n",
      "         Iterations 5\n",
      "Optimization terminated successfully.\n",
      "         Current function value: 0.635483\n",
      "         Iterations 5\n",
      "Optimization terminated successfully.\n",
      "         Current function value: 0.633842\n",
      "         Iterations 5\n",
      "Optimization terminated successfully.\n",
      "         Current function value: 0.633406\n",
      "         Iterations 5\n",
      "Optimization terminated successfully.\n",
      "         Current function value: 0.633794\n",
      "         Iterations 5\n",
      "Optimization terminated successfully.\n",
      "         Current function value: 0.633753\n",
      "         Iterations 5\n",
      "Optimization terminated successfully.\n",
      "         Current function value: 0.633538\n",
      "         Iterations 5\n",
      "Optimization terminated successfully.\n",
      "         Current function value: 0.633890\n",
      "         Iterations 5\n",
      "Optimization terminated successfully.\n",
      "         Current function value: 0.633194\n",
      "         Iterations 5\n",
      "Optimization terminated successfully.\n",
      "         Current function value: 0.633579\n",
      "         Iterations 5\n",
      "Optimization terminated successfully.\n",
      "         Current function value: 0.633861\n",
      "         Iterations 5\n",
      "Optimization terminated successfully.\n",
      "         Current function value: 0.633765\n",
      "         Iterations 5\n",
      "Optimization terminated successfully.\n",
      "         Current function value: 0.633884\n",
      "         Iterations 5\n",
      "Optimization terminated successfully.\n",
      "         Current function value: 0.633888\n",
      "         Iterations 5\n",
      "Optimization terminated successfully.\n",
      "         Current function value: 0.633674\n",
      "         Iterations 5\n",
      "Optimization terminated successfully.\n",
      "         Current function value: 0.633874\n",
      "         Iterations 5\n",
      "Optimization terminated successfully.\n",
      "         Current function value: 0.633866\n",
      "         Iterations 5\n",
      "Optimization terminated successfully.\n",
      "         Current function value: 0.633847\n",
      "         Iterations 5\n",
      "Optimization terminated successfully.\n",
      "         Current function value: 0.633112\n",
      "         Iterations 5\n",
      "Optimization terminated successfully.\n",
      "         Current function value: 0.632641\n",
      "         Iterations 5\n",
      "Optimization terminated successfully.\n",
      "         Current function value: 0.633102\n",
      "         Iterations 5\n",
      "Optimization terminated successfully.\n",
      "         Current function value: 0.632954\n",
      "         Iterations 5\n",
      "Optimization terminated successfully.\n",
      "         Current function value: 0.632697\n",
      "         Iterations 5\n",
      "Optimization terminated successfully.\n",
      "         Current function value: 0.633174\n",
      "         Iterations 5\n",
      "Optimization terminated successfully.\n",
      "         Current function value: 0.633137\n",
      "         Iterations 5\n"
     ]
    },
    {
     "name": "stdout",
     "output_type": "stream",
     "text": [
      "Optimization terminated successfully.\n",
      "         Current function value: 0.633162\n",
      "         Iterations 5\n",
      "Optimization terminated successfully.\n",
      "         Current function value: 0.633092\n",
      "         Iterations 5\n",
      "Optimization terminated successfully.\n",
      "         Current function value: 0.633175\n",
      "         Iterations 5\n",
      "Optimization terminated successfully.\n",
      "         Current function value: 0.633193\n",
      "         Iterations 5\n",
      "Optimization terminated successfully.\n",
      "         Current function value: 0.633016\n",
      "         Iterations 5\n",
      "Optimization terminated successfully.\n",
      "         Current function value: 0.633178\n",
      "         Iterations 5\n",
      "Optimization terminated successfully.\n",
      "         Current function value: 0.633151\n",
      "         Iterations 5\n",
      "Optimization terminated successfully.\n",
      "         Current function value: 0.633158\n",
      "         Iterations 5\n",
      "Optimization terminated successfully.\n",
      "         Current function value: 0.632593\n",
      "         Iterations 5\n",
      "Optimization terminated successfully.\n",
      "         Current function value: 0.632566\n",
      "         Iterations 5\n",
      "Optimization terminated successfully.\n",
      "         Current function value: 0.632521\n",
      "         Iterations 5\n",
      "Optimization terminated successfully.\n",
      "         Current function value: 0.632098\n",
      "         Iterations 5\n",
      "Optimization terminated successfully.\n",
      "         Current function value: 0.632599\n",
      "         Iterations 5\n",
      "Optimization terminated successfully.\n",
      "         Current function value: 0.632616\n",
      "         Iterations 5\n",
      "Optimization terminated successfully.\n",
      "         Current function value: 0.632617\n",
      "         Iterations 5\n",
      "Optimization terminated successfully.\n",
      "         Current function value: 0.632520\n",
      "         Iterations 5\n",
      "Optimization terminated successfully.\n",
      "         Current function value: 0.632636\n",
      "         Iterations 5\n",
      "Optimization terminated successfully.\n",
      "         Current function value: 0.632635\n",
      "         Iterations 5\n",
      "Optimization terminated successfully.\n",
      "         Current function value: 0.632427\n",
      "         Iterations 5\n",
      "Optimization terminated successfully.\n",
      "         Current function value: 0.632616\n",
      "         Iterations 5\n",
      "Optimization terminated successfully.\n",
      "         Current function value: 0.632613\n",
      "         Iterations 5\n",
      "Optimization terminated successfully.\n",
      "         Current function value: 0.632591\n",
      "         Iterations 5\n",
      "Optimization terminated successfully.\n",
      "         Current function value: 0.632043\n",
      "         Iterations 5\n",
      "Optimization terminated successfully.\n",
      "         Current function value: 0.632027\n",
      "         Iterations 5\n",
      "Optimization terminated successfully.\n",
      "         Current function value: 0.631949\n",
      "         Iterations 5\n",
      "Optimization terminated successfully.\n",
      "         Current function value: 0.632002\n",
      "         Iterations 5\n",
      "Optimization terminated successfully.\n",
      "         Current function value: 0.632098\n",
      "         Iterations 5\n",
      "Optimization terminated successfully.\n",
      "         Current function value: 0.632072\n",
      "         Iterations 5\n",
      "Optimization terminated successfully.\n",
      "         Current function value: 0.631997\n",
      "         Iterations 5\n",
      "Optimization terminated successfully.\n",
      "         Current function value: 0.632093\n",
      "         Iterations 5\n",
      "Optimization terminated successfully.\n",
      "         Current function value: 0.632092\n",
      "         Iterations 5\n",
      "Optimization terminated successfully.\n",
      "         Current function value: 0.631906\n",
      "         Iterations 5\n",
      "Optimization terminated successfully.\n",
      "         Current function value: 0.632075\n",
      "         Iterations 5\n",
      "Optimization terminated successfully.\n",
      "         Current function value: 0.632062\n",
      "         Iterations 5\n",
      "Optimization terminated successfully.\n",
      "         Current function value: 0.632051\n",
      "         Iterations 5\n"
     ]
    }
   ],
   "source": [
    "vars, result = forward_stepwise_logistic(x_train, y_train)"
   ]
  },
  {
   "cell_type": "markdown",
   "metadata": {
    "id": "b8831TsJaHFq"
   },
   "source": [
    "* 선택된 변수"
   ]
  },
  {
   "cell_type": "code",
   "execution_count": 10,
   "metadata": {
    "id": "ReDkDZMmaB8l"
   },
   "outputs": [
    {
     "data": {
      "text/plain": [
       "['OVERAGE',\n",
       " 'HOUSE',\n",
       " 'HANDSET_PRICE',\n",
       " 'LEFTOVER',\n",
       " 'REPORTED_SATISFACTION_very_sat',\n",
       " 'INCOME',\n",
       " 'REPORTED_SATISFACTION_sat']"
      ]
     },
     "execution_count": 10,
     "metadata": {},
     "output_type": "execute_result"
    }
   ],
   "source": [
    "vars"
   ]
  },
  {
   "cell_type": "code",
   "execution_count": 11,
   "metadata": {},
   "outputs": [
    {
     "data": {
      "text/plain": [
       "['COLLEGE',\n",
       " 'INCOME',\n",
       " 'OVERAGE',\n",
       " 'LEFTOVER',\n",
       " 'HOUSE',\n",
       " 'HANDSET_PRICE',\n",
       " 'OVER_15MINS_CALLS_PER_MONTH',\n",
       " 'AVERAGE_CALL_DURATION',\n",
       " 'REPORTED_SATISFACTION_sat',\n",
       " 'REPORTED_SATISFACTION_unsat',\n",
       " 'REPORTED_SATISFACTION_very_sat',\n",
       " 'REPORTED_SATISFACTION_very_unsat',\n",
       " 'REPORTED_USAGE_LEVEL_high',\n",
       " 'REPORTED_USAGE_LEVEL_little',\n",
       " 'REPORTED_USAGE_LEVEL_very_high',\n",
       " 'REPORTED_USAGE_LEVEL_very_little',\n",
       " 'CONSIDERING_CHANGE_OF_PLAN_considering',\n",
       " 'CONSIDERING_CHANGE_OF_PLAN_never_thought',\n",
       " 'CONSIDERING_CHANGE_OF_PLAN_no',\n",
       " 'CONSIDERING_CHANGE_OF_PLAN_perhaps']"
      ]
     },
     "execution_count": 11,
     "metadata": {},
     "output_type": "execute_result"
    }
   ],
   "source": [
    "list(x_train)"
   ]
  },
  {
   "cell_type": "code",
   "execution_count": 12,
   "metadata": {},
   "outputs": [
    {
     "data": {
      "text/html": [
       "<div>\n",
       "<style scoped>\n",
       "    .dataframe tbody tr th:only-of-type {\n",
       "        vertical-align: middle;\n",
       "    }\n",
       "\n",
       "    .dataframe tbody tr th {\n",
       "        vertical-align: top;\n",
       "    }\n",
       "\n",
       "    .dataframe thead th {\n",
       "        text-align: right;\n",
       "    }\n",
       "</style>\n",
       "<table border=\"1\" class=\"dataframe\">\n",
       "  <thead>\n",
       "    <tr style=\"text-align: right;\">\n",
       "      <th></th>\n",
       "      <th>step</th>\n",
       "      <th>feature</th>\n",
       "      <th>aic</th>\n",
       "    </tr>\n",
       "  </thead>\n",
       "  <tbody>\n",
       "    <tr>\n",
       "      <th>0</th>\n",
       "      <td>1.0</td>\n",
       "      <td>[OVERAGE]</td>\n",
       "      <td>4786.699456</td>\n",
       "    </tr>\n",
       "    <tr>\n",
       "      <th>1</th>\n",
       "      <td>1.0</td>\n",
       "      <td>[HOUSE]</td>\n",
       "      <td>4796.363859</td>\n",
       "    </tr>\n",
       "    <tr>\n",
       "      <th>2</th>\n",
       "      <td>1.0</td>\n",
       "      <td>[OVER_15MINS_CALLS_PER_MONTH]</td>\n",
       "      <td>4810.294604</td>\n",
       "    </tr>\n",
       "    <tr>\n",
       "      <th>3</th>\n",
       "      <td>1.0</td>\n",
       "      <td>[REPORTED_SATISFACTION_very_sat]</td>\n",
       "      <td>4845.064834</td>\n",
       "    </tr>\n",
       "    <tr>\n",
       "      <th>4</th>\n",
       "      <td>1.0</td>\n",
       "      <td>[AVERAGE_CALL_DURATION]</td>\n",
       "      <td>4849.951663</td>\n",
       "    </tr>\n",
       "    <tr>\n",
       "      <th>...</th>\n",
       "      <td>...</td>\n",
       "      <td>...</td>\n",
       "      <td>...</td>\n",
       "    </tr>\n",
       "    <tr>\n",
       "      <th>114</th>\n",
       "      <td>7.0</td>\n",
       "      <td>[OVERAGE, HOUSE, HANDSET_PRICE, LEFTOVER, REPO...</td>\n",
       "      <td>4442.309949</td>\n",
       "    </tr>\n",
       "    <tr>\n",
       "      <th>115</th>\n",
       "      <td>7.0</td>\n",
       "      <td>[OVERAGE, HOUSE, HANDSET_PRICE, LEFTOVER, REPO...</td>\n",
       "      <td>4442.315315</td>\n",
       "    </tr>\n",
       "    <tr>\n",
       "      <th>116</th>\n",
       "      <td>7.0</td>\n",
       "      <td>[OVERAGE, HOUSE, HANDSET_PRICE, LEFTOVER, REPO...</td>\n",
       "      <td>4442.316816</td>\n",
       "    </tr>\n",
       "    <tr>\n",
       "      <th>117</th>\n",
       "      <td>7.0</td>\n",
       "      <td>[OVERAGE, HOUSE, HANDSET_PRICE, LEFTOVER, REPO...</td>\n",
       "      <td>4442.448187</td>\n",
       "    </tr>\n",
       "    <tr>\n",
       "      <th>118</th>\n",
       "      <td>7.0</td>\n",
       "      <td>[OVERAGE, HOUSE, HANDSET_PRICE, LEFTOVER, REPO...</td>\n",
       "      <td>4442.451017</td>\n",
       "    </tr>\n",
       "  </tbody>\n",
       "</table>\n",
       "<p>119 rows × 3 columns</p>\n",
       "</div>"
      ],
      "text/plain": [
       "     step                                            feature          aic\n",
       "0     1.0                                          [OVERAGE]  4786.699456\n",
       "1     1.0                                            [HOUSE]  4796.363859\n",
       "2     1.0                      [OVER_15MINS_CALLS_PER_MONTH]  4810.294604\n",
       "3     1.0                   [REPORTED_SATISFACTION_very_sat]  4845.064834\n",
       "4     1.0                            [AVERAGE_CALL_DURATION]  4849.951663\n",
       "..    ...                                                ...          ...\n",
       "114   7.0  [OVERAGE, HOUSE, HANDSET_PRICE, LEFTOVER, REPO...  4442.309949\n",
       "115   7.0  [OVERAGE, HOUSE, HANDSET_PRICE, LEFTOVER, REPO...  4442.315315\n",
       "116   7.0  [OVERAGE, HOUSE, HANDSET_PRICE, LEFTOVER, REPO...  4442.316816\n",
       "117   7.0  [OVERAGE, HOUSE, HANDSET_PRICE, LEFTOVER, REPO...  4442.448187\n",
       "118   7.0  [OVERAGE, HOUSE, HANDSET_PRICE, LEFTOVER, REPO...  4442.451017\n",
       "\n",
       "[119 rows x 3 columns]"
      ]
     },
     "execution_count": 12,
     "metadata": {},
     "output_type": "execute_result"
    }
   ],
   "source": [
    "result"
   ]
  },
  {
   "cell_type": "code",
   "execution_count": 13,
   "metadata": {
    "id": "cOmUN6lwcgPS"
   },
   "outputs": [],
   "source": [
    "pd.set_option('display.width', None)\n",
    "pd.set_option('display.max_colwidth', -1)"
   ]
  },
  {
   "cell_type": "markdown",
   "metadata": {
    "id": "F4Z39MGUaZtQ"
   },
   "source": [
    "### (3) 모델링"
   ]
  },
  {
   "cell_type": "markdown",
   "metadata": {
    "id": "mB26yCqEabkL"
   },
   "source": [
    "* 전체 변수 "
   ]
  },
  {
   "cell_type": "code",
   "execution_count": 14,
   "metadata": {
    "id": "zqk4Me37aesP"
   },
   "outputs": [
    {
     "name": "stdout",
     "output_type": "stream",
     "text": [
      "0.6333333333333333\n",
      "              precision    recall  f1-score   support\n",
      "\n",
      "           0       0.62      0.68      0.65       738\n",
      "           1       0.65      0.59      0.62       762\n",
      "\n",
      "    accuracy                           0.63      1500\n",
      "   macro avg       0.63      0.63      0.63      1500\n",
      "weighted avg       0.64      0.63      0.63      1500\n",
      "\n"
     ]
    }
   ],
   "source": [
    "m1 = LogisticRegression()\n",
    "m1.fit(x_train, y_train)\n",
    "p1 = m1.predict(x_val)\n",
    "\n",
    "print(accuracy_score(y_val, p1))\n",
    "print(classification_report(y_val, p1))"
   ]
  },
  {
   "cell_type": "markdown",
   "metadata": {
    "id": "m_1EE72zatBw"
   },
   "source": [
    "* 전진선택법 변수"
   ]
  },
  {
   "cell_type": "code",
   "execution_count": 15,
   "metadata": {
    "id": "0rKoLRi1atBx"
   },
   "outputs": [
    {
     "name": "stdout",
     "output_type": "stream",
     "text": [
      "0.634\n",
      "              precision    recall  f1-score   support\n",
      "\n",
      "           0       0.62      0.68      0.65       738\n",
      "           1       0.66      0.59      0.62       762\n",
      "\n",
      "    accuracy                           0.63      1500\n",
      "   macro avg       0.64      0.63      0.63      1500\n",
      "weighted avg       0.64      0.63      0.63      1500\n",
      "\n"
     ]
    }
   ],
   "source": [
    "m2 = LogisticRegression()\n",
    "m2.fit(x_train[vars], y_train)\n",
    "p2 = m2.predict(x_val[vars])\n",
    "\n",
    "print(accuracy_score(y_val, p2))\n",
    "print(classification_report(y_val, p2))"
   ]
  },
  {
   "cell_type": "markdown",
   "metadata": {
    "id": "fFre1mi8dhcK"
   },
   "source": [
    "## 4.하이퍼파라미터 튜닝"
   ]
  },
  {
   "cell_type": "markdown",
   "metadata": {
    "id": "lqqbcYcleEa7"
   },
   "source": [
    "### (1) 필요한 함수 불러오기 "
   ]
  },
  {
   "cell_type": "code",
   "execution_count": 16,
   "metadata": {
    "id": "b4VHDaqBeGa7"
   },
   "outputs": [],
   "source": [
    "from sklearn.model_selection import RandomizedSearchCV, GridSearchCV"
   ]
  },
  {
   "cell_type": "markdown",
   "metadata": {
    "id": "4QhAEJoKeUph"
   },
   "source": [
    "### (2) Random Search\n",
    "\n",
    "① 값의 범위를 지정한다.  \n",
    "② 모델 선언(시도 횟수 지정)  \n",
    "③ 모델링(값의 범위 내에서 시도 횟수만큼 랜덤하게 선택해서 시도한다.)  \n",
    "④ 가장 성능이 좋은 값을 선정\n"
   ]
  },
  {
   "cell_type": "markdown",
   "metadata": {
    "id": "0QV5WwTsefwR"
   },
   "source": [
    "#### ① 값의 범위를 지정한다."
   ]
  },
  {
   "cell_type": "code",
   "execution_count": 17,
   "metadata": {
    "id": "uw_0xzoRqSWa"
   },
   "outputs": [
    {
     "data": {
      "text/plain": [
       "{'n_neighbors': range(1, 51), 'metric': ['euclidean', 'manhattan']}"
      ]
     },
     "execution_count": 17,
     "metadata": {},
     "output_type": "execute_result"
    }
   ],
   "source": [
    "# dictionary형태로 선언\n",
    "params = { 'n_neighbors' : range(1,51), 'metric' : ['euclidean', 'manhattan']  }\n",
    "params"
   ]
  },
  {
   "cell_type": "markdown",
   "metadata": {
    "id": "smGb7riKe7Fj"
   },
   "source": [
    "#### ② 모델 선언"
   ]
  },
  {
   "cell_type": "code",
   "execution_count": 18,
   "metadata": {
    "id": "aycGcFmIq2aq"
   },
   "outputs": [],
   "source": [
    "# 기본모델\n",
    "model = KNeighborsClassifier()\n",
    "\n",
    "# Random Search 설정.\n",
    "model_rs = RandomizedSearchCV(model\n",
    "                            , params              # hyperparameter 범위 지정.\n",
    "                            , cv=5                    # k-fold Cross Validation\n",
    "                            , n_iter=5                # Random하게 시도할 횟수\n",
    "                            )"
   ]
  },
  {
   "cell_type": "markdown",
   "metadata": {
    "id": "o7YpDODPfW-Y"
   },
   "source": [
    "#### ③ 모델링"
   ]
  },
  {
   "cell_type": "code",
   "execution_count": 19,
   "metadata": {
    "id": "LzX7OxZnoatr"
   },
   "outputs": [
    {
     "data": {
      "text/plain": [
       "RandomizedSearchCV(cv=5, estimator=KNeighborsClassifier(), n_iter=5,\n",
       "                   param_distributions={'metric': ['euclidean', 'manhattan'],\n",
       "                                        'n_neighbors': range(1, 51)})"
      ]
     },
     "execution_count": 19,
     "metadata": {},
     "output_type": "execute_result"
    }
   ],
   "source": [
    "# 학습 : model이 아니라 model_rs\n",
    "model_rs.fit(x_train_s, y_train)"
   ]
  },
  {
   "cell_type": "code",
   "execution_count": 20,
   "metadata": {
    "id": "DkUVXP_Loatt"
   },
   "outputs": [
    {
     "data": {
      "text/plain": [
       "{'mean_fit_time': array([0.00447483, 0.00280137, 0.00144353, 0.00198498, 0.00178161]),\n",
       " 'std_fit_time': array([0.00193728, 0.00075175, 0.00092554, 0.00013105, 0.00039308]),\n",
       " 'mean_score_time': array([0.1660162 , 0.15100846, 0.13047204, 0.10301805, 0.10071874]),\n",
       " 'std_score_time': array([0.01891863, 0.00980646, 0.02764362, 0.00935447, 0.00337004]),\n",
       " 'param_n_neighbors': masked_array(data=[19, 41, 25, 34, 22],\n",
       "              mask=[False, False, False, False, False],\n",
       "        fill_value='?',\n",
       "             dtype=object),\n",
       " 'param_metric': masked_array(data=['euclidean', 'manhattan', 'manhattan', 'euclidean',\n",
       "                    'euclidean'],\n",
       "              mask=[False, False, False, False, False],\n",
       "        fill_value='?',\n",
       "             dtype=object),\n",
       " 'params': [{'n_neighbors': 19, 'metric': 'euclidean'},\n",
       "  {'n_neighbors': 41, 'metric': 'manhattan'},\n",
       "  {'n_neighbors': 25, 'metric': 'manhattan'},\n",
       "  {'n_neighbors': 34, 'metric': 'euclidean'},\n",
       "  {'n_neighbors': 22, 'metric': 'euclidean'}],\n",
       " 'split0_test_score': array([0.59142857, 0.63285714, 0.63285714, 0.61285714, 0.6       ]),\n",
       " 'split1_test_score': array([0.6       , 0.61571429, 0.62      , 0.58857143, 0.60428571]),\n",
       " 'split2_test_score': array([0.56857143, 0.62857143, 0.61285714, 0.60142857, 0.58571429]),\n",
       " 'split3_test_score': array([0.57857143, 0.61857143, 0.60714286, 0.57571429, 0.58428571]),\n",
       " 'split4_test_score': array([0.55714286, 0.61571429, 0.58428571, 0.58428571, 0.56      ]),\n",
       " 'mean_test_score': array([0.57914286, 0.62228571, 0.61142857, 0.59257143, 0.58685714]),\n",
       " 'std_test_score': array([0.01537557, 0.00709124, 0.01606111, 0.01310554, 0.01552878]),\n",
       " 'rank_test_score': array([5, 1, 2, 3, 4])}"
      ]
     },
     "execution_count": 20,
     "metadata": {},
     "output_type": "execute_result"
    }
   ],
   "source": [
    "# 튜닝 결과\n",
    "model_rs.cv_results_"
   ]
  },
  {
   "cell_type": "code",
   "execution_count": 21,
   "metadata": {
    "id": "ygL2UHJE4inW"
   },
   "outputs": [
    {
     "data": {
      "text/plain": [
       "[{'n_neighbors': 19, 'metric': 'euclidean'},\n",
       " {'n_neighbors': 41, 'metric': 'manhattan'},\n",
       " {'n_neighbors': 25, 'metric': 'manhattan'},\n",
       " {'n_neighbors': 34, 'metric': 'euclidean'},\n",
       " {'n_neighbors': 22, 'metric': 'euclidean'}]"
      ]
     },
     "execution_count": 21,
     "metadata": {},
     "output_type": "execute_result"
    }
   ],
   "source": [
    "model_rs.cv_results_['params']"
   ]
  },
  {
   "cell_type": "code",
   "execution_count": 22,
   "metadata": {
    "id": "Ev8QMOLM4qM3"
   },
   "outputs": [
    {
     "data": {
      "text/plain": [
       "array([0.57914286, 0.62228571, 0.61142857, 0.59257143, 0.58685714])"
      ]
     },
     "execution_count": 22,
     "metadata": {},
     "output_type": "execute_result"
    }
   ],
   "source": [
    "model_rs.cv_results_['mean_test_score']"
   ]
  },
  {
   "cell_type": "code",
   "execution_count": 23,
   "metadata": {
    "id": "WibiA2j9sRo_"
   },
   "outputs": [
    {
     "data": {
      "text/plain": [
       "{'n_neighbors': 41, 'metric': 'manhattan'}"
      ]
     },
     "execution_count": 23,
     "metadata": {},
     "output_type": "execute_result"
    }
   ],
   "source": [
    "# 최적의 파라미터\n",
    "model_rs.best_params_"
   ]
  },
  {
   "cell_type": "code",
   "execution_count": 24,
   "metadata": {
    "id": "tPwtq5L3vUmo"
   },
   "outputs": [
    {
     "data": {
      "text/plain": [
       "0.6222857142857142"
      ]
     },
     "execution_count": 24,
     "metadata": {},
     "output_type": "execute_result"
    }
   ],
   "source": [
    "# 그때의 성능\n",
    "model_rs.best_score_"
   ]
  },
  {
   "cell_type": "code",
   "execution_count": 25,
   "metadata": {
    "id": "99n6iBAGoatw"
   },
   "outputs": [
    {
     "name": "stdout",
     "output_type": "stream",
     "text": [
      "              precision    recall  f1-score   support\n",
      "\n",
      "           0       0.59      0.74      0.66       738\n",
      "           1       0.67      0.51      0.58       762\n",
      "\n",
      "    accuracy                           0.62      1500\n",
      "   macro avg       0.63      0.63      0.62      1500\n",
      "weighted avg       0.63      0.62      0.62      1500\n",
      "\n"
     ]
    }
   ],
   "source": [
    "# best 모델로 예측 및 평가\n",
    "pred = model_rs.predict(x_val_s)\n",
    "# 가장 성능 좋은 것으로 시도해줌\n",
    "print(classification_report(y_val, pred))"
   ]
  },
  {
   "cell_type": "markdown",
   "metadata": {
    "id": "1WRLq_4tf-ve"
   },
   "source": [
    "### (3) 실습 : Random Search\n",
    "\n",
    "* decision tree로 튜닝을 시도해 봅시다.\n",
    "    * max_depth : 1~10\n",
    "    * min_samples_leaf : 10 ~ 100"
   ]
  },
  {
   "cell_type": "markdown",
   "metadata": {
    "id": "-lJcU4Xlf-ve"
   },
   "source": [
    "#### ① 값의 범위를 지정한다."
   ]
  },
  {
   "cell_type": "code",
   "execution_count": 26,
   "metadata": {
    "id": "5vbadH6Cf-ve"
   },
   "outputs": [
    {
     "data": {
      "text/plain": [
       "{'max_depth': range(1, 11), 'min_samples_leaf': range(10, 101, 10)}"
      ]
     },
     "execution_count": 26,
     "metadata": {},
     "output_type": "execute_result"
    }
   ],
   "source": [
    "params = {'max_depth': range(1,11),'min_samples_leaf': range(10,101,10)}\n",
    "params"
   ]
  },
  {
   "cell_type": "markdown",
   "metadata": {
    "id": "VlSVAR-7f-vf"
   },
   "source": [
    "#### ② 모델 선언"
   ]
  },
  {
   "cell_type": "code",
   "execution_count": 27,
   "metadata": {
    "id": "i0S0er2Af-vf"
   },
   "outputs": [],
   "source": [
    "from sklearn.tree import DecisionTreeClassifier, plot_tree\n",
    "from sklearn.metrics import *"
   ]
  },
  {
   "cell_type": "code",
   "execution_count": 28,
   "metadata": {},
   "outputs": [],
   "source": [
    "modelD = DecisionTreeClassifier()"
   ]
  },
  {
   "cell_type": "code",
   "execution_count": 29,
   "metadata": {},
   "outputs": [],
   "source": [
    "model_rs = RandomizedSearchCV(modelD,params,cv=5,n_iter=5)"
   ]
  },
  {
   "cell_type": "code",
   "execution_count": 30,
   "metadata": {},
   "outputs": [
    {
     "data": {
      "text/plain": [
       "RandomizedSearchCV(cv=5, estimator=DecisionTreeClassifier(), n_iter=5,\n",
       "                   param_distributions={'max_depth': range(1, 11),\n",
       "                                        'min_samples_leaf': range(10, 101, 10)})"
      ]
     },
     "execution_count": 30,
     "metadata": {},
     "output_type": "execute_result"
    }
   ],
   "source": [
    "model_rs"
   ]
  },
  {
   "cell_type": "markdown",
   "metadata": {
    "id": "1oTmve_lf-vf"
   },
   "source": [
    "#### ③ 모델링"
   ]
  },
  {
   "cell_type": "code",
   "execution_count": 31,
   "metadata": {},
   "outputs": [
    {
     "data": {
      "text/plain": [
       "RandomizedSearchCV(cv=5, estimator=DecisionTreeClassifier(), n_iter=5,\n",
       "                   param_distributions={'max_depth': range(1, 11),\n",
       "                                        'min_samples_leaf': range(10, 101, 10)})"
      ]
     },
     "execution_count": 31,
     "metadata": {},
     "output_type": "execute_result"
    }
   ],
   "source": [
    "model_rs.fit(x_train,y_train)"
   ]
  },
  {
   "cell_type": "code",
   "execution_count": 32,
   "metadata": {
    "id": "mzVCpqpCf-vf"
   },
   "outputs": [
    {
     "data": {
      "text/plain": [
       "{'mean_fit_time': array([0.00980906, 0.00758047, 0.01250014, 0.01868687, 0.01972041]),\n",
       " 'std_fit_time': array([0.00270434, 0.00175586, 0.00194721, 0.00081372, 0.00307164]),\n",
       " 'mean_score_time': array([0.00446248, 0.00367055, 0.00512891, 0.00475054, 0.00355086]),\n",
       " 'std_score_time': array([0.00142455, 0.00093561, 0.00061427, 0.00081872, 0.0006791 ]),\n",
       " 'param_min_samples_leaf': masked_array(data=[90, 70, 50, 60, 40],\n",
       "              mask=[False, False, False, False, False],\n",
       "        fill_value='?',\n",
       "             dtype=object),\n",
       " 'param_max_depth': masked_array(data=[1, 1, 2, 5, 8],\n",
       "              mask=[False, False, False, False, False],\n",
       "        fill_value='?',\n",
       "             dtype=object),\n",
       " 'params': [{'min_samples_leaf': 90, 'max_depth': 1},\n",
       "  {'min_samples_leaf': 70, 'max_depth': 1},\n",
       "  {'min_samples_leaf': 50, 'max_depth': 2},\n",
       "  {'min_samples_leaf': 60, 'max_depth': 5},\n",
       "  {'min_samples_leaf': 40, 'max_depth': 8}],\n",
       " 'split0_test_score': array([0.64285714, 0.64285714, 0.66571429, 0.72142857, 0.71285714]),\n",
       " 'split1_test_score': array([0.61571429, 0.61571429, 0.65857143, 0.68      , 0.69571429]),\n",
       " 'split2_test_score': array([0.60142857, 0.60142857, 0.65428571, 0.68      , 0.68428571]),\n",
       " 'split3_test_score': array([0.59714286, 0.59714286, 0.67285714, 0.67857143, 0.69142857]),\n",
       " 'split4_test_score': array([0.61285714, 0.61285714, 0.65571429, 0.68      , 0.68571429]),\n",
       " 'mean_test_score': array([0.614     , 0.614     , 0.66142857, 0.688     , 0.694     ]),\n",
       " 'std_test_score': array([0.0159949 , 0.0159949 , 0.00693998, 0.01672344, 0.01027777]),\n",
       " 'rank_test_score': array([4, 4, 3, 2, 1])}"
      ]
     },
     "execution_count": 32,
     "metadata": {},
     "output_type": "execute_result"
    }
   ],
   "source": [
    "model_rs.cv_results_"
   ]
  },
  {
   "cell_type": "code",
   "execution_count": 33,
   "metadata": {
    "id": "CkkdSVR6f-vf"
   },
   "outputs": [
    {
     "data": {
      "text/plain": [
       "{'min_samples_leaf': 40, 'max_depth': 8}"
      ]
     },
     "execution_count": 33,
     "metadata": {},
     "output_type": "execute_result"
    }
   ],
   "source": [
    "model_rs.best_params_"
   ]
  },
  {
   "cell_type": "code",
   "execution_count": 34,
   "metadata": {
    "id": "IgR9dSA_d6f6"
   },
   "outputs": [
    {
     "data": {
      "text/plain": [
       "0.694"
      ]
     },
     "execution_count": 34,
     "metadata": {},
     "output_type": "execute_result"
    }
   ],
   "source": [
    "model_rs.best_score_"
   ]
  },
  {
   "cell_type": "code",
   "execution_count": 35,
   "metadata": {
    "scrolled": true
   },
   "outputs": [
    {
     "name": "stdout",
     "output_type": "stream",
     "text": [
      "              precision    recall  f1-score   support\n",
      "\n",
      "           0       0.68      0.69      0.69       738\n",
      "           1       0.70      0.69      0.69       762\n",
      "\n",
      "    accuracy                           0.69      1500\n",
      "   macro avg       0.69      0.69      0.69      1500\n",
      "weighted avg       0.69      0.69      0.69      1500\n",
      "\n"
     ]
    }
   ],
   "source": [
    "# best 모델로 예측 및 평가\n",
    "pred = model_rs.predict(x_val)\n",
    "# 가장 성능 좋은 것으로 시도해줌\n",
    "print(classification_report(y_val, pred))"
   ]
  },
  {
   "cell_type": "code",
   "execution_count": null,
   "metadata": {},
   "outputs": [],
   "source": []
  },
  {
   "cell_type": "markdown",
   "metadata": {
    "id": "wzN7zbnJhmAt"
   },
   "source": [
    "### (4) Grid Search\n",
    "\n",
    "① 값의 범위를 지정한다.  \n",
    "② 모델링(값의 범위 내에서 모든 조합을 다 시도한다.)  \n",
    "③ 가장 성능이 좋은 값을 선정\n"
   ]
  },
  {
   "cell_type": "markdown",
   "metadata": {
    "id": "E7AOo0wxhmA0"
   },
   "source": [
    "#### ① 값의 범위를 지정한다."
   ]
  },
  {
   "cell_type": "code",
   "execution_count": 36,
   "metadata": {
    "id": "CkVVoyWFhmA0"
   },
   "outputs": [
    {
     "data": {
      "text/plain": [
       "{'n_neighbors': range(3, 31, 2), 'metric': ['euclidean', 'manhattan']}"
      ]
     },
     "execution_count": 36,
     "metadata": {},
     "output_type": "execute_result"
    }
   ],
   "source": [
    "# dictionary형태로 선언\n",
    "params = { 'n_neighbors' : range(3,31,2), 'metric' : ['euclidean', 'manhattan']  }\n",
    "params"
   ]
  },
  {
   "cell_type": "markdown",
   "metadata": {
    "id": "qA_g34P3hmA1"
   },
   "source": [
    "#### ② 모델 선언"
   ]
  },
  {
   "cell_type": "code",
   "execution_count": 37,
   "metadata": {
    "id": "A0Zceq-LhmA1"
   },
   "outputs": [],
   "source": [
    "# 기본모델\n",
    "model = KNeighborsClassifier()\n",
    "\n",
    "# Random Search 설정.\n",
    "model_gs = GridSearchCV(model, params, cv=5)"
   ]
  },
  {
   "cell_type": "markdown",
   "metadata": {
    "id": "lu2BRGzQhmA1"
   },
   "source": [
    "#### ③ 모델링"
   ]
  },
  {
   "cell_type": "code",
   "execution_count": 38,
   "metadata": {
    "id": "XtI3d8uZhmA1",
    "scrolled": true
   },
   "outputs": [
    {
     "data": {
      "text/plain": [
       "GridSearchCV(cv=5, estimator=KNeighborsClassifier(),\n",
       "             param_grid={'metric': ['euclidean', 'manhattan'],\n",
       "                         'n_neighbors': range(3, 31, 2)})"
      ]
     },
     "execution_count": 38,
     "metadata": {},
     "output_type": "execute_result"
    }
   ],
   "source": [
    "# 학습 : model이 아니라 model_rs\n",
    "model_gs.fit(x_train_s, y_train)"
   ]
  },
  {
   "cell_type": "code",
   "execution_count": 39,
   "metadata": {
    "id": "RnrtbCidhmA1"
   },
   "outputs": [
    {
     "data": {
      "text/plain": [
       "{'mean_fit_time': array([0.00216293, 0.00194998, 0.00244989, 0.00198245, 0.00225048,\n",
       "        0.00176353, 0.00202093, 0.00156794, 0.00188403, 0.00239239,\n",
       "        0.00194135, 0.00221295, 0.00160685, 0.00386181, 0.00149136,\n",
       "        0.00124965, 0.00130343, 0.00141072, 0.00160418, 0.00119534,\n",
       "        0.00180521, 0.00179558, 0.00190187, 0.00166116, 0.00179334,\n",
       "        0.00120363, 0.00138535, 0.00117393]),\n",
       " 'std_fit_time': array([4.18500146e-04, 7.11006807e-04, 5.63495512e-04, 4.23295438e-04,\n",
       "        3.86410939e-04, 3.88828510e-04, 3.31182545e-05, 5.25015741e-04,\n",
       "        2.10592333e-04, 1.01872529e-03, 4.32903373e-04, 3.98401124e-04,\n",
       "        7.79394129e-04, 4.75201461e-03, 4.14724918e-04, 4.04826030e-04,\n",
       "        3.94849874e-04, 4.61836493e-04, 4.95419869e-04, 3.63861704e-04,\n",
       "        7.13845366e-04, 3.99256137e-04, 1.80621862e-04, 7.64837550e-04,\n",
       "        3.96630483e-04, 3.95228100e-04, 4.71250388e-04, 4.28483875e-04]),\n",
       " 'mean_score_time': array([0.0938858 , 0.10036721, 0.10077372, 0.09826365, 0.1041625 ,\n",
       "        0.09617224, 0.10129485, 0.0962461 , 0.10300922, 0.11484575,\n",
       "        0.10321722, 0.10839119, 0.10164776, 0.10396814, 0.09726405,\n",
       "        0.10146952, 0.09546008, 0.09975338, 0.09519463, 0.11311693,\n",
       "        0.09596043, 0.11229753, 0.09631848, 0.10027971, 0.0968873 ,\n",
       "        0.0962502 , 0.10194211, 0.09937615]),\n",
       " 'std_score_time': array([0.01109912, 0.00579523, 0.00555979, 0.00394806, 0.00662498,\n",
       "        0.00293644, 0.00522035, 0.00429483, 0.00844531, 0.01197545,\n",
       "        0.00166336, 0.0030656 , 0.00329196, 0.01049505, 0.01354104,\n",
       "        0.00588725, 0.00255786, 0.00437339, 0.00213186, 0.02348425,\n",
       "        0.00172922, 0.01403934, 0.00195595, 0.00645903, 0.00521302,\n",
       "        0.00482647, 0.00840765, 0.00547017]),\n",
       " 'param_metric': masked_array(data=['euclidean', 'euclidean', 'euclidean', 'euclidean',\n",
       "                    'euclidean', 'euclidean', 'euclidean', 'euclidean',\n",
       "                    'euclidean', 'euclidean', 'euclidean', 'euclidean',\n",
       "                    'euclidean', 'euclidean', 'manhattan', 'manhattan',\n",
       "                    'manhattan', 'manhattan', 'manhattan', 'manhattan',\n",
       "                    'manhattan', 'manhattan', 'manhattan', 'manhattan',\n",
       "                    'manhattan', 'manhattan', 'manhattan', 'manhattan'],\n",
       "              mask=[False, False, False, False, False, False, False, False,\n",
       "                    False, False, False, False, False, False, False, False,\n",
       "                    False, False, False, False, False, False, False, False,\n",
       "                    False, False, False, False],\n",
       "        fill_value='?',\n",
       "             dtype=object),\n",
       " 'param_n_neighbors': masked_array(data=[3, 5, 7, 9, 11, 13, 15, 17, 19, 21, 23, 25, 27, 29, 3,\n",
       "                    5, 7, 9, 11, 13, 15, 17, 19, 21, 23, 25, 27, 29],\n",
       "              mask=[False, False, False, False, False, False, False, False,\n",
       "                    False, False, False, False, False, False, False, False,\n",
       "                    False, False, False, False, False, False, False, False,\n",
       "                    False, False, False, False],\n",
       "        fill_value='?',\n",
       "             dtype=object),\n",
       " 'params': [{'metric': 'euclidean', 'n_neighbors': 3},\n",
       "  {'metric': 'euclidean', 'n_neighbors': 5},\n",
       "  {'metric': 'euclidean', 'n_neighbors': 7},\n",
       "  {'metric': 'euclidean', 'n_neighbors': 9},\n",
       "  {'metric': 'euclidean', 'n_neighbors': 11},\n",
       "  {'metric': 'euclidean', 'n_neighbors': 13},\n",
       "  {'metric': 'euclidean', 'n_neighbors': 15},\n",
       "  {'metric': 'euclidean', 'n_neighbors': 17},\n",
       "  {'metric': 'euclidean', 'n_neighbors': 19},\n",
       "  {'metric': 'euclidean', 'n_neighbors': 21},\n",
       "  {'metric': 'euclidean', 'n_neighbors': 23},\n",
       "  {'metric': 'euclidean', 'n_neighbors': 25},\n",
       "  {'metric': 'euclidean', 'n_neighbors': 27},\n",
       "  {'metric': 'euclidean', 'n_neighbors': 29},\n",
       "  {'metric': 'manhattan', 'n_neighbors': 3},\n",
       "  {'metric': 'manhattan', 'n_neighbors': 5},\n",
       "  {'metric': 'manhattan', 'n_neighbors': 7},\n",
       "  {'metric': 'manhattan', 'n_neighbors': 9},\n",
       "  {'metric': 'manhattan', 'n_neighbors': 11},\n",
       "  {'metric': 'manhattan', 'n_neighbors': 13},\n",
       "  {'metric': 'manhattan', 'n_neighbors': 15},\n",
       "  {'metric': 'manhattan', 'n_neighbors': 17},\n",
       "  {'metric': 'manhattan', 'n_neighbors': 19},\n",
       "  {'metric': 'manhattan', 'n_neighbors': 21},\n",
       "  {'metric': 'manhattan', 'n_neighbors': 23},\n",
       "  {'metric': 'manhattan', 'n_neighbors': 25},\n",
       "  {'metric': 'manhattan', 'n_neighbors': 27},\n",
       "  {'metric': 'manhattan', 'n_neighbors': 29}],\n",
       " 'split0_test_score': array([0.58285714, 0.57857143, 0.58142857, 0.58285714, 0.57142857,\n",
       "        0.57857143, 0.57428571, 0.59      , 0.59142857, 0.59      ,\n",
       "        0.59857143, 0.58857143, 0.59142857, 0.58285714, 0.57714286,\n",
       "        0.60428571, 0.58285714, 0.59571429, 0.60428571, 0.61285714,\n",
       "        0.60571429, 0.60857143, 0.60571429, 0.61571429, 0.62714286,\n",
       "        0.63285714, 0.63      , 0.62857143]),\n",
       " 'split1_test_score': array([0.57714286, 0.59857143, 0.57857143, 0.57714286, 0.57857143,\n",
       "        0.58714286, 0.59428571, 0.59285714, 0.6       , 0.59142857,\n",
       "        0.60142857, 0.60571429, 0.58571429, 0.58571429, 0.58142857,\n",
       "        0.59285714, 0.59714286, 0.59714286, 0.60428571, 0.58857143,\n",
       "        0.59857143, 0.60428571, 0.61      , 0.62285714, 0.61428571,\n",
       "        0.62      , 0.61571429, 0.62142857]),\n",
       " 'split2_test_score': array([0.55428571, 0.56857143, 0.56857143, 0.55714286, 0.54428571,\n",
       "        0.56285714, 0.57714286, 0.56714286, 0.56857143, 0.57857143,\n",
       "        0.59      , 0.58142857, 0.58428571, 0.59142857, 0.54857143,\n",
       "        0.57714286, 0.58      , 0.57428571, 0.59714286, 0.59      ,\n",
       "        0.59428571, 0.60571429, 0.60714286, 0.62      , 0.61571429,\n",
       "        0.61285714, 0.62857143, 0.63142857]),\n",
       " 'split3_test_score': array([0.6       , 0.57857143, 0.58      , 0.57857143, 0.58142857,\n",
       "        0.58285714, 0.59285714, 0.6       , 0.57857143, 0.57857143,\n",
       "        0.57714286, 0.57571429, 0.56857143, 0.56857143, 0.59      ,\n",
       "        0.58285714, 0.61      , 0.61142857, 0.60857143, 0.60571429,\n",
       "        0.60571429, 0.59428571, 0.59428571, 0.60857143, 0.61285714,\n",
       "        0.60714286, 0.61571429, 0.61428571]),\n",
       " 'split4_test_score': array([0.58      , 0.57285714, 0.57714286, 0.57142857, 0.56428571,\n",
       "        0.56142857, 0.56571429, 0.56285714, 0.55714286, 0.56428571,\n",
       "        0.56285714, 0.57142857, 0.56857143, 0.57285714, 0.56857143,\n",
       "        0.6       , 0.58857143, 0.57857143, 0.57714286, 0.59142857,\n",
       "        0.59285714, 0.59428571, 0.59142857, 0.58571429, 0.58      ,\n",
       "        0.58428571, 0.60285714, 0.59428571]),\n",
       " 'mean_test_score': array([0.57885714, 0.57942857, 0.57714286, 0.57342857, 0.568     ,\n",
       "        0.57457143, 0.58085714, 0.58257143, 0.57914286, 0.58057143,\n",
       "        0.586     , 0.58457143, 0.57971429, 0.58028571, 0.57314286,\n",
       "        0.59142857, 0.59171429, 0.59142857, 0.59828571, 0.59771429,\n",
       "        0.59942857, 0.60142857, 0.60171429, 0.61057143, 0.61      ,\n",
       "        0.61142857, 0.61857143, 0.618     ]),\n",
       " 'std_test_score': array([0.01463571, 0.01028571, 0.00451754, 0.008926  , 0.0132665 ,\n",
       "        0.01051335, 0.0110509 , 0.0147745 , 0.01537557, 0.00979796,\n",
       "        0.01432566, 0.01203397, 0.0094069 , 0.00839825, 0.01409588,\n",
       "        0.01018202, 0.01085714, 0.01349225, 0.01119037, 0.00975621,\n",
       "        0.00546604, 0.00599319, 0.00741757, 0.01332789, 0.01583074,\n",
       "        0.01606111, 0.00993859, 0.0132665 ]),\n",
       " 'rank_test_score': array([23, 21, 24, 26, 28, 25, 17, 16, 22, 18, 14, 15, 20, 19, 27, 13, 11,\n",
       "        12,  9, 10,  8,  7,  6,  4,  5,  3,  1,  2])}"
      ]
     },
     "execution_count": 39,
     "metadata": {},
     "output_type": "execute_result"
    }
   ],
   "source": [
    "# 튜닝 결과\n",
    "model_gs.cv_results_"
   ]
  },
  {
   "cell_type": "code",
   "execution_count": 40,
   "metadata": {
    "id": "B7KakeYkhmA1"
   },
   "outputs": [
    {
     "data": {
      "text/plain": [
       "[{'metric': 'euclidean', 'n_neighbors': 3},\n",
       " {'metric': 'euclidean', 'n_neighbors': 5},\n",
       " {'metric': 'euclidean', 'n_neighbors': 7},\n",
       " {'metric': 'euclidean', 'n_neighbors': 9},\n",
       " {'metric': 'euclidean', 'n_neighbors': 11},\n",
       " {'metric': 'euclidean', 'n_neighbors': 13},\n",
       " {'metric': 'euclidean', 'n_neighbors': 15},\n",
       " {'metric': 'euclidean', 'n_neighbors': 17},\n",
       " {'metric': 'euclidean', 'n_neighbors': 19},\n",
       " {'metric': 'euclidean', 'n_neighbors': 21},\n",
       " {'metric': 'euclidean', 'n_neighbors': 23},\n",
       " {'metric': 'euclidean', 'n_neighbors': 25},\n",
       " {'metric': 'euclidean', 'n_neighbors': 27},\n",
       " {'metric': 'euclidean', 'n_neighbors': 29},\n",
       " {'metric': 'manhattan', 'n_neighbors': 3},\n",
       " {'metric': 'manhattan', 'n_neighbors': 5},\n",
       " {'metric': 'manhattan', 'n_neighbors': 7},\n",
       " {'metric': 'manhattan', 'n_neighbors': 9},\n",
       " {'metric': 'manhattan', 'n_neighbors': 11},\n",
       " {'metric': 'manhattan', 'n_neighbors': 13},\n",
       " {'metric': 'manhattan', 'n_neighbors': 15},\n",
       " {'metric': 'manhattan', 'n_neighbors': 17},\n",
       " {'metric': 'manhattan', 'n_neighbors': 19},\n",
       " {'metric': 'manhattan', 'n_neighbors': 21},\n",
       " {'metric': 'manhattan', 'n_neighbors': 23},\n",
       " {'metric': 'manhattan', 'n_neighbors': 25},\n",
       " {'metric': 'manhattan', 'n_neighbors': 27},\n",
       " {'metric': 'manhattan', 'n_neighbors': 29}]"
      ]
     },
     "execution_count": 40,
     "metadata": {},
     "output_type": "execute_result"
    }
   ],
   "source": [
    "model_gs.cv_results_['params']"
   ]
  },
  {
   "cell_type": "code",
   "execution_count": 41,
   "metadata": {
    "id": "bweqbwp4hmA2"
   },
   "outputs": [
    {
     "data": {
      "text/plain": [
       "array([0.57885714, 0.57942857, 0.57714286, 0.57342857, 0.568     ,\n",
       "       0.57457143, 0.58085714, 0.58257143, 0.57914286, 0.58057143,\n",
       "       0.586     , 0.58457143, 0.57971429, 0.58028571, 0.57314286,\n",
       "       0.59142857, 0.59171429, 0.59142857, 0.59828571, 0.59771429,\n",
       "       0.59942857, 0.60142857, 0.60171429, 0.61057143, 0.61      ,\n",
       "       0.61142857, 0.61857143, 0.618     ])"
      ]
     },
     "execution_count": 41,
     "metadata": {},
     "output_type": "execute_result"
    }
   ],
   "source": [
    "model_gs.cv_results_['mean_test_score']"
   ]
  },
  {
   "cell_type": "code",
   "execution_count": 42,
   "metadata": {
    "id": "6m0F5W3IhmA2"
   },
   "outputs": [
    {
     "data": {
      "text/plain": [
       "{'metric': 'manhattan', 'n_neighbors': 27}"
      ]
     },
     "execution_count": 42,
     "metadata": {},
     "output_type": "execute_result"
    }
   ],
   "source": [
    "# 최적의 파라미터\n",
    "model_gs.best_params_"
   ]
  },
  {
   "cell_type": "code",
   "execution_count": 43,
   "metadata": {
    "id": "1aaAI6PshmA2"
   },
   "outputs": [
    {
     "data": {
      "text/plain": [
       "0.6185714285714285"
      ]
     },
     "execution_count": 43,
     "metadata": {},
     "output_type": "execute_result"
    }
   ],
   "source": [
    "# 그때의 성능\n",
    "model_gs.best_score_"
   ]
  },
  {
   "cell_type": "code",
   "execution_count": 44,
   "metadata": {
    "id": "aW3lOKgKhmA2"
   },
   "outputs": [
    {
     "name": "stdout",
     "output_type": "stream",
     "text": [
      "              precision    recall  f1-score   support\n",
      "\n",
      "           0       0.59      0.72      0.65       738\n",
      "           1       0.65      0.51      0.57       762\n",
      "\n",
      "    accuracy                           0.61      1500\n",
      "   macro avg       0.62      0.61      0.61      1500\n",
      "weighted avg       0.62      0.61      0.61      1500\n",
      "\n"
     ]
    }
   ],
   "source": [
    "# best 모델로 예측 및 평가\n",
    "pred = model_gs.predict(x_val_s)\n",
    "print(classification_report(y_val, pred))"
   ]
  },
  {
   "cell_type": "markdown",
   "metadata": {
    "id": "DobFs64hhmA2"
   },
   "source": [
    "### (5) 실습 : Grid Search\n",
    "\n",
    "* decision tree로 튜닝을 시도해 봅시다.\n",
    "    * max_depth : 1~10\n",
    "    * min_samples_leaf : 10 ~ 100"
   ]
  },
  {
   "cell_type": "markdown",
   "metadata": {
    "id": "vHvcEIqJhmA3"
   },
   "source": [
    "#### ① 값의 범위를 지정한다."
   ]
  },
  {
   "cell_type": "code",
   "execution_count": 46,
   "metadata": {
    "id": "A0fCwubihmA5"
   },
   "outputs": [],
   "source": [
    "params = {'max_depth': range(1,10),'min_samples_leaf' : range(10,101,10)}"
   ]
  },
  {
   "cell_type": "markdown",
   "metadata": {
    "id": "tKoDEEbzhmA5"
   },
   "source": [
    "#### ② 모델 선언"
   ]
  },
  {
   "cell_type": "code",
   "execution_count": 62,
   "metadata": {
    "id": "26SqSRbLhmA5"
   },
   "outputs": [],
   "source": [
    "model = DecisionTreeClassifier()\n",
    "\n",
    "model_gs = GridSearchCV(model,params,cv=5,verbose=3)"
   ]
  },
  {
   "cell_type": "markdown",
   "metadata": {
    "id": "YT-krLWkhmA5"
   },
   "source": [
    "#### ③ 모델링"
   ]
  },
  {
   "cell_type": "code",
   "execution_count": 63,
   "metadata": {
    "id": "Sciat7vk7k1-"
   },
   "outputs": [
    {
     "name": "stdout",
     "output_type": "stream",
     "text": [
      "Fitting 5 folds for each of 90 candidates, totalling 450 fits\n",
      "[CV 1/5] END ...............max_depth=1, min_samples_leaf=10; total time=   0.0s\n",
      "[CV 2/5] END ...............max_depth=1, min_samples_leaf=10; total time=   0.0s\n",
      "[CV 3/5] END ...............max_depth=1, min_samples_leaf=10; total time=   0.0s\n",
      "[CV 4/5] END ...............max_depth=1, min_samples_leaf=10; total time=   0.0s\n",
      "[CV 5/5] END ...............max_depth=1, min_samples_leaf=10; total time=   0.0s\n",
      "[CV 1/5] END ...............max_depth=1, min_samples_leaf=20; total time=   0.0s\n",
      "[CV 2/5] END ...............max_depth=1, min_samples_leaf=20; total time=   0.0s\n",
      "[CV 3/5] END ...............max_depth=1, min_samples_leaf=20; total time=   0.0s\n",
      "[CV 4/5] END ...............max_depth=1, min_samples_leaf=20; total time=   0.0s\n",
      "[CV 5/5] END ...............max_depth=1, min_samples_leaf=20; total time=   0.0s\n",
      "[CV 1/5] END ...............max_depth=1, min_samples_leaf=30; total time=   0.0s\n",
      "[CV 2/5] END ...............max_depth=1, min_samples_leaf=30; total time=   0.0s\n",
      "[CV 3/5] END ...............max_depth=1, min_samples_leaf=30; total time=   0.0s\n",
      "[CV 4/5] END ...............max_depth=1, min_samples_leaf=30; total time=   0.0s\n",
      "[CV 5/5] END ...............max_depth=1, min_samples_leaf=30; total time=   0.0s\n",
      "[CV 1/5] END ...............max_depth=1, min_samples_leaf=40; total time=   0.0s\n",
      "[CV 2/5] END ...............max_depth=1, min_samples_leaf=40; total time=   0.0s\n",
      "[CV 3/5] END ...............max_depth=1, min_samples_leaf=40; total time=   0.0s\n",
      "[CV 4/5] END ...............max_depth=1, min_samples_leaf=40; total time=   0.0s\n",
      "[CV 5/5] END ...............max_depth=1, min_samples_leaf=40; total time=   0.0s\n",
      "[CV 1/5] END ...............max_depth=1, min_samples_leaf=50; total time=   0.0s\n",
      "[CV 2/5] END ...............max_depth=1, min_samples_leaf=50; total time=   0.0s\n",
      "[CV 3/5] END ...............max_depth=1, min_samples_leaf=50; total time=   0.0s\n",
      "[CV 4/5] END ...............max_depth=1, min_samples_leaf=50; total time=   0.0s\n",
      "[CV 5/5] END ...............max_depth=1, min_samples_leaf=50; total time=   0.0s\n",
      "[CV 1/5] END ...............max_depth=1, min_samples_leaf=60; total time=   0.0s\n",
      "[CV 2/5] END ...............max_depth=1, min_samples_leaf=60; total time=   0.0s\n",
      "[CV 3/5] END ...............max_depth=1, min_samples_leaf=60; total time=   0.0s\n",
      "[CV 4/5] END ...............max_depth=1, min_samples_leaf=60; total time=   0.0s\n",
      "[CV 5/5] END ...............max_depth=1, min_samples_leaf=60; total time=   0.0s\n",
      "[CV 1/5] END ...............max_depth=1, min_samples_leaf=70; total time=   0.0s\n",
      "[CV 2/5] END ...............max_depth=1, min_samples_leaf=70; total time=   0.0s\n",
      "[CV 3/5] END ...............max_depth=1, min_samples_leaf=70; total time=   0.0s\n",
      "[CV 4/5] END ...............max_depth=1, min_samples_leaf=70; total time=   0.0s\n",
      "[CV 5/5] END ...............max_depth=1, min_samples_leaf=70; total time=   0.0s\n",
      "[CV 1/5] END ...............max_depth=1, min_samples_leaf=80; total time=   0.0s\n",
      "[CV 2/5] END ...............max_depth=1, min_samples_leaf=80; total time=   0.0s\n",
      "[CV 3/5] END ...............max_depth=1, min_samples_leaf=80; total time=   0.0s\n",
      "[CV 4/5] END ...............max_depth=1, min_samples_leaf=80; total time=   0.0s\n",
      "[CV 5/5] END ...............max_depth=1, min_samples_leaf=80; total time=   0.0s\n",
      "[CV 1/5] END ...............max_depth=1, min_samples_leaf=90; total time=   0.0s\n",
      "[CV 2/5] END ...............max_depth=1, min_samples_leaf=90; total time=   0.0s\n",
      "[CV 3/5] END ...............max_depth=1, min_samples_leaf=90; total time=   0.0s\n",
      "[CV 4/5] END ...............max_depth=1, min_samples_leaf=90; total time=   0.0s\n",
      "[CV 5/5] END ...............max_depth=1, min_samples_leaf=90; total time=   0.0s\n",
      "[CV 1/5] END ..............max_depth=1, min_samples_leaf=100; total time=   0.0s\n",
      "[CV 2/5] END ..............max_depth=1, min_samples_leaf=100; total time=   0.0s\n",
      "[CV 3/5] END ..............max_depth=1, min_samples_leaf=100; total time=   0.0s\n",
      "[CV 4/5] END ..............max_depth=1, min_samples_leaf=100; total time=   0.0s\n",
      "[CV 5/5] END ..............max_depth=1, min_samples_leaf=100; total time=   0.0s\n",
      "[CV 1/5] END ...............max_depth=2, min_samples_leaf=10; total time=   0.0s\n",
      "[CV 2/5] END ...............max_depth=2, min_samples_leaf=10; total time=   0.0s\n",
      "[CV 3/5] END ...............max_depth=2, min_samples_leaf=10; total time=   0.0s\n",
      "[CV 4/5] END ...............max_depth=2, min_samples_leaf=10; total time=   0.0s\n",
      "[CV 5/5] END ...............max_depth=2, min_samples_leaf=10; total time=   0.0s\n",
      "[CV 1/5] END ...............max_depth=2, min_samples_leaf=20; total time=   0.0s\n",
      "[CV 2/5] END ...............max_depth=2, min_samples_leaf=20; total time=   0.0s\n",
      "[CV 3/5] END ...............max_depth=2, min_samples_leaf=20; total time=   0.0s\n",
      "[CV 4/5] END ...............max_depth=2, min_samples_leaf=20; total time=   0.0s\n",
      "[CV 5/5] END ...............max_depth=2, min_samples_leaf=20; total time=   0.0s\n",
      "[CV 1/5] END ...............max_depth=2, min_samples_leaf=30; total time=   0.0s\n",
      "[CV 2/5] END ...............max_depth=2, min_samples_leaf=30; total time=   0.0s\n",
      "[CV 3/5] END ...............max_depth=2, min_samples_leaf=30; total time=   0.0s\n",
      "[CV 4/5] END ...............max_depth=2, min_samples_leaf=30; total time=   0.0s\n",
      "[CV 5/5] END ...............max_depth=2, min_samples_leaf=30; total time=   0.0s\n",
      "[CV 1/5] END ...............max_depth=2, min_samples_leaf=40; total time=   0.0s\n",
      "[CV 2/5] END ...............max_depth=2, min_samples_leaf=40; total time=   0.0s\n",
      "[CV 3/5] END ...............max_depth=2, min_samples_leaf=40; total time=   0.0s\n",
      "[CV 4/5] END ...............max_depth=2, min_samples_leaf=40; total time=   0.0s\n",
      "[CV 5/5] END ...............max_depth=2, min_samples_leaf=40; total time=   0.0s\n",
      "[CV 1/5] END ...............max_depth=2, min_samples_leaf=50; total time=   0.0s\n",
      "[CV 2/5] END ...............max_depth=2, min_samples_leaf=50; total time=   0.0s\n",
      "[CV 3/5] END ...............max_depth=2, min_samples_leaf=50; total time=   0.0s\n",
      "[CV 4/5] END ...............max_depth=2, min_samples_leaf=50; total time=   0.0s\n",
      "[CV 5/5] END ...............max_depth=2, min_samples_leaf=50; total time=   0.0s\n",
      "[CV 1/5] END ...............max_depth=2, min_samples_leaf=60; total time=   0.0s\n",
      "[CV 2/5] END ...............max_depth=2, min_samples_leaf=60; total time=   0.0s\n",
      "[CV 3/5] END ...............max_depth=2, min_samples_leaf=60; total time=   0.0s\n",
      "[CV 4/5] END ...............max_depth=2, min_samples_leaf=60; total time=   0.0s\n",
      "[CV 5/5] END ...............max_depth=2, min_samples_leaf=60; total time=   0.0s\n",
      "[CV 1/5] END ...............max_depth=2, min_samples_leaf=70; total time=   0.0s\n",
      "[CV 2/5] END ...............max_depth=2, min_samples_leaf=70; total time=   0.0s\n",
      "[CV 3/5] END ...............max_depth=2, min_samples_leaf=70; total time=   0.0s\n",
      "[CV 4/5] END ...............max_depth=2, min_samples_leaf=70; total time=   0.0s\n",
      "[CV 5/5] END ...............max_depth=2, min_samples_leaf=70; total time=   0.0s\n",
      "[CV 1/5] END ...............max_depth=2, min_samples_leaf=80; total time=   0.0s\n",
      "[CV 2/5] END ...............max_depth=2, min_samples_leaf=80; total time=   0.0s\n",
      "[CV 3/5] END ...............max_depth=2, min_samples_leaf=80; total time=   0.0s\n",
      "[CV 4/5] END ...............max_depth=2, min_samples_leaf=80; total time=   0.0s\n",
      "[CV 5/5] END ...............max_depth=2, min_samples_leaf=80; total time=   0.0s\n",
      "[CV 1/5] END ...............max_depth=2, min_samples_leaf=90; total time=   0.0s\n",
      "[CV 2/5] END ...............max_depth=2, min_samples_leaf=90; total time=   0.0s\n",
      "[CV 3/5] END ...............max_depth=2, min_samples_leaf=90; total time=   0.0s\n",
      "[CV 4/5] END ...............max_depth=2, min_samples_leaf=90; total time=   0.0s\n",
      "[CV 5/5] END ...............max_depth=2, min_samples_leaf=90; total time=   0.0s\n",
      "[CV 1/5] END ..............max_depth=2, min_samples_leaf=100; total time=   0.0s\n",
      "[CV 2/5] END ..............max_depth=2, min_samples_leaf=100; total time=   0.0s\n",
      "[CV 3/5] END ..............max_depth=2, min_samples_leaf=100; total time=   0.0s\n",
      "[CV 4/5] END ..............max_depth=2, min_samples_leaf=100; total time=   0.0s\n",
      "[CV 5/5] END ..............max_depth=2, min_samples_leaf=100; total time=   0.0s\n",
      "[CV 1/5] END ...............max_depth=3, min_samples_leaf=10; total time=   0.0s\n",
      "[CV 2/5] END ...............max_depth=3, min_samples_leaf=10; total time=   0.0s\n",
      "[CV 3/5] END ...............max_depth=3, min_samples_leaf=10; total time=   0.0s\n",
      "[CV 4/5] END ...............max_depth=3, min_samples_leaf=10; total time=   0.0s\n",
      "[CV 5/5] END ...............max_depth=3, min_samples_leaf=10; total time=   0.0s\n",
      "[CV 1/5] END ...............max_depth=3, min_samples_leaf=20; total time=   0.0s\n",
      "[CV 2/5] END ...............max_depth=3, min_samples_leaf=20; total time=   0.0s\n",
      "[CV 3/5] END ...............max_depth=3, min_samples_leaf=20; total time=   0.0s\n",
      "[CV 4/5] END ...............max_depth=3, min_samples_leaf=20; total time=   0.0s\n",
      "[CV 5/5] END ...............max_depth=3, min_samples_leaf=20; total time=   0.0s\n",
      "[CV 1/5] END ...............max_depth=3, min_samples_leaf=30; total time=   0.0s\n",
      "[CV 2/5] END ...............max_depth=3, min_samples_leaf=30; total time=   0.0s\n",
      "[CV 3/5] END ...............max_depth=3, min_samples_leaf=30; total time=   0.0s\n",
      "[CV 4/5] END ...............max_depth=3, min_samples_leaf=30; total time=   0.0s\n"
     ]
    },
    {
     "name": "stdout",
     "output_type": "stream",
     "text": [
      "[CV 5/5] END ...............max_depth=3, min_samples_leaf=30; total time=   0.0s\n",
      "[CV 1/5] END ...............max_depth=3, min_samples_leaf=40; total time=   0.0s\n",
      "[CV 2/5] END ...............max_depth=3, min_samples_leaf=40; total time=   0.0s\n",
      "[CV 3/5] END ...............max_depth=3, min_samples_leaf=40; total time=   0.0s\n",
      "[CV 4/5] END ...............max_depth=3, min_samples_leaf=40; total time=   0.0s\n",
      "[CV 5/5] END ...............max_depth=3, min_samples_leaf=40; total time=   0.0s\n",
      "[CV 1/5] END ...............max_depth=3, min_samples_leaf=50; total time=   0.0s\n",
      "[CV 2/5] END ...............max_depth=3, min_samples_leaf=50; total time=   0.0s\n",
      "[CV 3/5] END ...............max_depth=3, min_samples_leaf=50; total time=   0.0s\n",
      "[CV 4/5] END ...............max_depth=3, min_samples_leaf=50; total time=   0.0s\n",
      "[CV 5/5] END ...............max_depth=3, min_samples_leaf=50; total time=   0.0s\n",
      "[CV 1/5] END ...............max_depth=3, min_samples_leaf=60; total time=   0.0s\n",
      "[CV 2/5] END ...............max_depth=3, min_samples_leaf=60; total time=   0.0s\n",
      "[CV 3/5] END ...............max_depth=3, min_samples_leaf=60; total time=   0.0s\n",
      "[CV 4/5] END ...............max_depth=3, min_samples_leaf=60; total time=   0.0s\n",
      "[CV 5/5] END ...............max_depth=3, min_samples_leaf=60; total time=   0.0s\n",
      "[CV 1/5] END ...............max_depth=3, min_samples_leaf=70; total time=   0.0s\n",
      "[CV 2/5] END ...............max_depth=3, min_samples_leaf=70; total time=   0.0s\n",
      "[CV 3/5] END ...............max_depth=3, min_samples_leaf=70; total time=   0.0s\n",
      "[CV 4/5] END ...............max_depth=3, min_samples_leaf=70; total time=   0.0s\n",
      "[CV 5/5] END ...............max_depth=3, min_samples_leaf=70; total time=   0.0s\n",
      "[CV 1/5] END ...............max_depth=3, min_samples_leaf=80; total time=   0.0s\n",
      "[CV 2/5] END ...............max_depth=3, min_samples_leaf=80; total time=   0.0s\n",
      "[CV 3/5] END ...............max_depth=3, min_samples_leaf=80; total time=   0.0s\n",
      "[CV 4/5] END ...............max_depth=3, min_samples_leaf=80; total time=   0.0s\n",
      "[CV 5/5] END ...............max_depth=3, min_samples_leaf=80; total time=   0.0s\n",
      "[CV 1/5] END ...............max_depth=3, min_samples_leaf=90; total time=   0.0s\n",
      "[CV 2/5] END ...............max_depth=3, min_samples_leaf=90; total time=   0.0s\n",
      "[CV 3/5] END ...............max_depth=3, min_samples_leaf=90; total time=   0.0s\n",
      "[CV 4/5] END ...............max_depth=3, min_samples_leaf=90; total time=   0.0s\n",
      "[CV 5/5] END ...............max_depth=3, min_samples_leaf=90; total time=   0.0s\n",
      "[CV 1/5] END ..............max_depth=3, min_samples_leaf=100; total time=   0.0s\n",
      "[CV 2/5] END ..............max_depth=3, min_samples_leaf=100; total time=   0.0s\n",
      "[CV 3/5] END ..............max_depth=3, min_samples_leaf=100; total time=   0.0s\n",
      "[CV 4/5] END ..............max_depth=3, min_samples_leaf=100; total time=   0.0s\n",
      "[CV 5/5] END ..............max_depth=3, min_samples_leaf=100; total time=   0.0s\n",
      "[CV 1/5] END ...............max_depth=4, min_samples_leaf=10; total time=   0.0s\n",
      "[CV 2/5] END ...............max_depth=4, min_samples_leaf=10; total time=   0.0s\n",
      "[CV 3/5] END ...............max_depth=4, min_samples_leaf=10; total time=   0.0s\n",
      "[CV 4/5] END ...............max_depth=4, min_samples_leaf=10; total time=   0.0s\n",
      "[CV 5/5] END ...............max_depth=4, min_samples_leaf=10; total time=   0.0s\n",
      "[CV 1/5] END ...............max_depth=4, min_samples_leaf=20; total time=   0.0s\n",
      "[CV 2/5] END ...............max_depth=4, min_samples_leaf=20; total time=   0.0s\n",
      "[CV 3/5] END ...............max_depth=4, min_samples_leaf=20; total time=   0.0s\n",
      "[CV 4/5] END ...............max_depth=4, min_samples_leaf=20; total time=   0.0s\n",
      "[CV 5/5] END ...............max_depth=4, min_samples_leaf=20; total time=   0.0s\n",
      "[CV 1/5] END ...............max_depth=4, min_samples_leaf=30; total time=   0.0s\n",
      "[CV 2/5] END ...............max_depth=4, min_samples_leaf=30; total time=   0.0s\n",
      "[CV 3/5] END ...............max_depth=4, min_samples_leaf=30; total time=   0.0s\n",
      "[CV 4/5] END ...............max_depth=4, min_samples_leaf=30; total time=   0.0s\n",
      "[CV 5/5] END ...............max_depth=4, min_samples_leaf=30; total time=   0.0s\n",
      "[CV 1/5] END ...............max_depth=4, min_samples_leaf=40; total time=   0.0s\n",
      "[CV 2/5] END ...............max_depth=4, min_samples_leaf=40; total time=   0.0s\n",
      "[CV 3/5] END ...............max_depth=4, min_samples_leaf=40; total time=   0.0s\n",
      "[CV 4/5] END ...............max_depth=4, min_samples_leaf=40; total time=   0.0s\n",
      "[CV 5/5] END ...............max_depth=4, min_samples_leaf=40; total time=   0.0s\n",
      "[CV 1/5] END ...............max_depth=4, min_samples_leaf=50; total time=   0.0s\n",
      "[CV 2/5] END ...............max_depth=4, min_samples_leaf=50; total time=   0.0s\n",
      "[CV 3/5] END ...............max_depth=4, min_samples_leaf=50; total time=   0.0s\n",
      "[CV 4/5] END ...............max_depth=4, min_samples_leaf=50; total time=   0.0s\n",
      "[CV 5/5] END ...............max_depth=4, min_samples_leaf=50; total time=   0.0s\n",
      "[CV 1/5] END ...............max_depth=4, min_samples_leaf=60; total time=   0.0s\n",
      "[CV 2/5] END ...............max_depth=4, min_samples_leaf=60; total time=   0.0s\n",
      "[CV 3/5] END ...............max_depth=4, min_samples_leaf=60; total time=   0.0s\n",
      "[CV 4/5] END ...............max_depth=4, min_samples_leaf=60; total time=   0.0s\n",
      "[CV 5/5] END ...............max_depth=4, min_samples_leaf=60; total time=   0.0s\n",
      "[CV 1/5] END ...............max_depth=4, min_samples_leaf=70; total time=   0.0s\n",
      "[CV 2/5] END ...............max_depth=4, min_samples_leaf=70; total time=   0.0s\n",
      "[CV 3/5] END ...............max_depth=4, min_samples_leaf=70; total time=   0.0s\n",
      "[CV 4/5] END ...............max_depth=4, min_samples_leaf=70; total time=   0.0s\n",
      "[CV 5/5] END ...............max_depth=4, min_samples_leaf=70; total time=   0.0s\n",
      "[CV 1/5] END ...............max_depth=4, min_samples_leaf=80; total time=   0.0s\n",
      "[CV 2/5] END ...............max_depth=4, min_samples_leaf=80; total time=   0.0s\n",
      "[CV 3/5] END ...............max_depth=4, min_samples_leaf=80; total time=   0.0s\n",
      "[CV 4/5] END ...............max_depth=4, min_samples_leaf=80; total time=   0.0s\n",
      "[CV 5/5] END ...............max_depth=4, min_samples_leaf=80; total time=   0.0s\n",
      "[CV 1/5] END ...............max_depth=4, min_samples_leaf=90; total time=   0.0s\n",
      "[CV 2/5] END ...............max_depth=4, min_samples_leaf=90; total time=   0.0s\n",
      "[CV 3/5] END ...............max_depth=4, min_samples_leaf=90; total time=   0.0s\n",
      "[CV 4/5] END ...............max_depth=4, min_samples_leaf=90; total time=   0.0s\n",
      "[CV 5/5] END ...............max_depth=4, min_samples_leaf=90; total time=   0.0s\n",
      "[CV 1/5] END ..............max_depth=4, min_samples_leaf=100; total time=   0.0s\n",
      "[CV 2/5] END ..............max_depth=4, min_samples_leaf=100; total time=   0.0s\n",
      "[CV 3/5] END ..............max_depth=4, min_samples_leaf=100; total time=   0.0s\n",
      "[CV 4/5] END ..............max_depth=4, min_samples_leaf=100; total time=   0.0s\n",
      "[CV 5/5] END ..............max_depth=4, min_samples_leaf=100; total time=   0.0s\n",
      "[CV 1/5] END ...............max_depth=5, min_samples_leaf=10; total time=   0.0s\n",
      "[CV 2/5] END ...............max_depth=5, min_samples_leaf=10; total time=   0.0s\n",
      "[CV 3/5] END ...............max_depth=5, min_samples_leaf=10; total time=   0.0s\n",
      "[CV 4/5] END ...............max_depth=5, min_samples_leaf=10; total time=   0.0s\n",
      "[CV 5/5] END ...............max_depth=5, min_samples_leaf=10; total time=   0.0s\n",
      "[CV 1/5] END ...............max_depth=5, min_samples_leaf=20; total time=   0.0s\n",
      "[CV 2/5] END ...............max_depth=5, min_samples_leaf=20; total time=   0.0s\n",
      "[CV 3/5] END ...............max_depth=5, min_samples_leaf=20; total time=   0.0s\n",
      "[CV 4/5] END ...............max_depth=5, min_samples_leaf=20; total time=   0.0s\n",
      "[CV 5/5] END ...............max_depth=5, min_samples_leaf=20; total time=   0.0s\n",
      "[CV 1/5] END ...............max_depth=5, min_samples_leaf=30; total time=   0.0s\n",
      "[CV 2/5] END ...............max_depth=5, min_samples_leaf=30; total time=   0.0s\n",
      "[CV 3/5] END ...............max_depth=5, min_samples_leaf=30; total time=   0.0s\n",
      "[CV 4/5] END ...............max_depth=5, min_samples_leaf=30; total time=   0.0s\n",
      "[CV 5/5] END ...............max_depth=5, min_samples_leaf=30; total time=   0.0s\n",
      "[CV 1/5] END ...............max_depth=5, min_samples_leaf=40; total time=   0.0s\n",
      "[CV 2/5] END ...............max_depth=5, min_samples_leaf=40; total time=   0.0s\n",
      "[CV 3/5] END ...............max_depth=5, min_samples_leaf=40; total time=   0.0s\n",
      "[CV 4/5] END ...............max_depth=5, min_samples_leaf=40; total time=   0.0s\n",
      "[CV 5/5] END ...............max_depth=5, min_samples_leaf=40; total time=   0.0s\n"
     ]
    },
    {
     "name": "stdout",
     "output_type": "stream",
     "text": [
      "[CV 1/5] END ...............max_depth=5, min_samples_leaf=50; total time=   0.0s\n",
      "[CV 2/5] END ...............max_depth=5, min_samples_leaf=50; total time=   0.0s\n",
      "[CV 3/5] END ...............max_depth=5, min_samples_leaf=50; total time=   0.0s\n",
      "[CV 4/5] END ...............max_depth=5, min_samples_leaf=50; total time=   0.0s\n",
      "[CV 5/5] END ...............max_depth=5, min_samples_leaf=50; total time=   0.0s\n",
      "[CV 1/5] END ...............max_depth=5, min_samples_leaf=60; total time=   0.0s\n",
      "[CV 2/5] END ...............max_depth=5, min_samples_leaf=60; total time=   0.0s\n",
      "[CV 3/5] END ...............max_depth=5, min_samples_leaf=60; total time=   0.0s\n",
      "[CV 4/5] END ...............max_depth=5, min_samples_leaf=60; total time=   0.0s\n",
      "[CV 5/5] END ...............max_depth=5, min_samples_leaf=60; total time=   0.0s\n",
      "[CV 1/5] END ...............max_depth=5, min_samples_leaf=70; total time=   0.0s\n",
      "[CV 2/5] END ...............max_depth=5, min_samples_leaf=70; total time=   0.0s\n",
      "[CV 3/5] END ...............max_depth=5, min_samples_leaf=70; total time=   0.0s\n",
      "[CV 4/5] END ...............max_depth=5, min_samples_leaf=70; total time=   0.0s\n",
      "[CV 5/5] END ...............max_depth=5, min_samples_leaf=70; total time=   0.0s\n",
      "[CV 1/5] END ...............max_depth=5, min_samples_leaf=80; total time=   0.0s\n",
      "[CV 2/5] END ...............max_depth=5, min_samples_leaf=80; total time=   0.0s\n",
      "[CV 3/5] END ...............max_depth=5, min_samples_leaf=80; total time=   0.0s\n",
      "[CV 4/5] END ...............max_depth=5, min_samples_leaf=80; total time=   0.0s\n",
      "[CV 5/5] END ...............max_depth=5, min_samples_leaf=80; total time=   0.0s\n",
      "[CV 1/5] END ...............max_depth=5, min_samples_leaf=90; total time=   0.0s\n",
      "[CV 2/5] END ...............max_depth=5, min_samples_leaf=90; total time=   0.0s\n",
      "[CV 3/5] END ...............max_depth=5, min_samples_leaf=90; total time=   0.0s\n",
      "[CV 4/5] END ...............max_depth=5, min_samples_leaf=90; total time=   0.0s\n",
      "[CV 5/5] END ...............max_depth=5, min_samples_leaf=90; total time=   0.0s\n",
      "[CV 1/5] END ..............max_depth=5, min_samples_leaf=100; total time=   0.0s\n",
      "[CV 2/5] END ..............max_depth=5, min_samples_leaf=100; total time=   0.0s\n",
      "[CV 3/5] END ..............max_depth=5, min_samples_leaf=100; total time=   0.0s\n",
      "[CV 4/5] END ..............max_depth=5, min_samples_leaf=100; total time=   0.0s\n",
      "[CV 5/5] END ..............max_depth=5, min_samples_leaf=100; total time=   0.0s\n",
      "[CV 1/5] END ...............max_depth=6, min_samples_leaf=10; total time=   0.0s\n",
      "[CV 2/5] END ...............max_depth=6, min_samples_leaf=10; total time=   0.0s\n",
      "[CV 3/5] END ...............max_depth=6, min_samples_leaf=10; total time=   0.0s\n",
      "[CV 4/5] END ...............max_depth=6, min_samples_leaf=10; total time=   0.0s\n",
      "[CV 5/5] END ...............max_depth=6, min_samples_leaf=10; total time=   0.0s\n",
      "[CV 1/5] END ...............max_depth=6, min_samples_leaf=20; total time=   0.0s\n",
      "[CV 2/5] END ...............max_depth=6, min_samples_leaf=20; total time=   0.0s\n",
      "[CV 3/5] END ...............max_depth=6, min_samples_leaf=20; total time=   0.0s\n",
      "[CV 4/5] END ...............max_depth=6, min_samples_leaf=20; total time=   0.0s\n",
      "[CV 5/5] END ...............max_depth=6, min_samples_leaf=20; total time=   0.0s\n",
      "[CV 1/5] END ...............max_depth=6, min_samples_leaf=30; total time=   0.0s\n",
      "[CV 2/5] END ...............max_depth=6, min_samples_leaf=30; total time=   0.0s\n",
      "[CV 3/5] END ...............max_depth=6, min_samples_leaf=30; total time=   0.0s\n",
      "[CV 4/5] END ...............max_depth=6, min_samples_leaf=30; total time=   0.0s\n",
      "[CV 5/5] END ...............max_depth=6, min_samples_leaf=30; total time=   0.0s\n",
      "[CV 1/5] END ...............max_depth=6, min_samples_leaf=40; total time=   0.0s\n",
      "[CV 2/5] END ...............max_depth=6, min_samples_leaf=40; total time=   0.0s\n",
      "[CV 3/5] END ...............max_depth=6, min_samples_leaf=40; total time=   0.0s\n",
      "[CV 4/5] END ...............max_depth=6, min_samples_leaf=40; total time=   0.0s\n",
      "[CV 5/5] END ...............max_depth=6, min_samples_leaf=40; total time=   0.0s\n",
      "[CV 1/5] END ...............max_depth=6, min_samples_leaf=50; total time=   0.0s\n",
      "[CV 2/5] END ...............max_depth=6, min_samples_leaf=50; total time=   0.0s\n",
      "[CV 3/5] END ...............max_depth=6, min_samples_leaf=50; total time=   0.0s\n",
      "[CV 4/5] END ...............max_depth=6, min_samples_leaf=50; total time=   0.0s\n",
      "[CV 5/5] END ...............max_depth=6, min_samples_leaf=50; total time=   0.0s\n",
      "[CV 1/5] END ...............max_depth=6, min_samples_leaf=60; total time=   0.0s\n",
      "[CV 2/5] END ...............max_depth=6, min_samples_leaf=60; total time=   0.0s\n",
      "[CV 3/5] END ...............max_depth=6, min_samples_leaf=60; total time=   0.0s\n",
      "[CV 4/5] END ...............max_depth=6, min_samples_leaf=60; total time=   0.0s\n",
      "[CV 5/5] END ...............max_depth=6, min_samples_leaf=60; total time=   0.0s\n",
      "[CV 1/5] END ...............max_depth=6, min_samples_leaf=70; total time=   0.0s\n",
      "[CV 2/5] END ...............max_depth=6, min_samples_leaf=70; total time=   0.0s\n",
      "[CV 3/5] END ...............max_depth=6, min_samples_leaf=70; total time=   0.0s\n",
      "[CV 4/5] END ...............max_depth=6, min_samples_leaf=70; total time=   0.0s\n",
      "[CV 5/5] END ...............max_depth=6, min_samples_leaf=70; total time=   0.0s\n",
      "[CV 1/5] END ...............max_depth=6, min_samples_leaf=80; total time=   0.0s\n",
      "[CV 2/5] END ...............max_depth=6, min_samples_leaf=80; total time=   0.0s\n",
      "[CV 3/5] END ...............max_depth=6, min_samples_leaf=80; total time=   0.0s\n",
      "[CV 4/5] END ...............max_depth=6, min_samples_leaf=80; total time=   0.0s\n",
      "[CV 5/5] END ...............max_depth=6, min_samples_leaf=80; total time=   0.0s\n",
      "[CV 1/5] END ...............max_depth=6, min_samples_leaf=90; total time=   0.0s\n",
      "[CV 2/5] END ...............max_depth=6, min_samples_leaf=90; total time=   0.0s\n",
      "[CV 3/5] END ...............max_depth=6, min_samples_leaf=90; total time=   0.0s\n",
      "[CV 4/5] END ...............max_depth=6, min_samples_leaf=90; total time=   0.0s\n",
      "[CV 5/5] END ...............max_depth=6, min_samples_leaf=90; total time=   0.0s\n",
      "[CV 1/5] END ..............max_depth=6, min_samples_leaf=100; total time=   0.0s\n",
      "[CV 2/5] END ..............max_depth=6, min_samples_leaf=100; total time=   0.0s\n",
      "[CV 3/5] END ..............max_depth=6, min_samples_leaf=100; total time=   0.0s\n",
      "[CV 4/5] END ..............max_depth=6, min_samples_leaf=100; total time=   0.0s\n",
      "[CV 5/5] END ..............max_depth=6, min_samples_leaf=100; total time=   0.0s\n",
      "[CV 1/5] END ...............max_depth=7, min_samples_leaf=10; total time=   0.0s\n",
      "[CV 2/5] END ...............max_depth=7, min_samples_leaf=10; total time=   0.0s\n",
      "[CV 3/5] END ...............max_depth=7, min_samples_leaf=10; total time=   0.0s\n",
      "[CV 4/5] END ...............max_depth=7, min_samples_leaf=10; total time=   0.0s\n",
      "[CV 5/5] END ...............max_depth=7, min_samples_leaf=10; total time=   0.0s\n",
      "[CV 1/5] END ...............max_depth=7, min_samples_leaf=20; total time=   0.0s\n",
      "[CV 2/5] END ...............max_depth=7, min_samples_leaf=20; total time=   0.0s\n",
      "[CV 3/5] END ...............max_depth=7, min_samples_leaf=20; total time=   0.0s\n",
      "[CV 4/5] END ...............max_depth=7, min_samples_leaf=20; total time=   0.0s\n",
      "[CV 5/5] END ...............max_depth=7, min_samples_leaf=20; total time=   0.0s\n",
      "[CV 1/5] END ...............max_depth=7, min_samples_leaf=30; total time=   0.0s\n",
      "[CV 2/5] END ...............max_depth=7, min_samples_leaf=30; total time=   0.0s\n",
      "[CV 3/5] END ...............max_depth=7, min_samples_leaf=30; total time=   0.0s\n",
      "[CV 4/5] END ...............max_depth=7, min_samples_leaf=30; total time=   0.0s\n",
      "[CV 5/5] END ...............max_depth=7, min_samples_leaf=30; total time=   0.0s\n",
      "[CV 1/5] END ...............max_depth=7, min_samples_leaf=40; total time=   0.0s\n",
      "[CV 2/5] END ...............max_depth=7, min_samples_leaf=40; total time=   0.0s\n",
      "[CV 3/5] END ...............max_depth=7, min_samples_leaf=40; total time=   0.0s\n",
      "[CV 4/5] END ...............max_depth=7, min_samples_leaf=40; total time=   0.0s\n",
      "[CV 5/5] END ...............max_depth=7, min_samples_leaf=40; total time=   0.0s\n",
      "[CV 1/5] END ...............max_depth=7, min_samples_leaf=50; total time=   0.0s\n",
      "[CV 2/5] END ...............max_depth=7, min_samples_leaf=50; total time=   0.0s\n",
      "[CV 3/5] END ...............max_depth=7, min_samples_leaf=50; total time=   0.0s\n",
      "[CV 4/5] END ...............max_depth=7, min_samples_leaf=50; total time=   0.0s\n",
      "[CV 5/5] END ...............max_depth=7, min_samples_leaf=50; total time=   0.0s\n",
      "[CV 1/5] END ...............max_depth=7, min_samples_leaf=60; total time=   0.0s\n",
      "[CV 2/5] END ...............max_depth=7, min_samples_leaf=60; total time=   0.0s\n"
     ]
    },
    {
     "name": "stdout",
     "output_type": "stream",
     "text": [
      "[CV 3/5] END ...............max_depth=7, min_samples_leaf=60; total time=   0.0s\n",
      "[CV 4/5] END ...............max_depth=7, min_samples_leaf=60; total time=   0.0s\n",
      "[CV 5/5] END ...............max_depth=7, min_samples_leaf=60; total time=   0.0s\n",
      "[CV 1/5] END ...............max_depth=7, min_samples_leaf=70; total time=   0.0s\n",
      "[CV 2/5] END ...............max_depth=7, min_samples_leaf=70; total time=   0.0s\n",
      "[CV 3/5] END ...............max_depth=7, min_samples_leaf=70; total time=   0.0s\n",
      "[CV 4/5] END ...............max_depth=7, min_samples_leaf=70; total time=   0.0s\n",
      "[CV 5/5] END ...............max_depth=7, min_samples_leaf=70; total time=   0.0s\n",
      "[CV 1/5] END ...............max_depth=7, min_samples_leaf=80; total time=   0.0s\n",
      "[CV 2/5] END ...............max_depth=7, min_samples_leaf=80; total time=   0.0s\n",
      "[CV 3/5] END ...............max_depth=7, min_samples_leaf=80; total time=   0.0s\n",
      "[CV 4/5] END ...............max_depth=7, min_samples_leaf=80; total time=   0.0s\n",
      "[CV 5/5] END ...............max_depth=7, min_samples_leaf=80; total time=   0.0s\n",
      "[CV 1/5] END ...............max_depth=7, min_samples_leaf=90; total time=   0.0s\n",
      "[CV 2/5] END ...............max_depth=7, min_samples_leaf=90; total time=   0.0s\n",
      "[CV 3/5] END ...............max_depth=7, min_samples_leaf=90; total time=   0.0s\n",
      "[CV 4/5] END ...............max_depth=7, min_samples_leaf=90; total time=   0.0s\n",
      "[CV 5/5] END ...............max_depth=7, min_samples_leaf=90; total time=   0.0s\n",
      "[CV 1/5] END ..............max_depth=7, min_samples_leaf=100; total time=   0.0s\n",
      "[CV 2/5] END ..............max_depth=7, min_samples_leaf=100; total time=   0.0s\n",
      "[CV 3/5] END ..............max_depth=7, min_samples_leaf=100; total time=   0.0s\n",
      "[CV 4/5] END ..............max_depth=7, min_samples_leaf=100; total time=   0.0s\n",
      "[CV 5/5] END ..............max_depth=7, min_samples_leaf=100; total time=   0.0s\n",
      "[CV 1/5] END ...............max_depth=8, min_samples_leaf=10; total time=   0.0s\n",
      "[CV 2/5] END ...............max_depth=8, min_samples_leaf=10; total time=   0.0s\n",
      "[CV 3/5] END ...............max_depth=8, min_samples_leaf=10; total time=   0.0s\n",
      "[CV 4/5] END ...............max_depth=8, min_samples_leaf=10; total time=   0.0s\n",
      "[CV 5/5] END ...............max_depth=8, min_samples_leaf=10; total time=   0.0s\n",
      "[CV 1/5] END ...............max_depth=8, min_samples_leaf=20; total time=   0.0s\n",
      "[CV 2/5] END ...............max_depth=8, min_samples_leaf=20; total time=   0.0s\n",
      "[CV 3/5] END ...............max_depth=8, min_samples_leaf=20; total time=   0.0s\n",
      "[CV 4/5] END ...............max_depth=8, min_samples_leaf=20; total time=   0.0s\n",
      "[CV 5/5] END ...............max_depth=8, min_samples_leaf=20; total time=   0.0s\n",
      "[CV 1/5] END ...............max_depth=8, min_samples_leaf=30; total time=   0.0s\n",
      "[CV 2/5] END ...............max_depth=8, min_samples_leaf=30; total time=   0.0s\n",
      "[CV 3/5] END ...............max_depth=8, min_samples_leaf=30; total time=   0.0s\n",
      "[CV 4/5] END ...............max_depth=8, min_samples_leaf=30; total time=   0.0s\n",
      "[CV 5/5] END ...............max_depth=8, min_samples_leaf=30; total time=   0.0s\n",
      "[CV 1/5] END ...............max_depth=8, min_samples_leaf=40; total time=   0.0s\n",
      "[CV 2/5] END ...............max_depth=8, min_samples_leaf=40; total time=   0.0s\n",
      "[CV 3/5] END ...............max_depth=8, min_samples_leaf=40; total time=   0.0s\n",
      "[CV 4/5] END ...............max_depth=8, min_samples_leaf=40; total time=   0.0s\n",
      "[CV 5/5] END ...............max_depth=8, min_samples_leaf=40; total time=   0.0s\n",
      "[CV 1/5] END ...............max_depth=8, min_samples_leaf=50; total time=   0.0s\n",
      "[CV 2/5] END ...............max_depth=8, min_samples_leaf=50; total time=   0.0s\n",
      "[CV 3/5] END ...............max_depth=8, min_samples_leaf=50; total time=   0.0s\n",
      "[CV 4/5] END ...............max_depth=8, min_samples_leaf=50; total time=   0.0s\n",
      "[CV 5/5] END ...............max_depth=8, min_samples_leaf=50; total time=   0.0s\n",
      "[CV 1/5] END ...............max_depth=8, min_samples_leaf=60; total time=   0.0s\n",
      "[CV 2/5] END ...............max_depth=8, min_samples_leaf=60; total time=   0.0s\n",
      "[CV 3/5] END ...............max_depth=8, min_samples_leaf=60; total time=   0.0s\n",
      "[CV 4/5] END ...............max_depth=8, min_samples_leaf=60; total time=   0.0s\n",
      "[CV 5/5] END ...............max_depth=8, min_samples_leaf=60; total time=   0.0s\n",
      "[CV 1/5] END ...............max_depth=8, min_samples_leaf=70; total time=   0.0s\n",
      "[CV 2/5] END ...............max_depth=8, min_samples_leaf=70; total time=   0.0s\n",
      "[CV 3/5] END ...............max_depth=8, min_samples_leaf=70; total time=   0.0s\n",
      "[CV 4/5] END ...............max_depth=8, min_samples_leaf=70; total time=   0.0s\n",
      "[CV 5/5] END ...............max_depth=8, min_samples_leaf=70; total time=   0.0s\n",
      "[CV 1/5] END ...............max_depth=8, min_samples_leaf=80; total time=   0.0s\n",
      "[CV 2/5] END ...............max_depth=8, min_samples_leaf=80; total time=   0.0s\n",
      "[CV 3/5] END ...............max_depth=8, min_samples_leaf=80; total time=   0.0s\n",
      "[CV 4/5] END ...............max_depth=8, min_samples_leaf=80; total time=   0.0s\n",
      "[CV 5/5] END ...............max_depth=8, min_samples_leaf=80; total time=   0.0s\n",
      "[CV 1/5] END ...............max_depth=8, min_samples_leaf=90; total time=   0.0s\n",
      "[CV 2/5] END ...............max_depth=8, min_samples_leaf=90; total time=   0.0s\n",
      "[CV 3/5] END ...............max_depth=8, min_samples_leaf=90; total time=   0.0s\n",
      "[CV 4/5] END ...............max_depth=8, min_samples_leaf=90; total time=   0.0s\n",
      "[CV 5/5] END ...............max_depth=8, min_samples_leaf=90; total time=   0.0s\n",
      "[CV 1/5] END ..............max_depth=8, min_samples_leaf=100; total time=   0.0s\n",
      "[CV 2/5] END ..............max_depth=8, min_samples_leaf=100; total time=   0.0s\n",
      "[CV 3/5] END ..............max_depth=8, min_samples_leaf=100; total time=   0.0s\n",
      "[CV 4/5] END ..............max_depth=8, min_samples_leaf=100; total time=   0.0s\n",
      "[CV 5/5] END ..............max_depth=8, min_samples_leaf=100; total time=   0.0s\n",
      "[CV 1/5] END ...............max_depth=9, min_samples_leaf=10; total time=   0.0s\n",
      "[CV 2/5] END ...............max_depth=9, min_samples_leaf=10; total time=   0.0s\n",
      "[CV 3/5] END ...............max_depth=9, min_samples_leaf=10; total time=   0.0s\n",
      "[CV 4/5] END ...............max_depth=9, min_samples_leaf=10; total time=   0.0s\n",
      "[CV 5/5] END ...............max_depth=9, min_samples_leaf=10; total time=   0.0s\n",
      "[CV 1/5] END ...............max_depth=9, min_samples_leaf=20; total time=   0.0s\n",
      "[CV 2/5] END ...............max_depth=9, min_samples_leaf=20; total time=   0.0s\n",
      "[CV 3/5] END ...............max_depth=9, min_samples_leaf=20; total time=   0.0s\n",
      "[CV 4/5] END ...............max_depth=9, min_samples_leaf=20; total time=   0.0s\n",
      "[CV 5/5] END ...............max_depth=9, min_samples_leaf=20; total time=   0.0s\n",
      "[CV 1/5] END ...............max_depth=9, min_samples_leaf=30; total time=   0.0s\n",
      "[CV 2/5] END ...............max_depth=9, min_samples_leaf=30; total time=   0.0s\n",
      "[CV 3/5] END ...............max_depth=9, min_samples_leaf=30; total time=   0.0s\n",
      "[CV 4/5] END ...............max_depth=9, min_samples_leaf=30; total time=   0.0s\n",
      "[CV 5/5] END ...............max_depth=9, min_samples_leaf=30; total time=   0.0s\n",
      "[CV 1/5] END ...............max_depth=9, min_samples_leaf=40; total time=   0.0s\n",
      "[CV 2/5] END ...............max_depth=9, min_samples_leaf=40; total time=   0.0s\n",
      "[CV 3/5] END ...............max_depth=9, min_samples_leaf=40; total time=   0.0s\n",
      "[CV 4/5] END ...............max_depth=9, min_samples_leaf=40; total time=   0.0s\n",
      "[CV 5/5] END ...............max_depth=9, min_samples_leaf=40; total time=   0.0s\n",
      "[CV 1/5] END ...............max_depth=9, min_samples_leaf=50; total time=   0.0s\n",
      "[CV 2/5] END ...............max_depth=9, min_samples_leaf=50; total time=   0.0s\n",
      "[CV 3/5] END ...............max_depth=9, min_samples_leaf=50; total time=   0.0s\n",
      "[CV 4/5] END ...............max_depth=9, min_samples_leaf=50; total time=   0.0s\n",
      "[CV 5/5] END ...............max_depth=9, min_samples_leaf=50; total time=   0.0s\n",
      "[CV 1/5] END ...............max_depth=9, min_samples_leaf=60; total time=   0.0s\n",
      "[CV 2/5] END ...............max_depth=9, min_samples_leaf=60; total time=   0.0s\n",
      "[CV 3/5] END ...............max_depth=9, min_samples_leaf=60; total time=   0.0s\n",
      "[CV 4/5] END ...............max_depth=9, min_samples_leaf=60; total time=   0.0s\n",
      "[CV 5/5] END ...............max_depth=9, min_samples_leaf=60; total time=   0.0s\n",
      "[CV 1/5] END ...............max_depth=9, min_samples_leaf=70; total time=   0.0s\n",
      "[CV 2/5] END ...............max_depth=9, min_samples_leaf=70; total time=   0.0s\n"
     ]
    },
    {
     "name": "stdout",
     "output_type": "stream",
     "text": [
      "[CV 3/5] END ...............max_depth=9, min_samples_leaf=70; total time=   0.0s\n",
      "[CV 4/5] END ...............max_depth=9, min_samples_leaf=70; total time=   0.0s\n",
      "[CV 5/5] END ...............max_depth=9, min_samples_leaf=70; total time=   0.0s\n",
      "[CV 1/5] END ...............max_depth=9, min_samples_leaf=80; total time=   0.0s\n",
      "[CV 2/5] END ...............max_depth=9, min_samples_leaf=80; total time=   0.0s\n",
      "[CV 3/5] END ...............max_depth=9, min_samples_leaf=80; total time=   0.0s\n",
      "[CV 4/5] END ...............max_depth=9, min_samples_leaf=80; total time=   0.0s\n",
      "[CV 5/5] END ...............max_depth=9, min_samples_leaf=80; total time=   0.0s\n",
      "[CV 1/5] END ...............max_depth=9, min_samples_leaf=90; total time=   0.0s\n",
      "[CV 2/5] END ...............max_depth=9, min_samples_leaf=90; total time=   0.0s\n",
      "[CV 3/5] END ...............max_depth=9, min_samples_leaf=90; total time=   0.0s\n",
      "[CV 4/5] END ...............max_depth=9, min_samples_leaf=90; total time=   0.0s\n",
      "[CV 5/5] END ...............max_depth=9, min_samples_leaf=90; total time=   0.0s\n",
      "[CV 1/5] END ..............max_depth=9, min_samples_leaf=100; total time=   0.0s\n",
      "[CV 2/5] END ..............max_depth=9, min_samples_leaf=100; total time=   0.0s\n",
      "[CV 3/5] END ..............max_depth=9, min_samples_leaf=100; total time=   0.0s\n",
      "[CV 4/5] END ..............max_depth=9, min_samples_leaf=100; total time=   0.0s\n",
      "[CV 5/5] END ..............max_depth=9, min_samples_leaf=100; total time=   0.0s\n"
     ]
    },
    {
     "data": {
      "text/plain": [
       "GridSearchCV(cv=5, estimator=DecisionTreeClassifier(),\n",
       "             param_grid={'max_depth': range(1, 10),\n",
       "                         'min_samples_leaf': range(10, 101, 10)},\n",
       "             verbose=3)"
      ]
     },
     "execution_count": 63,
     "metadata": {},
     "output_type": "execute_result"
    }
   ],
   "source": [
    "model_gs.fit(x_train,y_train)"
   ]
  },
  {
   "cell_type": "code",
   "execution_count": 64,
   "metadata": {
    "id": "He7AMq8f7kz5"
   },
   "outputs": [
    {
     "data": {
      "text/plain": [
       "{'mean_fit_time': array([0.00778246, 0.00538464, 0.00585284, 0.00918469, 0.00944052,\n",
       "        0.00594869, 0.00569906, 0.00682745, 0.00561275, 0.00633297,\n",
       "        0.0074883 , 0.00816298, 0.00942178, 0.00733948, 0.00710788,\n",
       "        0.00755939, 0.01126833, 0.0137321 , 0.01021299, 0.01159892,\n",
       "        0.00907764, 0.00936837, 0.00977397, 0.01190619, 0.01206374,\n",
       "        0.00966787, 0.00929089, 0.00840902, 0.01007295, 0.01034322,\n",
       "        0.01401668, 0.01130767, 0.01057944, 0.0137249 , 0.01116333,\n",
       "        0.01041651, 0.01063037, 0.01453433, 0.01045303, 0.01218657,\n",
       "        0.01414766, 0.01534381, 0.0131022 , 0.01529183, 0.01471157,\n",
       "        0.01146741, 0.0143322 , 0.01338406, 0.01356902, 0.01453218,\n",
       "        0.01355762, 0.01341095, 0.0170959 , 0.01603479, 0.01575832,\n",
       "        0.01594677, 0.01463284, 0.01663413, 0.01234231, 0.01598024,\n",
       "        0.0169416 , 0.01900287, 0.02201428, 0.01776233, 0.0182631 ,\n",
       "        0.01607785, 0.01554976, 0.01365919, 0.01293349, 0.01627812,\n",
       "        0.01847181, 0.01765337, 0.01796789, 0.01918249, 0.01597195,\n",
       "        0.01677761, 0.02071052, 0.02312984, 0.0145534 , 0.01795216,\n",
       "        0.02115164, 0.01817107, 0.01731467, 0.01985869, 0.02120113,\n",
       "        0.01506681, 0.01520066, 0.01312995, 0.01384153, 0.01464334]),\n",
       " 'std_fit_time': array([0.00102493, 0.00039783, 0.000433  , 0.00094292, 0.00313291,\n",
       "        0.0006573 , 0.000781  , 0.00097758, 0.00049891, 0.00106343,\n",
       "        0.00153456, 0.00119183, 0.00140779, 0.00056664, 0.00047966,\n",
       "        0.00133681, 0.00113164, 0.00240588, 0.00126654, 0.00392016,\n",
       "        0.00130398, 0.00063599, 0.00158078, 0.00277038, 0.00446849,\n",
       "        0.00099978, 0.0009152 , 0.00080697, 0.00148554, 0.00064898,\n",
       "        0.00491759, 0.00260211, 0.00037707, 0.00231078, 0.00119276,\n",
       "        0.00087991, 0.00105273, 0.00498747, 0.00128574, 0.004188  ,\n",
       "        0.00043788, 0.00191968, 0.00028979, 0.00397552, 0.00238648,\n",
       "        0.00083099, 0.00230047, 0.00191148, 0.00434248, 0.00446182,\n",
       "        0.0006147 , 0.00231046, 0.00531281, 0.00276712, 0.00266758,\n",
       "        0.00125456, 0.0011905 , 0.0012834 , 0.00132584, 0.0051876 ,\n",
       "        0.00191137, 0.00215457, 0.00618483, 0.00144365, 0.00450229,\n",
       "        0.00180998, 0.00206903, 0.00099144, 0.00114666, 0.00230408,\n",
       "        0.00139564, 0.00097846, 0.00200907, 0.0041274 , 0.00073537,\n",
       "        0.00192307, 0.00307741, 0.00420633, 0.00143304, 0.00650678,\n",
       "        0.0009289 , 0.00050797, 0.00128814, 0.00393905, 0.00610004,\n",
       "        0.00060651, 0.00217818, 0.00040109, 0.0010938 , 0.00353934]),\n",
       " 'mean_score_time': array([0.00276613, 0.0020267 , 0.00284147, 0.00598226, 0.00245686,\n",
       "        0.00224462, 0.00166564, 0.00255241, 0.00219913, 0.00215693,\n",
       "        0.0025425 , 0.00239725, 0.00239272, 0.00241756, 0.00274539,\n",
       "        0.00292702, 0.00417004, 0.0070962 , 0.0033093 , 0.00323744,\n",
       "        0.00239172, 0.00263734, 0.00291362, 0.002812  , 0.00300655,\n",
       "        0.00253181, 0.00198684, 0.00234866, 0.0045321 , 0.00360785,\n",
       "        0.00218782, 0.00268202, 0.0024188 , 0.00397425, 0.00252156,\n",
       "        0.00238371, 0.00217671, 0.00267773, 0.00240088, 0.00230165,\n",
       "        0.00250344, 0.00225997, 0.00280066, 0.00259938, 0.00204043,\n",
       "        0.00226479, 0.00334158, 0.00200815, 0.00272532, 0.0028945 ,\n",
       "        0.00198836, 0.00262756, 0.00256424, 0.0027492 , 0.00613556,\n",
       "        0.00247483, 0.00340018, 0.00339098, 0.00274596, 0.00219793,\n",
       "        0.00321093, 0.00494747, 0.00298257, 0.00356035, 0.00309019,\n",
       "        0.00259132, 0.00500669, 0.00493712, 0.00235438, 0.00254588,\n",
       "        0.00470572, 0.00235887, 0.00415511, 0.00401616, 0.00250664,\n",
       "        0.00341697, 0.007126  , 0.00567532, 0.00288501, 0.00372519,\n",
       "        0.00254464, 0.00263376, 0.00322433, 0.00351329, 0.00359106,\n",
       "        0.00237985, 0.00285311, 0.00280771, 0.00238185, 0.00293603]),\n",
       " 'std_score_time': array([4.26234091e-04, 4.83687513e-04, 8.98367964e-04, 3.04907933e-03,\n",
       "        4.16628138e-04, 5.53866436e-04, 4.25145170e-04, 5.34589847e-04,\n",
       "        3.78813058e-04, 2.35481211e-04, 9.22199181e-04, 5.01513635e-04,\n",
       "        4.90020944e-04, 7.74940927e-04, 7.65486311e-04, 6.46494957e-04,\n",
       "        6.90546850e-04, 2.93501228e-03, 5.76639382e-04, 9.31766130e-04,\n",
       "        5.11003928e-04, 1.02489349e-03, 6.84200520e-04, 2.08098838e-04,\n",
       "        5.61479481e-04, 7.76515475e-04, 6.10735605e-04, 5.44067708e-04,\n",
       "        4.02374165e-03, 2.13178759e-03, 4.02423741e-04, 5.99639030e-04,\n",
       "        5.38000775e-04, 1.07890940e-03, 4.34942862e-04, 4.16569947e-04,\n",
       "        3.76772282e-04, 8.42788241e-04, 5.47927891e-04, 4.08256307e-04,\n",
       "        5.25278420e-04, 9.69661862e-04, 1.11184281e-03, 4.41345534e-04,\n",
       "        6.95911773e-05, 4.10368352e-04, 1.66618810e-03, 1.12349554e-05,\n",
       "        9.26433444e-04, 1.60191597e-03, 1.14365394e-05, 5.97848027e-04,\n",
       "        4.66897226e-04, 7.23557330e-04, 6.37937078e-03, 4.50698536e-04,\n",
       "        4.87680447e-04, 4.88464579e-04, 7.17831577e-04, 3.97087368e-04,\n",
       "        7.51549890e-04, 2.87257345e-03, 1.92455010e-04, 1.23806798e-03,\n",
       "        1.32242596e-03, 4.92387586e-04, 2.59715920e-03, 3.91201253e-03,\n",
       "        5.26529325e-04, 4.14332897e-04, 3.39655543e-03, 5.49361178e-04,\n",
       "        2.81995421e-03, 8.17916638e-04, 4.61199246e-04, 8.86369485e-04,\n",
       "        5.78625415e-03, 2.40167235e-03, 1.72599349e-04, 7.20217606e-04,\n",
       "        4.90655519e-04, 5.32909620e-04, 8.10865175e-04, 6.38720061e-04,\n",
       "        7.97629732e-04, 3.61840625e-04, 7.56849592e-04, 7.59883686e-04,\n",
       "        4.98820201e-04, 6.08282449e-04]),\n",
       " 'param_max_depth': masked_array(data=[1, 1, 1, 1, 1, 1, 1, 1, 1, 1, 2, 2, 2, 2, 2, 2, 2, 2,\n",
       "                    2, 2, 3, 3, 3, 3, 3, 3, 3, 3, 3, 3, 4, 4, 4, 4, 4, 4,\n",
       "                    4, 4, 4, 4, 5, 5, 5, 5, 5, 5, 5, 5, 5, 5, 6, 6, 6, 6,\n",
       "                    6, 6, 6, 6, 6, 6, 7, 7, 7, 7, 7, 7, 7, 7, 7, 7, 8, 8,\n",
       "                    8, 8, 8, 8, 8, 8, 8, 8, 9, 9, 9, 9, 9, 9, 9, 9, 9, 9],\n",
       "              mask=[False, False, False, False, False, False, False, False,\n",
       "                    False, False, False, False, False, False, False, False,\n",
       "                    False, False, False, False, False, False, False, False,\n",
       "                    False, False, False, False, False, False, False, False,\n",
       "                    False, False, False, False, False, False, False, False,\n",
       "                    False, False, False, False, False, False, False, False,\n",
       "                    False, False, False, False, False, False, False, False,\n",
       "                    False, False, False, False, False, False, False, False,\n",
       "                    False, False, False, False, False, False, False, False,\n",
       "                    False, False, False, False, False, False, False, False,\n",
       "                    False, False, False, False, False, False, False, False,\n",
       "                    False, False],\n",
       "        fill_value='?',\n",
       "             dtype=object),\n",
       " 'param_min_samples_leaf': masked_array(data=[10, 20, 30, 40, 50, 60, 70, 80, 90, 100, 10, 20, 30,\n",
       "                    40, 50, 60, 70, 80, 90, 100, 10, 20, 30, 40, 50, 60,\n",
       "                    70, 80, 90, 100, 10, 20, 30, 40, 50, 60, 70, 80, 90,\n",
       "                    100, 10, 20, 30, 40, 50, 60, 70, 80, 90, 100, 10, 20,\n",
       "                    30, 40, 50, 60, 70, 80, 90, 100, 10, 20, 30, 40, 50,\n",
       "                    60, 70, 80, 90, 100, 10, 20, 30, 40, 50, 60, 70, 80,\n",
       "                    90, 100, 10, 20, 30, 40, 50, 60, 70, 80, 90, 100],\n",
       "              mask=[False, False, False, False, False, False, False, False,\n",
       "                    False, False, False, False, False, False, False, False,\n",
       "                    False, False, False, False, False, False, False, False,\n",
       "                    False, False, False, False, False, False, False, False,\n",
       "                    False, False, False, False, False, False, False, False,\n",
       "                    False, False, False, False, False, False, False, False,\n",
       "                    False, False, False, False, False, False, False, False,\n",
       "                    False, False, False, False, False, False, False, False,\n",
       "                    False, False, False, False, False, False, False, False,\n",
       "                    False, False, False, False, False, False, False, False,\n",
       "                    False, False, False, False, False, False, False, False,\n",
       "                    False, False],\n",
       "        fill_value='?',\n",
       "             dtype=object),\n",
       " 'params': [{'max_depth': 1, 'min_samples_leaf': 10},\n",
       "  {'max_depth': 1, 'min_samples_leaf': 20},\n",
       "  {'max_depth': 1, 'min_samples_leaf': 30},\n",
       "  {'max_depth': 1, 'min_samples_leaf': 40},\n",
       "  {'max_depth': 1, 'min_samples_leaf': 50},\n",
       "  {'max_depth': 1, 'min_samples_leaf': 60},\n",
       "  {'max_depth': 1, 'min_samples_leaf': 70},\n",
       "  {'max_depth': 1, 'min_samples_leaf': 80},\n",
       "  {'max_depth': 1, 'min_samples_leaf': 90},\n",
       "  {'max_depth': 1, 'min_samples_leaf': 100},\n",
       "  {'max_depth': 2, 'min_samples_leaf': 10},\n",
       "  {'max_depth': 2, 'min_samples_leaf': 20},\n",
       "  {'max_depth': 2, 'min_samples_leaf': 30},\n",
       "  {'max_depth': 2, 'min_samples_leaf': 40},\n",
       "  {'max_depth': 2, 'min_samples_leaf': 50},\n",
       "  {'max_depth': 2, 'min_samples_leaf': 60},\n",
       "  {'max_depth': 2, 'min_samples_leaf': 70},\n",
       "  {'max_depth': 2, 'min_samples_leaf': 80},\n",
       "  {'max_depth': 2, 'min_samples_leaf': 90},\n",
       "  {'max_depth': 2, 'min_samples_leaf': 100},\n",
       "  {'max_depth': 3, 'min_samples_leaf': 10},\n",
       "  {'max_depth': 3, 'min_samples_leaf': 20},\n",
       "  {'max_depth': 3, 'min_samples_leaf': 30},\n",
       "  {'max_depth': 3, 'min_samples_leaf': 40},\n",
       "  {'max_depth': 3, 'min_samples_leaf': 50},\n",
       "  {'max_depth': 3, 'min_samples_leaf': 60},\n",
       "  {'max_depth': 3, 'min_samples_leaf': 70},\n",
       "  {'max_depth': 3, 'min_samples_leaf': 80},\n",
       "  {'max_depth': 3, 'min_samples_leaf': 90},\n",
       "  {'max_depth': 3, 'min_samples_leaf': 100},\n",
       "  {'max_depth': 4, 'min_samples_leaf': 10},\n",
       "  {'max_depth': 4, 'min_samples_leaf': 20},\n",
       "  {'max_depth': 4, 'min_samples_leaf': 30},\n",
       "  {'max_depth': 4, 'min_samples_leaf': 40},\n",
       "  {'max_depth': 4, 'min_samples_leaf': 50},\n",
       "  {'max_depth': 4, 'min_samples_leaf': 60},\n",
       "  {'max_depth': 4, 'min_samples_leaf': 70},\n",
       "  {'max_depth': 4, 'min_samples_leaf': 80},\n",
       "  {'max_depth': 4, 'min_samples_leaf': 90},\n",
       "  {'max_depth': 4, 'min_samples_leaf': 100},\n",
       "  {'max_depth': 5, 'min_samples_leaf': 10},\n",
       "  {'max_depth': 5, 'min_samples_leaf': 20},\n",
       "  {'max_depth': 5, 'min_samples_leaf': 30},\n",
       "  {'max_depth': 5, 'min_samples_leaf': 40},\n",
       "  {'max_depth': 5, 'min_samples_leaf': 50},\n",
       "  {'max_depth': 5, 'min_samples_leaf': 60},\n",
       "  {'max_depth': 5, 'min_samples_leaf': 70},\n",
       "  {'max_depth': 5, 'min_samples_leaf': 80},\n",
       "  {'max_depth': 5, 'min_samples_leaf': 90},\n",
       "  {'max_depth': 5, 'min_samples_leaf': 100},\n",
       "  {'max_depth': 6, 'min_samples_leaf': 10},\n",
       "  {'max_depth': 6, 'min_samples_leaf': 20},\n",
       "  {'max_depth': 6, 'min_samples_leaf': 30},\n",
       "  {'max_depth': 6, 'min_samples_leaf': 40},\n",
       "  {'max_depth': 6, 'min_samples_leaf': 50},\n",
       "  {'max_depth': 6, 'min_samples_leaf': 60},\n",
       "  {'max_depth': 6, 'min_samples_leaf': 70},\n",
       "  {'max_depth': 6, 'min_samples_leaf': 80},\n",
       "  {'max_depth': 6, 'min_samples_leaf': 90},\n",
       "  {'max_depth': 6, 'min_samples_leaf': 100},\n",
       "  {'max_depth': 7, 'min_samples_leaf': 10},\n",
       "  {'max_depth': 7, 'min_samples_leaf': 20},\n",
       "  {'max_depth': 7, 'min_samples_leaf': 30},\n",
       "  {'max_depth': 7, 'min_samples_leaf': 40},\n",
       "  {'max_depth': 7, 'min_samples_leaf': 50},\n",
       "  {'max_depth': 7, 'min_samples_leaf': 60},\n",
       "  {'max_depth': 7, 'min_samples_leaf': 70},\n",
       "  {'max_depth': 7, 'min_samples_leaf': 80},\n",
       "  {'max_depth': 7, 'min_samples_leaf': 90},\n",
       "  {'max_depth': 7, 'min_samples_leaf': 100},\n",
       "  {'max_depth': 8, 'min_samples_leaf': 10},\n",
       "  {'max_depth': 8, 'min_samples_leaf': 20},\n",
       "  {'max_depth': 8, 'min_samples_leaf': 30},\n",
       "  {'max_depth': 8, 'min_samples_leaf': 40},\n",
       "  {'max_depth': 8, 'min_samples_leaf': 50},\n",
       "  {'max_depth': 8, 'min_samples_leaf': 60},\n",
       "  {'max_depth': 8, 'min_samples_leaf': 70},\n",
       "  {'max_depth': 8, 'min_samples_leaf': 80},\n",
       "  {'max_depth': 8, 'min_samples_leaf': 90},\n",
       "  {'max_depth': 8, 'min_samples_leaf': 100},\n",
       "  {'max_depth': 9, 'min_samples_leaf': 10},\n",
       "  {'max_depth': 9, 'min_samples_leaf': 20},\n",
       "  {'max_depth': 9, 'min_samples_leaf': 30},\n",
       "  {'max_depth': 9, 'min_samples_leaf': 40},\n",
       "  {'max_depth': 9, 'min_samples_leaf': 50},\n",
       "  {'max_depth': 9, 'min_samples_leaf': 60},\n",
       "  {'max_depth': 9, 'min_samples_leaf': 70},\n",
       "  {'max_depth': 9, 'min_samples_leaf': 80},\n",
       "  {'max_depth': 9, 'min_samples_leaf': 90},\n",
       "  {'max_depth': 9, 'min_samples_leaf': 100}],\n",
       " 'split0_test_score': array([0.64285714, 0.64285714, 0.64285714, 0.64285714, 0.64285714,\n",
       "        0.64285714, 0.64285714, 0.64285714, 0.64285714, 0.64285714,\n",
       "        0.66571429, 0.66571429, 0.66571429, 0.66571429, 0.66571429,\n",
       "        0.66571429, 0.66571429, 0.66571429, 0.66571429, 0.66571429,\n",
       "        0.70285714, 0.70285714, 0.70285714, 0.70285714, 0.70285714,\n",
       "        0.70285714, 0.70285714, 0.70285714, 0.70285714, 0.70285714,\n",
       "        0.70571429, 0.7       , 0.70285714, 0.70285714, 0.70285714,\n",
       "        0.70285714, 0.70285714, 0.70285714, 0.70285714, 0.70285714,\n",
       "        0.70428571, 0.71857143, 0.72714286, 0.72142857, 0.72142857,\n",
       "        0.72142857, 0.72142857, 0.72142857, 0.72142857, 0.72142857,\n",
       "        0.72142857, 0.72      , 0.72857143, 0.70857143, 0.70857143,\n",
       "        0.70857143, 0.70857143, 0.72142857, 0.72142857, 0.72142857,\n",
       "        0.71142857, 0.71428571, 0.73428571, 0.71428571, 0.70857143,\n",
       "        0.70857143, 0.71571429, 0.72857143, 0.72142857, 0.72142857,\n",
       "        0.70428571, 0.72285714, 0.73142857, 0.71285714, 0.70714286,\n",
       "        0.70857143, 0.71571429, 0.72857143, 0.72142857, 0.72142857,\n",
       "        0.68      , 0.71      , 0.73428571, 0.71285714, 0.70714286,\n",
       "        0.70857143, 0.71571429, 0.72857143, 0.72142857, 0.72142857]),\n",
       " 'split1_test_score': array([0.61571429, 0.61571429, 0.61571429, 0.61571429, 0.61571429,\n",
       "        0.61571429, 0.61571429, 0.61571429, 0.61571429, 0.61571429,\n",
       "        0.65857143, 0.65857143, 0.65857143, 0.65857143, 0.65857143,\n",
       "        0.65857143, 0.65857143, 0.65857143, 0.65857143, 0.65857143,\n",
       "        0.69285714, 0.69714286, 0.69714286, 0.69714286, 0.69714286,\n",
       "        0.69714286, 0.69714286, 0.69714286, 0.69714286, 0.69714286,\n",
       "        0.69      , 0.69285714, 0.69285714, 0.69285714, 0.69142857,\n",
       "        0.69142857, 0.69142857, 0.69142857, 0.70285714, 0.69428571,\n",
       "        0.68571429, 0.68      , 0.68571429, 0.69142857, 0.68285714,\n",
       "        0.68      , 0.68      , 0.68      , 0.69142857, 0.68285714,\n",
       "        0.67428571, 0.68142857, 0.69142857, 0.69142857, 0.67571429,\n",
       "        0.67571429, 0.67571429, 0.67571429, 0.68428571, 0.67857143,\n",
       "        0.68      , 0.67857143, 0.70571429, 0.70428571, 0.68      ,\n",
       "        0.67571429, 0.67571429, 0.67571429, 0.68428571, 0.67857143,\n",
       "        0.66142857, 0.67428571, 0.69142857, 0.69571429, 0.68      ,\n",
       "        0.67571429, 0.67571429, 0.67571429, 0.68428571, 0.67857143,\n",
       "        0.66857143, 0.67142857, 0.69142857, 0.69571429, 0.68      ,\n",
       "        0.67571429, 0.67571429, 0.67571429, 0.68428571, 0.67857143]),\n",
       " 'split2_test_score': array([0.60142857, 0.60142857, 0.60142857, 0.60142857, 0.60142857,\n",
       "        0.60142857, 0.60142857, 0.60142857, 0.60142857, 0.60142857,\n",
       "        0.65428571, 0.65428571, 0.65428571, 0.65428571, 0.65428571,\n",
       "        0.65428571, 0.65428571, 0.65428571, 0.65428571, 0.65428571,\n",
       "        0.68      , 0.68      , 0.68      , 0.68      , 0.68      ,\n",
       "        0.68      , 0.68      , 0.68      , 0.68      , 0.69      ,\n",
       "        0.67428571, 0.67285714, 0.67142857, 0.67142857, 0.67142857,\n",
       "        0.67142857, 0.67571429, 0.67142857, 0.68      , 0.67714286,\n",
       "        0.66714286, 0.67571429, 0.67857143, 0.67285714, 0.67285714,\n",
       "        0.68      , 0.67285714, 0.66857143, 0.67714286, 0.67428571,\n",
       "        0.67285714, 0.67428571, 0.67571429, 0.67285714, 0.67857143,\n",
       "        0.68428571, 0.67857143, 0.67428571, 0.69      , 0.68142857,\n",
       "        0.65714286, 0.67571429, 0.67714286, 0.67714286, 0.68142857,\n",
       "        0.68714286, 0.67857143, 0.67428571, 0.69      , 0.68142857,\n",
       "        0.65428571, 0.67571429, 0.67285714, 0.68428571, 0.69285714,\n",
       "        0.68714286, 0.67857143, 0.67428571, 0.69      , 0.68142857,\n",
       "        0.65571429, 0.68428571, 0.68142857, 0.67714286, 0.68142857,\n",
       "        0.68714286, 0.67857143, 0.67428571, 0.69      , 0.68142857]),\n",
       " 'split3_test_score': array([0.59714286, 0.59714286, 0.59714286, 0.59714286, 0.59714286,\n",
       "        0.59714286, 0.59714286, 0.59714286, 0.59714286, 0.59714286,\n",
       "        0.67285714, 0.67285714, 0.67285714, 0.67285714, 0.67285714,\n",
       "        0.67285714, 0.67285714, 0.67285714, 0.67285714, 0.67285714,\n",
       "        0.69428571, 0.69428571, 0.69428571, 0.69428571, 0.69428571,\n",
       "        0.69428571, 0.69428571, 0.69428571, 0.69428571, 0.69428571,\n",
       "        0.68857143, 0.68714286, 0.69      , 0.68857143, 0.68857143,\n",
       "        0.68714286, 0.70142857, 0.70857143, 0.70857143, 0.70142857,\n",
       "        0.68142857, 0.69285714, 0.69571429, 0.69428571, 0.68571429,\n",
       "        0.67857143, 0.69857143, 0.70428571, 0.70428571, 0.69714286,\n",
       "        0.65285714, 0.65857143, 0.67      , 0.67571429, 0.69285714,\n",
       "        0.68571429, 0.70571429, 0.70428571, 0.70428571, 0.69714286,\n",
       "        0.66714286, 0.69571429, 0.71      , 0.69857143, 0.68571429,\n",
       "        0.67571429, 0.69571429, 0.7       , 0.70285714, 0.69714286,\n",
       "        0.66      , 0.69142857, 0.7       , 0.69142857, 0.68571429,\n",
       "        0.67571429, 0.69571429, 0.7       , 0.70285714, 0.69714286,\n",
       "        0.66857143, 0.69142857, 0.71142857, 0.68714286, 0.68571429,\n",
       "        0.67571429, 0.69571429, 0.7       , 0.70285714, 0.69714286]),\n",
       " 'split4_test_score': array([0.61285714, 0.61285714, 0.61285714, 0.61285714, 0.61285714,\n",
       "        0.61285714, 0.61285714, 0.61285714, 0.61285714, 0.61285714,\n",
       "        0.65571429, 0.65571429, 0.65571429, 0.65571429, 0.65571429,\n",
       "        0.65571429, 0.65571429, 0.65571429, 0.65571429, 0.65571429,\n",
       "        0.69      , 0.69142857, 0.69142857, 0.69142857, 0.69142857,\n",
       "        0.69142857, 0.69142857, 0.69142857, 0.69142857, 0.69142857,\n",
       "        0.68857143, 0.69      , 0.69      , 0.69285714, 0.69285714,\n",
       "        0.69285714, 0.69285714, 0.69285714, 0.69285714, 0.69      ,\n",
       "        0.69142857, 0.69714286, 0.68857143, 0.68571429, 0.68      ,\n",
       "        0.68      , 0.68      , 0.68      , 0.69428571, 0.69142857,\n",
       "        0.67142857, 0.68714286, 0.67      , 0.68428571, 0.7       ,\n",
       "        0.68285714, 0.68857143, 0.67285714, 0.67857143, 0.68285714,\n",
       "        0.65428571, 0.67571429, 0.67571429, 0.68714286, 0.69285714,\n",
       "        0.68285714, 0.68428571, 0.67714286, 0.67857143, 0.68285714,\n",
       "        0.64857143, 0.67571429, 0.67285714, 0.68571429, 0.69571429,\n",
       "        0.68571429, 0.68428571, 0.67285714, 0.67857143, 0.68285714,\n",
       "        0.64714286, 0.67285714, 0.67142857, 0.68571429, 0.69571429,\n",
       "        0.68571429, 0.68428571, 0.67285714, 0.67857143, 0.68285714]),\n",
       " 'mean_test_score': array([0.614     , 0.614     , 0.614     , 0.614     , 0.614     ,\n",
       "        0.614     , 0.614     , 0.614     , 0.614     , 0.614     ,\n",
       "        0.66142857, 0.66142857, 0.66142857, 0.66142857, 0.66142857,\n",
       "        0.66142857, 0.66142857, 0.66142857, 0.66142857, 0.66142857,\n",
       "        0.692     , 0.69314286, 0.69314286, 0.69314286, 0.69314286,\n",
       "        0.69314286, 0.69314286, 0.69314286, 0.69314286, 0.69514286,\n",
       "        0.68942857, 0.68857143, 0.68942857, 0.68971429, 0.68942857,\n",
       "        0.68914286, 0.69285714, 0.69342857, 0.69742857, 0.69314286,\n",
       "        0.686     , 0.69285714, 0.69514286, 0.69314286, 0.68857143,\n",
       "        0.688     , 0.69057143, 0.69085714, 0.69771429, 0.69342857,\n",
       "        0.67857143, 0.68428571, 0.68714286, 0.68657143, 0.69114286,\n",
       "        0.68742857, 0.69142857, 0.68971429, 0.69571429, 0.69228571,\n",
       "        0.674     , 0.688     , 0.70057143, 0.69628571, 0.68971429,\n",
       "        0.686     , 0.69      , 0.69114286, 0.69542857, 0.69228571,\n",
       "        0.66571429, 0.688     , 0.69371429, 0.694     , 0.69228571,\n",
       "        0.68657143, 0.69      , 0.69028571, 0.69542857, 0.69228571,\n",
       "        0.664     , 0.686     , 0.698     , 0.69171429, 0.69      ,\n",
       "        0.68657143, 0.69      , 0.69028571, 0.69542857, 0.69228571]),\n",
       " 'std_test_score': array([0.0159949 , 0.0159949 , 0.0159949 , 0.0159949 , 0.0159949 ,\n",
       "        0.0159949 , 0.0159949 , 0.0159949 , 0.0159949 , 0.0159949 ,\n",
       "        0.00693998, 0.00693998, 0.00693998, 0.00693998, 0.00693998,\n",
       "        0.00693998, 0.00693998, 0.00693998, 0.00693998, 0.00693998,\n",
       "        0.00737342, 0.00758086, 0.00758086, 0.00758086, 0.00758086,\n",
       "        0.00758086, 0.00758086, 0.00758086, 0.00758086, 0.00457143,\n",
       "        0.0099632 , 0.00894427, 0.01016597, 0.01027777, 0.01020604,\n",
       "        0.01024595, 0.00968904, 0.01270063, 0.01007725, 0.00927582,\n",
       "        0.01216888, 0.01509156, 0.01691757, 0.01594378, 0.01697537,\n",
       "        0.01672344, 0.01762651, 0.01922159, 0.01469694, 0.016     ,\n",
       "        0.02280351, 0.02026357, 0.02214977, 0.01279668, 0.0124998 ,\n",
       "        0.01111719, 0.01355262, 0.01967906, 0.01543915, 0.01592329,\n",
       "        0.02076889, 0.01510778, 0.02199443, 0.01298665, 0.01043542,\n",
       "        0.01210161, 0.01456863, 0.0209645 , 0.01529039, 0.01592329,\n",
       "        0.01981548, 0.01852962, 0.0216201 , 0.01027777, 0.00924055,\n",
       "        0.0120068 , 0.01456863, 0.02159743, 0.01529039, 0.01592329,\n",
       "        0.01140712, 0.01409588, 0.02245358, 0.01210161, 0.01018202,\n",
       "        0.0120068 , 0.01456863, 0.02159743, 0.01529039, 0.01592329]),\n",
       " 'rank_test_score': array([81, 81, 81, 81, 81, 81, 81, 81, 81, 81, 71, 71, 71, 71, 71, 71, 71,\n",
       "        71, 71, 71, 33, 16, 16, 16, 16, 16, 16, 16, 16, 11, 49, 54, 49, 46,\n",
       "        51, 52, 26, 14,  4, 16, 63, 26, 10, 25, 53, 55, 39, 38,  3, 14, 67,\n",
       "        66, 59, 60, 36, 58, 35, 46,  6, 29, 68, 55,  1,  5, 46, 63, 42, 37,\n",
       "         7, 29, 69, 55, 13, 12, 28, 60, 42, 40,  7, 29, 70, 65,  2, 34, 42,\n",
       "        60, 42, 40,  7, 29])}"
      ]
     },
     "execution_count": 64,
     "metadata": {},
     "output_type": "execute_result"
    }
   ],
   "source": [
    "model_gs.cv_results_"
   ]
  },
  {
   "cell_type": "code",
   "execution_count": 71,
   "metadata": {
    "id": "FvzOJV_37kw_"
   },
   "outputs": [
    {
     "data": {
      "text/plain": [
       "[{'max_depth': 1, 'min_samples_leaf': 10},\n",
       " {'max_depth': 1, 'min_samples_leaf': 20},\n",
       " {'max_depth': 1, 'min_samples_leaf': 30},\n",
       " {'max_depth': 1, 'min_samples_leaf': 40},\n",
       " {'max_depth': 1, 'min_samples_leaf': 50},\n",
       " {'max_depth': 1, 'min_samples_leaf': 60},\n",
       " {'max_depth': 1, 'min_samples_leaf': 70},\n",
       " {'max_depth': 1, 'min_samples_leaf': 80},\n",
       " {'max_depth': 1, 'min_samples_leaf': 90},\n",
       " {'max_depth': 1, 'min_samples_leaf': 100},\n",
       " {'max_depth': 2, 'min_samples_leaf': 10},\n",
       " {'max_depth': 2, 'min_samples_leaf': 20},\n",
       " {'max_depth': 2, 'min_samples_leaf': 30},\n",
       " {'max_depth': 2, 'min_samples_leaf': 40},\n",
       " {'max_depth': 2, 'min_samples_leaf': 50},\n",
       " {'max_depth': 2, 'min_samples_leaf': 60},\n",
       " {'max_depth': 2, 'min_samples_leaf': 70},\n",
       " {'max_depth': 2, 'min_samples_leaf': 80},\n",
       " {'max_depth': 2, 'min_samples_leaf': 90},\n",
       " {'max_depth': 2, 'min_samples_leaf': 100},\n",
       " {'max_depth': 3, 'min_samples_leaf': 10},\n",
       " {'max_depth': 3, 'min_samples_leaf': 20},\n",
       " {'max_depth': 3, 'min_samples_leaf': 30},\n",
       " {'max_depth': 3, 'min_samples_leaf': 40},\n",
       " {'max_depth': 3, 'min_samples_leaf': 50},\n",
       " {'max_depth': 3, 'min_samples_leaf': 60},\n",
       " {'max_depth': 3, 'min_samples_leaf': 70},\n",
       " {'max_depth': 3, 'min_samples_leaf': 80},\n",
       " {'max_depth': 3, 'min_samples_leaf': 90},\n",
       " {'max_depth': 3, 'min_samples_leaf': 100},\n",
       " {'max_depth': 4, 'min_samples_leaf': 10},\n",
       " {'max_depth': 4, 'min_samples_leaf': 20},\n",
       " {'max_depth': 4, 'min_samples_leaf': 30},\n",
       " {'max_depth': 4, 'min_samples_leaf': 40},\n",
       " {'max_depth': 4, 'min_samples_leaf': 50},\n",
       " {'max_depth': 4, 'min_samples_leaf': 60},\n",
       " {'max_depth': 4, 'min_samples_leaf': 70},\n",
       " {'max_depth': 4, 'min_samples_leaf': 80},\n",
       " {'max_depth': 4, 'min_samples_leaf': 90},\n",
       " {'max_depth': 4, 'min_samples_leaf': 100},\n",
       " {'max_depth': 5, 'min_samples_leaf': 10},\n",
       " {'max_depth': 5, 'min_samples_leaf': 20},\n",
       " {'max_depth': 5, 'min_samples_leaf': 30},\n",
       " {'max_depth': 5, 'min_samples_leaf': 40},\n",
       " {'max_depth': 5, 'min_samples_leaf': 50},\n",
       " {'max_depth': 5, 'min_samples_leaf': 60},\n",
       " {'max_depth': 5, 'min_samples_leaf': 70},\n",
       " {'max_depth': 5, 'min_samples_leaf': 80},\n",
       " {'max_depth': 5, 'min_samples_leaf': 90},\n",
       " {'max_depth': 5, 'min_samples_leaf': 100},\n",
       " {'max_depth': 6, 'min_samples_leaf': 10},\n",
       " {'max_depth': 6, 'min_samples_leaf': 20},\n",
       " {'max_depth': 6, 'min_samples_leaf': 30},\n",
       " {'max_depth': 6, 'min_samples_leaf': 40},\n",
       " {'max_depth': 6, 'min_samples_leaf': 50},\n",
       " {'max_depth': 6, 'min_samples_leaf': 60},\n",
       " {'max_depth': 6, 'min_samples_leaf': 70},\n",
       " {'max_depth': 6, 'min_samples_leaf': 80},\n",
       " {'max_depth': 6, 'min_samples_leaf': 90},\n",
       " {'max_depth': 6, 'min_samples_leaf': 100},\n",
       " {'max_depth': 7, 'min_samples_leaf': 10},\n",
       " {'max_depth': 7, 'min_samples_leaf': 20},\n",
       " {'max_depth': 7, 'min_samples_leaf': 30},\n",
       " {'max_depth': 7, 'min_samples_leaf': 40},\n",
       " {'max_depth': 7, 'min_samples_leaf': 50},\n",
       " {'max_depth': 7, 'min_samples_leaf': 60},\n",
       " {'max_depth': 7, 'min_samples_leaf': 70},\n",
       " {'max_depth': 7, 'min_samples_leaf': 80},\n",
       " {'max_depth': 7, 'min_samples_leaf': 90},\n",
       " {'max_depth': 7, 'min_samples_leaf': 100},\n",
       " {'max_depth': 8, 'min_samples_leaf': 10},\n",
       " {'max_depth': 8, 'min_samples_leaf': 20},\n",
       " {'max_depth': 8, 'min_samples_leaf': 30},\n",
       " {'max_depth': 8, 'min_samples_leaf': 40},\n",
       " {'max_depth': 8, 'min_samples_leaf': 50},\n",
       " {'max_depth': 8, 'min_samples_leaf': 60},\n",
       " {'max_depth': 8, 'min_samples_leaf': 70},\n",
       " {'max_depth': 8, 'min_samples_leaf': 80},\n",
       " {'max_depth': 8, 'min_samples_leaf': 90},\n",
       " {'max_depth': 8, 'min_samples_leaf': 100},\n",
       " {'max_depth': 9, 'min_samples_leaf': 10},\n",
       " {'max_depth': 9, 'min_samples_leaf': 20},\n",
       " {'max_depth': 9, 'min_samples_leaf': 30},\n",
       " {'max_depth': 9, 'min_samples_leaf': 40},\n",
       " {'max_depth': 9, 'min_samples_leaf': 50},\n",
       " {'max_depth': 9, 'min_samples_leaf': 60},\n",
       " {'max_depth': 9, 'min_samples_leaf': 70},\n",
       " {'max_depth': 9, 'min_samples_leaf': 80},\n",
       " {'max_depth': 9, 'min_samples_leaf': 90},\n",
       " {'max_depth': 9, 'min_samples_leaf': 100}]"
      ]
     },
     "execution_count": 71,
     "metadata": {},
     "output_type": "execute_result"
    }
   ],
   "source": [
    "model_gs.cv_results_['params']"
   ]
  },
  {
   "cell_type": "code",
   "execution_count": 66,
   "metadata": {
    "id": "OdolBuhy7kuL"
   },
   "outputs": [
    {
     "data": {
      "text/plain": [
       "array([0.614     , 0.614     , 0.614     , 0.614     , 0.614     ,\n",
       "       0.614     , 0.614     , 0.614     , 0.614     , 0.614     ,\n",
       "       0.66142857, 0.66142857, 0.66142857, 0.66142857, 0.66142857,\n",
       "       0.66142857, 0.66142857, 0.66142857, 0.66142857, 0.66142857,\n",
       "       0.692     , 0.69314286, 0.69314286, 0.69314286, 0.69314286,\n",
       "       0.69314286, 0.69314286, 0.69314286, 0.69314286, 0.69514286,\n",
       "       0.68942857, 0.68857143, 0.68942857, 0.68971429, 0.68942857,\n",
       "       0.68914286, 0.69285714, 0.69342857, 0.69742857, 0.69314286,\n",
       "       0.686     , 0.69285714, 0.69514286, 0.69314286, 0.68857143,\n",
       "       0.688     , 0.69057143, 0.69085714, 0.69771429, 0.69342857,\n",
       "       0.67857143, 0.68428571, 0.68714286, 0.68657143, 0.69114286,\n",
       "       0.68742857, 0.69142857, 0.68971429, 0.69571429, 0.69228571,\n",
       "       0.674     , 0.688     , 0.70057143, 0.69628571, 0.68971429,\n",
       "       0.686     , 0.69      , 0.69114286, 0.69542857, 0.69228571,\n",
       "       0.66571429, 0.688     , 0.69371429, 0.694     , 0.69228571,\n",
       "       0.68657143, 0.69      , 0.69028571, 0.69542857, 0.69228571,\n",
       "       0.664     , 0.686     , 0.698     , 0.69171429, 0.69      ,\n",
       "       0.68657143, 0.69      , 0.69028571, 0.69542857, 0.69228571])"
      ]
     },
     "execution_count": 66,
     "metadata": {},
     "output_type": "execute_result"
    }
   ],
   "source": [
    "model_gs.cv_results_['mean_test_score']"
   ]
  },
  {
   "cell_type": "code",
   "execution_count": 67,
   "metadata": {
    "id": "zwQfhIwt7krA"
   },
   "outputs": [
    {
     "data": {
      "text/plain": [
       "{'max_depth': 7, 'min_samples_leaf': 30}"
      ]
     },
     "execution_count": 67,
     "metadata": {},
     "output_type": "execute_result"
    }
   ],
   "source": [
    "model_gs.best_params_"
   ]
  },
  {
   "cell_type": "code",
   "execution_count": 68,
   "metadata": {},
   "outputs": [
    {
     "data": {
      "text/plain": [
       "0.7005714285714285"
      ]
     },
     "execution_count": 68,
     "metadata": {},
     "output_type": "execute_result"
    }
   ],
   "source": [
    "model_gs.best_score_"
   ]
  },
  {
   "cell_type": "code",
   "execution_count": 70,
   "metadata": {
    "scrolled": false
   },
   "outputs": [
    {
     "name": "stdout",
     "output_type": "stream",
     "text": [
      "[[517 221]\n",
      " [261 501]]\n",
      "--------------------------------------------------\n",
      "              precision    recall  f1-score   support\n",
      "\n",
      "           0       0.66      0.70      0.68       738\n",
      "           1       0.69      0.66      0.68       762\n",
      "\n",
      "    accuracy                           0.68      1500\n",
      "   macro avg       0.68      0.68      0.68      1500\n",
      "weighted avg       0.68      0.68      0.68      1500\n",
      "\n"
     ]
    }
   ],
   "source": [
    "pred = model_gs.predict(x_val)\n",
    "\n",
    "print(confusion_matrix(y_val,pred))\n",
    "print('-' * 50)\n",
    "print(classification_report(y_val,pred))"
   ]
  },
  {
   "cell_type": "code",
   "execution_count": null,
   "metadata": {},
   "outputs": [],
   "source": []
  },
  {
   "cell_type": "code",
   "execution_count": null,
   "metadata": {},
   "outputs": [],
   "source": []
  }
 ],
 "metadata": {
  "colab": {
   "authorship_tag": "ABX9TyN6Prk/6koXd+7LqYkAnr0v",
   "collapsed_sections": [],
   "name": "08과 성능튜닝.ipynb",
   "provenance": [],
   "toc_visible": true
  },
  "kernelspec": {
   "display_name": "Python 3",
   "language": "python",
   "name": "python3"
  },
  "language_info": {
   "codemirror_mode": {
    "name": "ipython",
    "version": 3
   },
   "file_extension": ".py",
   "mimetype": "text/x-python",
   "name": "python",
   "nbconvert_exporter": "python",
   "pygments_lexer": "ipython3",
   "version": "3.8.8"
  }
 },
 "nbformat": 4,
 "nbformat_minor": 1
}
