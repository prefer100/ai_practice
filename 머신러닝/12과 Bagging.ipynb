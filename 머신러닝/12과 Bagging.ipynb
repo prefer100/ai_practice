{
 "cells": [
  {
   "cell_type": "markdown",
   "metadata": {
    "id": "AVG5bLhFJe6a"
   },
   "source": [
    "# Ensemble : Bagging"
   ]
  },
  {
   "cell_type": "markdown",
   "metadata": {
    "id": "O1uL0UIEzBPw"
   },
   "source": [
    "## 1.환경준비"
   ]
  },
  {
   "cell_type": "markdown",
   "metadata": {
    "id": "vNt997De17qz"
   },
   "source": [
    "### (1) import"
   ]
  },
  {
   "cell_type": "code",
   "execution_count": 1,
   "metadata": {
    "id": "GugpCLBiVHzd"
   },
   "outputs": [],
   "source": [
    "#라이브러리들을 불러오자.\n",
    "import numpy as np\n",
    "import pandas as pd\n",
    "import matplotlib.pyplot as plt\n",
    "import seaborn as sns\n",
    "\n",
    "# 전처리\n",
    "from sklearn.model_selection import train_test_split\n",
    "from sklearn.preprocessing import MinMaxScaler\n",
    "\n",
    "# 모델링\n",
    "from sklearn.tree import plot_tree\n",
    "from sklearn.ensemble import RandomForestClassifier\n",
    "from sklearn.metrics import * \n",
    "from sklearn.model_selection import RandomizedSearchCV, GridSearchCV\n",
    "\n",
    "import warnings    # 경고메시지 제외\n",
    "warnings.filterwarnings(action='ignore')"
   ]
  },
  {
   "cell_type": "markdown",
   "metadata": {
    "id": "CG-FeAY4f25C"
   },
   "source": [
    "### (2) 데이터 준비"
   ]
  },
  {
   "cell_type": "markdown",
   "metadata": {
    "id": "LGBEnPENs4Fs"
   },
   "source": [
    "* 변수설명\n",
    "    * COLLEGE : 대학 졸업여부\n",
    "    * INCOME : 연수입\n",
    "    * OVERAGE : 월평균 초과사용 시간(분)\n",
    "    * LEFTOVER : 월평균 잔여시간비율(%)\n",
    "    * HOUSE : 집값\n",
    "    * HANDSET_PRICE : 스마트폰 가격\n",
    "    * OVER_15MINS_CALLS_PER_MONTH : 월평균 장기통화(15분이상) 횟수\n",
    "    * AVERAGE_CALL_DURATION : 평균 통화 시간\n",
    "    * REPORTED_SATISFACTION : 만족도 설문조사 결과\n",
    "    * REPORTED_USAGE_LEVEL : 사용도 자가진단 결과\n",
    "    * CONSIDERING_CHANGE_OF_PLAN : 향후 변경계획 설문조사 결과\n",
    "    * CHURN : 이탈(번호이동) 여부 (1-이탈, 0-잔류, Target 변수)\n"
   ]
  },
  {
   "cell_type": "code",
   "execution_count": 2,
   "metadata": {
    "id": "8omLhiDis4Fs",
    "scrolled": true
   },
   "outputs": [
    {
     "data": {
      "text/html": [
       "<div>\n",
       "<style scoped>\n",
       "    .dataframe tbody tr th:only-of-type {\n",
       "        vertical-align: middle;\n",
       "    }\n",
       "\n",
       "    .dataframe tbody tr th {\n",
       "        vertical-align: top;\n",
       "    }\n",
       "\n",
       "    .dataframe thead th {\n",
       "        text-align: right;\n",
       "    }\n",
       "</style>\n",
       "<table border=\"1\" class=\"dataframe\">\n",
       "  <thead>\n",
       "    <tr style=\"text-align: right;\">\n",
       "      <th></th>\n",
       "      <th>id</th>\n",
       "      <th>COLLEGE</th>\n",
       "      <th>INCOME</th>\n",
       "      <th>OVERAGE</th>\n",
       "      <th>LEFTOVER</th>\n",
       "      <th>HOUSE</th>\n",
       "      <th>HANDSET_PRICE</th>\n",
       "      <th>OVER_15MINS_CALLS_PER_MONTH</th>\n",
       "      <th>AVERAGE_CALL_DURATION</th>\n",
       "      <th>REPORTED_SATISFACTION</th>\n",
       "      <th>REPORTED_USAGE_LEVEL</th>\n",
       "      <th>CONSIDERING_CHANGE_OF_PLAN</th>\n",
       "      <th>CHURN</th>\n",
       "    </tr>\n",
       "  </thead>\n",
       "  <tbody>\n",
       "    <tr>\n",
       "      <th>3178</th>\n",
       "      <td>3179</td>\n",
       "      <td>0</td>\n",
       "      <td>119512</td>\n",
       "      <td>51</td>\n",
       "      <td>31</td>\n",
       "      <td>248566</td>\n",
       "      <td>229</td>\n",
       "      <td>5</td>\n",
       "      <td>2</td>\n",
       "      <td>very_sat</td>\n",
       "      <td>very_high</td>\n",
       "      <td>considering</td>\n",
       "      <td>1</td>\n",
       "    </tr>\n",
       "    <tr>\n",
       "      <th>14926</th>\n",
       "      <td>14927</td>\n",
       "      <td>1</td>\n",
       "      <td>142144</td>\n",
       "      <td>192</td>\n",
       "      <td>15</td>\n",
       "      <td>774317</td>\n",
       "      <td>581</td>\n",
       "      <td>29</td>\n",
       "      <td>4</td>\n",
       "      <td>unsat</td>\n",
       "      <td>very_little</td>\n",
       "      <td>never_thought</td>\n",
       "      <td>1</td>\n",
       "    </tr>\n",
       "    <tr>\n",
       "      <th>15116</th>\n",
       "      <td>15117</td>\n",
       "      <td>1</td>\n",
       "      <td>142308</td>\n",
       "      <td>0</td>\n",
       "      <td>79</td>\n",
       "      <td>306426</td>\n",
       "      <td>497</td>\n",
       "      <td>1</td>\n",
       "      <td>1</td>\n",
       "      <td>sat</td>\n",
       "      <td>little</td>\n",
       "      <td>considering</td>\n",
       "      <td>0</td>\n",
       "    </tr>\n",
       "    <tr>\n",
       "      <th>12733</th>\n",
       "      <td>12734</td>\n",
       "      <td>1</td>\n",
       "      <td>113385</td>\n",
       "      <td>0</td>\n",
       "      <td>0</td>\n",
       "      <td>333599</td>\n",
       "      <td>819</td>\n",
       "      <td>1</td>\n",
       "      <td>6</td>\n",
       "      <td>very_unsat</td>\n",
       "      <td>very_high</td>\n",
       "      <td>considering</td>\n",
       "      <td>1</td>\n",
       "    </tr>\n",
       "    <tr>\n",
       "      <th>14032</th>\n",
       "      <td>14033</td>\n",
       "      <td>1</td>\n",
       "      <td>90348</td>\n",
       "      <td>209</td>\n",
       "      <td>10</td>\n",
       "      <td>637286</td>\n",
       "      <td>360</td>\n",
       "      <td>26</td>\n",
       "      <td>4</td>\n",
       "      <td>unsat</td>\n",
       "      <td>little</td>\n",
       "      <td>actively_looking_into_it</td>\n",
       "      <td>0</td>\n",
       "    </tr>\n",
       "  </tbody>\n",
       "</table>\n",
       "</div>"
      ],
      "text/plain": [
       "          id  COLLEGE  INCOME  OVERAGE  LEFTOVER   HOUSE  HANDSET_PRICE  \\\n",
       "3178    3179        0  119512       51        31  248566            229   \n",
       "14926  14927        1  142144      192        15  774317            581   \n",
       "15116  15117        1  142308        0        79  306426            497   \n",
       "12733  12734        1  113385        0         0  333599            819   \n",
       "14032  14033        1   90348      209        10  637286            360   \n",
       "\n",
       "       OVER_15MINS_CALLS_PER_MONTH  AVERAGE_CALL_DURATION  \\\n",
       "3178                             5                      2   \n",
       "14926                           29                      4   \n",
       "15116                            1                      1   \n",
       "12733                            1                      6   \n",
       "14032                           26                      4   \n",
       "\n",
       "      REPORTED_SATISFACTION REPORTED_USAGE_LEVEL CONSIDERING_CHANGE_OF_PLAN  \\\n",
       "3178               very_sat            very_high                considering   \n",
       "14926                 unsat          very_little              never_thought   \n",
       "15116                   sat               little                considering   \n",
       "12733            very_unsat            very_high                considering   \n",
       "14032                 unsat               little   actively_looking_into_it   \n",
       "\n",
       "       CHURN  \n",
       "3178       1  \n",
       "14926      1  \n",
       "15116      0  \n",
       "12733      1  \n",
       "14032      0  "
      ]
     },
     "execution_count": 2,
     "metadata": {},
     "output_type": "execute_result"
    }
   ],
   "source": [
    "# 데이터를 불러옵시다.\n",
    "path = 'https://raw.githubusercontent.com/DA4BAM/dataset/master/mobile_cust_churn.csv'\n",
    "data = pd.read_csv(path)\n",
    "data = data.sample(5000, random_state = 2022)\n",
    "data['CHURN'] = data['CHURN'].map({'LEAVE':1, 'STAY':0})\n",
    "data.head()"
   ]
  },
  {
   "cell_type": "markdown",
   "metadata": {
    "id": "wW0d0eGmCYJM"
   },
   "source": [
    "## 2.데이터 준비"
   ]
  },
  {
   "cell_type": "markdown",
   "metadata": {
    "id": "y9Q6jR6OZjUk"
   },
   "source": [
    "### (1) 데이터 정리"
   ]
  },
  {
   "cell_type": "code",
   "execution_count": 3,
   "metadata": {
    "id": "Dhi6-3jgrEgQ"
   },
   "outputs": [],
   "source": [
    "drop_cols = ['id']\n",
    "data.drop(drop_cols, axis = 1, inplace = True )"
   ]
  },
  {
   "cell_type": "markdown",
   "metadata": {
    "id": "WpJEGpUuuVWm"
   },
   "source": [
    "### (2) 데이터분할1 : x, y 나누기"
   ]
  },
  {
   "cell_type": "code",
   "execution_count": 4,
   "metadata": {
    "id": "3u8-Ovu4ADVn"
   },
   "outputs": [],
   "source": [
    "target = 'CHURN'\n",
    "x = data.drop(target, axis = 1)\n",
    "y = data.loc[:, target]"
   ]
  },
  {
   "cell_type": "markdown",
   "metadata": {
    "id": "mp_5volyuaA1"
   },
   "source": [
    "### (3) NA 조치"
   ]
  },
  {
   "cell_type": "markdown",
   "metadata": {
    "id": "nOF9fSLQugGf"
   },
   "source": [
    "### (4) 가변수화"
   ]
  },
  {
   "cell_type": "code",
   "execution_count": 5,
   "metadata": {
    "id": "CZgBC2QSoKc8"
   },
   "outputs": [],
   "source": [
    "dumm_cols = ['REPORTED_SATISFACTION','REPORTED_USAGE_LEVEL','CONSIDERING_CHANGE_OF_PLAN']\n",
    "x = pd.get_dummies(x, columns = dumm_cols, drop_first = True)"
   ]
  },
  {
   "cell_type": "markdown",
   "metadata": {
    "id": "Mlz_XI5zAkke"
   },
   "source": [
    "### (5) 데이터분할2 : train : validation"
   ]
  },
  {
   "cell_type": "code",
   "execution_count": 6,
   "metadata": {
    "id": "U5_90TWnhexz"
   },
   "outputs": [],
   "source": [
    "x_train, x_val, y_train, y_val = train_test_split(x, y, test_size=.3, random_state = 2022)"
   ]
  },
  {
   "cell_type": "markdown",
   "metadata": {
    "id": "XKCwnOC5i8PV"
   },
   "source": [
    "## 3.모델링 : 랜덤포레스트\n"
   ]
  },
  {
   "cell_type": "code",
   "execution_count": 7,
   "metadata": {
    "id": "H0ddP6SlqRHv"
   },
   "outputs": [],
   "source": [
    "# 모델 선언\n",
    "model = RandomForestClassifier(n_estimators = 5, max_depth = 3)"
   ]
  },
  {
   "cell_type": "code",
   "execution_count": 8,
   "metadata": {
    "id": "ZTVihfwNqRHx"
   },
   "outputs": [
    {
     "data": {
      "text/plain": [
       "RandomForestClassifier(max_depth=3, n_estimators=5)"
      ]
     },
     "execution_count": 8,
     "metadata": {},
     "output_type": "execute_result"
    }
   ],
   "source": [
    "# 학습\n",
    "model.fit(x_train, y_train)"
   ]
  },
  {
   "cell_type": "code",
   "execution_count": 9,
   "metadata": {
    "id": "2gXzn8Qa5NQS"
   },
   "outputs": [],
   "source": [
    "# 예측\n",
    "pred = model.predict(x_val)"
   ]
  },
  {
   "cell_type": "code",
   "execution_count": 10,
   "metadata": {
    "id": "322ZrUXr5NQS"
   },
   "outputs": [
    {
     "name": "stdout",
     "output_type": "stream",
     "text": [
      "              precision    recall  f1-score   support\n",
      "\n",
      "           0       0.62      0.68      0.65       769\n",
      "           1       0.63      0.57      0.59       731\n",
      "\n",
      "    accuracy                           0.62      1500\n",
      "   macro avg       0.62      0.62      0.62      1500\n",
      "weighted avg       0.62      0.62      0.62      1500\n",
      "\n"
     ]
    }
   ],
   "source": [
    "# 평가\n",
    "print(classification_report(y_val, pred))"
   ]
  },
  {
   "cell_type": "markdown",
   "metadata": {
    "id": "VIBByHoq5UnD"
   },
   "source": [
    "## 4.시각화와 변수중요도"
   ]
  },
  {
   "cell_type": "markdown",
   "metadata": {
    "id": "l7HDjalZvn5V"
   },
   "source": [
    "### (1) 모델의 내부를 살펴봅시다."
   ]
  },
  {
   "cell_type": "code",
   "execution_count": 11,
   "metadata": {
    "id": "aFIZR3G2lHNx"
   },
   "outputs": [
    {
     "data": {
      "text/plain": [
       "[DecisionTreeClassifier(max_depth=3, max_features='auto',\n",
       "                        random_state=1603519023),\n",
       " DecisionTreeClassifier(max_depth=3, max_features='auto', random_state=561641518),\n",
       " DecisionTreeClassifier(max_depth=3, max_features='auto', random_state=713888709),\n",
       " DecisionTreeClassifier(max_depth=3, max_features='auto', random_state=426245959),\n",
       " DecisionTreeClassifier(max_depth=3, max_features='auto', random_state=213162344)]"
      ]
     },
     "execution_count": 11,
     "metadata": {},
     "output_type": "execute_result"
    }
   ],
   "source": [
    "# 5개 decision tree\n",
    "model.estimators_"
   ]
  },
  {
   "cell_type": "code",
   "execution_count": 12,
   "metadata": {
    "id": "lrMz1G6AlHb3"
   },
   "outputs": [
    {
     "data": {
      "image/png": "[encoded data removed]",
      "text/plain": [
       "<Figure size 1440x432 with 1 Axes>"
      ]
     },
     "metadata": {
      "needs_background": "light"
     },
     "output_type": "display_data"
    }
   ],
   "source": [
    "# 각 트리별로 시각화 할 수 있다.\n",
    "plt.figure(figsize=(20,6))\n",
    "plot_tree(model.estimators_[0], \n",
    "               feature_names = x_train.columns,\n",
    "               class_names= ['LEAVE','STAY'], \n",
    "               filled = True, fontsize = 8);"
   ]
  },
  {
   "cell_type": "markdown",
   "metadata": {
    "id": "1A3IrSloyvMc"
   },
   "source": [
    "### (2) 변수 중요도"
   ]
  },
  {
   "cell_type": "code",
   "execution_count": 13,
   "metadata": {
    "id": "yMzgMkHix8hH"
   },
   "outputs": [
    {
     "name": "stdout",
     "output_type": "stream",
     "text": [
      "Index(['COLLEGE', 'INCOME', 'OVERAGE', 'LEFTOVER', 'HOUSE', 'HANDSET_PRICE',\n",
      "       'OVER_15MINS_CALLS_PER_MONTH', 'AVERAGE_CALL_DURATION',\n",
      "       'REPORTED_SATISFACTION_sat', 'REPORTED_SATISFACTION_unsat',\n",
      "       'REPORTED_SATISFACTION_very_sat', 'REPORTED_SATISFACTION_very_unsat',\n",
      "       'REPORTED_USAGE_LEVEL_high', 'REPORTED_USAGE_LEVEL_little',\n",
      "       'REPORTED_USAGE_LEVEL_very_high', 'REPORTED_USAGE_LEVEL_very_little',\n",
      "       'CONSIDERING_CHANGE_OF_PLAN_considering',\n",
      "       'CONSIDERING_CHANGE_OF_PLAN_never_thought',\n",
      "       'CONSIDERING_CHANGE_OF_PLAN_no', 'CONSIDERING_CHANGE_OF_PLAN_perhaps'],\n",
      "      dtype='object')\n",
      "[0.         0.07939565 0.37064258 0.21089302 0.05594314 0.06167445\n",
      " 0.13098126 0.06463621 0.00460158 0.         0.00499604 0.\n",
      " 0.         0.0055942  0.         0.         0.00173714 0.\n",
      " 0.0067833  0.00212144]\n"
     ]
    }
   ],
   "source": [
    "# 변수 중요도\n",
    "print(x_train.columns)\n",
    "print(model.feature_importances_)"
   ]
  },
  {
   "cell_type": "markdown",
   "metadata": {
    "id": "sWJZioD01kne"
   },
   "source": [
    "* 변수중요도 그래프 그리기 함수 만들기"
   ]
  },
  {
   "cell_type": "code",
   "execution_count": 14,
   "metadata": {
    "id": "U2yhFi1Z1mx5"
   },
   "outputs": [],
   "source": [
    "def plot_feature_importance(importance, names):\n",
    "    feature_importance = np.array(importance)\n",
    "    feature_names = np.array(names)\n",
    "\n",
    "    data={'feature_names':feature_names,'feature_importance':feature_importance}\n",
    "    fi_df = pd.DataFrame(data)\n",
    "\n",
    "    fi_df.sort_values(by=['feature_importance'], ascending=False,inplace=True)\n",
    "    fi_df.reset_index(drop=True, inplace = True)\n",
    "\n",
    "    plt.figure(figsize=(10,8))\n",
    "    sns.barplot(x='feature_importance', y='feature_names', data = fi_df)\n",
    "\n",
    "    plt.xlabel('FEATURE IMPORTANCE')\n",
    "    plt.ylabel('FEATURE NAMES')\n",
    "    plt.grid()\n",
    "\n",
    "    return fi_df"
   ]
  },
  {
   "cell_type": "code",
   "execution_count": 15,
   "metadata": {
    "id": "zp9JdYhF16Kl"
   },
   "outputs": [
    {
     "data": {
      "image/png": "[encoded data removed]",
      "text/plain": [
       "<Figure size 720x576 with 1 Axes>"
      ]
     },
     "metadata": {
      "needs_background": "light"
     },
     "output_type": "display_data"
    }
   ],
   "source": [
    "result = plot_feature_importance(model.feature_importances_, x_train.columns)"
   ]
  },
  {
   "cell_type": "markdown",
   "metadata": {
    "id": "FMsEXaw3jKWc"
   },
   "source": [
    "## 5.실습: random forest 튜닝\n",
    "\n",
    "* grid search를 수행합니다.\n",
    "    * ① n_estimators 의 갯수를 5 ~ 200까지 5개씩 증가시켜가며 튜닝해 봅시다.\n",
    "    * ② max_features를 1 ~ feature갯수까지 1씩 증가시켜가며 튜닝해 봅시다.\n",
    "    * ③ n_estimators, max_features를 동시에 튜닝.\n",
    "\n",
    "* 모델링 후 cv 평가 결과를 차트로 그려봅시다. \n",
    "* 튜닝된 모델로 부터 변수중요도를 뽑아 봅시다.\n"
   ]
  },
  {
   "cell_type": "markdown",
   "metadata": {
    "id": "ZBvc-UZbDKdF"
   },
   "source": [
    "### (1) n_estimators 튜닝"
   ]
  },
  {
   "cell_type": "code",
   "execution_count": 16,
   "metadata": {
    "id": "Vnc2DixK8zIY"
   },
   "outputs": [],
   "source": [
    "params = {'n_estimators': range(5,201,5)}\n"
   ]
  },
  {
   "cell_type": "code",
   "execution_count": 17,
   "metadata": {
    "id": "wkbEfOTC8zFt"
   },
   "outputs": [],
   "source": [
    "m = RandomForestClassifier()\n",
    "m_gs1 = GridSearchCV(m,params,cv=5)"
   ]
  },
  {
   "cell_type": "code",
   "execution_count": 18,
   "metadata": {
    "id": "woHm6dFw8zC0"
   },
   "outputs": [
    {
     "data": {
      "text/plain": [
       "GridSearchCV(cv=5, estimator=RandomForestClassifier(),\n",
       "             param_grid={'n_estimators': range(5, 201, 5)})"
      ]
     },
     "execution_count": 18,
     "metadata": {},
     "output_type": "execute_result"
    }
   ],
   "source": [
    "m_gs1.fit(x_train,y_train)"
   ]
  },
  {
   "cell_type": "code",
   "execution_count": 19,
   "metadata": {
    "id": "StpzYtke8y_4"
   },
   "outputs": [
    {
     "data": {
      "text/plain": [
       "({'n_estimators': 160}, 0.69)"
      ]
     },
     "execution_count": 19,
     "metadata": {},
     "output_type": "execute_result"
    }
   ],
   "source": [
    "m_gs1.best_params_,m_gs1.best_score_"
   ]
  },
  {
   "cell_type": "code",
   "execution_count": 20,
   "metadata": {
    "id": "GZjjY8cQ8y8s",
    "scrolled": true
   },
   "outputs": [
    {
     "name": "stdout",
     "output_type": "stream",
     "text": [
      "              precision    recall  f1-score   support\n",
      "\n",
      "           0       0.72      0.72      0.72       769\n",
      "           1       0.71      0.70      0.70       731\n",
      "\n",
      "    accuracy                           0.71      1500\n",
      "   macro avg       0.71      0.71      0.71      1500\n",
      "weighted avg       0.71      0.71      0.71      1500\n",
      "\n"
     ]
    }
   ],
   "source": [
    "p1 = m_gs1.predict(x_val)\n",
    "print(classification_report(y_val,p1))"
   ]
  },
  {
   "cell_type": "markdown",
   "metadata": {},
   "source": [
    "- 튜닝 결과를 그래프로"
   ]
  },
  {
   "cell_type": "code",
   "execution_count": 21,
   "metadata": {},
   "outputs": [
    {
     "data": {
      "text/html": [
       "<div>\n",
       "<style scoped>\n",
       "    .dataframe tbody tr th:only-of-type {\n",
       "        vertical-align: middle;\n",
       "    }\n",
       "\n",
       "    .dataframe tbody tr th {\n",
       "        vertical-align: top;\n",
       "    }\n",
       "\n",
       "    .dataframe thead th {\n",
       "        text-align: right;\n",
       "    }\n",
       "</style>\n",
       "<table border=\"1\" class=\"dataframe\">\n",
       "  <thead>\n",
       "    <tr style=\"text-align: right;\">\n",
       "      <th></th>\n",
       "      <th>mean_fit_time</th>\n",
       "      <th>std_fit_time</th>\n",
       "      <th>mean_score_time</th>\n",
       "      <th>std_score_time</th>\n",
       "      <th>param_n_estimators</th>\n",
       "      <th>params</th>\n",
       "      <th>split0_test_score</th>\n",
       "      <th>split1_test_score</th>\n",
       "      <th>split2_test_score</th>\n",
       "      <th>split3_test_score</th>\n",
       "      <th>split4_test_score</th>\n",
       "      <th>mean_test_score</th>\n",
       "      <th>std_test_score</th>\n",
       "      <th>rank_test_score</th>\n",
       "    </tr>\n",
       "  </thead>\n",
       "  <tbody>\n",
       "    <tr>\n",
       "      <th>0</th>\n",
       "      <td>0.044449</td>\n",
       "      <td>0.007971</td>\n",
       "      <td>0.006050</td>\n",
       "      <td>0.001666</td>\n",
       "      <td>5</td>\n",
       "      <td>{'n_estimators': 5}</td>\n",
       "      <td>0.634286</td>\n",
       "      <td>0.680000</td>\n",
       "      <td>0.611429</td>\n",
       "      <td>0.638571</td>\n",
       "      <td>0.621429</td>\n",
       "      <td>0.637143</td>\n",
       "      <td>0.023474</td>\n",
       "      <td>40</td>\n",
       "    </tr>\n",
       "    <tr>\n",
       "      <th>1</th>\n",
       "      <td>0.078572</td>\n",
       "      <td>0.005672</td>\n",
       "      <td>0.009081</td>\n",
       "      <td>0.004941</td>\n",
       "      <td>10</td>\n",
       "      <td>{'n_estimators': 10}</td>\n",
       "      <td>0.631429</td>\n",
       "      <td>0.660000</td>\n",
       "      <td>0.678571</td>\n",
       "      <td>0.657143</td>\n",
       "      <td>0.658571</td>\n",
       "      <td>0.657143</td>\n",
       "      <td>0.015037</td>\n",
       "      <td>39</td>\n",
       "    </tr>\n",
       "    <tr>\n",
       "      <th>2</th>\n",
       "      <td>0.122490</td>\n",
       "      <td>0.002993</td>\n",
       "      <td>0.010312</td>\n",
       "      <td>0.003504</td>\n",
       "      <td>15</td>\n",
       "      <td>{'n_estimators': 15}</td>\n",
       "      <td>0.641429</td>\n",
       "      <td>0.680000</td>\n",
       "      <td>0.674286</td>\n",
       "      <td>0.665714</td>\n",
       "      <td>0.671429</td>\n",
       "      <td>0.666571</td>\n",
       "      <td>0.013389</td>\n",
       "      <td>38</td>\n",
       "    </tr>\n",
       "    <tr>\n",
       "      <th>3</th>\n",
       "      <td>0.156466</td>\n",
       "      <td>0.010795</td>\n",
       "      <td>0.010484</td>\n",
       "      <td>0.001179</td>\n",
       "      <td>20</td>\n",
       "      <td>{'n_estimators': 20}</td>\n",
       "      <td>0.632857</td>\n",
       "      <td>0.684286</td>\n",
       "      <td>0.678571</td>\n",
       "      <td>0.678571</td>\n",
       "      <td>0.682857</td>\n",
       "      <td>0.671429</td>\n",
       "      <td>0.019420</td>\n",
       "      <td>35</td>\n",
       "    </tr>\n",
       "    <tr>\n",
       "      <th>4</th>\n",
       "      <td>0.247137</td>\n",
       "      <td>0.041798</td>\n",
       "      <td>0.016376</td>\n",
       "      <td>0.004302</td>\n",
       "      <td>25</td>\n",
       "      <td>{'n_estimators': 25}</td>\n",
       "      <td>0.655714</td>\n",
       "      <td>0.695714</td>\n",
       "      <td>0.651429</td>\n",
       "      <td>0.661429</td>\n",
       "      <td>0.684286</td>\n",
       "      <td>0.669714</td>\n",
       "      <td>0.017247</td>\n",
       "      <td>36</td>\n",
       "    </tr>\n",
       "  </tbody>\n",
       "</table>\n",
       "</div>"
      ],
      "text/plain": [
       "   mean_fit_time  std_fit_time  mean_score_time  std_score_time  \\\n",
       "0       0.044449      0.007971         0.006050        0.001666   \n",
       "1       0.078572      0.005672         0.009081        0.004941   \n",
       "2       0.122490      0.002993         0.010312        0.003504   \n",
       "3       0.156466      0.010795         0.010484        0.001179   \n",
       "4       0.247137      0.041798         0.016376        0.004302   \n",
       "\n",
       "  param_n_estimators                params  split0_test_score  \\\n",
       "0                  5   {'n_estimators': 5}           0.634286   \n",
       "1                 10  {'n_estimators': 10}           0.631429   \n",
       "2                 15  {'n_estimators': 15}           0.641429   \n",
       "3                 20  {'n_estimators': 20}           0.632857   \n",
       "4                 25  {'n_estimators': 25}           0.655714   \n",
       "\n",
       "   split1_test_score  split2_test_score  split3_test_score  split4_test_score  \\\n",
       "0           0.680000           0.611429           0.638571           0.621429   \n",
       "1           0.660000           0.678571           0.657143           0.658571   \n",
       "2           0.680000           0.674286           0.665714           0.671429   \n",
       "3           0.684286           0.678571           0.678571           0.682857   \n",
       "4           0.695714           0.651429           0.661429           0.684286   \n",
       "\n",
       "   mean_test_score  std_test_score  rank_test_score  \n",
       "0         0.637143        0.023474               40  \n",
       "1         0.657143        0.015037               39  \n",
       "2         0.666571        0.013389               38  \n",
       "3         0.671429        0.019420               35  \n",
       "4         0.669714        0.017247               36  "
      ]
     },
     "execution_count": 21,
     "metadata": {},
     "output_type": "execute_result"
    }
   ],
   "source": [
    "# 튜닝 결과를 데이터프레임으로 저장\n",
    "result = pd.DataFrame(m_gs1.cv_results_)\n",
    "result.head()"
   ]
  },
  {
   "cell_type": "code",
   "execution_count": 22,
   "metadata": {},
   "outputs": [
    {
     "data": {
      "text/html": [
       "<div>\n",
       "<style scoped>\n",
       "    .dataframe tbody tr th:only-of-type {\n",
       "        vertical-align: middle;\n",
       "    }\n",
       "\n",
       "    .dataframe tbody tr th {\n",
       "        vertical-align: top;\n",
       "    }\n",
       "\n",
       "    .dataframe thead th {\n",
       "        text-align: right;\n",
       "    }\n",
       "</style>\n",
       "<table border=\"1\" class=\"dataframe\">\n",
       "  <thead>\n",
       "    <tr style=\"text-align: right;\">\n",
       "      <th></th>\n",
       "      <th>param_n_estimators</th>\n",
       "      <th>mean_test_score</th>\n",
       "    </tr>\n",
       "  </thead>\n",
       "  <tbody>\n",
       "    <tr>\n",
       "      <th>0</th>\n",
       "      <td>5</td>\n",
       "      <td>0.637143</td>\n",
       "    </tr>\n",
       "    <tr>\n",
       "      <th>1</th>\n",
       "      <td>10</td>\n",
       "      <td>0.657143</td>\n",
       "    </tr>\n",
       "    <tr>\n",
       "      <th>2</th>\n",
       "      <td>15</td>\n",
       "      <td>0.666571</td>\n",
       "    </tr>\n",
       "    <tr>\n",
       "      <th>3</th>\n",
       "      <td>20</td>\n",
       "      <td>0.671429</td>\n",
       "    </tr>\n",
       "    <tr>\n",
       "      <th>4</th>\n",
       "      <td>25</td>\n",
       "      <td>0.669714</td>\n",
       "    </tr>\n",
       "  </tbody>\n",
       "</table>\n",
       "</div>"
      ],
      "text/plain": [
       "  param_n_estimators  mean_test_score\n",
       "0                  5         0.637143\n",
       "1                 10         0.657143\n",
       "2                 15         0.666571\n",
       "3                 20         0.671429\n",
       "4                 25         0.669714"
      ]
     },
     "execution_count": 22,
     "metadata": {},
     "output_type": "execute_result"
    }
   ],
   "source": [
    "temp = result.loc[:,['param_n_estimators','mean_test_score']]\n",
    "temp.head()"
   ]
  },
  {
   "cell_type": "code",
   "execution_count": 23,
   "metadata": {},
   "outputs": [
    {
     "data": {
      "image/png": "[encoded data removed]",
      "text/plain": [
       "<Figure size 864x576 with 1 Axes>"
      ]
     },
     "metadata": {
      "needs_background": "light"
     },
     "output_type": "display_data"
    }
   ],
   "source": [
    "plt.figure(figsize=(12,8))\n",
    "plt.plot('param_n_estimators','mean_test_score',data=temp)\n",
    "plt.grid()\n",
    "plt.show()"
   ]
  },
  {
   "cell_type": "code",
   "execution_count": null,
   "metadata": {},
   "outputs": [],
   "source": []
  },
  {
   "cell_type": "markdown",
   "metadata": {
    "id": "s5pialxTDU9z"
   },
   "source": [
    "### (2) max_features 튜닝"
   ]
  },
  {
   "cell_type": "code",
   "execution_count": 24,
   "metadata": {
    "id": "6l46BbIJ806i"
   },
   "outputs": [
    {
     "data": {
      "text/plain": [
       "(3500, 20)"
      ]
     },
     "execution_count": 24,
     "metadata": {},
     "output_type": "execute_result"
    }
   ],
   "source": [
    "x_train.shape"
   ]
  },
  {
   "cell_type": "code",
   "execution_count": 33,
   "metadata": {
    "id": "XY0I2IgW802E"
   },
   "outputs": [
    {
     "data": {
      "text/plain": [
       "{'max_features': range(1, 21)}"
      ]
     },
     "execution_count": 33,
     "metadata": {},
     "output_type": "execute_result"
    }
   ],
   "source": [
    "# 1~20\n",
    "params = {'max_features':range(1,21)}\n",
    "params"
   ]
  },
  {
   "cell_type": "code",
   "execution_count": 35,
   "metadata": {
    "id": "rkcpNLh680zM"
   },
   "outputs": [],
   "source": [
    "# 기본모델\n",
    "m = RandomForestClassifier()\n",
    "# 그리드서치 모델 선언\n",
    "\n",
    "m_gs = GridSearchCV(m,params, cv = 5,verbose=3)\n",
    "\n",
    "# m_gs = GridSearchCV(RandomForestClassifier(),params,cv=5)"
   ]
  },
  {
   "cell_type": "code",
   "execution_count": 36,
   "metadata": {
    "id": "yg4ptiEJ80wW"
   },
   "outputs": [
    {
     "name": "stdout",
     "output_type": "stream",
     "text": [
      "Fitting 5 folds for each of 20 candidates, totalling 100 fits\n",
      "[CV 1/5] END .................................max_features=1; total time=   0.7s\n",
      "[CV 2/5] END .................................max_features=1; total time=   0.6s\n",
      "[CV 3/5] END .................................max_features=1; total time=   0.5s\n",
      "[CV 4/5] END .................................max_features=1; total time=   0.5s\n",
      "[CV 5/5] END .................................max_features=1; total time=   0.5s\n",
      "[CV 1/5] END .................................max_features=2; total time=   0.6s\n",
      "[CV 2/5] END .................................max_features=2; total time=   0.5s\n",
      "[CV 3/5] END .................................max_features=2; total time=   0.5s\n",
      "[CV 4/5] END .................................max_features=2; total time=   0.6s\n",
      "[CV 5/5] END .................................max_features=2; total time=   0.5s\n",
      "[CV 1/5] END .................................max_features=3; total time=   0.6s\n",
      "[CV 2/5] END .................................max_features=3; total time=   1.3s\n",
      "[CV 3/5] END .................................max_features=3; total time=   0.9s\n",
      "[CV 4/5] END .................................max_features=3; total time=   0.8s\n",
      "[CV 5/5] END .................................max_features=3; total time=   1.1s\n",
      "[CV 1/5] END .................................max_features=4; total time=   1.1s\n",
      "[CV 2/5] END .................................max_features=4; total time=   2.5s\n",
      "[CV 3/5] END .................................max_features=4; total time=   1.8s\n",
      "[CV 4/5] END .................................max_features=4; total time=   1.5s\n",
      "[CV 5/5] END .................................max_features=4; total time=   0.9s\n",
      "[CV 1/5] END .................................max_features=5; total time=   1.2s\n",
      "[CV 2/5] END .................................max_features=5; total time=   1.8s\n",
      "[CV 3/5] END .................................max_features=5; total time=   1.1s\n",
      "[CV 4/5] END .................................max_features=5; total time=   1.1s\n",
      "[CV 5/5] END .................................max_features=5; total time=   0.6s\n",
      "[CV 1/5] END .................................max_features=6; total time=   0.8s\n",
      "[CV 2/5] END .................................max_features=6; total time=   0.9s\n",
      "[CV 3/5] END .................................max_features=6; total time=   0.8s\n",
      "[CV 4/5] END .................................max_features=6; total time=   0.7s\n",
      "[CV 5/5] END .................................max_features=6; total time=   0.7s\n",
      "[CV 1/5] END .................................max_features=7; total time=   1.1s\n",
      "[CV 2/5] END .................................max_features=7; total time=   0.9s\n",
      "[CV 3/5] END .................................max_features=7; total time=   0.9s\n",
      "[CV 4/5] END .................................max_features=7; total time=   0.8s\n",
      "[CV 5/5] END .................................max_features=7; total time=   0.8s\n",
      "[CV 1/5] END .................................max_features=8; total time=   0.8s\n",
      "[CV 2/5] END .................................max_features=8; total time=   0.8s\n",
      "[CV 3/5] END .................................max_features=8; total time=   0.8s\n",
      "[CV 4/5] END .................................max_features=8; total time=   0.8s\n",
      "[CV 5/5] END .................................max_features=8; total time=   0.8s\n",
      "[CV 1/5] END .................................max_features=9; total time=   0.9s\n",
      "[CV 2/5] END .................................max_features=9; total time=   0.9s\n",
      "[CV 3/5] END .................................max_features=9; total time=   0.9s\n",
      "[CV 4/5] END .................................max_features=9; total time=   1.0s\n",
      "[CV 5/5] END .................................max_features=9; total time=   0.9s\n",
      "[CV 1/5] END ................................max_features=10; total time=   1.1s\n",
      "[CV 2/5] END ................................max_features=10; total time=   1.0s\n",
      "[CV 3/5] END ................................max_features=10; total time=   1.1s\n",
      "[CV 4/5] END ................................max_features=10; total time=   1.0s\n",
      "[CV 5/5] END ................................max_features=10; total time=   1.0s\n",
      "[CV 1/5] END ................................max_features=11; total time=   1.0s\n",
      "[CV 2/5] END ................................max_features=11; total time=   1.0s\n",
      "[CV 3/5] END ................................max_features=11; total time=   1.1s\n",
      "[CV 4/5] END ................................max_features=11; total time=   1.0s\n",
      "[CV 5/5] END ................................max_features=11; total time=   1.0s\n",
      "[CV 1/5] END ................................max_features=12; total time=   1.1s\n",
      "[CV 2/5] END ................................max_features=12; total time=   1.3s\n",
      "[CV 3/5] END ................................max_features=12; total time=   1.3s\n",
      "[CV 4/5] END ................................max_features=12; total time=   1.3s\n",
      "[CV 5/5] END ................................max_features=12; total time=   1.2s\n",
      "[CV 1/5] END ................................max_features=13; total time=   1.3s\n",
      "[CV 2/5] END ................................max_features=13; total time=   1.3s\n",
      "[CV 3/5] END ................................max_features=13; total time=   1.3s\n",
      "[CV 4/5] END ................................max_features=13; total time=   1.2s\n",
      "[CV 5/5] END ................................max_features=13; total time=   1.5s\n",
      "[CV 1/5] END ................................max_features=14; total time=   1.7s\n",
      "[CV 2/5] END ................................max_features=14; total time=   1.7s\n",
      "[CV 3/5] END ................................max_features=14; total time=   1.6s\n",
      "[CV 4/5] END ................................max_features=14; total time=   1.6s\n",
      "[CV 5/5] END ................................max_features=14; total time=   1.5s\n",
      "[CV 1/5] END ................................max_features=15; total time=   1.4s\n",
      "[CV 2/5] END ................................max_features=15; total time=   1.5s\n",
      "[CV 3/5] END ................................max_features=15; total time=   1.5s\n",
      "[CV 4/5] END ................................max_features=15; total time=   1.7s\n",
      "[CV 5/5] END ................................max_features=15; total time=   1.6s\n",
      "[CV 1/5] END ................................max_features=16; total time=   1.9s\n",
      "[CV 2/5] END ................................max_features=16; total time=   1.7s\n",
      "[CV 3/5] END ................................max_features=16; total time=   2.1s\n",
      "[CV 4/5] END ................................max_features=16; total time=   1.7s\n",
      "[CV 5/5] END ................................max_features=16; total time=   1.4s\n",
      "[CV 1/5] END ................................max_features=17; total time=   1.6s\n",
      "[CV 2/5] END ................................max_features=17; total time=   1.7s\n",
      "[CV 3/5] END ................................max_features=17; total time=   1.5s\n",
      "[CV 4/5] END ................................max_features=17; total time=   1.7s\n",
      "[CV 5/5] END ................................max_features=17; total time=   1.7s\n",
      "[CV 1/5] END ................................max_features=18; total time=   1.7s\n",
      "[CV 2/5] END ................................max_features=18; total time=   1.7s\n",
      "[CV 3/5] END ................................max_features=18; total time=   1.6s\n",
      "[CV 4/5] END ................................max_features=18; total time=   1.6s\n",
      "[CV 5/5] END ................................max_features=18; total time=   1.7s\n",
      "[CV 1/5] END ................................max_features=19; total time=   1.7s\n",
      "[CV 2/5] END ................................max_features=19; total time=   1.7s\n",
      "[CV 3/5] END ................................max_features=19; total time=   1.6s\n",
      "[CV 4/5] END ................................max_features=19; total time=   1.7s\n",
      "[CV 5/5] END ................................max_features=19; total time=   1.6s\n",
      "[CV 1/5] END ................................max_features=20; total time=   1.7s\n",
      "[CV 2/5] END ................................max_features=20; total time=   1.8s\n",
      "[CV 3/5] END ................................max_features=20; total time=   2.1s\n",
      "[CV 4/5] END ................................max_features=20; total time=   1.8s\n",
      "[CV 5/5] END ................................max_features=20; total time=   1.9s\n"
     ]
    },
    {
     "data": {
      "text/plain": [
       "GridSearchCV(cv=5, estimator=RandomForestClassifier(),\n",
       "             param_grid={'max_features': range(1, 21)}, verbose=3)"
      ]
     },
     "execution_count": 36,
     "metadata": {},
     "output_type": "execute_result"
    }
   ],
   "source": [
    "# 튜닝\n",
    "m_gs.fit(x_train,y_train)"
   ]
  },
  {
   "cell_type": "code",
   "execution_count": 42,
   "metadata": {},
   "outputs": [
    {
     "data": {
      "text/plain": [
       "({'max_features': 8}, 0.6871428571428572)"
      ]
     },
     "execution_count": 42,
     "metadata": {},
     "output_type": "execute_result"
    }
   ],
   "source": [
    "m_gs.best_params_,m_gs.best_score_"
   ]
  },
  {
   "cell_type": "code",
   "execution_count": 43,
   "metadata": {},
   "outputs": [
    {
     "name": "stdout",
     "output_type": "stream",
     "text": [
      "              precision    recall  f1-score   support\n",
      "\n",
      "           0       0.72      0.72      0.72       769\n",
      "           1       0.71      0.71      0.71       731\n",
      "\n",
      "    accuracy                           0.72      1500\n",
      "   macro avg       0.72      0.72      0.72      1500\n",
      "weighted avg       0.72      0.72      0.72      1500\n",
      "\n"
     ]
    }
   ],
   "source": [
    "p1 = m_gs.predict(x_val)\n",
    "print(classification_report(y_val,p1))"
   ]
  },
  {
   "cell_type": "code",
   "execution_count": 46,
   "metadata": {},
   "outputs": [
    {
     "data": {
      "text/html": [
       "<div>\n",
       "<style scoped>\n",
       "    .dataframe tbody tr th:only-of-type {\n",
       "        vertical-align: middle;\n",
       "    }\n",
       "\n",
       "    .dataframe tbody tr th {\n",
       "        vertical-align: top;\n",
       "    }\n",
       "\n",
       "    .dataframe thead th {\n",
       "        text-align: right;\n",
       "    }\n",
       "</style>\n",
       "<table border=\"1\" class=\"dataframe\">\n",
       "  <thead>\n",
       "    <tr style=\"text-align: right;\">\n",
       "      <th></th>\n",
       "      <th>mean_fit_time</th>\n",
       "      <th>std_fit_time</th>\n",
       "      <th>mean_score_time</th>\n",
       "      <th>std_score_time</th>\n",
       "      <th>param_max_features</th>\n",
       "      <th>params</th>\n",
       "      <th>split0_test_score</th>\n",
       "      <th>split1_test_score</th>\n",
       "      <th>split2_test_score</th>\n",
       "      <th>split3_test_score</th>\n",
       "      <th>split4_test_score</th>\n",
       "      <th>mean_test_score</th>\n",
       "      <th>std_test_score</th>\n",
       "      <th>rank_test_score</th>\n",
       "    </tr>\n",
       "  </thead>\n",
       "  <tbody>\n",
       "    <tr>\n",
       "      <th>0</th>\n",
       "      <td>0.611655</td>\n",
       "      <td>0.050336</td>\n",
       "      <td>0.047820</td>\n",
       "      <td>0.008043</td>\n",
       "      <td>1</td>\n",
       "      <td>{'max_features': 1}</td>\n",
       "      <td>0.635714</td>\n",
       "      <td>0.667143</td>\n",
       "      <td>0.662857</td>\n",
       "      <td>0.648571</td>\n",
       "      <td>0.668571</td>\n",
       "      <td>0.656571</td>\n",
       "      <td>0.012604</td>\n",
       "      <td>20</td>\n",
       "    </tr>\n",
       "    <tr>\n",
       "      <th>1</th>\n",
       "      <td>0.620442</td>\n",
       "      <td>0.043452</td>\n",
       "      <td>0.039058</td>\n",
       "      <td>0.005534</td>\n",
       "      <td>2</td>\n",
       "      <td>{'max_features': 2}</td>\n",
       "      <td>0.657143</td>\n",
       "      <td>0.705714</td>\n",
       "      <td>0.662857</td>\n",
       "      <td>0.665714</td>\n",
       "      <td>0.697143</td>\n",
       "      <td>0.677714</td>\n",
       "      <td>0.019745</td>\n",
       "      <td>12</td>\n",
       "    </tr>\n",
       "    <tr>\n",
       "      <th>2</th>\n",
       "      <td>0.953641</td>\n",
       "      <td>0.219735</td>\n",
       "      <td>0.077148</td>\n",
       "      <td>0.022083</td>\n",
       "      <td>3</td>\n",
       "      <td>{'max_features': 3}</td>\n",
       "      <td>0.652857</td>\n",
       "      <td>0.704286</td>\n",
       "      <td>0.692857</td>\n",
       "      <td>0.682857</td>\n",
       "      <td>0.687143</td>\n",
       "      <td>0.684000</td>\n",
       "      <td>0.017152</td>\n",
       "      <td>2</td>\n",
       "    </tr>\n",
       "    <tr>\n",
       "      <th>3</th>\n",
       "      <td>1.550530</td>\n",
       "      <td>0.543219</td>\n",
       "      <td>0.112173</td>\n",
       "      <td>0.050354</td>\n",
       "      <td>4</td>\n",
       "      <td>{'max_features': 4}</td>\n",
       "      <td>0.655714</td>\n",
       "      <td>0.698571</td>\n",
       "      <td>0.675714</td>\n",
       "      <td>0.684286</td>\n",
       "      <td>0.684286</td>\n",
       "      <td>0.679714</td>\n",
       "      <td>0.014067</td>\n",
       "      <td>8</td>\n",
       "    </tr>\n",
       "    <tr>\n",
       "      <th>4</th>\n",
       "      <td>1.220110</td>\n",
       "      <td>0.362458</td>\n",
       "      <td>0.062324</td>\n",
       "      <td>0.030375</td>\n",
       "      <td>5</td>\n",
       "      <td>{'max_features': 5}</td>\n",
       "      <td>0.668571</td>\n",
       "      <td>0.698571</td>\n",
       "      <td>0.677143</td>\n",
       "      <td>0.674286</td>\n",
       "      <td>0.688571</td>\n",
       "      <td>0.681429</td>\n",
       "      <td>0.010767</td>\n",
       "      <td>5</td>\n",
       "    </tr>\n",
       "  </tbody>\n",
       "</table>\n",
       "</div>"
      ],
      "text/plain": [
       "   mean_fit_time  std_fit_time  mean_score_time  std_score_time  \\\n",
       "0       0.611655      0.050336         0.047820        0.008043   \n",
       "1       0.620442      0.043452         0.039058        0.005534   \n",
       "2       0.953641      0.219735         0.077148        0.022083   \n",
       "3       1.550530      0.543219         0.112173        0.050354   \n",
       "4       1.220110      0.362458         0.062324        0.030375   \n",
       "\n",
       "  param_max_features               params  split0_test_score  \\\n",
       "0                  1  {'max_features': 1}           0.635714   \n",
       "1                  2  {'max_features': 2}           0.657143   \n",
       "2                  3  {'max_features': 3}           0.652857   \n",
       "3                  4  {'max_features': 4}           0.655714   \n",
       "4                  5  {'max_features': 5}           0.668571   \n",
       "\n",
       "   split1_test_score  split2_test_score  split3_test_score  split4_test_score  \\\n",
       "0           0.667143           0.662857           0.648571           0.668571   \n",
       "1           0.705714           0.662857           0.665714           0.697143   \n",
       "2           0.704286           0.692857           0.682857           0.687143   \n",
       "3           0.698571           0.675714           0.684286           0.684286   \n",
       "4           0.698571           0.677143           0.674286           0.688571   \n",
       "\n",
       "   mean_test_score  std_test_score  rank_test_score  \n",
       "0         0.656571        0.012604               20  \n",
       "1         0.677714        0.019745               12  \n",
       "2         0.684000        0.017152                2  \n",
       "3         0.679714        0.014067                8  \n",
       "4         0.681429        0.010767                5  "
      ]
     },
     "execution_count": 46,
     "metadata": {},
     "output_type": "execute_result"
    }
   ],
   "source": [
    "# 튜닝 결과를 데이터프레임으로 저장\n",
    "result = pd.DataFrame(m_gs.cv_results_)\n",
    "result.head()"
   ]
  },
  {
   "cell_type": "code",
   "execution_count": 48,
   "metadata": {},
   "outputs": [
    {
     "data": {
      "text/html": [
       "<div>\n",
       "<style scoped>\n",
       "    .dataframe tbody tr th:only-of-type {\n",
       "        vertical-align: middle;\n",
       "    }\n",
       "\n",
       "    .dataframe tbody tr th {\n",
       "        vertical-align: top;\n",
       "    }\n",
       "\n",
       "    .dataframe thead th {\n",
       "        text-align: right;\n",
       "    }\n",
       "</style>\n",
       "<table border=\"1\" class=\"dataframe\">\n",
       "  <thead>\n",
       "    <tr style=\"text-align: right;\">\n",
       "      <th></th>\n",
       "      <th>param_max_features</th>\n",
       "      <th>mean_test_score</th>\n",
       "    </tr>\n",
       "  </thead>\n",
       "  <tbody>\n",
       "    <tr>\n",
       "      <th>0</th>\n",
       "      <td>1</td>\n",
       "      <td>0.656571</td>\n",
       "    </tr>\n",
       "    <tr>\n",
       "      <th>1</th>\n",
       "      <td>2</td>\n",
       "      <td>0.677714</td>\n",
       "    </tr>\n",
       "    <tr>\n",
       "      <th>2</th>\n",
       "      <td>3</td>\n",
       "      <td>0.684000</td>\n",
       "    </tr>\n",
       "    <tr>\n",
       "      <th>3</th>\n",
       "      <td>4</td>\n",
       "      <td>0.679714</td>\n",
       "    </tr>\n",
       "    <tr>\n",
       "      <th>4</th>\n",
       "      <td>5</td>\n",
       "      <td>0.681429</td>\n",
       "    </tr>\n",
       "  </tbody>\n",
       "</table>\n",
       "</div>"
      ],
      "text/plain": [
       "  param_max_features  mean_test_score\n",
       "0                  1         0.656571\n",
       "1                  2         0.677714\n",
       "2                  3         0.684000\n",
       "3                  4         0.679714\n",
       "4                  5         0.681429"
      ]
     },
     "execution_count": 48,
     "metadata": {},
     "output_type": "execute_result"
    }
   ],
   "source": [
    "temp = result.loc[:, ['param_max_features', 'mean_test_score']]\n",
    "temp.head()"
   ]
  },
  {
   "cell_type": "code",
   "execution_count": 49,
   "metadata": {},
   "outputs": [
    {
     "data": {
      "image/png": "[encoded data removed]",
      "text/plain": [
       "<Figure size 864x576 with 1 Axes>"
      ]
     },
     "metadata": {
      "needs_background": "light"
     },
     "output_type": "display_data"
    }
   ],
   "source": [
    "plt.figure(figsize = (12,8))\n",
    "plt.plot('param_max_features', 'mean_test_score', data = temp,marker='o')\n",
    "plt.grid()\n",
    "plt.show()"
   ]
  },
  {
   "cell_type": "code",
   "execution_count": null,
   "metadata": {},
   "outputs": [],
   "source": []
  },
  {
   "cell_type": "markdown",
   "metadata": {
    "id": "tQ3ZqJmgi1d1"
   },
   "source": [
    "* 변수 중요도"
   ]
  },
  {
   "cell_type": "code",
   "execution_count": null,
   "metadata": {
    "id": "Tjp-cmDm83D5"
   },
   "outputs": [],
   "source": []
  },
  {
   "cell_type": "code",
   "execution_count": null,
   "metadata": {
    "id": "y4n1X6yc83An"
   },
   "outputs": [],
   "source": []
  },
  {
   "cell_type": "markdown",
   "metadata": {
    "id": "9mF0x5vJi9yN"
   },
   "source": [
    "### (3) n_estimators와 max_features를 한꺼번에 튜닝"
   ]
  },
  {
   "cell_type": "code",
   "execution_count": 54,
   "metadata": {
    "id": "ClgmOnqslzU3"
   },
   "outputs": [
    {
     "data": {
      "text/plain": [
       "{'n_estimators': range(5, 201, 20), 'max_features': range(1, 21)}"
      ]
     },
     "execution_count": 54,
     "metadata": {},
     "output_type": "execute_result"
    }
   ],
   "source": [
    "params = {'n_estimators': range(5,201,20),'max_features':range(1,21)}\n",
    "params"
   ]
  },
  {
   "cell_type": "code",
   "execution_count": 55,
   "metadata": {
    "id": "Bu8CnKCz841O"
   },
   "outputs": [],
   "source": [
    "m3 = RandomForestClassifier()\n",
    "\n",
    "m_gs3 = GridSearchCV(m3,params,cv=5,verbose=3)"
   ]
  },
  {
   "cell_type": "code",
   "execution_count": 56,
   "metadata": {
    "id": "Yf91TVuC847E"
   },
   "outputs": [
    {
     "name": "stdout",
     "output_type": "stream",
     "text": [
      "Fitting 5 folds for each of 200 candidates, totalling 1000 fits\n",
      "[CV 1/5] END .................max_features=1, n_estimators=5; total time=   0.0s\n",
      "[CV 2/5] END .................max_features=1, n_estimators=5; total time=   0.0s\n",
      "[CV 3/5] END .................max_features=1, n_estimators=5; total time=   0.0s\n",
      "[CV 4/5] END .................max_features=1, n_estimators=5; total time=   0.0s\n",
      "[CV 5/5] END .................max_features=1, n_estimators=5; total time=   0.0s\n",
      "[CV 1/5] END ................max_features=1, n_estimators=25; total time=   0.0s\n",
      "[CV 2/5] END ................max_features=1, n_estimators=25; total time=   0.0s\n",
      "[CV 3/5] END ................max_features=1, n_estimators=25; total time=   0.0s\n",
      "[CV 4/5] END ................max_features=1, n_estimators=25; total time=   0.0s\n",
      "[CV 5/5] END ................max_features=1, n_estimators=25; total time=   0.0s\n",
      "[CV 1/5] END ................max_features=1, n_estimators=45; total time=   0.1s\n",
      "[CV 2/5] END ................max_features=1, n_estimators=45; total time=   0.1s\n",
      "[CV 3/5] END ................max_features=1, n_estimators=45; total time=   0.1s\n",
      "[CV 4/5] END ................max_features=1, n_estimators=45; total time=   0.1s\n",
      "[CV 5/5] END ................max_features=1, n_estimators=45; total time=   0.1s\n",
      "[CV 1/5] END ................max_features=1, n_estimators=65; total time=   0.2s\n",
      "[CV 2/5] END ................max_features=1, n_estimators=65; total time=   0.2s\n",
      "[CV 3/5] END ................max_features=1, n_estimators=65; total time=   0.2s\n",
      "[CV 4/5] END ................max_features=1, n_estimators=65; total time=   0.2s\n",
      "[CV 5/5] END ................max_features=1, n_estimators=65; total time=   0.2s\n",
      "[CV 1/5] END ................max_features=1, n_estimators=85; total time=   0.3s\n",
      "[CV 2/5] END ................max_features=1, n_estimators=85; total time=   0.3s\n",
      "[CV 3/5] END ................max_features=1, n_estimators=85; total time=   0.3s\n",
      "[CV 4/5] END ................max_features=1, n_estimators=85; total time=   0.4s\n",
      "[CV 5/5] END ................max_features=1, n_estimators=85; total time=   0.3s\n",
      "[CV 1/5] END ...............max_features=1, n_estimators=105; total time=   0.4s\n",
      "[CV 2/5] END ...............max_features=1, n_estimators=105; total time=   0.4s\n",
      "[CV 3/5] END ...............max_features=1, n_estimators=105; total time=   0.4s\n",
      "[CV 4/5] END ...............max_features=1, n_estimators=105; total time=   0.4s\n",
      "[CV 5/5] END ...............max_features=1, n_estimators=105; total time=   0.4s\n",
      "[CV 1/5] END ...............max_features=1, n_estimators=125; total time=   0.5s\n",
      "[CV 2/5] END ...............max_features=1, n_estimators=125; total time=   0.5s\n",
      "[CV 3/5] END ...............max_features=1, n_estimators=125; total time=   0.5s\n",
      "[CV 4/5] END ...............max_features=1, n_estimators=125; total time=   0.6s\n",
      "[CV 5/5] END ...............max_features=1, n_estimators=125; total time=   0.6s\n",
      "[CV 1/5] END ...............max_features=1, n_estimators=145; total time=   0.6s\n",
      "[CV 2/5] END ...............max_features=1, n_estimators=145; total time=   0.7s\n",
      "[CV 3/5] END ...............max_features=1, n_estimators=145; total time=   0.9s\n",
      "[CV 4/5] END ...............max_features=1, n_estimators=145; total time=   0.9s\n",
      "[CV 5/5] END ...............max_features=1, n_estimators=145; total time=   0.8s\n",
      "[CV 1/5] END ...............max_features=1, n_estimators=165; total time=   0.7s\n",
      "[CV 2/5] END ...............max_features=1, n_estimators=165; total time=   0.8s\n",
      "[CV 3/5] END ...............max_features=1, n_estimators=165; total time=   0.7s\n",
      "[CV 4/5] END ...............max_features=1, n_estimators=165; total time=   0.7s\n",
      "[CV 5/5] END ...............max_features=1, n_estimators=165; total time=   0.7s\n",
      "[CV 1/5] END ...............max_features=1, n_estimators=185; total time=   1.0s\n",
      "[CV 2/5] END ...............max_features=1, n_estimators=185; total time=   0.9s\n",
      "[CV 3/5] END ...............max_features=1, n_estimators=185; total time=   0.7s\n",
      "[CV 4/5] END ...............max_features=1, n_estimators=185; total time=   0.8s\n",
      "[CV 5/5] END ...............max_features=1, n_estimators=185; total time=   0.9s\n",
      "[CV 1/5] END .................max_features=2, n_estimators=5; total time=   0.0s\n",
      "[CV 2/5] END .................max_features=2, n_estimators=5; total time=   0.0s\n",
      "[CV 3/5] END .................max_features=2, n_estimators=5; total time=   0.0s\n",
      "[CV 4/5] END .................max_features=2, n_estimators=5; total time=   0.0s\n",
      "[CV 5/5] END .................max_features=2, n_estimators=5; total time=   0.0s\n",
      "[CV 1/5] END ................max_features=2, n_estimators=25; total time=   0.0s\n",
      "[CV 2/5] END ................max_features=2, n_estimators=25; total time=   0.0s\n",
      "[CV 3/5] END ................max_features=2, n_estimators=25; total time=   0.0s\n",
      "[CV 4/5] END ................max_features=2, n_estimators=25; total time=   0.0s\n",
      "[CV 5/5] END ................max_features=2, n_estimators=25; total time=   0.0s\n",
      "[CV 1/5] END ................max_features=2, n_estimators=45; total time=   0.1s\n",
      "[CV 2/5] END ................max_features=2, n_estimators=45; total time=   0.1s\n",
      "[CV 3/5] END ................max_features=2, n_estimators=45; total time=   0.2s\n",
      "[CV 4/5] END ................max_features=2, n_estimators=45; total time=   0.2s\n",
      "[CV 5/5] END ................max_features=2, n_estimators=45; total time=   0.2s\n",
      "[CV 1/5] END ................max_features=2, n_estimators=65; total time=   0.2s\n",
      "[CV 2/5] END ................max_features=2, n_estimators=65; total time=   0.2s\n",
      "[CV 3/5] END ................max_features=2, n_estimators=65; total time=   0.2s\n",
      "[CV 4/5] END ................max_features=2, n_estimators=65; total time=   0.2s\n",
      "[CV 5/5] END ................max_features=2, n_estimators=65; total time=   0.2s\n",
      "[CV 1/5] END ................max_features=2, n_estimators=85; total time=   0.3s\n",
      "[CV 2/5] END ................max_features=2, n_estimators=85; total time=   0.3s\n",
      "[CV 3/5] END ................max_features=2, n_estimators=85; total time=   0.3s\n",
      "[CV 4/5] END ................max_features=2, n_estimators=85; total time=   0.4s\n",
      "[CV 5/5] END ................max_features=2, n_estimators=85; total time=   0.4s\n",
      "[CV 1/5] END ...............max_features=2, n_estimators=105; total time=   0.8s\n",
      "[CV 2/5] END ...............max_features=2, n_estimators=105; total time=   0.6s\n",
      "[CV 3/5] END ...............max_features=2, n_estimators=105; total time=   0.7s\n",
      "[CV 4/5] END ...............max_features=2, n_estimators=105; total time=   0.7s\n",
      "[CV 5/5] END ...............max_features=2, n_estimators=105; total time=   0.6s\n",
      "[CV 1/5] END ...............max_features=2, n_estimators=125; total time=   0.6s\n",
      "[CV 2/5] END ...............max_features=2, n_estimators=125; total time=   0.7s\n",
      "[CV 3/5] END ...............max_features=2, n_estimators=125; total time=   1.0s\n",
      "[CV 4/5] END ...............max_features=2, n_estimators=125; total time=   0.6s\n",
      "[CV 5/5] END ...............max_features=2, n_estimators=125; total time=   0.6s\n",
      "[CV 1/5] END ...............max_features=2, n_estimators=145; total time=   0.7s\n",
      "[CV 2/5] END ...............max_features=2, n_estimators=145; total time=   0.7s\n",
      "[CV 3/5] END ...............max_features=2, n_estimators=145; total time=   0.7s\n",
      "[CV 4/5] END ...............max_features=2, n_estimators=145; total time=   0.7s\n",
      "[CV 5/5] END ...............max_features=2, n_estimators=145; total time=   0.8s\n",
      "[CV 1/5] END ...............max_features=2, n_estimators=165; total time=   0.8s\n",
      "[CV 2/5] END ...............max_features=2, n_estimators=165; total time=   0.7s\n",
      "[CV 3/5] END ...............max_features=2, n_estimators=165; total time=   0.7s\n",
      "[CV 4/5] END ...............max_features=2, n_estimators=165; total time=   0.8s\n",
      "[CV 5/5] END ...............max_features=2, n_estimators=165; total time=   0.7s\n",
      "[CV 1/5] END ...............max_features=2, n_estimators=185; total time=   1.0s\n",
      "[CV 2/5] END ...............max_features=2, n_estimators=185; total time=   0.9s\n",
      "[CV 3/5] END ...............max_features=2, n_estimators=185; total time=   0.8s\n",
      "[CV 4/5] END ...............max_features=2, n_estimators=185; total time=   0.8s\n",
      "[CV 5/5] END ...............max_features=2, n_estimators=185; total time=   0.8s\n",
      "[CV 1/5] END .................max_features=3, n_estimators=5; total time=   0.0s\n",
      "[CV 2/5] END .................max_features=3, n_estimators=5; total time=   0.0s\n",
      "[CV 3/5] END .................max_features=3, n_estimators=5; total time=   0.0s\n",
      "[CV 4/5] END .................max_features=3, n_estimators=5; total time=   0.0s\n",
      "[CV 5/5] END .................max_features=3, n_estimators=5; total time=   0.0s\n"
     ]
    },
    {
     "name": "stdout",
     "output_type": "stream",
     "text": [
      "[CV 1/5] END ................max_features=3, n_estimators=25; total time=   0.1s\n",
      "[CV 2/5] END ................max_features=3, n_estimators=25; total time=   0.1s\n",
      "[CV 3/5] END ................max_features=3, n_estimators=25; total time=   0.1s\n",
      "[CV 4/5] END ................max_features=3, n_estimators=25; total time=   0.1s\n",
      "[CV 5/5] END ................max_features=3, n_estimators=25; total time=   0.1s\n",
      "[CV 1/5] END ................max_features=3, n_estimators=45; total time=   0.2s\n",
      "[CV 2/5] END ................max_features=3, n_estimators=45; total time=   0.2s\n",
      "[CV 3/5] END ................max_features=3, n_estimators=45; total time=   0.2s\n",
      "[CV 4/5] END ................max_features=3, n_estimators=45; total time=   0.2s\n",
      "[CV 5/5] END ................max_features=3, n_estimators=45; total time=   0.1s\n",
      "[CV 1/5] END ................max_features=3, n_estimators=65; total time=   0.3s\n",
      "[CV 2/5] END ................max_features=3, n_estimators=65; total time=   0.3s\n",
      "[CV 3/5] END ................max_features=3, n_estimators=65; total time=   0.3s\n",
      "[CV 4/5] END ................max_features=3, n_estimators=65; total time=   0.3s\n",
      "[CV 5/5] END ................max_features=3, n_estimators=65; total time=   0.3s\n",
      "[CV 1/5] END ................max_features=3, n_estimators=85; total time=   0.4s\n",
      "[CV 2/5] END ................max_features=3, n_estimators=85; total time=   0.5s\n",
      "[CV 3/5] END ................max_features=3, n_estimators=85; total time=   0.5s\n",
      "[CV 4/5] END ................max_features=3, n_estimators=85; total time=   0.5s\n",
      "[CV 5/5] END ................max_features=3, n_estimators=85; total time=   0.4s\n",
      "[CV 1/5] END ...............max_features=3, n_estimators=105; total time=   0.5s\n",
      "[CV 2/5] END ...............max_features=3, n_estimators=105; total time=   0.6s\n",
      "[CV 3/5] END ...............max_features=3, n_estimators=105; total time=   0.6s\n",
      "[CV 4/5] END ...............max_features=3, n_estimators=105; total time=   0.6s\n",
      "[CV 5/5] END ...............max_features=3, n_estimators=105; total time=   0.5s\n",
      "[CV 1/5] END ...............max_features=3, n_estimators=125; total time=   0.7s\n",
      "[CV 2/5] END ...............max_features=3, n_estimators=125; total time=   0.9s\n",
      "[CV 3/5] END ...............max_features=3, n_estimators=125; total time=   0.7s\n",
      "[CV 4/5] END ...............max_features=3, n_estimators=125; total time=   0.7s\n",
      "[CV 5/5] END ...............max_features=3, n_estimators=125; total time=   0.7s\n",
      "[CV 1/5] END ...............max_features=3, n_estimators=145; total time=   0.8s\n",
      "[CV 2/5] END ...............max_features=3, n_estimators=145; total time=   0.8s\n",
      "[CV 3/5] END ...............max_features=3, n_estimators=145; total time=   0.8s\n",
      "[CV 4/5] END ...............max_features=3, n_estimators=145; total time=   0.8s\n",
      "[CV 5/5] END ...............max_features=3, n_estimators=145; total time=   1.1s\n",
      "[CV 1/5] END ...............max_features=3, n_estimators=165; total time=   1.4s\n",
      "[CV 2/5] END ...............max_features=3, n_estimators=165; total time=   2.0s\n",
      "[CV 3/5] END ...............max_features=3, n_estimators=165; total time=   1.4s\n",
      "[CV 4/5] END ...............max_features=3, n_estimators=165; total time=   1.4s\n",
      "[CV 5/5] END ...............max_features=3, n_estimators=165; total time=   1.6s\n",
      "[CV 1/5] END ...............max_features=3, n_estimators=185; total time=   2.2s\n",
      "[CV 2/5] END ...............max_features=3, n_estimators=185; total time=   1.6s\n",
      "[CV 3/5] END ...............max_features=3, n_estimators=185; total time=   2.0s\n",
      "[CV 4/5] END ...............max_features=3, n_estimators=185; total time=   1.5s\n",
      "[CV 5/5] END ...............max_features=3, n_estimators=185; total time=   1.6s\n",
      "[CV 1/5] END .................max_features=4, n_estimators=5; total time=   0.0s\n",
      "[CV 2/5] END .................max_features=4, n_estimators=5; total time=   0.0s\n",
      "[CV 3/5] END .................max_features=4, n_estimators=5; total time=   0.0s\n",
      "[CV 4/5] END .................max_features=4, n_estimators=5; total time=   0.0s\n",
      "[CV 5/5] END .................max_features=4, n_estimators=5; total time=   0.0s\n",
      "[CV 1/5] END ................max_features=4, n_estimators=25; total time=   0.2s\n",
      "[CV 2/5] END ................max_features=4, n_estimators=25; total time=   0.4s\n",
      "[CV 3/5] END ................max_features=4, n_estimators=25; total time=   0.2s\n",
      "[CV 4/5] END ................max_features=4, n_estimators=25; total time=   0.2s\n",
      "[CV 5/5] END ................max_features=4, n_estimators=25; total time=   0.2s\n",
      "[CV 1/5] END ................max_features=4, n_estimators=45; total time=   0.3s\n",
      "[CV 2/5] END ................max_features=4, n_estimators=45; total time=   0.2s\n",
      "[CV 3/5] END ................max_features=4, n_estimators=45; total time=   0.2s\n",
      "[CV 4/5] END ................max_features=4, n_estimators=45; total time=   0.2s\n",
      "[CV 5/5] END ................max_features=4, n_estimators=45; total time=   0.2s\n",
      "[CV 1/5] END ................max_features=4, n_estimators=65; total time=   0.3s\n",
      "[CV 2/5] END ................max_features=4, n_estimators=65; total time=   0.4s\n",
      "[CV 3/5] END ................max_features=4, n_estimators=65; total time=   0.3s\n",
      "[CV 4/5] END ................max_features=4, n_estimators=65; total time=   0.3s\n",
      "[CV 5/5] END ................max_features=4, n_estimators=65; total time=   0.3s\n",
      "[CV 1/5] END ................max_features=4, n_estimators=85; total time=   0.5s\n",
      "[CV 2/5] END ................max_features=4, n_estimators=85; total time=   0.5s\n",
      "[CV 3/5] END ................max_features=4, n_estimators=85; total time=   0.6s\n",
      "[CV 4/5] END ................max_features=4, n_estimators=85; total time=   0.6s\n",
      "[CV 5/5] END ................max_features=4, n_estimators=85; total time=   0.6s\n",
      "[CV 1/5] END ...............max_features=4, n_estimators=105; total time=   0.9s\n",
      "[CV 2/5] END ...............max_features=4, n_estimators=105; total time=   0.8s\n",
      "[CV 3/5] END ...............max_features=4, n_estimators=105; total time=   0.9s\n",
      "[CV 4/5] END ...............max_features=4, n_estimators=105; total time=   0.8s\n",
      "[CV 5/5] END ...............max_features=4, n_estimators=105; total time=   0.8s\n",
      "[CV 1/5] END ...............max_features=4, n_estimators=125; total time=   1.8s\n",
      "[CV 2/5] END ...............max_features=4, n_estimators=125; total time=   1.3s\n",
      "[CV 3/5] END ...............max_features=4, n_estimators=125; total time=   1.5s\n",
      "[CV 4/5] END ...............max_features=4, n_estimators=125; total time=   1.0s\n",
      "[CV 5/5] END ...............max_features=4, n_estimators=125; total time=   0.9s\n",
      "[CV 1/5] END ...............max_features=4, n_estimators=145; total time=   1.1s\n",
      "[CV 2/5] END ...............max_features=4, n_estimators=145; total time=   1.4s\n",
      "[CV 3/5] END ...............max_features=4, n_estimators=145; total time=   1.2s\n",
      "[CV 4/5] END ...............max_features=4, n_estimators=145; total time=   1.0s\n",
      "[CV 5/5] END ...............max_features=4, n_estimators=145; total time=   1.0s\n",
      "[CV 1/5] END ...............max_features=4, n_estimators=165; total time=   1.2s\n",
      "[CV 2/5] END ...............max_features=4, n_estimators=165; total time=   1.3s\n",
      "[CV 3/5] END ...............max_features=4, n_estimators=165; total time=   1.1s\n",
      "[CV 4/5] END ...............max_features=4, n_estimators=165; total time=   1.1s\n",
      "[CV 5/5] END ...............max_features=4, n_estimators=165; total time=   1.0s\n",
      "[CV 1/5] END ...............max_features=4, n_estimators=185; total time=   1.4s\n",
      "[CV 2/5] END ...............max_features=4, n_estimators=185; total time=   1.2s\n",
      "[CV 3/5] END ...............max_features=4, n_estimators=185; total time=   1.1s\n",
      "[CV 4/5] END ...............max_features=4, n_estimators=185; total time=   1.2s\n",
      "[CV 5/5] END ...............max_features=4, n_estimators=185; total time=   1.5s\n",
      "[CV 1/5] END .................max_features=5, n_estimators=5; total time=   0.0s\n",
      "[CV 2/5] END .................max_features=5, n_estimators=5; total time=   0.0s\n",
      "[CV 3/5] END .................max_features=5, n_estimators=5; total time=   0.0s\n",
      "[CV 4/5] END .................max_features=5, n_estimators=5; total time=   0.0s\n",
      "[CV 5/5] END .................max_features=5, n_estimators=5; total time=   0.0s\n",
      "[CV 1/5] END ................max_features=5, n_estimators=25; total time=   0.1s\n",
      "[CV 2/5] END ................max_features=5, n_estimators=25; total time=   0.1s\n",
      "[CV 3/5] END ................max_features=5, n_estimators=25; total time=   0.1s\n"
     ]
    },
    {
     "name": "stdout",
     "output_type": "stream",
     "text": [
      "[CV 4/5] END ................max_features=5, n_estimators=25; total time=   0.1s\n",
      "[CV 5/5] END ................max_features=5, n_estimators=25; total time=   0.1s\n",
      "[CV 1/5] END ................max_features=5, n_estimators=45; total time=   0.3s\n",
      "[CV 2/5] END ................max_features=5, n_estimators=45; total time=   0.3s\n",
      "[CV 3/5] END ................max_features=5, n_estimators=45; total time=   0.3s\n",
      "[CV 4/5] END ................max_features=5, n_estimators=45; total time=   0.3s\n",
      "[CV 5/5] END ................max_features=5, n_estimators=45; total time=   0.3s\n",
      "[CV 1/5] END ................max_features=5, n_estimators=65; total time=   0.4s\n",
      "[CV 2/5] END ................max_features=5, n_estimators=65; total time=   0.5s\n",
      "[CV 3/5] END ................max_features=5, n_estimators=65; total time=   0.5s\n",
      "[CV 4/5] END ................max_features=5, n_estimators=65; total time=   0.5s\n",
      "[CV 5/5] END ................max_features=5, n_estimators=65; total time=   0.4s\n",
      "[CV 1/5] END ................max_features=5, n_estimators=85; total time=   0.5s\n",
      "[CV 2/5] END ................max_features=5, n_estimators=85; total time=   0.6s\n",
      "[CV 3/5] END ................max_features=5, n_estimators=85; total time=   0.7s\n",
      "[CV 4/5] END ................max_features=5, n_estimators=85; total time=   0.9s\n",
      "[CV 5/5] END ................max_features=5, n_estimators=85; total time=   0.7s\n",
      "[CV 1/5] END ...............max_features=5, n_estimators=105; total time=   0.9s\n",
      "[CV 2/5] END ...............max_features=5, n_estimators=105; total time=   0.9s\n",
      "[CV 3/5] END ...............max_features=5, n_estimators=105; total time=   0.8s\n",
      "[CV 4/5] END ...............max_features=5, n_estimators=105; total time=   0.7s\n",
      "[CV 5/5] END ...............max_features=5, n_estimators=105; total time=   0.8s\n",
      "[CV 1/5] END ...............max_features=5, n_estimators=125; total time=   1.0s\n",
      "[CV 2/5] END ...............max_features=5, n_estimators=125; total time=   1.0s\n",
      "[CV 3/5] END ...............max_features=5, n_estimators=125; total time=   0.9s\n",
      "[CV 4/5] END ...............max_features=5, n_estimators=125; total time=   1.0s\n",
      "[CV 5/5] END ...............max_features=5, n_estimators=125; total time=   1.0s\n",
      "[CV 1/5] END ...............max_features=5, n_estimators=145; total time=   1.2s\n",
      "[CV 2/5] END ...............max_features=5, n_estimators=145; total time=   1.1s\n",
      "[CV 3/5] END ...............max_features=5, n_estimators=145; total time=   1.1s\n",
      "[CV 4/5] END ...............max_features=5, n_estimators=145; total time=   1.5s\n",
      "[CV 5/5] END ...............max_features=5, n_estimators=145; total time=   1.4s\n",
      "[CV 1/5] END ...............max_features=5, n_estimators=165; total time=   1.8s\n",
      "[CV 2/5] END ...............max_features=5, n_estimators=165; total time=   1.4s\n",
      "[CV 3/5] END ...............max_features=5, n_estimators=165; total time=   1.5s\n",
      "[CV 4/5] END ...............max_features=5, n_estimators=165; total time=   1.6s\n",
      "[CV 5/5] END ...............max_features=5, n_estimators=165; total time=   1.3s\n",
      "[CV 1/5] END ...............max_features=5, n_estimators=185; total time=   1.3s\n",
      "[CV 2/5] END ...............max_features=5, n_estimators=185; total time=   1.6s\n",
      "[CV 3/5] END ...............max_features=5, n_estimators=185; total time=   1.4s\n",
      "[CV 4/5] END ...............max_features=5, n_estimators=185; total time=   1.5s\n",
      "[CV 5/5] END ...............max_features=5, n_estimators=185; total time=   1.6s\n",
      "[CV 1/5] END .................max_features=6, n_estimators=5; total time=   0.0s\n",
      "[CV 2/5] END .................max_features=6, n_estimators=5; total time=   0.0s\n",
      "[CV 3/5] END .................max_features=6, n_estimators=5; total time=   0.0s\n",
      "[CV 4/5] END .................max_features=6, n_estimators=5; total time=   0.0s\n",
      "[CV 5/5] END .................max_features=6, n_estimators=5; total time=   0.0s\n",
      "[CV 1/5] END ................max_features=6, n_estimators=25; total time=   0.2s\n",
      "[CV 2/5] END ................max_features=6, n_estimators=25; total time=   0.1s\n",
      "[CV 3/5] END ................max_features=6, n_estimators=25; total time=   0.2s\n",
      "[CV 4/5] END ................max_features=6, n_estimators=25; total time=   0.2s\n",
      "[CV 5/5] END ................max_features=6, n_estimators=25; total time=   0.2s\n",
      "[CV 1/5] END ................max_features=6, n_estimators=45; total time=   0.4s\n",
      "[CV 2/5] END ................max_features=6, n_estimators=45; total time=   0.4s\n",
      "[CV 3/5] END ................max_features=6, n_estimators=45; total time=   0.4s\n",
      "[CV 4/5] END ................max_features=6, n_estimators=45; total time=   0.5s\n",
      "[CV 5/5] END ................max_features=6, n_estimators=45; total time=   0.4s\n",
      "[CV 1/5] END ................max_features=6, n_estimators=65; total time=   0.8s\n",
      "[CV 2/5] END ................max_features=6, n_estimators=65; total time=   0.6s\n",
      "[CV 3/5] END ................max_features=6, n_estimators=65; total time=   0.6s\n",
      "[CV 4/5] END ................max_features=6, n_estimators=65; total time=   0.6s\n",
      "[CV 5/5] END ................max_features=6, n_estimators=65; total time=   0.6s\n",
      "[CV 1/5] END ................max_features=6, n_estimators=85; total time=   0.7s\n",
      "[CV 2/5] END ................max_features=6, n_estimators=85; total time=   0.8s\n",
      "[CV 3/5] END ................max_features=6, n_estimators=85; total time=   0.9s\n",
      "[CV 4/5] END ................max_features=6, n_estimators=85; total time=   0.7s\n",
      "[CV 5/5] END ................max_features=6, n_estimators=85; total time=   0.6s\n",
      "[CV 1/5] END ...............max_features=6, n_estimators=105; total time=   1.2s\n",
      "[CV 2/5] END ...............max_features=6, n_estimators=105; total time=   1.8s\n",
      "[CV 3/5] END ...............max_features=6, n_estimators=105; total time=   2.0s\n",
      "[CV 4/5] END ...............max_features=6, n_estimators=105; total time=   1.2s\n",
      "[CV 5/5] END ...............max_features=6, n_estimators=105; total time=   1.2s\n",
      "[CV 1/5] END ...............max_features=6, n_estimators=125; total time=   1.5s\n",
      "[CV 2/5] END ...............max_features=6, n_estimators=125; total time=   3.0s\n",
      "[CV 3/5] END ...............max_features=6, n_estimators=125; total time=   1.7s\n",
      "[CV 4/5] END ...............max_features=6, n_estimators=125; total time=   2.1s\n",
      "[CV 5/5] END ...............max_features=6, n_estimators=125; total time=   1.4s\n",
      "[CV 1/5] END ...............max_features=6, n_estimators=145; total time=   1.7s\n",
      "[CV 2/5] END ...............max_features=6, n_estimators=145; total time=   1.6s\n",
      "[CV 3/5] END ...............max_features=6, n_estimators=145; total time=   1.5s\n",
      "[CV 4/5] END ...............max_features=6, n_estimators=145; total time=   1.3s\n",
      "[CV 5/5] END ...............max_features=6, n_estimators=145; total time=   1.3s\n",
      "[CV 1/5] END ...............max_features=6, n_estimators=165; total time=   1.6s\n",
      "[CV 2/5] END ...............max_features=6, n_estimators=165; total time=   1.3s\n",
      "[CV 3/5] END ...............max_features=6, n_estimators=165; total time=   1.5s\n",
      "[CV 4/5] END ...............max_features=6, n_estimators=165; total time=   1.5s\n",
      "[CV 5/5] END ...............max_features=6, n_estimators=165; total time=   1.4s\n",
      "[CV 1/5] END ...............max_features=6, n_estimators=185; total time=   1.7s\n",
      "[CV 2/5] END ...............max_features=6, n_estimators=185; total time=   2.1s\n",
      "[CV 3/5] END ...............max_features=6, n_estimators=185; total time=   1.5s\n",
      "[CV 4/5] END ...............max_features=6, n_estimators=185; total time=   1.6s\n",
      "[CV 5/5] END ...............max_features=6, n_estimators=185; total time=   1.8s\n",
      "[CV 1/5] END .................max_features=7, n_estimators=5; total time=   0.0s\n",
      "[CV 2/5] END .................max_features=7, n_estimators=5; total time=   0.0s\n",
      "[CV 3/5] END .................max_features=7, n_estimators=5; total time=   0.0s\n",
      "[CV 4/5] END .................max_features=7, n_estimators=5; total time=   0.0s\n",
      "[CV 5/5] END .................max_features=7, n_estimators=5; total time=   0.0s\n",
      "[CV 1/5] END ................max_features=7, n_estimators=25; total time=   0.1s\n",
      "[CV 2/5] END ................max_features=7, n_estimators=25; total time=   0.1s\n",
      "[CV 3/5] END ................max_features=7, n_estimators=25; total time=   0.1s\n",
      "[CV 4/5] END ................max_features=7, n_estimators=25; total time=   0.1s\n",
      "[CV 5/5] END ................max_features=7, n_estimators=25; total time=   0.1s\n"
     ]
    },
    {
     "name": "stdout",
     "output_type": "stream",
     "text": [
      "[CV 1/5] END ................max_features=7, n_estimators=45; total time=   0.4s\n",
      "[CV 2/5] END ................max_features=7, n_estimators=45; total time=   0.6s\n",
      "[CV 3/5] END ................max_features=7, n_estimators=45; total time=   0.5s\n",
      "[CV 4/5] END ................max_features=7, n_estimators=45; total time=   0.4s\n",
      "[CV 5/5] END ................max_features=7, n_estimators=45; total time=   0.6s\n",
      "[CV 1/5] END ................max_features=7, n_estimators=65; total time=   0.6s\n",
      "[CV 2/5] END ................max_features=7, n_estimators=65; total time=   0.6s\n",
      "[CV 3/5] END ................max_features=7, n_estimators=65; total time=   0.6s\n",
      "[CV 4/5] END ................max_features=7, n_estimators=65; total time=   0.7s\n",
      "[CV 5/5] END ................max_features=7, n_estimators=65; total time=   0.6s\n",
      "[CV 1/5] END ................max_features=7, n_estimators=85; total time=   0.9s\n",
      "[CV 2/5] END ................max_features=7, n_estimators=85; total time=   1.0s\n",
      "[CV 3/5] END ................max_features=7, n_estimators=85; total time=   0.9s\n",
      "[CV 4/5] END ................max_features=7, n_estimators=85; total time=   0.7s\n",
      "[CV 5/5] END ................max_features=7, n_estimators=85; total time=   0.8s\n",
      "[CV 1/5] END ...............max_features=7, n_estimators=105; total time=   1.0s\n",
      "[CV 2/5] END ...............max_features=7, n_estimators=105; total time=   1.2s\n",
      "[CV 3/5] END ...............max_features=7, n_estimators=105; total time=   1.1s\n",
      "[CV 4/5] END ...............max_features=7, n_estimators=105; total time=   1.0s\n",
      "[CV 5/5] END ...............max_features=7, n_estimators=105; total time=   1.0s\n",
      "[CV 1/5] END ...............max_features=7, n_estimators=125; total time=   1.1s\n",
      "[CV 2/5] END ...............max_features=7, n_estimators=125; total time=   1.1s\n",
      "[CV 3/5] END ...............max_features=7, n_estimators=125; total time=   1.2s\n",
      "[CV 4/5] END ...............max_features=7, n_estimators=125; total time=   1.4s\n",
      "[CV 5/5] END ...............max_features=7, n_estimators=125; total time=   1.4s\n",
      "[CV 1/5] END ...............max_features=7, n_estimators=145; total time=   1.4s\n",
      "[CV 2/5] END ...............max_features=7, n_estimators=145; total time=   1.4s\n",
      "[CV 3/5] END ...............max_features=7, n_estimators=145; total time=   1.4s\n",
      "[CV 4/5] END ...............max_features=7, n_estimators=145; total time=   1.4s\n",
      "[CV 5/5] END ...............max_features=7, n_estimators=145; total time=   1.3s\n",
      "[CV 1/5] END ...............max_features=7, n_estimators=165; total time=   1.5s\n",
      "[CV 2/5] END ...............max_features=7, n_estimators=165; total time=   1.6s\n",
      "[CV 3/5] END ...............max_features=7, n_estimators=165; total time=   1.6s\n",
      "[CV 4/5] END ...............max_features=7, n_estimators=165; total time=   1.4s\n",
      "[CV 5/5] END ...............max_features=7, n_estimators=165; total time=   1.5s\n",
      "[CV 1/5] END ...............max_features=7, n_estimators=185; total time=   1.8s\n",
      "[CV 2/5] END ...............max_features=7, n_estimators=185; total time=   1.7s\n",
      "[CV 3/5] END ...............max_features=7, n_estimators=185; total time=   1.6s\n",
      "[CV 4/5] END ...............max_features=7, n_estimators=185; total time=   1.7s\n",
      "[CV 5/5] END ...............max_features=7, n_estimators=185; total time=   1.5s\n",
      "[CV 1/5] END .................max_features=8, n_estimators=5; total time=   0.0s\n",
      "[CV 2/5] END .................max_features=8, n_estimators=5; total time=   0.0s\n",
      "[CV 3/5] END .................max_features=8, n_estimators=5; total time=   0.0s\n",
      "[CV 4/5] END .................max_features=8, n_estimators=5; total time=   0.0s\n",
      "[CV 5/5] END .................max_features=8, n_estimators=5; total time=   0.0s\n",
      "[CV 1/5] END ................max_features=8, n_estimators=25; total time=   0.1s\n",
      "[CV 2/5] END ................max_features=8, n_estimators=25; total time=   0.1s\n",
      "[CV 3/5] END ................max_features=8, n_estimators=25; total time=   0.2s\n",
      "[CV 4/5] END ................max_features=8, n_estimators=25; total time=   0.1s\n",
      "[CV 5/5] END ................max_features=8, n_estimators=25; total time=   0.1s\n",
      "[CV 1/5] END ................max_features=8, n_estimators=45; total time=   0.3s\n",
      "[CV 2/5] END ................max_features=8, n_estimators=45; total time=   0.3s\n",
      "[CV 3/5] END ................max_features=8, n_estimators=45; total time=   0.4s\n",
      "[CV 4/5] END ................max_features=8, n_estimators=45; total time=   0.3s\n",
      "[CV 5/5] END ................max_features=8, n_estimators=45; total time=   0.3s\n",
      "[CV 1/5] END ................max_features=8, n_estimators=65; total time=   0.5s\n",
      "[CV 2/5] END ................max_features=8, n_estimators=65; total time=   0.5s\n",
      "[CV 3/5] END ................max_features=8, n_estimators=65; total time=   0.5s\n",
      "[CV 4/5] END ................max_features=8, n_estimators=65; total time=   0.6s\n",
      "[CV 5/5] END ................max_features=8, n_estimators=65; total time=   0.6s\n",
      "[CV 1/5] END ................max_features=8, n_estimators=85; total time=   0.9s\n",
      "[CV 2/5] END ................max_features=8, n_estimators=85; total time=   0.9s\n",
      "[CV 3/5] END ................max_features=8, n_estimators=85; total time=   0.8s\n",
      "[CV 4/5] END ................max_features=8, n_estimators=85; total time=   0.9s\n",
      "[CV 5/5] END ................max_features=8, n_estimators=85; total time=   0.9s\n",
      "[CV 1/5] END ...............max_features=8, n_estimators=105; total time=   1.0s\n",
      "[CV 2/5] END ...............max_features=8, n_estimators=105; total time=   1.1s\n",
      "[CV 3/5] END ...............max_features=8, n_estimators=105; total time=   1.0s\n",
      "[CV 4/5] END ...............max_features=8, n_estimators=105; total time=   1.0s\n",
      "[CV 5/5] END ...............max_features=8, n_estimators=105; total time=   1.1s\n",
      "[CV 1/5] END ...............max_features=8, n_estimators=125; total time=   1.2s\n",
      "[CV 2/5] END ...............max_features=8, n_estimators=125; total time=   1.3s\n",
      "[CV 3/5] END ...............max_features=8, n_estimators=125; total time=   1.2s\n",
      "[CV 4/5] END ...............max_features=8, n_estimators=125; total time=   1.3s\n",
      "[CV 5/5] END ...............max_features=8, n_estimators=125; total time=   1.3s\n",
      "[CV 1/5] END ...............max_features=8, n_estimators=145; total time=   1.4s\n",
      "[CV 2/5] END ...............max_features=8, n_estimators=145; total time=   1.4s\n",
      "[CV 3/5] END ...............max_features=8, n_estimators=145; total time=   1.4s\n",
      "[CV 4/5] END ...............max_features=8, n_estimators=145; total time=   1.5s\n",
      "[CV 5/5] END ...............max_features=8, n_estimators=145; total time=   1.3s\n",
      "[CV 1/5] END ...............max_features=8, n_estimators=165; total time=   1.5s\n",
      "[CV 2/5] END ...............max_features=8, n_estimators=165; total time=   1.8s\n",
      "[CV 3/5] END ...............max_features=8, n_estimators=165; total time=   1.9s\n",
      "[CV 4/5] END ...............max_features=8, n_estimators=165; total time=   1.7s\n",
      "[CV 5/5] END ...............max_features=8, n_estimators=165; total time=   1.9s\n",
      "[CV 1/5] END ...............max_features=8, n_estimators=185; total time=   3.0s\n",
      "[CV 2/5] END ...............max_features=8, n_estimators=185; total time=   3.5s\n",
      "[CV 3/5] END ...............max_features=8, n_estimators=185; total time=   2.0s\n",
      "[CV 4/5] END ...............max_features=8, n_estimators=185; total time=   2.5s\n",
      "[CV 5/5] END ...............max_features=8, n_estimators=185; total time=   2.7s\n",
      "[CV 1/5] END .................max_features=9, n_estimators=5; total time=   0.0s\n",
      "[CV 2/5] END .................max_features=9, n_estimators=5; total time=   0.0s\n",
      "[CV 3/5] END .................max_features=9, n_estimators=5; total time=   0.0s\n",
      "[CV 4/5] END .................max_features=9, n_estimators=5; total time=   0.0s\n",
      "[CV 5/5] END .................max_features=9, n_estimators=5; total time=   0.0s\n",
      "[CV 1/5] END ................max_features=9, n_estimators=25; total time=   0.2s\n",
      "[CV 2/5] END ................max_features=9, n_estimators=25; total time=   0.2s\n",
      "[CV 3/5] END ................max_features=9, n_estimators=25; total time=   0.3s\n",
      "[CV 4/5] END ................max_features=9, n_estimators=25; total time=   0.2s\n",
      "[CV 5/5] END ................max_features=9, n_estimators=25; total time=   0.2s\n",
      "[CV 1/5] END ................max_features=9, n_estimators=45; total time=   0.5s\n",
      "[CV 2/5] END ................max_features=9, n_estimators=45; total time=   0.4s\n"
     ]
    },
    {
     "name": "stdout",
     "output_type": "stream",
     "text": [
      "[CV 3/5] END ................max_features=9, n_estimators=45; total time=   0.4s\n",
      "[CV 4/5] END ................max_features=9, n_estimators=45; total time=   0.5s\n",
      "[CV 5/5] END ................max_features=9, n_estimators=45; total time=   0.4s\n",
      "[CV 1/5] END ................max_features=9, n_estimators=65; total time=   0.6s\n",
      "[CV 2/5] END ................max_features=9, n_estimators=65; total time=   0.6s\n",
      "[CV 3/5] END ................max_features=9, n_estimators=65; total time=   0.6s\n",
      "[CV 4/5] END ................max_features=9, n_estimators=65; total time=   0.6s\n",
      "[CV 5/5] END ................max_features=9, n_estimators=65; total time=   0.6s\n",
      "[CV 1/5] END ................max_features=9, n_estimators=85; total time=   0.8s\n",
      "[CV 2/5] END ................max_features=9, n_estimators=85; total time=   0.8s\n",
      "[CV 3/5] END ................max_features=9, n_estimators=85; total time=   0.8s\n",
      "[CV 4/5] END ................max_features=9, n_estimators=85; total time=   0.9s\n",
      "[CV 5/5] END ................max_features=9, n_estimators=85; total time=   0.8s\n",
      "[CV 1/5] END ...............max_features=9, n_estimators=105; total time=   1.0s\n",
      "[CV 2/5] END ...............max_features=9, n_estimators=105; total time=   1.2s\n",
      "[CV 3/5] END ...............max_features=9, n_estimators=105; total time=   1.2s\n",
      "[CV 4/5] END ...............max_features=9, n_estimators=105; total time=   1.2s\n",
      "[CV 5/5] END ...............max_features=9, n_estimators=105; total time=   1.1s\n",
      "[CV 1/5] END ...............max_features=9, n_estimators=125; total time=   1.3s\n",
      "[CV 2/5] END ...............max_features=9, n_estimators=125; total time=   1.3s\n",
      "[CV 3/5] END ...............max_features=9, n_estimators=125; total time=   1.2s\n",
      "[CV 4/5] END ...............max_features=9, n_estimators=125; total time=   1.3s\n",
      "[CV 5/5] END ...............max_features=9, n_estimators=125; total time=   1.4s\n",
      "[CV 1/5] END ...............max_features=9, n_estimators=145; total time=   1.6s\n",
      "[CV 2/5] END ...............max_features=9, n_estimators=145; total time=   1.5s\n",
      "[CV 3/5] END ...............max_features=9, n_estimators=145; total time=   1.5s\n",
      "[CV 4/5] END ...............max_features=9, n_estimators=145; total time=   1.5s\n",
      "[CV 5/5] END ...............max_features=9, n_estimators=145; total time=   1.8s\n",
      "[CV 1/5] END ...............max_features=9, n_estimators=165; total time=   1.9s\n",
      "[CV 2/5] END ...............max_features=9, n_estimators=165; total time=   1.8s\n",
      "[CV 3/5] END ...............max_features=9, n_estimators=165; total time=   1.7s\n",
      "[CV 4/5] END ...............max_features=9, n_estimators=165; total time=   1.7s\n",
      "[CV 5/5] END ...............max_features=9, n_estimators=165; total time=   1.8s\n",
      "[CV 1/5] END ...............max_features=9, n_estimators=185; total time=   1.9s\n",
      "[CV 2/5] END ...............max_features=9, n_estimators=185; total time=   1.9s\n",
      "[CV 3/5] END ...............max_features=9, n_estimators=185; total time=   2.0s\n",
      "[CV 4/5] END ...............max_features=9, n_estimators=185; total time=   2.1s\n",
      "[CV 5/5] END ...............max_features=9, n_estimators=185; total time=   2.1s\n",
      "[CV 1/5] END ................max_features=10, n_estimators=5; total time=   0.0s\n",
      "[CV 2/5] END ................max_features=10, n_estimators=5; total time=   0.0s\n",
      "[CV 3/5] END ................max_features=10, n_estimators=5; total time=   0.0s\n",
      "[CV 4/5] END ................max_features=10, n_estimators=5; total time=   0.0s\n",
      "[CV 5/5] END ................max_features=10, n_estimators=5; total time=   0.0s\n",
      "[CV 1/5] END ...............max_features=10, n_estimators=25; total time=   0.2s\n",
      "[CV 2/5] END ...............max_features=10, n_estimators=25; total time=   0.2s\n",
      "[CV 3/5] END ...............max_features=10, n_estimators=25; total time=   0.2s\n",
      "[CV 4/5] END ...............max_features=10, n_estimators=25; total time=   0.2s\n",
      "[CV 5/5] END ...............max_features=10, n_estimators=25; total time=   0.2s\n",
      "[CV 1/5] END ...............max_features=10, n_estimators=45; total time=   0.5s\n",
      "[CV 2/5] END ...............max_features=10, n_estimators=45; total time=   0.5s\n",
      "[CV 3/5] END ...............max_features=10, n_estimators=45; total time=   0.5s\n",
      "[CV 4/5] END ...............max_features=10, n_estimators=45; total time=   0.4s\n",
      "[CV 5/5] END ...............max_features=10, n_estimators=45; total time=   0.4s\n",
      "[CV 1/5] END ...............max_features=10, n_estimators=65; total time=   0.8s\n",
      "[CV 2/5] END ...............max_features=10, n_estimators=65; total time=   0.7s\n",
      "[CV 3/5] END ...............max_features=10, n_estimators=65; total time=   0.6s\n",
      "[CV 4/5] END ...............max_features=10, n_estimators=65; total time=   0.7s\n",
      "[CV 5/5] END ...............max_features=10, n_estimators=65; total time=   0.7s\n",
      "[CV 1/5] END ...............max_features=10, n_estimators=85; total time=   0.9s\n",
      "[CV 2/5] END ...............max_features=10, n_estimators=85; total time=   0.9s\n",
      "[CV 3/5] END ...............max_features=10, n_estimators=85; total time=   0.9s\n",
      "[CV 4/5] END ...............max_features=10, n_estimators=85; total time=   1.0s\n",
      "[CV 5/5] END ...............max_features=10, n_estimators=85; total time=   1.0s\n",
      "[CV 1/5] END ..............max_features=10, n_estimators=105; total time=   1.3s\n",
      "[CV 2/5] END ..............max_features=10, n_estimators=105; total time=   1.4s\n",
      "[CV 3/5] END ..............max_features=10, n_estimators=105; total time=   1.3s\n",
      "[CV 4/5] END ..............max_features=10, n_estimators=105; total time=   1.4s\n",
      "[CV 5/5] END ..............max_features=10, n_estimators=105; total time=   1.2s\n",
      "[CV 1/5] END ..............max_features=10, n_estimators=125; total time=   1.6s\n",
      "[CV 2/5] END ..............max_features=10, n_estimators=125; total time=   1.4s\n",
      "[CV 3/5] END ..............max_features=10, n_estimators=125; total time=   1.5s\n",
      "[CV 4/5] END ..............max_features=10, n_estimators=125; total time=   1.7s\n",
      "[CV 5/5] END ..............max_features=10, n_estimators=125; total time=   1.6s\n",
      "[CV 1/5] END ..............max_features=10, n_estimators=145; total time=   1.7s\n",
      "[CV 2/5] END ..............max_features=10, n_estimators=145; total time=   1.9s\n",
      "[CV 3/5] END ..............max_features=10, n_estimators=145; total time=   1.7s\n",
      "[CV 4/5] END ..............max_features=10, n_estimators=145; total time=   1.8s\n",
      "[CV 5/5] END ..............max_features=10, n_estimators=145; total time=   1.7s\n",
      "[CV 1/5] END ..............max_features=10, n_estimators=165; total time=   1.9s\n",
      "[CV 2/5] END ..............max_features=10, n_estimators=165; total time=   2.0s\n",
      "[CV 3/5] END ..............max_features=10, n_estimators=165; total time=   2.0s\n",
      "[CV 4/5] END ..............max_features=10, n_estimators=165; total time=   1.8s\n",
      "[CV 5/5] END ..............max_features=10, n_estimators=165; total time=   1.9s\n",
      "[CV 1/5] END ..............max_features=10, n_estimators=185; total time=   2.0s\n",
      "[CV 2/5] END ..............max_features=10, n_estimators=185; total time=   2.4s\n",
      "[CV 3/5] END ..............max_features=10, n_estimators=185; total time=   3.3s\n",
      "[CV 4/5] END ..............max_features=10, n_estimators=185; total time=   3.4s\n",
      "[CV 5/5] END ..............max_features=10, n_estimators=185; total time=   3.1s\n",
      "[CV 1/5] END ................max_features=11, n_estimators=5; total time=   0.0s\n",
      "[CV 2/5] END ................max_features=11, n_estimators=5; total time=   0.0s\n",
      "[CV 3/5] END ................max_features=11, n_estimators=5; total time=   0.0s\n",
      "[CV 4/5] END ................max_features=11, n_estimators=5; total time=   0.1s\n",
      "[CV 5/5] END ................max_features=11, n_estimators=5; total time=   0.1s\n",
      "[CV 1/5] END ...............max_features=11, n_estimators=25; total time=   0.5s\n",
      "[CV 2/5] END ...............max_features=11, n_estimators=25; total time=   0.4s\n",
      "[CV 3/5] END ...............max_features=11, n_estimators=25; total time=   0.3s\n",
      "[CV 4/5] END ...............max_features=11, n_estimators=25; total time=   0.3s\n",
      "[CV 5/5] END ...............max_features=11, n_estimators=25; total time=   0.4s\n",
      "[CV 1/5] END ...............max_features=11, n_estimators=45; total time=   0.6s\n",
      "[CV 2/5] END ...............max_features=11, n_estimators=45; total time=   0.5s\n",
      "[CV 3/5] END ...............max_features=11, n_estimators=45; total time=   0.5s\n",
      "[CV 4/5] END ...............max_features=11, n_estimators=45; total time=   0.6s\n"
     ]
    },
    {
     "name": "stdout",
     "output_type": "stream",
     "text": [
      "[CV 5/5] END ...............max_features=11, n_estimators=45; total time=   1.0s\n",
      "[CV 1/5] END ...............max_features=11, n_estimators=65; total time=   1.0s\n",
      "[CV 2/5] END ...............max_features=11, n_estimators=65; total time=   1.2s\n",
      "[CV 3/5] END ...............max_features=11, n_estimators=65; total time=   1.1s\n",
      "[CV 4/5] END ...............max_features=11, n_estimators=65; total time=   0.8s\n",
      "[CV 5/5] END ...............max_features=11, n_estimators=65; total time=   0.8s\n",
      "[CV 1/5] END ...............max_features=11, n_estimators=85; total time=   0.9s\n",
      "[CV 2/5] END ...............max_features=11, n_estimators=85; total time=   0.9s\n",
      "[CV 3/5] END ...............max_features=11, n_estimators=85; total time=   0.9s\n",
      "[CV 4/5] END ...............max_features=11, n_estimators=85; total time=   1.0s\n",
      "[CV 5/5] END ...............max_features=11, n_estimators=85; total time=   1.1s\n",
      "[CV 1/5] END ..............max_features=11, n_estimators=105; total time=   1.3s\n",
      "[CV 2/5] END ..............max_features=11, n_estimators=105; total time=   1.2s\n",
      "[CV 3/5] END ..............max_features=11, n_estimators=105; total time=   1.2s\n",
      "[CV 4/5] END ..............max_features=11, n_estimators=105; total time=   1.5s\n",
      "[CV 5/5] END ..............max_features=11, n_estimators=105; total time=   1.2s\n",
      "[CV 1/5] END ..............max_features=11, n_estimators=125; total time=   1.4s\n",
      "[CV 2/5] END ..............max_features=11, n_estimators=125; total time=   1.5s\n",
      "[CV 3/5] END ..............max_features=11, n_estimators=125; total time=   1.5s\n",
      "[CV 4/5] END ..............max_features=11, n_estimators=125; total time=   1.7s\n",
      "[CV 5/5] END ..............max_features=11, n_estimators=125; total time=   1.6s\n",
      "[CV 1/5] END ..............max_features=11, n_estimators=145; total time=   1.8s\n",
      "[CV 2/5] END ..............max_features=11, n_estimators=145; total time=   1.9s\n",
      "[CV 3/5] END ..............max_features=11, n_estimators=145; total time=   2.4s\n",
      "[CV 4/5] END ..............max_features=11, n_estimators=145; total time=   2.6s\n",
      "[CV 5/5] END ..............max_features=11, n_estimators=145; total time=   2.0s\n",
      "[CV 1/5] END ..............max_features=11, n_estimators=165; total time=   2.6s\n",
      "[CV 2/5] END ..............max_features=11, n_estimators=165; total time=   2.2s\n",
      "[CV 3/5] END ..............max_features=11, n_estimators=165; total time=   2.0s\n",
      "[CV 4/5] END ..............max_features=11, n_estimators=165; total time=   2.0s\n",
      "[CV 5/5] END ..............max_features=11, n_estimators=165; total time=   2.0s\n",
      "[CV 1/5] END ..............max_features=11, n_estimators=185; total time=   2.3s\n",
      "[CV 2/5] END ..............max_features=11, n_estimators=185; total time=   2.5s\n",
      "[CV 3/5] END ..............max_features=11, n_estimators=185; total time=   2.3s\n",
      "[CV 4/5] END ..............max_features=11, n_estimators=185; total time=   2.1s\n",
      "[CV 5/5] END ..............max_features=11, n_estimators=185; total time=   3.1s\n",
      "[CV 1/5] END ................max_features=12, n_estimators=5; total time=   0.0s\n",
      "[CV 2/5] END ................max_features=12, n_estimators=5; total time=   0.0s\n",
      "[CV 3/5] END ................max_features=12, n_estimators=5; total time=   0.0s\n",
      "[CV 4/5] END ................max_features=12, n_estimators=5; total time=   0.0s\n",
      "[CV 5/5] END ................max_features=12, n_estimators=5; total time=   0.0s\n",
      "[CV 1/5] END ...............max_features=12, n_estimators=25; total time=   0.3s\n",
      "[CV 2/5] END ...............max_features=12, n_estimators=25; total time=   0.3s\n",
      "[CV 3/5] END ...............max_features=12, n_estimators=25; total time=   0.3s\n",
      "[CV 4/5] END ...............max_features=12, n_estimators=25; total time=   0.4s\n",
      "[CV 5/5] END ...............max_features=12, n_estimators=25; total time=   0.6s\n",
      "[CV 1/5] END ...............max_features=12, n_estimators=45; total time=   0.8s\n",
      "[CV 2/5] END ...............max_features=12, n_estimators=45; total time=   0.9s\n",
      "[CV 3/5] END ...............max_features=12, n_estimators=45; total time=   0.7s\n",
      "[CV 4/5] END ...............max_features=12, n_estimators=45; total time=   0.7s\n",
      "[CV 5/5] END ...............max_features=12, n_estimators=45; total time=   0.6s\n",
      "[CV 1/5] END ...............max_features=12, n_estimators=65; total time=   1.1s\n",
      "[CV 2/5] END ...............max_features=12, n_estimators=65; total time=   1.1s\n",
      "[CV 3/5] END ...............max_features=12, n_estimators=65; total time=   1.0s\n",
      "[CV 4/5] END ...............max_features=12, n_estimators=65; total time=   0.9s\n",
      "[CV 5/5] END ...............max_features=12, n_estimators=65; total time=   1.0s\n",
      "[CV 1/5] END ...............max_features=12, n_estimators=85; total time=   1.6s\n",
      "[CV 2/5] END ...............max_features=12, n_estimators=85; total time=   1.4s\n",
      "[CV 3/5] END ...............max_features=12, n_estimators=85; total time=   1.2s\n",
      "[CV 4/5] END ...............max_features=12, n_estimators=85; total time=   1.2s\n",
      "[CV 5/5] END ...............max_features=12, n_estimators=85; total time=   1.4s\n",
      "[CV 1/5] END ..............max_features=12, n_estimators=105; total time=   1.6s\n",
      "[CV 2/5] END ..............max_features=12, n_estimators=105; total time=   1.6s\n",
      "[CV 3/5] END ..............max_features=12, n_estimators=105; total time=   1.7s\n",
      "[CV 4/5] END ..............max_features=12, n_estimators=105; total time=   1.7s\n",
      "[CV 5/5] END ..............max_features=12, n_estimators=105; total time=   1.6s\n",
      "[CV 1/5] END ..............max_features=12, n_estimators=125; total time=   2.1s\n",
      "[CV 2/5] END ..............max_features=12, n_estimators=125; total time=   2.1s\n",
      "[CV 3/5] END ..............max_features=12, n_estimators=125; total time=   1.9s\n",
      "[CV 4/5] END ..............max_features=12, n_estimators=125; total time=   2.1s\n",
      "[CV 5/5] END ..............max_features=12, n_estimators=125; total time=   2.0s\n",
      "[CV 1/5] END ..............max_features=12, n_estimators=145; total time=   2.5s\n",
      "[CV 2/5] END ..............max_features=12, n_estimators=145; total time=   2.2s\n",
      "[CV 3/5] END ..............max_features=12, n_estimators=145; total time=   2.0s\n",
      "[CV 4/5] END ..............max_features=12, n_estimators=145; total time=   2.0s\n",
      "[CV 5/5] END ..............max_features=12, n_estimators=145; total time=   1.6s\n",
      "[CV 1/5] END ..............max_features=12, n_estimators=165; total time=   2.2s\n",
      "[CV 2/5] END ..............max_features=12, n_estimators=165; total time=   2.7s\n",
      "[CV 3/5] END ..............max_features=12, n_estimators=165; total time=   3.1s\n",
      "[CV 4/5] END ..............max_features=12, n_estimators=165; total time=   3.3s\n",
      "[CV 5/5] END ..............max_features=12, n_estimators=165; total time=   2.7s\n",
      "[CV 1/5] END ..............max_features=12, n_estimators=185; total time=   7.2s\n",
      "[CV 2/5] END ..............max_features=12, n_estimators=185; total time=   7.5s\n",
      "[CV 3/5] END ..............max_features=12, n_estimators=185; total time=   4.7s\n",
      "[CV 4/5] END ..............max_features=12, n_estimators=185; total time=   5.3s\n",
      "[CV 5/5] END ..............max_features=12, n_estimators=185; total time=   3.1s\n",
      "[CV 1/5] END ................max_features=13, n_estimators=5; total time=   0.0s\n",
      "[CV 2/5] END ................max_features=13, n_estimators=5; total time=   0.0s\n",
      "[CV 3/5] END ................max_features=13, n_estimators=5; total time=   0.0s\n",
      "[CV 4/5] END ................max_features=13, n_estimators=5; total time=   0.0s\n",
      "[CV 5/5] END ................max_features=13, n_estimators=5; total time=   0.0s\n",
      "[CV 1/5] END ...............max_features=13, n_estimators=25; total time=   0.2s\n",
      "[CV 2/5] END ...............max_features=13, n_estimators=25; total time=   0.2s\n",
      "[CV 3/5] END ...............max_features=13, n_estimators=25; total time=   0.2s\n",
      "[CV 4/5] END ...............max_features=13, n_estimators=25; total time=   0.3s\n",
      "[CV 5/5] END ...............max_features=13, n_estimators=25; total time=   0.2s\n",
      "[CV 1/5] END ...............max_features=13, n_estimators=45; total time=   0.6s\n",
      "[CV 2/5] END ...............max_features=13, n_estimators=45; total time=   1.5s\n",
      "[CV 3/5] END ...............max_features=13, n_estimators=45; total time=   1.6s\n",
      "[CV 4/5] END ...............max_features=13, n_estimators=45; total time=   0.7s\n",
      "[CV 5/5] END ...............max_features=13, n_estimators=45; total time=   0.6s\n",
      "[CV 1/5] END ...............max_features=13, n_estimators=65; total time=   0.9s\n"
     ]
    },
    {
     "name": "stdout",
     "output_type": "stream",
     "text": [
      "[CV 2/5] END ...............max_features=13, n_estimators=65; total time=   1.1s\n",
      "[CV 3/5] END ...............max_features=13, n_estimators=65; total time=   1.2s\n",
      "[CV 4/5] END ...............max_features=13, n_estimators=65; total time=   1.0s\n",
      "[CV 5/5] END ...............max_features=13, n_estimators=65; total time=   0.9s\n",
      "[CV 1/5] END ...............max_features=13, n_estimators=85; total time=   1.3s\n",
      "[CV 2/5] END ...............max_features=13, n_estimators=85; total time=   3.5s\n",
      "[CV 3/5] END ...............max_features=13, n_estimators=85; total time=   1.5s\n",
      "[CV 4/5] END ...............max_features=13, n_estimators=85; total time=   2.0s\n",
      "[CV 5/5] END ...............max_features=13, n_estimators=85; total time=   1.7s\n",
      "[CV 1/5] END ..............max_features=13, n_estimators=105; total time=   1.3s\n",
      "[CV 2/5] END ..............max_features=13, n_estimators=105; total time=   1.7s\n",
      "[CV 3/5] END ..............max_features=13, n_estimators=105; total time=   1.2s\n",
      "[CV 4/5] END ..............max_features=13, n_estimators=105; total time=   1.3s\n",
      "[CV 5/5] END ..............max_features=13, n_estimators=105; total time=   1.4s\n",
      "[CV 1/5] END ..............max_features=13, n_estimators=125; total time=   1.6s\n",
      "[CV 2/5] END ..............max_features=13, n_estimators=125; total time=   1.5s\n",
      "[CV 3/5] END ..............max_features=13, n_estimators=125; total time=   1.6s\n",
      "[CV 4/5] END ..............max_features=13, n_estimators=125; total time=   1.6s\n",
      "[CV 5/5] END ..............max_features=13, n_estimators=125; total time=   1.6s\n",
      "[CV 1/5] END ..............max_features=13, n_estimators=145; total time=   1.8s\n",
      "[CV 2/5] END ..............max_features=13, n_estimators=145; total time=   2.3s\n",
      "[CV 3/5] END ..............max_features=13, n_estimators=145; total time=   2.1s\n",
      "[CV 4/5] END ..............max_features=13, n_estimators=145; total time=   2.8s\n",
      "[CV 5/5] END ..............max_features=13, n_estimators=145; total time=   1.8s\n",
      "[CV 1/5] END ..............max_features=13, n_estimators=165; total time=   2.4s\n",
      "[CV 2/5] END ..............max_features=13, n_estimators=165; total time=   2.2s\n",
      "[CV 3/5] END ..............max_features=13, n_estimators=165; total time=   1.9s\n",
      "[CV 4/5] END ..............max_features=13, n_estimators=165; total time=   2.2s\n",
      "[CV 5/5] END ..............max_features=13, n_estimators=165; total time=   2.1s\n",
      "[CV 1/5] END ..............max_features=13, n_estimators=185; total time=   3.3s\n",
      "[CV 2/5] END ..............max_features=13, n_estimators=185; total time=   2.8s\n",
      "[CV 3/5] END ..............max_features=13, n_estimators=185; total time=   3.0s\n",
      "[CV 4/5] END ..............max_features=13, n_estimators=185; total time=   2.9s\n",
      "[CV 5/5] END ..............max_features=13, n_estimators=185; total time=   3.2s\n",
      "[CV 1/5] END ................max_features=14, n_estimators=5; total time=   0.1s\n",
      "[CV 2/5] END ................max_features=14, n_estimators=5; total time=   0.0s\n",
      "[CV 3/5] END ................max_features=14, n_estimators=5; total time=   0.1s\n",
      "[CV 4/5] END ................max_features=14, n_estimators=5; total time=   0.1s\n",
      "[CV 5/5] END ................max_features=14, n_estimators=5; total time=   0.2s\n",
      "[CV 1/5] END ...............max_features=14, n_estimators=25; total time=   0.9s\n",
      "[CV 2/5] END ...............max_features=14, n_estimators=25; total time=   0.5s\n",
      "[CV 3/5] END ...............max_features=14, n_estimators=25; total time=   0.4s\n",
      "[CV 4/5] END ...............max_features=14, n_estimators=25; total time=   0.4s\n",
      "[CV 5/5] END ...............max_features=14, n_estimators=25; total time=   0.5s\n",
      "[CV 1/5] END ...............max_features=14, n_estimators=45; total time=   1.0s\n",
      "[CV 2/5] END ...............max_features=14, n_estimators=45; total time=   0.8s\n",
      "[CV 3/5] END ...............max_features=14, n_estimators=45; total time=   0.8s\n",
      "[CV 4/5] END ...............max_features=14, n_estimators=45; total time=   0.7s\n",
      "[CV 5/5] END ...............max_features=14, n_estimators=45; total time=   0.8s\n",
      "[CV 1/5] END ...............max_features=14, n_estimators=65; total time=   1.0s\n",
      "[CV 2/5] END ...............max_features=14, n_estimators=65; total time=   0.9s\n",
      "[CV 3/5] END ...............max_features=14, n_estimators=65; total time=   1.4s\n",
      "[CV 4/5] END ...............max_features=14, n_estimators=65; total time=   1.5s\n",
      "[CV 5/5] END ...............max_features=14, n_estimators=65; total time=   1.3s\n",
      "[CV 1/5] END ...............max_features=14, n_estimators=85; total time=   1.1s\n",
      "[CV 2/5] END ...............max_features=14, n_estimators=85; total time=   1.2s\n",
      "[CV 3/5] END ...............max_features=14, n_estimators=85; total time=   1.4s\n",
      "[CV 4/5] END ...............max_features=14, n_estimators=85; total time=   1.4s\n",
      "[CV 5/5] END ...............max_features=14, n_estimators=85; total time=   1.2s\n",
      "[CV 1/5] END ..............max_features=14, n_estimators=105; total time=   1.6s\n",
      "[CV 2/5] END ..............max_features=14, n_estimators=105; total time=   1.8s\n",
      "[CV 3/5] END ..............max_features=14, n_estimators=105; total time=   1.3s\n",
      "[CV 4/5] END ..............max_features=14, n_estimators=105; total time=   1.7s\n",
      "[CV 5/5] END ..............max_features=14, n_estimators=105; total time=   1.3s\n",
      "[CV 1/5] END ..............max_features=14, n_estimators=125; total time=   1.6s\n",
      "[CV 2/5] END ..............max_features=14, n_estimators=125; total time=   1.8s\n",
      "[CV 3/5] END ..............max_features=14, n_estimators=125; total time=   2.0s\n",
      "[CV 4/5] END ..............max_features=14, n_estimators=125; total time=   1.7s\n",
      "[CV 5/5] END ..............max_features=14, n_estimators=125; total time=   2.5s\n",
      "[CV 1/5] END ..............max_features=14, n_estimators=145; total time=   4.5s\n",
      "[CV 2/5] END ..............max_features=14, n_estimators=145; total time=   3.8s\n",
      "[CV 3/5] END ..............max_features=14, n_estimators=145; total time=   3.8s\n",
      "[CV 4/5] END ..............max_features=14, n_estimators=145; total time=   2.7s\n",
      "[CV 5/5] END ..............max_features=14, n_estimators=145; total time=   2.4s\n",
      "[CV 1/5] END ..............max_features=14, n_estimators=165; total time=   2.5s\n",
      "[CV 2/5] END ..............max_features=14, n_estimators=165; total time=   2.7s\n",
      "[CV 3/5] END ..............max_features=14, n_estimators=165; total time=   2.6s\n",
      "[CV 4/5] END ..............max_features=14, n_estimators=165; total time=   2.3s\n",
      "[CV 5/5] END ..............max_features=14, n_estimators=165; total time=   2.1s\n",
      "[CV 1/5] END ..............max_features=14, n_estimators=185; total time=   3.3s\n",
      "[CV 2/5] END ..............max_features=14, n_estimators=185; total time=   3.2s\n",
      "[CV 3/5] END ..............max_features=14, n_estimators=185; total time=   3.6s\n",
      "[CV 4/5] END ..............max_features=14, n_estimators=185; total time=   3.9s\n",
      "[CV 5/5] END ..............max_features=14, n_estimators=185; total time=   2.8s\n",
      "[CV 1/5] END ................max_features=15, n_estimators=5; total time=   0.0s\n",
      "[CV 2/5] END ................max_features=15, n_estimators=5; total time=   0.0s\n",
      "[CV 3/5] END ................max_features=15, n_estimators=5; total time=   0.0s\n",
      "[CV 4/5] END ................max_features=15, n_estimators=5; total time=   0.0s\n",
      "[CV 5/5] END ................max_features=15, n_estimators=5; total time=   0.0s\n",
      "[CV 1/5] END ...............max_features=15, n_estimators=25; total time=   0.4s\n",
      "[CV 2/5] END ...............max_features=15, n_estimators=25; total time=   0.3s\n",
      "[CV 3/5] END ...............max_features=15, n_estimators=25; total time=   0.3s\n",
      "[CV 4/5] END ...............max_features=15, n_estimators=25; total time=   0.3s\n",
      "[CV 5/5] END ...............max_features=15, n_estimators=25; total time=   0.3s\n",
      "[CV 1/5] END ...............max_features=15, n_estimators=45; total time=   0.5s\n",
      "[CV 2/5] END ...............max_features=15, n_estimators=45; total time=   0.6s\n",
      "[CV 3/5] END ...............max_features=15, n_estimators=45; total time=   0.6s\n",
      "[CV 4/5] END ...............max_features=15, n_estimators=45; total time=   0.5s\n",
      "[CV 5/5] END ...............max_features=15, n_estimators=45; total time=   0.5s\n",
      "[CV 1/5] END ...............max_features=15, n_estimators=65; total time=   0.8s\n",
      "[CV 2/5] END ...............max_features=15, n_estimators=65; total time=   0.8s\n",
      "[CV 3/5] END ...............max_features=15, n_estimators=65; total time=   0.9s\n"
     ]
    },
    {
     "name": "stdout",
     "output_type": "stream",
     "text": [
      "[CV 4/5] END ...............max_features=15, n_estimators=65; total time=   1.3s\n",
      "[CV 5/5] END ...............max_features=15, n_estimators=65; total time=   1.2s\n",
      "[CV 1/5] END ...............max_features=15, n_estimators=85; total time=   1.3s\n",
      "[CV 2/5] END ...............max_features=15, n_estimators=85; total time=   1.2s\n",
      "[CV 3/5] END ...............max_features=15, n_estimators=85; total time=   1.1s\n",
      "[CV 4/5] END ...............max_features=15, n_estimators=85; total time=   1.2s\n",
      "[CV 5/5] END ...............max_features=15, n_estimators=85; total time=   1.1s\n",
      "[CV 1/5] END ..............max_features=15, n_estimators=105; total time=   1.3s\n",
      "[CV 2/5] END ..............max_features=15, n_estimators=105; total time=   1.5s\n",
      "[CV 3/5] END ..............max_features=15, n_estimators=105; total time=   1.4s\n",
      "[CV 4/5] END ..............max_features=15, n_estimators=105; total time=   1.4s\n",
      "[CV 5/5] END ..............max_features=15, n_estimators=105; total time=   1.3s\n",
      "[CV 1/5] END ..............max_features=15, n_estimators=125; total time=   2.0s\n",
      "[CV 2/5] END ..............max_features=15, n_estimators=125; total time=   1.9s\n",
      "[CV 3/5] END ..............max_features=15, n_estimators=125; total time=   1.7s\n",
      "[CV 4/5] END ..............max_features=15, n_estimators=125; total time=   1.6s\n",
      "[CV 5/5] END ..............max_features=15, n_estimators=125; total time=   1.6s\n",
      "[CV 1/5] END ..............max_features=15, n_estimators=145; total time=   1.8s\n",
      "[CV 2/5] END ..............max_features=15, n_estimators=145; total time=   2.3s\n",
      "[CV 3/5] END ..............max_features=15, n_estimators=145; total time=   2.4s\n",
      "[CV 4/5] END ..............max_features=15, n_estimators=145; total time=   2.2s\n",
      "[CV 5/5] END ..............max_features=15, n_estimators=145; total time=   2.0s\n",
      "[CV 1/5] END ..............max_features=15, n_estimators=165; total time=   2.3s\n",
      "[CV 2/5] END ..............max_features=15, n_estimators=165; total time=   3.2s\n",
      "[CV 3/5] END ..............max_features=15, n_estimators=165; total time=   3.1s\n",
      "[CV 4/5] END ..............max_features=15, n_estimators=165; total time=   2.6s\n",
      "[CV 5/5] END ..............max_features=15, n_estimators=165; total time=   2.5s\n",
      "[CV 1/5] END ..............max_features=15, n_estimators=185; total time=   2.9s\n",
      "[CV 2/5] END ..............max_features=15, n_estimators=185; total time=   2.7s\n",
      "[CV 3/5] END ..............max_features=15, n_estimators=185; total time=   3.1s\n",
      "[CV 4/5] END ..............max_features=15, n_estimators=185; total time=   2.8s\n",
      "[CV 5/5] END ..............max_features=15, n_estimators=185; total time=   2.7s\n",
      "[CV 1/5] END ................max_features=16, n_estimators=5; total time=   0.0s\n",
      "[CV 2/5] END ................max_features=16, n_estimators=5; total time=   0.0s\n",
      "[CV 3/5] END ................max_features=16, n_estimators=5; total time=   0.0s\n",
      "[CV 4/5] END ................max_features=16, n_estimators=5; total time=   0.0s\n",
      "[CV 5/5] END ................max_features=16, n_estimators=5; total time=   0.0s\n",
      "[CV 1/5] END ...............max_features=16, n_estimators=25; total time=   0.3s\n",
      "[CV 2/5] END ...............max_features=16, n_estimators=25; total time=   0.3s\n",
      "[CV 3/5] END ...............max_features=16, n_estimators=25; total time=   0.3s\n",
      "[CV 4/5] END ...............max_features=16, n_estimators=25; total time=   0.3s\n",
      "[CV 5/5] END ...............max_features=16, n_estimators=25; total time=   0.3s\n",
      "[CV 1/5] END ...............max_features=16, n_estimators=45; total time=   0.7s\n",
      "[CV 2/5] END ...............max_features=16, n_estimators=45; total time=   0.7s\n",
      "[CV 3/5] END ...............max_features=16, n_estimators=45; total time=   0.7s\n",
      "[CV 4/5] END ...............max_features=16, n_estimators=45; total time=   0.7s\n",
      "[CV 5/5] END ...............max_features=16, n_estimators=45; total time=   0.7s\n",
      "[CV 1/5] END ...............max_features=16, n_estimators=65; total time=   0.9s\n",
      "[CV 2/5] END ...............max_features=16, n_estimators=65; total time=   0.9s\n",
      "[CV 3/5] END ...............max_features=16, n_estimators=65; total time=   0.9s\n",
      "[CV 4/5] END ...............max_features=16, n_estimators=65; total time=   0.9s\n",
      "[CV 5/5] END ...............max_features=16, n_estimators=65; total time=   0.9s\n",
      "[CV 1/5] END ...............max_features=16, n_estimators=85; total time=   1.2s\n",
      "[CV 2/5] END ...............max_features=16, n_estimators=85; total time=   1.4s\n",
      "[CV 3/5] END ...............max_features=16, n_estimators=85; total time=   1.2s\n",
      "[CV 4/5] END ...............max_features=16, n_estimators=85; total time=   1.2s\n",
      "[CV 5/5] END ...............max_features=16, n_estimators=85; total time=   1.2s\n",
      "[CV 1/5] END ..............max_features=16, n_estimators=105; total time=   1.5s\n",
      "[CV 2/5] END ..............max_features=16, n_estimators=105; total time=   1.7s\n",
      "[CV 3/5] END ..............max_features=16, n_estimators=105; total time=   1.7s\n",
      "[CV 4/5] END ..............max_features=16, n_estimators=105; total time=   1.8s\n",
      "[CV 5/5] END ..............max_features=16, n_estimators=105; total time=   1.8s\n",
      "[CV 1/5] END ..............max_features=16, n_estimators=125; total time=   2.0s\n",
      "[CV 2/5] END ..............max_features=16, n_estimators=125; total time=   2.1s\n",
      "[CV 3/5] END ..............max_features=16, n_estimators=125; total time=   1.8s\n",
      "[CV 4/5] END ..............max_features=16, n_estimators=125; total time=   1.7s\n",
      "[CV 5/5] END ..............max_features=16, n_estimators=125; total time=   1.8s\n",
      "[CV 1/5] END ..............max_features=16, n_estimators=145; total time=   2.0s\n",
      "[CV 2/5] END ..............max_features=16, n_estimators=145; total time=   2.2s\n",
      "[CV 3/5] END ..............max_features=16, n_estimators=145; total time=   2.1s\n",
      "[CV 4/5] END ..............max_features=16, n_estimators=145; total time=   2.2s\n",
      "[CV 5/5] END ..............max_features=16, n_estimators=145; total time=   2.7s\n",
      "[CV 1/5] END ..............max_features=16, n_estimators=165; total time=   3.0s\n",
      "[CV 2/5] END ..............max_features=16, n_estimators=165; total time=   2.6s\n",
      "[CV 3/5] END ..............max_features=16, n_estimators=165; total time=   2.4s\n",
      "[CV 4/5] END ..............max_features=16, n_estimators=165; total time=   2.3s\n",
      "[CV 5/5] END ..............max_features=16, n_estimators=165; total time=   2.9s\n",
      "[CV 1/5] END ..............max_features=16, n_estimators=185; total time=   4.9s\n",
      "[CV 2/5] END ..............max_features=16, n_estimators=185; total time=   4.7s\n",
      "[CV 3/5] END ..............max_features=16, n_estimators=185; total time=   3.5s\n",
      "[CV 4/5] END ..............max_features=16, n_estimators=185; total time=   2.6s\n",
      "[CV 5/5] END ..............max_features=16, n_estimators=185; total time=   2.6s\n",
      "[CV 1/5] END ................max_features=17, n_estimators=5; total time=   0.0s\n",
      "[CV 2/5] END ................max_features=17, n_estimators=5; total time=   0.0s\n",
      "[CV 3/5] END ................max_features=17, n_estimators=5; total time=   0.0s\n",
      "[CV 4/5] END ................max_features=17, n_estimators=5; total time=   0.0s\n",
      "[CV 5/5] END ................max_features=17, n_estimators=5; total time=   0.0s\n",
      "[CV 1/5] END ...............max_features=17, n_estimators=25; total time=   0.3s\n",
      "[CV 2/5] END ...............max_features=17, n_estimators=25; total time=   0.3s\n",
      "[CV 3/5] END ...............max_features=17, n_estimators=25; total time=   0.3s\n",
      "[CV 4/5] END ...............max_features=17, n_estimators=25; total time=   0.3s\n",
      "[CV 5/5] END ...............max_features=17, n_estimators=25; total time=   0.3s\n",
      "[CV 1/5] END ...............max_features=17, n_estimators=45; total time=   0.6s\n",
      "[CV 2/5] END ...............max_features=17, n_estimators=45; total time=   0.6s\n",
      "[CV 3/5] END ...............max_features=17, n_estimators=45; total time=   0.6s\n",
      "[CV 4/5] END ...............max_features=17, n_estimators=45; total time=   0.6s\n",
      "[CV 5/5] END ...............max_features=17, n_estimators=45; total time=   0.6s\n",
      "[CV 1/5] END ...............max_features=17, n_estimators=65; total time=   0.9s\n",
      "[CV 2/5] END ...............max_features=17, n_estimators=65; total time=   0.9s\n",
      "[CV 3/5] END ...............max_features=17, n_estimators=65; total time=   1.0s\n",
      "[CV 4/5] END ...............max_features=17, n_estimators=65; total time=   1.1s\n",
      "[CV 5/5] END ...............max_features=17, n_estimators=65; total time=   1.0s\n"
     ]
    },
    {
     "name": "stdout",
     "output_type": "stream",
     "text": [
      "[CV 1/5] END ...............max_features=17, n_estimators=85; total time=   1.3s\n",
      "[CV 2/5] END ...............max_features=17, n_estimators=85; total time=   1.4s\n",
      "[CV 3/5] END ...............max_features=17, n_estimators=85; total time=   1.4s\n",
      "[CV 4/5] END ...............max_features=17, n_estimators=85; total time=   1.3s\n",
      "[CV 5/5] END ...............max_features=17, n_estimators=85; total time=   1.3s\n",
      "[CV 1/5] END ..............max_features=17, n_estimators=105; total time=   1.8s\n",
      "[CV 2/5] END ..............max_features=17, n_estimators=105; total time=   1.7s\n",
      "[CV 3/5] END ..............max_features=17, n_estimators=105; total time=   1.8s\n",
      "[CV 4/5] END ..............max_features=17, n_estimators=105; total time=   1.7s\n",
      "[CV 5/5] END ..............max_features=17, n_estimators=105; total time=   1.7s\n",
      "[CV 1/5] END ..............max_features=17, n_estimators=125; total time=   1.9s\n",
      "[CV 2/5] END ..............max_features=17, n_estimators=125; total time=   2.0s\n",
      "[CV 3/5] END ..............max_features=17, n_estimators=125; total time=   2.0s\n",
      "[CV 4/5] END ..............max_features=17, n_estimators=125; total time=   2.3s\n",
      "[CV 5/5] END ..............max_features=17, n_estimators=125; total time=   2.0s\n",
      "[CV 1/5] END ..............max_features=17, n_estimators=145; total time=   5.1s\n",
      "[CV 2/5] END ..............max_features=17, n_estimators=145; total time=   3.0s\n",
      "[CV 3/5] END ..............max_features=17, n_estimators=145; total time=   2.4s\n",
      "[CV 4/5] END ..............max_features=17, n_estimators=145; total time=   2.7s\n",
      "[CV 5/5] END ..............max_features=17, n_estimators=145; total time=   2.5s\n",
      "[CV 1/5] END ..............max_features=17, n_estimators=165; total time=   2.6s\n",
      "[CV 2/5] END ..............max_features=17, n_estimators=165; total time=   2.4s\n",
      "[CV 3/5] END ..............max_features=17, n_estimators=165; total time=   2.5s\n",
      "[CV 4/5] END ..............max_features=17, n_estimators=165; total time=   2.3s\n",
      "[CV 5/5] END ..............max_features=17, n_estimators=165; total time=   2.4s\n",
      "[CV 1/5] END ..............max_features=17, n_estimators=185; total time=   3.1s\n",
      "[CV 2/5] END ..............max_features=17, n_estimators=185; total time=   4.7s\n",
      "[CV 3/5] END ..............max_features=17, n_estimators=185; total time=   6.2s\n",
      "[CV 4/5] END ..............max_features=17, n_estimators=185; total time=   6.9s\n",
      "[CV 5/5] END ..............max_features=17, n_estimators=185; total time=   4.1s\n",
      "[CV 1/5] END ................max_features=18, n_estimators=5; total time=   0.0s\n",
      "[CV 2/5] END ................max_features=18, n_estimators=5; total time=   0.0s\n",
      "[CV 3/5] END ................max_features=18, n_estimators=5; total time=   0.0s\n",
      "[CV 4/5] END ................max_features=18, n_estimators=5; total time=   0.0s\n",
      "[CV 5/5] END ................max_features=18, n_estimators=5; total time=   0.0s\n",
      "[CV 1/5] END ...............max_features=18, n_estimators=25; total time=   0.4s\n",
      "[CV 2/5] END ...............max_features=18, n_estimators=25; total time=   0.4s\n",
      "[CV 3/5] END ...............max_features=18, n_estimators=25; total time=   0.5s\n",
      "[CV 4/5] END ...............max_features=18, n_estimators=25; total time=   0.4s\n",
      "[CV 5/5] END ...............max_features=18, n_estimators=25; total time=   0.4s\n",
      "[CV 1/5] END ...............max_features=18, n_estimators=45; total time=   0.8s\n",
      "[CV 2/5] END ...............max_features=18, n_estimators=45; total time=   0.7s\n",
      "[CV 3/5] END ...............max_features=18, n_estimators=45; total time=   1.0s\n",
      "[CV 4/5] END ...............max_features=18, n_estimators=45; total time=   0.9s\n",
      "[CV 5/5] END ...............max_features=18, n_estimators=45; total time=   0.9s\n",
      "[CV 1/5] END ...............max_features=18, n_estimators=65; total time=   1.1s\n",
      "[CV 2/5] END ...............max_features=18, n_estimators=65; total time=   1.0s\n",
      "[CV 3/5] END ...............max_features=18, n_estimators=65; total time=   1.3s\n",
      "[CV 4/5] END ...............max_features=18, n_estimators=65; total time=   1.5s\n",
      "[CV 5/5] END ...............max_features=18, n_estimators=65; total time=   2.0s\n",
      "[CV 1/5] END ...............max_features=18, n_estimators=85; total time=   1.9s\n",
      "[CV 2/5] END ...............max_features=18, n_estimators=85; total time=   1.5s\n",
      "[CV 3/5] END ...............max_features=18, n_estimators=85; total time=   1.4s\n",
      "[CV 4/5] END ...............max_features=18, n_estimators=85; total time=   1.2s\n",
      "[CV 5/5] END ...............max_features=18, n_estimators=85; total time=   1.2s\n",
      "[CV 1/5] END ..............max_features=18, n_estimators=105; total time=   1.7s\n",
      "[CV 2/5] END ..............max_features=18, n_estimators=105; total time=   1.9s\n",
      "[CV 3/5] END ..............max_features=18, n_estimators=105; total time=   1.8s\n",
      "[CV 4/5] END ..............max_features=18, n_estimators=105; total time=   1.9s\n",
      "[CV 5/5] END ..............max_features=18, n_estimators=105; total time=   1.8s\n",
      "[CV 1/5] END ..............max_features=18, n_estimators=125; total time=   2.0s\n",
      "[CV 2/5] END ..............max_features=18, n_estimators=125; total time=   2.1s\n",
      "[CV 3/5] END ..............max_features=18, n_estimators=125; total time=   2.4s\n",
      "[CV 4/5] END ..............max_features=18, n_estimators=125; total time=   2.2s\n",
      "[CV 5/5] END ..............max_features=18, n_estimators=125; total time=   2.2s\n",
      "[CV 1/5] END ..............max_features=18, n_estimators=145; total time=   2.2s\n",
      "[CV 2/5] END ..............max_features=18, n_estimators=145; total time=   2.2s\n",
      "[CV 3/5] END ..............max_features=18, n_estimators=145; total time=   2.2s\n",
      "[CV 4/5] END ..............max_features=18, n_estimators=145; total time=   2.2s\n",
      "[CV 5/5] END ..............max_features=18, n_estimators=145; total time=   3.5s\n",
      "[CV 1/5] END ..............max_features=18, n_estimators=165; total time=   4.3s\n",
      "[CV 2/5] END ..............max_features=18, n_estimators=165; total time=   4.8s\n",
      "[CV 3/5] END ..............max_features=18, n_estimators=165; total time=   4.3s\n",
      "[CV 4/5] END ..............max_features=18, n_estimators=165; total time=   3.5s\n",
      "[CV 5/5] END ..............max_features=18, n_estimators=165; total time=   2.7s\n",
      "[CV 1/5] END ..............max_features=18, n_estimators=185; total time=   2.8s\n",
      "[CV 2/5] END ..............max_features=18, n_estimators=185; total time=   2.8s\n",
      "[CV 3/5] END ..............max_features=18, n_estimators=185; total time=   2.8s\n",
      "[CV 4/5] END ..............max_features=18, n_estimators=185; total time=   2.8s\n",
      "[CV 5/5] END ..............max_features=18, n_estimators=185; total time=   2.9s\n",
      "[CV 1/5] END ................max_features=19, n_estimators=5; total time=   0.0s\n",
      "[CV 2/5] END ................max_features=19, n_estimators=5; total time=   0.0s\n",
      "[CV 3/5] END ................max_features=19, n_estimators=5; total time=   0.0s\n",
      "[CV 4/5] END ................max_features=19, n_estimators=5; total time=   0.0s\n",
      "[CV 5/5] END ................max_features=19, n_estimators=5; total time=   0.0s\n",
      "[CV 1/5] END ...............max_features=19, n_estimators=25; total time=   0.3s\n",
      "[CV 2/5] END ...............max_features=19, n_estimators=25; total time=   0.3s\n",
      "[CV 3/5] END ...............max_features=19, n_estimators=25; total time=   0.3s\n",
      "[CV 4/5] END ...............max_features=19, n_estimators=25; total time=   0.3s\n",
      "[CV 5/5] END ...............max_features=19, n_estimators=25; total time=   0.3s\n",
      "[CV 1/5] END ...............max_features=19, n_estimators=45; total time=   0.6s\n",
      "[CV 2/5] END ...............max_features=19, n_estimators=45; total time=   0.7s\n",
      "[CV 3/5] END ...............max_features=19, n_estimators=45; total time=   0.6s\n",
      "[CV 4/5] END ...............max_features=19, n_estimators=45; total time=   0.7s\n",
      "[CV 5/5] END ...............max_features=19, n_estimators=45; total time=   0.7s\n",
      "[CV 1/5] END ...............max_features=19, n_estimators=65; total time=   1.0s\n",
      "[CV 2/5] END ...............max_features=19, n_estimators=65; total time=   1.0s\n",
      "[CV 3/5] END ...............max_features=19, n_estimators=65; total time=   1.0s\n",
      "[CV 4/5] END ...............max_features=19, n_estimators=65; total time=   1.0s\n",
      "[CV 5/5] END ...............max_features=19, n_estimators=65; total time=   1.0s\n",
      "[CV 1/5] END ...............max_features=19, n_estimators=85; total time=   1.3s\n",
      "[CV 2/5] END ...............max_features=19, n_estimators=85; total time=   1.3s\n"
     ]
    },
    {
     "name": "stdout",
     "output_type": "stream",
     "text": [
      "[CV 3/5] END ...............max_features=19, n_estimators=85; total time=   1.3s\n",
      "[CV 4/5] END ...............max_features=19, n_estimators=85; total time=   1.3s\n",
      "[CV 5/5] END ...............max_features=19, n_estimators=85; total time=   1.3s\n",
      "[CV 1/5] END ..............max_features=19, n_estimators=105; total time=   1.6s\n",
      "[CV 2/5] END ..............max_features=19, n_estimators=105; total time=   1.6s\n",
      "[CV 3/5] END ..............max_features=19, n_estimators=105; total time=   1.7s\n",
      "[CV 4/5] END ..............max_features=19, n_estimators=105; total time=   1.7s\n",
      "[CV 5/5] END ..............max_features=19, n_estimators=105; total time=   1.9s\n",
      "[CV 1/5] END ..............max_features=19, n_estimators=125; total time=   2.3s\n",
      "[CV 2/5] END ..............max_features=19, n_estimators=125; total time=   2.2s\n",
      "[CV 3/5] END ..............max_features=19, n_estimators=125; total time=   2.3s\n",
      "[CV 4/5] END ..............max_features=19, n_estimators=125; total time=   2.4s\n",
      "[CV 5/5] END ..............max_features=19, n_estimators=125; total time=   2.5s\n",
      "[CV 1/5] END ..............max_features=19, n_estimators=145; total time=   2.6s\n",
      "[CV 2/5] END ..............max_features=19, n_estimators=145; total time=   2.6s\n",
      "[CV 3/5] END ..............max_features=19, n_estimators=145; total time=   2.5s\n",
      "[CV 4/5] END ..............max_features=19, n_estimators=145; total time=   2.5s\n",
      "[CV 5/5] END ..............max_features=19, n_estimators=145; total time=   2.5s\n",
      "[CV 1/5] END ..............max_features=19, n_estimators=165; total time=   2.7s\n",
      "[CV 2/5] END ..............max_features=19, n_estimators=165; total time=   2.8s\n",
      "[CV 3/5] END ..............max_features=19, n_estimators=165; total time=   2.9s\n",
      "[CV 4/5] END ..............max_features=19, n_estimators=165; total time=   3.3s\n",
      "[CV 5/5] END ..............max_features=19, n_estimators=165; total time=   3.3s\n",
      "[CV 1/5] END ..............max_features=19, n_estimators=185; total time=   3.4s\n",
      "[CV 2/5] END ..............max_features=19, n_estimators=185; total time=   3.4s\n",
      "[CV 3/5] END ..............max_features=19, n_estimators=185; total time=   3.4s\n",
      "[CV 4/5] END ..............max_features=19, n_estimators=185; total time=   3.4s\n",
      "[CV 5/5] END ..............max_features=19, n_estimators=185; total time=   3.2s\n",
      "[CV 1/5] END ................max_features=20, n_estimators=5; total time=   0.0s\n",
      "[CV 2/5] END ................max_features=20, n_estimators=5; total time=   0.0s\n",
      "[CV 3/5] END ................max_features=20, n_estimators=5; total time=   0.0s\n",
      "[CV 4/5] END ................max_features=20, n_estimators=5; total time=   0.0s\n",
      "[CV 5/5] END ................max_features=20, n_estimators=5; total time=   0.0s\n",
      "[CV 1/5] END ...............max_features=20, n_estimators=25; total time=   0.3s\n",
      "[CV 2/5] END ...............max_features=20, n_estimators=25; total time=   0.3s\n",
      "[CV 3/5] END ...............max_features=20, n_estimators=25; total time=   0.4s\n",
      "[CV 4/5] END ...............max_features=20, n_estimators=25; total time=   0.3s\n",
      "[CV 5/5] END ...............max_features=20, n_estimators=25; total time=   0.3s\n",
      "[CV 1/5] END ...............max_features=20, n_estimators=45; total time=   0.6s\n",
      "[CV 2/5] END ...............max_features=20, n_estimators=45; total time=   0.8s\n",
      "[CV 3/5] END ...............max_features=20, n_estimators=45; total time=   0.7s\n",
      "[CV 4/5] END ...............max_features=20, n_estimators=45; total time=   0.7s\n",
      "[CV 5/5] END ...............max_features=20, n_estimators=45; total time=   0.7s\n",
      "[CV 1/5] END ...............max_features=20, n_estimators=65; total time=   1.0s\n",
      "[CV 2/5] END ...............max_features=20, n_estimators=65; total time=   1.0s\n",
      "[CV 3/5] END ...............max_features=20, n_estimators=65; total time=   1.0s\n",
      "[CV 4/5] END ...............max_features=20, n_estimators=65; total time=   1.0s\n",
      "[CV 5/5] END ...............max_features=20, n_estimators=65; total time=   1.0s\n",
      "[CV 1/5] END ...............max_features=20, n_estimators=85; total time=   1.3s\n",
      "[CV 2/5] END ...............max_features=20, n_estimators=85; total time=   1.3s\n",
      "[CV 3/5] END ...............max_features=20, n_estimators=85; total time=   1.5s\n",
      "[CV 4/5] END ...............max_features=20, n_estimators=85; total time=   1.4s\n",
      "[CV 5/5] END ...............max_features=20, n_estimators=85; total time=   1.5s\n",
      "[CV 1/5] END ..............max_features=20, n_estimators=105; total time=   1.9s\n",
      "[CV 2/5] END ..............max_features=20, n_estimators=105; total time=   2.0s\n",
      "[CV 3/5] END ..............max_features=20, n_estimators=105; total time=   3.3s\n",
      "[CV 4/5] END ..............max_features=20, n_estimators=105; total time=   3.6s\n",
      "[CV 5/5] END ..............max_features=20, n_estimators=105; total time=   3.1s\n",
      "[CV 1/5] END ..............max_features=20, n_estimators=125; total time=   2.9s\n",
      "[CV 2/5] END ..............max_features=20, n_estimators=125; total time=   3.0s\n",
      "[CV 3/5] END ..............max_features=20, n_estimators=125; total time=   3.5s\n",
      "[CV 4/5] END ..............max_features=20, n_estimators=125; total time=   2.9s\n",
      "[CV 5/5] END ..............max_features=20, n_estimators=125; total time=   2.4s\n",
      "[CV 1/5] END ..............max_features=20, n_estimators=145; total time=   2.8s\n",
      "[CV 2/5] END ..............max_features=20, n_estimators=145; total time=   3.5s\n",
      "[CV 3/5] END ..............max_features=20, n_estimators=145; total time=   3.0s\n",
      "[CV 4/5] END ..............max_features=20, n_estimators=145; total time=   2.6s\n",
      "[CV 5/5] END ..............max_features=20, n_estimators=145; total time=   2.7s\n",
      "[CV 1/5] END ..............max_features=20, n_estimators=165; total time=   2.6s\n",
      "[CV 2/5] END ..............max_features=20, n_estimators=165; total time=   2.8s\n",
      "[CV 3/5] END ..............max_features=20, n_estimators=165; total time=   2.7s\n",
      "[CV 4/5] END ..............max_features=20, n_estimators=165; total time=   2.7s\n",
      "[CV 5/5] END ..............max_features=20, n_estimators=165; total time=   2.6s\n",
      "[CV 1/5] END ..............max_features=20, n_estimators=185; total time=   3.4s\n",
      "[CV 2/5] END ..............max_features=20, n_estimators=185; total time=   3.7s\n",
      "[CV 3/5] END ..............max_features=20, n_estimators=185; total time=   3.4s\n",
      "[CV 4/5] END ..............max_features=20, n_estimators=185; total time=   3.3s\n",
      "[CV 5/5] END ..............max_features=20, n_estimators=185; total time=   5.3s\n"
     ]
    },
    {
     "data": {
      "text/plain": [
       "GridSearchCV(cv=5, estimator=RandomForestClassifier(),\n",
       "             param_grid={'max_features': range(1, 21),\n",
       "                         'n_estimators': range(5, 201, 20)},\n",
       "             verbose=3)"
      ]
     },
     "execution_count": 56,
     "metadata": {},
     "output_type": "execute_result"
    }
   ],
   "source": [
    "m_gs3.fit(x_train,y_train)"
   ]
  },
  {
   "cell_type": "code",
   "execution_count": 58,
   "metadata": {
    "id": "31PJYjnu844C"
   },
   "outputs": [
    {
     "data": {
      "text/plain": [
       "({'max_features': 6, 'n_estimators': 145}, 0.6917142857142857)"
      ]
     },
     "execution_count": 58,
     "metadata": {},
     "output_type": "execute_result"
    }
   ],
   "source": [
    "m_gs3.best_params_,m_gs3.best_score_"
   ]
  },
  {
   "cell_type": "code",
   "execution_count": 59,
   "metadata": {},
   "outputs": [
    {
     "name": "stdout",
     "output_type": "stream",
     "text": [
      "              precision    recall  f1-score   support\n",
      "\n",
      "           0       0.73      0.71      0.72       769\n",
      "           1       0.70      0.72      0.71       731\n",
      "\n",
      "    accuracy                           0.72      1500\n",
      "   macro avg       0.72      0.72      0.72      1500\n",
      "weighted avg       0.72      0.72      0.72      1500\n",
      "\n"
     ]
    }
   ],
   "source": [
    "p3 = m_gs3.predict(x_val)\n",
    "print(classification_report(y_val,p3))"
   ]
  },
  {
   "cell_type": "code",
   "execution_count": 60,
   "metadata": {},
   "outputs": [
    {
     "data": {
      "text/html": [
       "<div>\n",
       "<style scoped>\n",
       "    .dataframe tbody tr th:only-of-type {\n",
       "        vertical-align: middle;\n",
       "    }\n",
       "\n",
       "    .dataframe tbody tr th {\n",
       "        vertical-align: top;\n",
       "    }\n",
       "\n",
       "    .dataframe thead th {\n",
       "        text-align: right;\n",
       "    }\n",
       "</style>\n",
       "<table border=\"1\" class=\"dataframe\">\n",
       "  <thead>\n",
       "    <tr style=\"text-align: right;\">\n",
       "      <th></th>\n",
       "      <th>mean_fit_time</th>\n",
       "      <th>std_fit_time</th>\n",
       "      <th>mean_score_time</th>\n",
       "      <th>std_score_time</th>\n",
       "      <th>param_max_features</th>\n",
       "      <th>param_n_estimators</th>\n",
       "      <th>params</th>\n",
       "      <th>split0_test_score</th>\n",
       "      <th>split1_test_score</th>\n",
       "      <th>split2_test_score</th>\n",
       "      <th>split3_test_score</th>\n",
       "      <th>split4_test_score</th>\n",
       "      <th>mean_test_score</th>\n",
       "      <th>std_test_score</th>\n",
       "      <th>rank_test_score</th>\n",
       "    </tr>\n",
       "  </thead>\n",
       "  <tbody>\n",
       "    <tr>\n",
       "      <th>0</th>\n",
       "      <td>0.031190</td>\n",
       "      <td>0.006515</td>\n",
       "      <td>0.007037</td>\n",
       "      <td>0.002615</td>\n",
       "      <td>1</td>\n",
       "      <td>5</td>\n",
       "      <td>{'max_features': 1, 'n_estimators': 5}</td>\n",
       "      <td>0.577143</td>\n",
       "      <td>0.584286</td>\n",
       "      <td>0.572857</td>\n",
       "      <td>0.598571</td>\n",
       "      <td>0.582857</td>\n",
       "      <td>0.583143</td>\n",
       "      <td>0.008732</td>\n",
       "      <td>200</td>\n",
       "    </tr>\n",
       "    <tr>\n",
       "      <th>1</th>\n",
       "      <td>0.114344</td>\n",
       "      <td>0.005184</td>\n",
       "      <td>0.010582</td>\n",
       "      <td>0.000825</td>\n",
       "      <td>1</td>\n",
       "      <td>25</td>\n",
       "      <td>{'max_features': 1, 'n_estimators': 25}</td>\n",
       "      <td>0.627143</td>\n",
       "      <td>0.640000</td>\n",
       "      <td>0.657143</td>\n",
       "      <td>0.634286</td>\n",
       "      <td>0.657143</td>\n",
       "      <td>0.643143</td>\n",
       "      <td>0.012135</td>\n",
       "      <td>189</td>\n",
       "    </tr>\n",
       "    <tr>\n",
       "      <th>2</th>\n",
       "      <td>0.201981</td>\n",
       "      <td>0.008565</td>\n",
       "      <td>0.018006</td>\n",
       "      <td>0.002572</td>\n",
       "      <td>1</td>\n",
       "      <td>45</td>\n",
       "      <td>{'max_features': 1, 'n_estimators': 45}</td>\n",
       "      <td>0.642857</td>\n",
       "      <td>0.652857</td>\n",
       "      <td>0.640000</td>\n",
       "      <td>0.644286</td>\n",
       "      <td>0.664286</td>\n",
       "      <td>0.648857</td>\n",
       "      <td>0.008825</td>\n",
       "      <td>184</td>\n",
       "    </tr>\n",
       "    <tr>\n",
       "      <th>3</th>\n",
       "      <td>0.279393</td>\n",
       "      <td>0.019213</td>\n",
       "      <td>0.022845</td>\n",
       "      <td>0.002240</td>\n",
       "      <td>1</td>\n",
       "      <td>65</td>\n",
       "      <td>{'max_features': 1, 'n_estimators': 65}</td>\n",
       "      <td>0.631429</td>\n",
       "      <td>0.647143</td>\n",
       "      <td>0.647143</td>\n",
       "      <td>0.662857</td>\n",
       "      <td>0.671429</td>\n",
       "      <td>0.652000</td>\n",
       "      <td>0.013898</td>\n",
       "      <td>181</td>\n",
       "    </tr>\n",
       "    <tr>\n",
       "      <th>4</th>\n",
       "      <td>0.398670</td>\n",
       "      <td>0.031518</td>\n",
       "      <td>0.029239</td>\n",
       "      <td>0.002242</td>\n",
       "      <td>1</td>\n",
       "      <td>85</td>\n",
       "      <td>{'max_features': 1, 'n_estimators': 85}</td>\n",
       "      <td>0.642857</td>\n",
       "      <td>0.668571</td>\n",
       "      <td>0.660000</td>\n",
       "      <td>0.657143</td>\n",
       "      <td>0.687143</td>\n",
       "      <td>0.663143</td>\n",
       "      <td>0.014580</td>\n",
       "      <td>173</td>\n",
       "    </tr>\n",
       "  </tbody>\n",
       "</table>\n",
       "</div>"
      ],
      "text/plain": [
       "   mean_fit_time  std_fit_time  mean_score_time  std_score_time  \\\n",
       "0       0.031190      0.006515         0.007037        0.002615   \n",
       "1       0.114344      0.005184         0.010582        0.000825   \n",
       "2       0.201981      0.008565         0.018006        0.002572   \n",
       "3       0.279393      0.019213         0.022845        0.002240   \n",
       "4       0.398670      0.031518         0.029239        0.002242   \n",
       "\n",
       "  param_max_features param_n_estimators  \\\n",
       "0                  1                  5   \n",
       "1                  1                 25   \n",
       "2                  1                 45   \n",
       "3                  1                 65   \n",
       "4                  1                 85   \n",
       "\n",
       "                                    params  split0_test_score  \\\n",
       "0   {'max_features': 1, 'n_estimators': 5}           0.577143   \n",
       "1  {'max_features': 1, 'n_estimators': 25}           0.627143   \n",
       "2  {'max_features': 1, 'n_estimators': 45}           0.642857   \n",
       "3  {'max_features': 1, 'n_estimators': 65}           0.631429   \n",
       "4  {'max_features': 1, 'n_estimators': 85}           0.642857   \n",
       "\n",
       "   split1_test_score  split2_test_score  split3_test_score  split4_test_score  \\\n",
       "0           0.584286           0.572857           0.598571           0.582857   \n",
       "1           0.640000           0.657143           0.634286           0.657143   \n",
       "2           0.652857           0.640000           0.644286           0.664286   \n",
       "3           0.647143           0.647143           0.662857           0.671429   \n",
       "4           0.668571           0.660000           0.657143           0.687143   \n",
       "\n",
       "   mean_test_score  std_test_score  rank_test_score  \n",
       "0         0.583143        0.008732              200  \n",
       "1         0.643143        0.012135              189  \n",
       "2         0.648857        0.008825              184  \n",
       "3         0.652000        0.013898              181  \n",
       "4         0.663143        0.014580              173  "
      ]
     },
     "execution_count": 60,
     "metadata": {},
     "output_type": "execute_result"
    }
   ],
   "source": [
    "result = pd.DataFrame(m_gs3.cv_results_)\n",
    "result.head()"
   ]
  },
  {
   "cell_type": "code",
   "execution_count": 61,
   "metadata": {},
   "outputs": [
    {
     "data": {
      "text/html": [
       "<div>\n",
       "<style scoped>\n",
       "    .dataframe tbody tr th:only-of-type {\n",
       "        vertical-align: middle;\n",
       "    }\n",
       "\n",
       "    .dataframe tbody tr th {\n",
       "        vertical-align: top;\n",
       "    }\n",
       "\n",
       "    .dataframe thead th {\n",
       "        text-align: right;\n",
       "    }\n",
       "</style>\n",
       "<table border=\"1\" class=\"dataframe\">\n",
       "  <thead>\n",
       "    <tr style=\"text-align: right;\">\n",
       "      <th></th>\n",
       "      <th>param_n_estimators</th>\n",
       "      <th>param_max_features</th>\n",
       "      <th>mean_test_score</th>\n",
       "    </tr>\n",
       "  </thead>\n",
       "  <tbody>\n",
       "    <tr>\n",
       "      <th>0</th>\n",
       "      <td>5</td>\n",
       "      <td>1</td>\n",
       "      <td>0.583143</td>\n",
       "    </tr>\n",
       "    <tr>\n",
       "      <th>1</th>\n",
       "      <td>25</td>\n",
       "      <td>1</td>\n",
       "      <td>0.643143</td>\n",
       "    </tr>\n",
       "    <tr>\n",
       "      <th>2</th>\n",
       "      <td>45</td>\n",
       "      <td>1</td>\n",
       "      <td>0.648857</td>\n",
       "    </tr>\n",
       "    <tr>\n",
       "      <th>3</th>\n",
       "      <td>65</td>\n",
       "      <td>1</td>\n",
       "      <td>0.652000</td>\n",
       "    </tr>\n",
       "    <tr>\n",
       "      <th>4</th>\n",
       "      <td>85</td>\n",
       "      <td>1</td>\n",
       "      <td>0.663143</td>\n",
       "    </tr>\n",
       "  </tbody>\n",
       "</table>\n",
       "</div>"
      ],
      "text/plain": [
       "  param_n_estimators param_max_features  mean_test_score\n",
       "0                  5                  1         0.583143\n",
       "1                 25                  1         0.643143\n",
       "2                 45                  1         0.648857\n",
       "3                 65                  1         0.652000\n",
       "4                 85                  1         0.663143"
      ]
     },
     "execution_count": 61,
     "metadata": {},
     "output_type": "execute_result"
    }
   ],
   "source": [
    "temp = result[['param_n_estimators','param_max_features','mean_test_score']]\n",
    "temp.head()"
   ]
  },
  {
   "cell_type": "code",
   "execution_count": 62,
   "metadata": {
    "scrolled": false
   },
   "outputs": [
    {
     "data": {
      "image/png": "[encoded data removed]",
      "text/plain": [
       "<Figure size 864x576 with 1 Axes>"
      ]
     },
     "metadata": {
      "needs_background": "light"
     },
     "output_type": "display_data"
    }
   ],
   "source": [
    "plt.figure(figsize=(12,8))\n",
    "sns.lineplot(x='param_max_features',y='mean_test_score',data=temp,hue='param_n_estimators')\n",
    "plt.grid()\n",
    "plt.show()"
   ]
  },
  {
   "cell_type": "code",
   "execution_count": null,
   "metadata": {},
   "outputs": [],
   "source": []
  }
 ],
 "metadata": {
  "colab": {
   "collapsed_sections": [],
   "name": "12과 Bagging.ipynb",
   "provenance": [],
   "toc_visible": true
  },
  "kernelspec": {
   "display_name": "Python 3",
   "language": "python",
   "name": "python3"
  },
  "language_info": {
   "codemirror_mode": {
    "name": "ipython",
    "version": 3
   },
   "file_extension": ".py",
   "mimetype": "text/x-python",
   "name": "python",
   "nbconvert_exporter": "python",
   "pygments_lexer": "ipython3",
   "version": "3.8.8"
  }
 },
 "nbformat": 4,
 "nbformat_minor": 1
}
