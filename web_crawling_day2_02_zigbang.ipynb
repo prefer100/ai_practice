{
 "cells": [
  {
   "cell_type": "markdown",
   "id": "d9f032a3",
   "metadata": {},
   "source": [
    "### 직방의 원룸 매물정보 수집\n",
    "- 절차\n",
    "    - 동이름 > 위도,경도 수집\n",
    "    - 위도,경도 > geohash 변환\n",
    "    - geohash(영역) > 매물 아이디\n",
    "    - 매물 아이디 > 매물 정보"
   ]
  },
  {
   "cell_type": "code",
   "execution_count": 6,
   "id": "7f8cc459",
   "metadata": {},
   "outputs": [
    {
     "name": "stdout",
     "output_type": "stream",
     "text": [
      "Collecting geohash2\n",
      "  Downloading geohash2-1.1.tar.gz (15 kB)\n",
      "Requirement already satisfied: docutils>=0.3 in c:\\users\\user\\anaconda3\\lib\\site-packages (from geohash2) (0.17)\n",
      "Building wheels for collected packages: geohash2\n",
      "  Building wheel for geohash2 (setup.py): started\n",
      "  Building wheel for geohash2 (setup.py): finished with status 'done'\n",
      "  Created wheel for geohash2: filename=geohash2-1.1-py3-none-any.whl size=15544 sha256=0c698f6462f6e1b2a0598c5906aa38a54823a01e8be92ddc3b6abd6a035fe414\n",
      "  Stored in directory: c:\\users\\user\\appdata\\local\\pip\\cache\\wheels\\2d\\0c\\66\\dcd768c9e7c26fc81ec59bfe24af9d780fc9dbdf7f90b0cf00\n",
      "Successfully built geohash2\n",
      "Installing collected packages: geohash2\n",
      "Successfully installed geohash2-1.1\n"
     ]
    }
   ],
   "source": [
    "!pip install geohash2"
   ]
  },
  {
   "cell_type": "code",
   "execution_count": 7,
   "id": "b885ee0b",
   "metadata": {},
   "outputs": [],
   "source": [
    "import requests\n",
    "import pandas as pd\n",
    "import geohash2"
   ]
  },
  {
   "cell_type": "code",
   "execution_count": 1,
   "id": "e186e0c0",
   "metadata": {},
   "outputs": [],
   "source": [
    "# 1. 동이름 > 위도, 경도"
   ]
  },
  {
   "cell_type": "code",
   "execution_count": 33,
   "id": "e152588a",
   "metadata": {},
   "outputs": [],
   "source": [
    "#search?"
   ]
  },
  {
   "cell_type": "code",
   "execution_count": 13,
   "id": "014452ea",
   "metadata": {},
   "outputs": [
    {
     "data": {
      "text/plain": [
       "(37.5174064636231, 127.047309875488)"
      ]
     },
     "execution_count": 13,
     "metadata": {},
     "output_type": "execute_result"
    }
   ],
   "source": [
    "addr = '서울시 강남구'\n",
    "url =  f'https://apis.zigbang.com/v2/search?leaseYn=N&q={addr}&serviceType=원룸'\n",
    "response = requests.get(url)\n",
    "data = response.json()[\"items\"][0]\n",
    "lat, lng = data[\"lat\"],data[\"lng\"]\n",
    "lat, lng"
   ]
  },
  {
   "cell_type": "markdown",
   "id": "6bf58cf8",
   "metadata": {},
   "source": [
    "### url 디코딩 : https://meyerweb.com/eric/tools/dencoder/"
   ]
  },
  {
   "cell_type": "code",
   "execution_count": 8,
   "id": "1980ec3e",
   "metadata": {},
   "outputs": [],
   "source": [
    "# 개발자 도구 : ctrl+shift+I"
   ]
  },
  {
   "cell_type": "code",
   "execution_count": 2,
   "id": "b25a114c",
   "metadata": {},
   "outputs": [],
   "source": [
    "# 2. 위도,경도 > geohash"
   ]
  },
  {
   "cell_type": "code",
   "execution_count": 27,
   "id": "3d79b7fa",
   "metadata": {},
   "outputs": [
    {
     "data": {
      "text/plain": [
       "'wydm7'"
      ]
     },
     "execution_count": 27,
     "metadata": {},
     "output_type": "execute_result"
    }
   ],
   "source": [
    "# precision이 커질수록 영역이 작아짐\n",
    "geohash = geohash2.encode(lat,lng,precision=5)\n",
    "geohash"
   ]
  },
  {
   "cell_type": "markdown",
   "id": "85d4ca27",
   "metadata": {},
   "source": [
    "### 설명 보고 싶으면 shift + tab"
   ]
  },
  {
   "cell_type": "code",
   "execution_count": 3,
   "id": "5e8a73e0",
   "metadata": {},
   "outputs": [],
   "source": [
    "# 3. geohash > 매물 아이디"
   ]
  },
  {
   "cell_type": "code",
   "execution_count": 15,
   "id": "1020d224",
   "metadata": {},
   "outputs": [],
   "source": [
    "# 공백문자에 \\ 쓰면 에러\n",
    "# 내용이 길때 한줄 띄우려면 \\"
   ]
  },
  {
   "cell_type": "code",
   "execution_count": 32,
   "id": "ff32e664",
   "metadata": {},
   "outputs": [],
   "source": [
    "# items?deposit"
   ]
  },
  {
   "cell_type": "code",
   "execution_count": 29,
   "id": "dbb7bc19",
   "metadata": {},
   "outputs": [
    {
     "data": {
      "text/plain": [
       "<Response [200]>"
      ]
     },
     "execution_count": 29,
     "metadata": {},
     "output_type": "execute_result"
    }
   ],
   "source": [
    "url = f'https://apis.zigbang.com/v2/items?deposit_gteq=0&domain=zigbang&geohash={geohash}&needHasNoFiltered=true&rent_gteq=0&sales_type_in=전세|월세&service_type_eq=원룸'\n",
    "response = requests.get(url)\n",
    "response"
   ]
  },
  {
   "cell_type": "code",
   "execution_count": 30,
   "id": "21cb9f4d",
   "metadata": {},
   "outputs": [
    {
     "data": {
      "text/plain": [
       "(707,\n",
       " [{'lat': 37.48984284564423, 'lng': 127.08260954244908, 'item_id': 32405381},\n",
       "  {'lat': 37.49005074959576, 'lng': 127.08382572848865, 'item_id': 32635864}])"
      ]
     },
     "execution_count": 30,
     "metadata": {},
     "output_type": "execute_result"
    }
   ],
   "source": [
    "items = response.json()[\"items\"]\n",
    "len(items), items[:2]"
   ]
  },
  {
   "cell_type": "code",
   "execution_count": 34,
   "id": "f013fb69",
   "metadata": {},
   "outputs": [
    {
     "data": {
      "text/plain": [
       "[32405381, 32635864, 32666863, 32730696, 32875403]"
      ]
     },
     "execution_count": 34,
     "metadata": {},
     "output_type": "execute_result"
    }
   ],
   "source": [
    "ids = [item[\"item_id\"] for item in items]\n",
    "ids[:5]"
   ]
  },
  {
   "cell_type": "code",
   "execution_count": 4,
   "id": "2fb5321f",
   "metadata": {},
   "outputs": [],
   "source": [
    "# 4. 매물 아이디 > 매물 정보"
   ]
  },
  {
   "cell_type": "code",
   "execution_count": 35,
   "id": "2ea6971c",
   "metadata": {},
   "outputs": [],
   "source": [
    "# list\n",
    "# post방식일땐 param 써야됨 param 정보는 payload에서 확인 가능"
   ]
  },
  {
   "cell_type": "code",
   "execution_count": 37,
   "id": "8e6749e4",
   "metadata": {},
   "outputs": [
    {
     "data": {
      "text/plain": [
       "<Response [200]>"
      ]
     },
     "execution_count": 37,
     "metadata": {},
     "output_type": "execute_result"
    }
   ],
   "source": [
    "url = \"https://apis.zigbang.com/v2/items/list\"\n",
    "params = {\n",
    "    \"domain\":\"zigbang\",\n",
    "    \"withCoalition\":\"true\",\n",
    "    \"item_ids\":ids[:900]\n",
    "}\n",
    "response = requests.post(url,params)\n",
    "response"
   ]
  },
  {
   "cell_type": "code",
   "execution_count": 38,
   "id": "beb3150f",
   "metadata": {},
   "outputs": [
    {
     "data": {
      "text/html": [
       "<div>\n",
       "<style scoped>\n",
       "    .dataframe tbody tr th:only-of-type {\n",
       "        vertical-align: middle;\n",
       "    }\n",
       "\n",
       "    .dataframe tbody tr th {\n",
       "        vertical-align: top;\n",
       "    }\n",
       "\n",
       "    .dataframe thead th {\n",
       "        text-align: right;\n",
       "    }\n",
       "</style>\n",
       "<table border=\"1\" class=\"dataframe\">\n",
       "  <thead>\n",
       "    <tr style=\"text-align: right;\">\n",
       "      <th></th>\n",
       "      <th>item_id</th>\n",
       "      <th>sales_type</th>\n",
       "      <th>deposit</th>\n",
       "      <th>rent</th>\n",
       "      <th>size_m2</th>\n",
       "      <th>address1</th>\n",
       "      <th>manage_cost</th>\n",
       "    </tr>\n",
       "  </thead>\n",
       "  <tbody>\n",
       "    <tr>\n",
       "      <th>705</th>\n",
       "      <td>32780815</td>\n",
       "      <td>전세</td>\n",
       "      <td>33000</td>\n",
       "      <td>0</td>\n",
       "      <td>62.84</td>\n",
       "      <td>서울시 광진구 자양동</td>\n",
       "      <td>2</td>\n",
       "    </tr>\n",
       "    <tr>\n",
       "      <th>706</th>\n",
       "      <td>32872378</td>\n",
       "      <td>전세</td>\n",
       "      <td>32000</td>\n",
       "      <td>0</td>\n",
       "      <td>85.95</td>\n",
       "      <td>서울시 광진구 자양동</td>\n",
       "      <td>2</td>\n",
       "    </tr>\n",
       "  </tbody>\n",
       "</table>\n",
       "</div>"
      ],
      "text/plain": [
       "      item_id sales_type  deposit  rent  size_m2     address1 manage_cost\n",
       "705  32780815         전세    33000     0    62.84  서울시 광진구 자양동           2\n",
       "706  32872378         전세    32000     0    85.95  서울시 광진구 자양동           2"
      ]
     },
     "execution_count": 38,
     "metadata": {},
     "output_type": "execute_result"
    }
   ],
   "source": [
    "items = response.json()['items']\n",
    "columns = ['item_id',\"sales_type\",\"deposit\",'rent','size_m2','address1','manage_cost']\n",
    "df = pd.DataFrame(items)[columns]\n",
    "df.tail(2)"
   ]
  },
  {
   "cell_type": "code",
   "execution_count": 41,
   "id": "bb323679",
   "metadata": {},
   "outputs": [
    {
     "data": {
      "text/plain": [
       "(50, 60)"
      ]
     },
     "execution_count": 41,
     "metadata": {},
     "output_type": "execute_result"
    }
   ],
   "source": [
    "# max row, max column 설정\n",
    "pd.options.display.max_columns, pd.options.display.max_rows"
   ]
  },
  {
   "cell_type": "code",
   "execution_count": 39,
   "id": "efe03263",
   "metadata": {},
   "outputs": [],
   "source": [
    "pd.options.display.max_columns = 50"
   ]
  },
  {
   "cell_type": "code",
   "execution_count": 40,
   "id": "784ed169",
   "metadata": {},
   "outputs": [
    {
     "data": {
      "text/html": [
       "<div>\n",
       "<style scoped>\n",
       "    .dataframe tbody tr th:only-of-type {\n",
       "        vertical-align: middle;\n",
       "    }\n",
       "\n",
       "    .dataframe tbody tr th {\n",
       "        vertical-align: top;\n",
       "    }\n",
       "\n",
       "    .dataframe thead th {\n",
       "        text-align: right;\n",
       "    }\n",
       "</style>\n",
       "<table border=\"1\" class=\"dataframe\">\n",
       "  <thead>\n",
       "    <tr style=\"text-align: right;\">\n",
       "      <th></th>\n",
       "      <th>section_type</th>\n",
       "      <th>item_id</th>\n",
       "      <th>images_thumbnail</th>\n",
       "      <th>sales_type</th>\n",
       "      <th>sales_title</th>\n",
       "      <th>deposit</th>\n",
       "      <th>rent</th>\n",
       "      <th>size_m2</th>\n",
       "      <th>공급면적</th>\n",
       "      <th>전용면적</th>\n",
       "      <th>계약면적</th>\n",
       "      <th>room_type_title</th>\n",
       "      <th>floor</th>\n",
       "      <th>floor_string</th>\n",
       "      <th>building_floor</th>\n",
       "      <th>title</th>\n",
       "      <th>is_first_movein</th>\n",
       "      <th>room_type</th>\n",
       "      <th>address</th>\n",
       "      <th>random_location</th>\n",
       "      <th>is_zzim</th>\n",
       "      <th>status</th>\n",
       "      <th>service_type</th>\n",
       "      <th>tags</th>\n",
       "      <th>address1</th>\n",
       "      <th>address2</th>\n",
       "      <th>address3</th>\n",
       "      <th>manage_cost</th>\n",
       "      <th>reg_date</th>\n",
       "      <th>is_new</th>\n",
       "    </tr>\n",
       "  </thead>\n",
       "  <tbody>\n",
       "    <tr>\n",
       "      <th>705</th>\n",
       "      <td>None</td>\n",
       "      <td>32780815</td>\n",
       "      <td>https://ic.zigbang.com/ic/items/32780815/1.jpg</td>\n",
       "      <td>전세</td>\n",
       "      <td>전세</td>\n",
       "      <td>33000</td>\n",
       "      <td>0</td>\n",
       "      <td>62.84</td>\n",
       "      <td>{'m2': 62.84, 'p': '19'}</td>\n",
       "      <td>{'m2': 62.81, 'p': '19'}</td>\n",
       "      <td>None</td>\n",
       "      <td>None</td>\n",
       "      <td>4</td>\n",
       "      <td>4</td>\n",
       "      <td>5</td>\n",
       "      <td>●리모델링●공간,채광 좋은●3룸</td>\n",
       "      <td>None</td>\n",
       "      <td>05</td>\n",
       "      <td>광진구 자양동</td>\n",
       "      <td>{'lat': 37.52954654800517, 'lng': 127.08253347...</td>\n",
       "      <td>False</td>\n",
       "      <td>True</td>\n",
       "      <td>빌라</td>\n",
       "      <td>[]</td>\n",
       "      <td>서울시 광진구 자양동</td>\n",
       "      <td>None</td>\n",
       "      <td>None</td>\n",
       "      <td>2</td>\n",
       "      <td>2022-07-27T14:03:31+09:00</td>\n",
       "      <td>False</td>\n",
       "    </tr>\n",
       "    <tr>\n",
       "      <th>706</th>\n",
       "      <td>None</td>\n",
       "      <td>32872378</td>\n",
       "      <td>https://ic.zigbang.com/ic/items/32872378/1.jpg</td>\n",
       "      <td>전세</td>\n",
       "      <td>전세</td>\n",
       "      <td>32000</td>\n",
       "      <td>0</td>\n",
       "      <td>85.95</td>\n",
       "      <td>{'m2': 85.95, 'p': '26'}</td>\n",
       "      <td>{'m2': 82.64, 'p': '25'}</td>\n",
       "      <td>None</td>\n",
       "      <td>None</td>\n",
       "      <td>4</td>\n",
       "      <td>4</td>\n",
       "      <td>5</td>\n",
       "      <td>아파트36평형 크기의 3룸.방3개 모두큼.주차가능.입주하시</td>\n",
       "      <td>None</td>\n",
       "      <td>05</td>\n",
       "      <td>광진구 자양동</td>\n",
       "      <td>{'lat': 37.52955396805742, 'lng': 127.08257926...</td>\n",
       "      <td>False</td>\n",
       "      <td>True</td>\n",
       "      <td>빌라</td>\n",
       "      <td>[]</td>\n",
       "      <td>서울시 광진구 자양동</td>\n",
       "      <td>None</td>\n",
       "      <td>None</td>\n",
       "      <td>2</td>\n",
       "      <td>2022-08-03T18:52:25+09:00</td>\n",
       "      <td>True</td>\n",
       "    </tr>\n",
       "  </tbody>\n",
       "</table>\n",
       "</div>"
      ],
      "text/plain": [
       "    section_type   item_id                                images_thumbnail  \\\n",
       "705         None  32780815  https://ic.zigbang.com/ic/items/32780815/1.jpg   \n",
       "706         None  32872378  https://ic.zigbang.com/ic/items/32872378/1.jpg   \n",
       "\n",
       "    sales_type sales_title  deposit  rent  size_m2                      공급면적  \\\n",
       "705         전세          전세    33000     0    62.84  {'m2': 62.84, 'p': '19'}   \n",
       "706         전세          전세    32000     0    85.95  {'m2': 85.95, 'p': '26'}   \n",
       "\n",
       "                         전용면적  계약면적 room_type_title floor floor_string  \\\n",
       "705  {'m2': 62.81, 'p': '19'}  None            None     4            4   \n",
       "706  {'m2': 82.64, 'p': '25'}  None            None     4            4   \n",
       "\n",
       "    building_floor                             title is_first_movein  \\\n",
       "705              5                 ●리모델링●공간,채광 좋은●3룸            None   \n",
       "706              5  아파트36평형 크기의 3룸.방3개 모두큼.주차가능.입주하시            None   \n",
       "\n",
       "    room_type  address                                    random_location  \\\n",
       "705        05  광진구 자양동  {'lat': 37.52954654800517, 'lng': 127.08253347...   \n",
       "706        05  광진구 자양동  {'lat': 37.52955396805742, 'lng': 127.08257926...   \n",
       "\n",
       "     is_zzim  status service_type tags     address1 address2 address3  \\\n",
       "705    False    True           빌라   []  서울시 광진구 자양동     None     None   \n",
       "706    False    True           빌라   []  서울시 광진구 자양동     None     None   \n",
       "\n",
       "    manage_cost                   reg_date  is_new  \n",
       "705           2  2022-07-27T14:03:31+09:00   False  \n",
       "706           2  2022-08-03T18:52:25+09:00    True  "
      ]
     },
     "execution_count": 40,
     "metadata": {},
     "output_type": "execute_result"
    }
   ],
   "source": [
    "pd.DataFrame(items).tail(2)"
   ]
  },
  {
   "cell_type": "code",
   "execution_count": 49,
   "id": "1756745f",
   "metadata": {},
   "outputs": [],
   "source": [
    "# 함수 만들기\n",
    "def oneroom(addr):\n",
    "    \n",
    "    url =  f'https://apis.zigbang.com/v2/search?leaseYn=N&q={addr}&serviceType=원룸'\n",
    "    response = requests.get(url)\n",
    "    data = response.json()[\"items\"][0]\n",
    "    lat, lng = data[\"lat\"],data[\"lng\"]\n",
    "    \n",
    "    geohash = geohash2.encode(lat,lng,precision=5)\n",
    "    \n",
    "    url = f'https://apis.zigbang.com/v2/items?deposit_gteq=0&domain=zigbang&geohash={geohash}\\\n",
    "&needHasNoFiltered=true&rent_gteq=0&sales_type_in=전세|월세&service_type_eq=원룸'\n",
    "    response = requests.get(url)\n",
    "    items = response.json()[\"items\"]\n",
    "    ids = [item[\"item_id\"] for item in items]\n",
    "    \n",
    "    url = \"https://apis.zigbang.com/v2/items/list\"\n",
    "    params = {\n",
    "        \"domain\":\"zigbang\",\n",
    "        \"withCoalition\":\"true\",\n",
    "        \"item_ids\":ids[:900]\n",
    "    }\n",
    "    response = requests.post(url,params)\n",
    "    \n",
    "    items = response.json()['items']\n",
    "    columns = ['item_id',\"sales_type\",\"deposit\",'rent','size_m2','address1','manage_cost']\n",
    "    return pd.DataFrame(items)[columns]"
   ]
  },
  {
   "cell_type": "code",
   "execution_count": 50,
   "id": "a7148eb8",
   "metadata": {},
   "outputs": [
    {
     "data": {
      "text/html": [
       "<div>\n",
       "<style scoped>\n",
       "    .dataframe tbody tr th:only-of-type {\n",
       "        vertical-align: middle;\n",
       "    }\n",
       "\n",
       "    .dataframe tbody tr th {\n",
       "        vertical-align: top;\n",
       "    }\n",
       "\n",
       "    .dataframe thead th {\n",
       "        text-align: right;\n",
       "    }\n",
       "</style>\n",
       "<table border=\"1\" class=\"dataframe\">\n",
       "  <thead>\n",
       "    <tr style=\"text-align: right;\">\n",
       "      <th></th>\n",
       "      <th>item_id</th>\n",
       "      <th>sales_type</th>\n",
       "      <th>deposit</th>\n",
       "      <th>rent</th>\n",
       "      <th>size_m2</th>\n",
       "      <th>address1</th>\n",
       "      <th>manage_cost</th>\n",
       "    </tr>\n",
       "  </thead>\n",
       "  <tbody>\n",
       "    <tr>\n",
       "      <th>744</th>\n",
       "      <td>32862490</td>\n",
       "      <td>전세</td>\n",
       "      <td>43000</td>\n",
       "      <td>0</td>\n",
       "      <td>31.74</td>\n",
       "      <td>서울시 마포구 중동</td>\n",
       "      <td>5</td>\n",
       "    </tr>\n",
       "    <tr>\n",
       "      <th>745</th>\n",
       "      <td>32866975</td>\n",
       "      <td>월세</td>\n",
       "      <td>3000</td>\n",
       "      <td>90</td>\n",
       "      <td>49.59</td>\n",
       "      <td>서울시 마포구 중동</td>\n",
       "      <td>2</td>\n",
       "    </tr>\n",
       "  </tbody>\n",
       "</table>\n",
       "</div>"
      ],
      "text/plain": [
       "      item_id sales_type  deposit  rent  size_m2    address1 manage_cost\n",
       "744  32862490         전세    43000     0    31.74  서울시 마포구 중동           5\n",
       "745  32866975         월세     3000    90    49.59  서울시 마포구 중동           2"
      ]
     },
     "execution_count": 50,
     "metadata": {},
     "output_type": "execute_result"
    }
   ],
   "source": [
    "addr ='마포구 합정동'\n",
    "df = oneroom(addr)\n",
    "df.tail(2)"
   ]
  },
  {
   "cell_type": "code",
   "execution_count": 51,
   "id": "9d660cae",
   "metadata": {},
   "outputs": [
    {
     "data": {
      "text/html": [
       "<div>\n",
       "<style scoped>\n",
       "    .dataframe tbody tr th:only-of-type {\n",
       "        vertical-align: middle;\n",
       "    }\n",
       "\n",
       "    .dataframe tbody tr th {\n",
       "        vertical-align: top;\n",
       "    }\n",
       "\n",
       "    .dataframe thead th {\n",
       "        text-align: right;\n",
       "    }\n",
       "</style>\n",
       "<table border=\"1\" class=\"dataframe\">\n",
       "  <thead>\n",
       "    <tr style=\"text-align: right;\">\n",
       "      <th></th>\n",
       "      <th>item_id</th>\n",
       "      <th>sales_type</th>\n",
       "      <th>deposit</th>\n",
       "      <th>rent</th>\n",
       "      <th>size_m2</th>\n",
       "      <th>address1</th>\n",
       "      <th>manage_cost</th>\n",
       "    </tr>\n",
       "  </thead>\n",
       "  <tbody>\n",
       "    <tr>\n",
       "      <th>0</th>\n",
       "      <td>32662713</td>\n",
       "      <td>전세</td>\n",
       "      <td>17700</td>\n",
       "      <td>0</td>\n",
       "      <td>39.67</td>\n",
       "      <td>서울시 마포구 합정동</td>\n",
       "      <td>0</td>\n",
       "    </tr>\n",
       "    <tr>\n",
       "      <th>1</th>\n",
       "      <td>32668759</td>\n",
       "      <td>전세</td>\n",
       "      <td>17700</td>\n",
       "      <td>0</td>\n",
       "      <td>39.67</td>\n",
       "      <td>서울시 마포구 합정동</td>\n",
       "      <td>0</td>\n",
       "    </tr>\n",
       "    <tr>\n",
       "      <th>2</th>\n",
       "      <td>32726690</td>\n",
       "      <td>전세</td>\n",
       "      <td>19900</td>\n",
       "      <td>0</td>\n",
       "      <td>36.28</td>\n",
       "      <td>서울시 마포구 합정동</td>\n",
       "      <td>0</td>\n",
       "    </tr>\n",
       "    <tr>\n",
       "      <th>3</th>\n",
       "      <td>32542700</td>\n",
       "      <td>월세</td>\n",
       "      <td>1500</td>\n",
       "      <td>95</td>\n",
       "      <td>49.59</td>\n",
       "      <td>서울시 마포구 합정동</td>\n",
       "      <td>7</td>\n",
       "    </tr>\n",
       "    <tr>\n",
       "      <th>4</th>\n",
       "      <td>32513282</td>\n",
       "      <td>전세</td>\n",
       "      <td>5000</td>\n",
       "      <td>0</td>\n",
       "      <td>23.14</td>\n",
       "      <td>서울시 마포구 합정동</td>\n",
       "      <td>5</td>\n",
       "    </tr>\n",
       "    <tr>\n",
       "      <th>...</th>\n",
       "      <td>...</td>\n",
       "      <td>...</td>\n",
       "      <td>...</td>\n",
       "      <td>...</td>\n",
       "      <td>...</td>\n",
       "      <td>...</td>\n",
       "      <td>...</td>\n",
       "    </tr>\n",
       "    <tr>\n",
       "      <th>95</th>\n",
       "      <td>32794268</td>\n",
       "      <td>월세</td>\n",
       "      <td>1000</td>\n",
       "      <td>90</td>\n",
       "      <td>59.50</td>\n",
       "      <td>서울시 마포구 합정동</td>\n",
       "      <td>2</td>\n",
       "    </tr>\n",
       "    <tr>\n",
       "      <th>96</th>\n",
       "      <td>32794303</td>\n",
       "      <td>월세</td>\n",
       "      <td>3000</td>\n",
       "      <td>80</td>\n",
       "      <td>59.50</td>\n",
       "      <td>서울시 마포구 합정동</td>\n",
       "      <td>2</td>\n",
       "    </tr>\n",
       "    <tr>\n",
       "      <th>97</th>\n",
       "      <td>32804404</td>\n",
       "      <td>월세</td>\n",
       "      <td>2000</td>\n",
       "      <td>85</td>\n",
       "      <td>61.24</td>\n",
       "      <td>서울시 마포구 합정동</td>\n",
       "      <td>2</td>\n",
       "    </tr>\n",
       "    <tr>\n",
       "      <th>98</th>\n",
       "      <td>32812101</td>\n",
       "      <td>월세</td>\n",
       "      <td>3000</td>\n",
       "      <td>80</td>\n",
       "      <td>61.24</td>\n",
       "      <td>서울시 마포구 합정동</td>\n",
       "      <td>2</td>\n",
       "    </tr>\n",
       "    <tr>\n",
       "      <th>99</th>\n",
       "      <td>32836233</td>\n",
       "      <td>월세</td>\n",
       "      <td>1000</td>\n",
       "      <td>45</td>\n",
       "      <td>13.95</td>\n",
       "      <td>서울시 마포구 합정동</td>\n",
       "      <td>5</td>\n",
       "    </tr>\n",
       "  </tbody>\n",
       "</table>\n",
       "<p>100 rows × 7 columns</p>\n",
       "</div>"
      ],
      "text/plain": [
       "     item_id sales_type  deposit  rent  size_m2     address1 manage_cost\n",
       "0   32662713         전세    17700     0    39.67  서울시 마포구 합정동           0\n",
       "1   32668759         전세    17700     0    39.67  서울시 마포구 합정동           0\n",
       "2   32726690         전세    19900     0    36.28  서울시 마포구 합정동           0\n",
       "3   32542700         월세     1500    95    49.59  서울시 마포구 합정동           7\n",
       "4   32513282         전세     5000     0    23.14  서울시 마포구 합정동           5\n",
       "..       ...        ...      ...   ...      ...          ...         ...\n",
       "95  32794268         월세     1000    90    59.50  서울시 마포구 합정동           2\n",
       "96  32794303         월세     3000    80    59.50  서울시 마포구 합정동           2\n",
       "97  32804404         월세     2000    85    61.24  서울시 마포구 합정동           2\n",
       "98  32812101         월세     3000    80    61.24  서울시 마포구 합정동           2\n",
       "99  32836233         월세     1000    45    13.95  서울시 마포구 합정동           5\n",
       "\n",
       "[100 rows x 7 columns]"
      ]
     },
     "execution_count": 51,
     "metadata": {},
     "output_type": "execute_result"
    }
   ],
   "source": [
    "df_filtered = df[df[\"address1\"].str.contains(addr)].reset_index(drop=True)\n",
    "df_filtered"
   ]
  },
  {
   "cell_type": "code",
   "execution_count": 52,
   "id": "7118bf80",
   "metadata": {},
   "outputs": [],
   "source": [
    "# 모듈 파일 만들기:.py"
   ]
  },
  {
   "cell_type": "code",
   "execution_count": 54,
   "id": "b61b6737",
   "metadata": {},
   "outputs": [
    {
     "name": "stdout",
     "output_type": "stream",
     "text": [
      "Writing zigbang.py\n"
     ]
    }
   ],
   "source": [
    "%%writefile zigbang.py\n",
    "import requests\n",
    "import pandas as pd\n",
    "import geohash2\n",
    "\n",
    "def oneroom(addr):\n",
    "    \n",
    "    url =  f'https://apis.zigbang.com/v2/search?leaseYn=N&q={addr}&serviceType=원룸'\n",
    "    response = requests.get(url)\n",
    "    data = response.json()[\"items\"][0]\n",
    "    lat, lng = data[\"lat\"],data[\"lng\"]\n",
    "    \n",
    "    geohash = geohash2.encode(lat,lng,precision=5)\n",
    "    \n",
    "    url = f'https://apis.zigbang.com/v2/items?deposit_gteq=0&domain=zigbang&geohash={geohash}\\\n",
    "&needHasNoFiltered=true&rent_gteq=0&sales_type_in=전세|월세&service_type_eq=원룸'\n",
    "    response = requests.get(url)\n",
    "    items = response.json()[\"items\"]\n",
    "    ids = [item[\"item_id\"] for item in items]\n",
    "    \n",
    "    url = \"https://apis.zigbang.com/v2/items/list\"\n",
    "    params = {\n",
    "        \"domain\":\"zigbang\",\n",
    "        \"withCoalition\":\"true\",\n",
    "        \"item_ids\":ids[:900]\n",
    "    }\n",
    "    response = requests.post(url,params)\n",
    "    \n",
    "    items = response.json()['items']\n",
    "    columns = ['item_id',\"sales_type\",\"deposit\",'rent','size_m2','address1','manage_cost']\n",
    "    return pd.DataFrame(items)[columns]"
   ]
  },
  {
   "cell_type": "code",
   "execution_count": 58,
   "id": "44d10f95",
   "metadata": {},
   "outputs": [],
   "source": [
    "# writefile 위에 주석 있으면 안됨"
   ]
  },
  {
   "cell_type": "code",
   "execution_count": 56,
   "id": "a6f480ad",
   "metadata": {},
   "outputs": [],
   "source": [
    "import zigbang as zb"
   ]
  },
  {
   "cell_type": "code",
   "execution_count": 57,
   "id": "fc796ffb",
   "metadata": {},
   "outputs": [
    {
     "data": {
      "text/html": [
       "<div>\n",
       "<style scoped>\n",
       "    .dataframe tbody tr th:only-of-type {\n",
       "        vertical-align: middle;\n",
       "    }\n",
       "\n",
       "    .dataframe tbody tr th {\n",
       "        vertical-align: top;\n",
       "    }\n",
       "\n",
       "    .dataframe thead th {\n",
       "        text-align: right;\n",
       "    }\n",
       "</style>\n",
       "<table border=\"1\" class=\"dataframe\">\n",
       "  <thead>\n",
       "    <tr style=\"text-align: right;\">\n",
       "      <th></th>\n",
       "      <th>item_id</th>\n",
       "      <th>sales_type</th>\n",
       "      <th>deposit</th>\n",
       "      <th>rent</th>\n",
       "      <th>size_m2</th>\n",
       "      <th>address1</th>\n",
       "      <th>manage_cost</th>\n",
       "    </tr>\n",
       "  </thead>\n",
       "  <tbody>\n",
       "    <tr>\n",
       "      <th>744</th>\n",
       "      <td>32862490</td>\n",
       "      <td>전세</td>\n",
       "      <td>43000</td>\n",
       "      <td>0</td>\n",
       "      <td>31.74</td>\n",
       "      <td>서울시 마포구 중동</td>\n",
       "      <td>5</td>\n",
       "    </tr>\n",
       "    <tr>\n",
       "      <th>745</th>\n",
       "      <td>32866975</td>\n",
       "      <td>월세</td>\n",
       "      <td>3000</td>\n",
       "      <td>90</td>\n",
       "      <td>49.59</td>\n",
       "      <td>서울시 마포구 중동</td>\n",
       "      <td>2</td>\n",
       "    </tr>\n",
       "  </tbody>\n",
       "</table>\n",
       "</div>"
      ],
      "text/plain": [
       "      item_id sales_type  deposit  rent  size_m2    address1 manage_cost\n",
       "744  32862490         전세    43000     0    31.74  서울시 마포구 중동           5\n",
       "745  32866975         월세     3000    90    49.59  서울시 마포구 중동           2"
      ]
     },
     "execution_count": 57,
     "metadata": {},
     "output_type": "execute_result"
    }
   ],
   "source": [
    "df = zb.oneroom('망원동')\n",
    "df.tail(2)"
   ]
  },
  {
   "cell_type": "code",
   "execution_count": 60,
   "id": "b81bb1ae",
   "metadata": {},
   "outputs": [
    {
     "name": "stdout",
     "output_type": "stream",
     "text": [
      "Once deleted, variables cannot be recovered. Proceed (y/[n])? y\n"
     ]
    }
   ],
   "source": [
    "%reset"
   ]
  },
  {
   "cell_type": "code",
   "execution_count": 61,
   "id": "50102c51",
   "metadata": {},
   "outputs": [],
   "source": [
    "data = 1"
   ]
  },
  {
   "cell_type": "code",
   "execution_count": 62,
   "id": "e7de28e0",
   "metadata": {},
   "outputs": [
    {
     "name": "stdout",
     "output_type": "stream",
     "text": [
      "Variable   Type    Data/Info\n",
      "----------------------------\n",
      "data       int     1\n"
     ]
    }
   ],
   "source": [
    "%whos"
   ]
  },
  {
   "cell_type": "code",
   "execution_count": null,
   "id": "b5e667c8",
   "metadata": {},
   "outputs": [],
   "source": []
  }
 ],
 "metadata": {
  "kernelspec": {
   "display_name": "Python 3",
   "language": "python",
   "name": "python3"
  },
  "language_info": {
   "codemirror_mode": {
    "name": "ipython",
    "version": 3
   },
   "file_extension": ".py",
   "mimetype": "text/x-python",
   "name": "python",
   "nbconvert_exporter": "python",
   "pygments_lexer": "ipython3",
   "version": "3.8.8"
  }
 },
 "nbformat": 4,
 "nbformat_minor": 5
}
