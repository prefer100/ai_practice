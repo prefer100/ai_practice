{
 "cells": [
  {
   "cell_type": "markdown",
   "metadata": {
    "id": "EnlYouStN0Le"
   },
   "source": [
    "# 08과 이변량_범주 vs 숫자"
   ]
  },
  {
   "cell_type": "markdown",
   "metadata": {
    "id": "0SJP-uYxN0Lk"
   },
   "source": [
    "## 1.환경준비"
   ]
  },
  {
   "cell_type": "markdown",
   "metadata": {
    "id": "6dMK5CsEN0Lk"
   },
   "source": [
    "* 라이브러리 불러오기"
   ]
  },
  {
   "cell_type": "code",
   "execution_count": 2,
   "metadata": {
    "id": "Sma8Fku5N0Ll"
   },
   "outputs": [],
   "source": [
    "import pandas as pd\n",
    "import numpy as np\n",
    "import random as rd\n",
    "\n",
    "import matplotlib.pyplot as plt\n",
    "import seaborn as sns\n",
    "\n",
    "import scipy.stats as spst"
   ]
  },
  {
   "cell_type": "markdown",
   "metadata": {
    "id": "NCpMWLagN0Ln"
   },
   "source": [
    "* 데이터 불러오기 : 다음의 예제 데이터를 사용합니다.\n",
    "> 타이타닉 생존자"
   ]
  },
  {
   "cell_type": "markdown",
   "metadata": {
    "id": "LyXit-TSn-7m"
   },
   "source": [
    "|\t변수\t|\t설명\t|\t값 설명\t|\n",
    "|\t----\t|\t----\t|\t----\t|\n",
    "|\tsurvived\t|\t생존여부\t|\t0 - 사망, 1- 생존\t|\n",
    "|\tPclass\t|\tTicket class\t|\t1 = 1st, 2 = 2nd, 3 = 3rd\t|\n",
    "|\tSex\t|\t성별\t|\t\t|\n",
    "|\tAge\t|\tAge in years\t|\t\t|\n",
    "|\tSibsp\t|\t# of siblings / spouses aboard the Titanic\t|\t\t|\n",
    "|\tParch\t|\t# of parents / children aboard the Titanic\t|\t\t|\n",
    "|\tTicket\t|\tTicket number\t|\t\t|\n",
    "|\tFare\t|\tPassenger fare\t|\t\t|\n",
    "|\tCabin\t|\tCabin number\t|\t\t|\n",
    "|\tEmbarked\t|\tPort of Embarkation\t|\tC = Cherbourg, Q = Queenstown, S = Southampton\t|\n"
   ]
  },
  {
   "cell_type": "code",
   "execution_count": 1,
   "metadata": {
    "id": "si-trqDhN0Lo"
   },
   "outputs": [
    {
     "data": {
      "text/html": [
       "<div>\n",
       "<style scoped>\n",
       "    .dataframe tbody tr th:only-of-type {\n",
       "        vertical-align: middle;\n",
       "    }\n",
       "\n",
       "    .dataframe tbody tr th {\n",
       "        vertical-align: top;\n",
       "    }\n",
       "\n",
       "    .dataframe thead th {\n",
       "        text-align: right;\n",
       "    }\n",
       "</style>\n",
       "<table border=\"1\" class=\"dataframe\">\n",
       "  <thead>\n",
       "    <tr style=\"text-align: right;\">\n",
       "      <th></th>\n",
       "      <th>PassengerId</th>\n",
       "      <th>Survived</th>\n",
       "      <th>Pclass</th>\n",
       "      <th>Name</th>\n",
       "      <th>Sex</th>\n",
       "      <th>Age</th>\n",
       "      <th>SibSp</th>\n",
       "      <th>Parch</th>\n",
       "      <th>Ticket</th>\n",
       "      <th>Fare</th>\n",
       "      <th>Cabin</th>\n",
       "      <th>Embarked</th>\n",
       "    </tr>\n",
       "  </thead>\n",
       "  <tbody>\n",
       "    <tr>\n",
       "      <th>0</th>\n",
       "      <td>1</td>\n",
       "      <td>0</td>\n",
       "      <td>3</td>\n",
       "      <td>Braund, Mr. Owen Harris</td>\n",
       "      <td>male</td>\n",
       "      <td>22.0</td>\n",
       "      <td>1</td>\n",
       "      <td>0</td>\n",
       "      <td>A/5 21171</td>\n",
       "      <td>7.2500</td>\n",
       "      <td>NaN</td>\n",
       "      <td>S</td>\n",
       "    </tr>\n",
       "    <tr>\n",
       "      <th>1</th>\n",
       "      <td>2</td>\n",
       "      <td>1</td>\n",
       "      <td>1</td>\n",
       "      <td>Cumings, Mrs. John Bradley (Florence Briggs Th...</td>\n",
       "      <td>female</td>\n",
       "      <td>38.0</td>\n",
       "      <td>1</td>\n",
       "      <td>0</td>\n",
       "      <td>PC 17599</td>\n",
       "      <td>71.2833</td>\n",
       "      <td>C85</td>\n",
       "      <td>C</td>\n",
       "    </tr>\n",
       "    <tr>\n",
       "      <th>2</th>\n",
       "      <td>3</td>\n",
       "      <td>1</td>\n",
       "      <td>3</td>\n",
       "      <td>Heikkinen, Miss. Laina</td>\n",
       "      <td>female</td>\n",
       "      <td>26.0</td>\n",
       "      <td>0</td>\n",
       "      <td>0</td>\n",
       "      <td>STON/O2. 3101282</td>\n",
       "      <td>7.9250</td>\n",
       "      <td>NaN</td>\n",
       "      <td>S</td>\n",
       "    </tr>\n",
       "    <tr>\n",
       "      <th>3</th>\n",
       "      <td>4</td>\n",
       "      <td>1</td>\n",
       "      <td>1</td>\n",
       "      <td>Futrelle, Mrs. Jacques Heath (Lily May Peel)</td>\n",
       "      <td>female</td>\n",
       "      <td>35.0</td>\n",
       "      <td>1</td>\n",
       "      <td>0</td>\n",
       "      <td>113803</td>\n",
       "      <td>53.1000</td>\n",
       "      <td>C123</td>\n",
       "      <td>S</td>\n",
       "    </tr>\n",
       "    <tr>\n",
       "      <th>4</th>\n",
       "      <td>5</td>\n",
       "      <td>0</td>\n",
       "      <td>3</td>\n",
       "      <td>Allen, Mr. William Henry</td>\n",
       "      <td>male</td>\n",
       "      <td>35.0</td>\n",
       "      <td>0</td>\n",
       "      <td>0</td>\n",
       "      <td>373450</td>\n",
       "      <td>8.0500</td>\n",
       "      <td>NaN</td>\n",
       "      <td>S</td>\n",
       "    </tr>\n",
       "  </tbody>\n",
       "</table>\n",
       "</div>"
      ],
      "text/plain": [
       "   PassengerId  Survived  Pclass  \\\n",
       "0            1         0       3   \n",
       "1            2         1       1   \n",
       "2            3         1       3   \n",
       "3            4         1       1   \n",
       "4            5         0       3   \n",
       "\n",
       "                                                Name     Sex   Age  SibSp  \\\n",
       "0                            Braund, Mr. Owen Harris    male  22.0      1   \n",
       "1  Cumings, Mrs. John Bradley (Florence Briggs Th...  female  38.0      1   \n",
       "2                             Heikkinen, Miss. Laina  female  26.0      0   \n",
       "3       Futrelle, Mrs. Jacques Heath (Lily May Peel)  female  35.0      1   \n",
       "4                           Allen, Mr. William Henry    male  35.0      0   \n",
       "\n",
       "   Parch            Ticket     Fare Cabin Embarked  \n",
       "0      0         A/5 21171   7.2500   NaN        S  \n",
       "1      0          PC 17599  71.2833   C85        C  \n",
       "2      0  STON/O2. 3101282   7.9250   NaN        S  \n",
       "3      0            113803  53.1000  C123        S  \n",
       "4      0            373450   8.0500   NaN        S  "
      ]
     },
     "execution_count": 1,
     "metadata": {},
     "output_type": "execute_result"
    }
   ],
   "source": [
    "# 타이타닉 데이터\n",
    "titanic = pd.read_csv('https://raw.githubusercontent.com/DA4BAM/dataset/master/titanic.0.csv')\n",
    "titanic.head()"
   ]
  },
  {
   "cell_type": "markdown",
   "metadata": {
    "id": "KPClTP--BP0w"
   },
   "source": [
    "범주별 숫자를 비교할 때 사용되는 방식은 **범주별 평균 비교** 입니다.  \n"
   ]
  },
  {
   "cell_type": "markdown",
   "metadata": {
    "id": "FX6TpZ97_j8j"
   },
   "source": [
    "## 2.평균비교"
   ]
  },
  {
   "cell_type": "markdown",
   "metadata": {
    "id": "O1qt6ZKIiTZ-"
   },
   "source": [
    "### 평균\n",
    "\n",
    "* 범주 ==> 숫자 의 관계를 살펴볼 때 중요한 관점은 ‘평균비교’ 입니다. \n",
    "\n",
    "* 평균을 비교할 때는 두 가지를 고려해야 합니다.\n",
    "    * ① 평균값이 그 집단을 대표할 수 있는가?\n",
    "    * ② 평균값이 믿을 만 한가?"
   ]
  },
  {
   "cell_type": "markdown",
   "metadata": {
    "id": "POB4HoaH_qXf"
   },
   "source": [
    "### 1) 평균값이 그 집단을 대표할 수 있는가?"
   ]
  },
  {
   "cell_type": "code",
   "execution_count": 3,
   "metadata": {
    "id": "wKImk6yxAOFw"
   },
   "outputs": [],
   "source": [
    "s0 = titanic.loc[titanic['Survived']==0, 'Age']\n",
    "s1 = titanic.loc[titanic['Survived']==1, 'Age']"
   ]
  },
  {
   "cell_type": "code",
   "execution_count": 4,
   "metadata": {
    "id": "Dan17OZB_o6q"
   },
   "outputs": [
    {
     "data": {
      "image/png": "[encoded data removed]",
      "text/plain": [
       "<Figure size 432x288 with 1 Axes>"
      ]
     },
     "metadata": {
      "needs_background": "light"
     },
     "output_type": "display_data"
    }
   ],
   "source": [
    "# 사망자의 나이 분포\n",
    "sns.histplot(s0, bins = 16)\n",
    "plt.axvline(s0.mean(), color='r')\n",
    "plt.show()"
   ]
  },
  {
   "cell_type": "code",
   "execution_count": 5,
   "metadata": {
    "id": "IoLMFDQK_o34"
   },
   "outputs": [
    {
     "data": {
      "image/png": "[encoded data removed]",
      "text/plain": [
       "<Figure size 432x288 with 1 Axes>"
      ]
     },
     "metadata": {
      "needs_background": "light"
     },
     "output_type": "display_data"
    }
   ],
   "source": [
    "# 생존자의 나이 분포\n",
    "sns.histplot(s1, bins = 16)\n",
    "plt.axvline(s1.mean(), color='r')\n",
    "plt.show()"
   ]
  },
  {
   "cell_type": "markdown",
   "metadata": {
    "id": "zeG6cjEPBi4P"
   },
   "source": [
    "* 평균이 집단을 대표하지 못할때..\n",
    "\n",
    "> 평균의 함정 : https://www.youtube.com/watch?v=Pp_Pd6GZLOE"
   ]
  },
  {
   "cell_type": "code",
   "execution_count": 6,
   "metadata": {
    "id": "9dR7vb4gBjjj"
   },
   "outputs": [
    {
     "name": "stdout",
     "output_type": "stream",
     "text": [
      "21.877028571428575\n"
     ]
    }
   ],
   "source": [
    "# 임의의 한 집단을 만들어 봅시다.\n",
    "pop = [round(rd.normalvariate(10, 5),1) for i in range(1000)] + [round(rd.normalvariate(38, 8),1) for i in range(750)]\n",
    "mn = np.mean(pop)\n",
    "print(mn)"
   ]
  },
  {
   "cell_type": "code",
   "execution_count": 7,
   "metadata": {
    "id": "ctwEPa9QByXG"
   },
   "outputs": [
    {
     "data": {
      "image/png": "[encoded data removed]",
      "text/plain": [
       "<Figure size 720x432 with 1 Axes>"
      ]
     },
     "metadata": {
      "needs_background": "light"
     },
     "output_type": "display_data"
    }
   ],
   "source": [
    "# 히스토그램으로 집단의 대표값이 될 수 있는지 살펴봅시다.\n",
    "plt.figure(figsize=(10,6))\n",
    "sns.histplot(pop, bins = 50)\n",
    "plt.axvline(mn, color='r')\n",
    "plt.text(mn+1, 110, \"mean : {}\".format(round(mn,2)), color = 'r')\n",
    "plt.show()"
   ]
  },
  {
   "cell_type": "markdown",
   "metadata": {
    "id": "C3nObwl_Cwzq"
   },
   "source": [
    "### 2) 평균값을 믿을 만 한가?"
   ]
  },
  {
   "cell_type": "markdown",
   "metadata": {
    "id": "KUPsoxPCiTaA"
   },
   "source": [
    "* 표본 조사를 수행하기로 결정하였을 때,다음 두가지 조사의 오차에 대해서 생각해 봅시다.\n",
    "    * 조사1 : 전국 성인 10명을 무작위로 뽑아서, 키를 재고 그 평균을 계산했더니 174 cm\n",
    "    * 조사2 : 전국 성인 1000명을 무작위로 뽑아서, 키를 재고 그 평균을 계산했더니 166 cm\n",
    "\n",
    "* 어떤 조사 결과가 전국 성인의 평균키와 더 가까울 까요? 어떤 조사 결과가 **오차**가 더 적을 까요?"
   ]
  },
  {
   "cell_type": "markdown",
   "metadata": {
    "id": "DedsPRe5DFEg"
   },
   "source": [
    "* 평균이 믿을만 한지는 오차로 평가해야 합니다.\n",
    "    * 표준편차\n",
    "    * 표준오차"
   ]
  },
  {
   "cell_type": "markdown",
   "metadata": {
    "id": "mOBKjuZliTaB"
   },
   "source": [
    "### 3) 표준편차(SD, Standard Deviation)\n",
    "* 한 집단을 설명하기 위해서\n",
    "* 그 집단 안에서 대푯값으로 평균을 구할 때\n",
    "* 값들이 평균으로부터 얼마나 벗어나 있는지(이탈도, deviation)를 나타내는 값.\n",
    "    * 예 : 우리 반 수학 성적의 평균이 91, 표준편차는 10"
   ]
  },
  {
   "cell_type": "code",
   "execution_count": 8,
   "metadata": {
    "id": "byhafXmuiTaB"
   },
   "outputs": [
    {
     "name": "stdout",
     "output_type": "stream",
     "text": [
      "평균 : 38.666666666666664\n",
      "표준편차 : 17.53726191728787\n"
     ]
    }
   ],
   "source": [
    "a = np.array([23,54,47,64,29,15])\n",
    "\n",
    "print(f'평균 : {a.mean()}')\n",
    "print(f'표준편차 : {a.std()}')"
   ]
  },
  {
   "cell_type": "markdown",
   "metadata": {
    "id": "L7lpOyfliTaC"
   },
   "source": [
    "평균 38.6, 표준편차 17.5는 집단 a를 설명(대표)하는 숫자 입니다."
   ]
  },
  {
   "cell_type": "code",
   "execution_count": 9,
   "metadata": {
    "id": "aytDdclXCwzs"
   },
   "outputs": [
    {
     "data": {
      "text/html": [
       "<div>\n",
       "<style scoped>\n",
       "    .dataframe tbody tr th:only-of-type {\n",
       "        vertical-align: middle;\n",
       "    }\n",
       "\n",
       "    .dataframe tbody tr th {\n",
       "        vertical-align: top;\n",
       "    }\n",
       "\n",
       "    .dataframe thead th {\n",
       "        text-align: right;\n",
       "    }\n",
       "</style>\n",
       "<table border=\"1\" class=\"dataframe\">\n",
       "  <thead>\n",
       "    <tr style=\"text-align: right;\">\n",
       "      <th></th>\n",
       "      <th>mean</th>\n",
       "      <th>std</th>\n",
       "    </tr>\n",
       "    <tr>\n",
       "      <th>Survived</th>\n",
       "      <th></th>\n",
       "      <th></th>\n",
       "    </tr>\n",
       "  </thead>\n",
       "  <tbody>\n",
       "    <tr>\n",
       "      <th>0</th>\n",
       "      <td>30.626179</td>\n",
       "      <td>14.172110</td>\n",
       "    </tr>\n",
       "    <tr>\n",
       "      <th>1</th>\n",
       "      <td>28.343690</td>\n",
       "      <td>14.950952</td>\n",
       "    </tr>\n",
       "  </tbody>\n",
       "</table>\n",
       "</div>"
      ],
      "text/plain": [
       "               mean        std\n",
       "Survived                      \n",
       "0         30.626179  14.172110\n",
       "1         28.343690  14.950952"
      ]
     },
     "execution_count": 9,
     "metadata": {},
     "output_type": "execute_result"
    }
   ],
   "source": [
    "# 표준편차\n",
    "titanic.groupby('Survived')['Age'].agg(['mean','std'])"
   ]
  },
  {
   "cell_type": "markdown",
   "metadata": {
    "id": "Gvb0boE8iTaC"
   },
   "source": [
    "### 4) 표준오차(SE, standard error)\n",
    "* 표준오차는 표준편차와 다른 개념입니다. (표준 편차와 비교하는 개념이 아닙니다!)\n",
    "* 우선 **표본(의) 평균**을 이해해야 합니다.\n",
    "* 표본을 뽑아내는(표집, sampling) 목적은, 모집단을 추정하기 위함 입니다.\n",
    "    * 표본평균을 계산한다는 의미는, 표본의 평균으로 모집단의 평균을 **추정**하기 위함 입니다.(**추정치**)\n",
    "    * 표본의 평균을 계산하면, 표본 자체의 평균이라는 의미가 아니라, 모평균을 표본으로 추정한 평균치 입니다.\n",
    "    * 그래서 표본평균 하면 항상 모평균을 의식해야 합니다.\n",
    "* 그런데 표본평균은 모평균과 완전히 일치할 수는 없습니다. \n",
    "* 이 오차를 **표준오차** 라고 합니다.\n",
    "\n",
    "* 표준오차 공식 : 𝑠/√𝑛\n",
    "    * 샘플의 표준 편차 : s\n",
    "    * 데이터 건수 : n\n",
    "* 표준 오차로 부터 신뢰구간을 계산하게 됩니다."
   ]
  },
  {
   "cell_type": "markdown",
   "metadata": {
    "id": "zYTck08viTaC"
   },
   "source": [
    "* 몇가지 기호에 대해서  \n",
    "\n",
    "<img src='https://github.com/DA4BAM/image/blob/main/%EA%B8%B0%ED%98%B8.png?raw=true' width=500/>"
   ]
  },
  {
   "cell_type": "code",
   "execution_count": 10,
   "metadata": {
    "id": "d3xdIwERE9EL"
   },
   "outputs": [
    {
     "data": {
      "text/html": [
       "<div>\n",
       "<style scoped>\n",
       "    .dataframe tbody tr th:only-of-type {\n",
       "        vertical-align: middle;\n",
       "    }\n",
       "\n",
       "    .dataframe tbody tr th {\n",
       "        vertical-align: top;\n",
       "    }\n",
       "\n",
       "    .dataframe thead th {\n",
       "        text-align: right;\n",
       "    }\n",
       "</style>\n",
       "<table border=\"1\" class=\"dataframe\">\n",
       "  <thead>\n",
       "    <tr style=\"text-align: right;\">\n",
       "      <th></th>\n",
       "      <th>mean</th>\n",
       "      <th>std</th>\n",
       "      <th>sem</th>\n",
       "    </tr>\n",
       "    <tr>\n",
       "      <th>Survived</th>\n",
       "      <th></th>\n",
       "      <th></th>\n",
       "      <th></th>\n",
       "    </tr>\n",
       "  </thead>\n",
       "  <tbody>\n",
       "    <tr>\n",
       "      <th>0</th>\n",
       "      <td>30.626179</td>\n",
       "      <td>14.172110</td>\n",
       "      <td>0.688258</td>\n",
       "    </tr>\n",
       "    <tr>\n",
       "      <th>1</th>\n",
       "      <td>28.343690</td>\n",
       "      <td>14.950952</td>\n",
       "      <td>0.877950</td>\n",
       "    </tr>\n",
       "  </tbody>\n",
       "</table>\n",
       "</div>"
      ],
      "text/plain": [
       "               mean        std       sem\n",
       "Survived                                \n",
       "0         30.626179  14.172110  0.688258\n",
       "1         28.343690  14.950952  0.877950"
      ]
     },
     "execution_count": 10,
     "metadata": {},
     "output_type": "execute_result"
    }
   ],
   "source": [
    "# 표준오차\n",
    "titanic.groupby('Survived')['Age'].agg(['mean','std','sem'])"
   ]
  },
  {
   "cell_type": "markdown",
   "metadata": {
    "id": "_jgJRx1pHQjK"
   },
   "source": [
    "### 5) 95% 신뢰구간"
   ]
  },
  {
   "cell_type": "markdown",
   "metadata": {
    "id": "Ux2Y0KTSiTaD"
   },
   "source": [
    "* 모집단을 하나 준비합니다."
   ]
  },
  {
   "cell_type": "code",
   "execution_count": null,
   "metadata": {
    "id": "hcbP-v-xG__p"
   },
   "outputs": [],
   "source": [
    "# 임의의 모집단을 하나 만듭시다.\n",
    "pop2 = [round(rd.normalvariate(160, 10),1) for i in range(100000)]"
   ]
  },
  {
   "cell_type": "code",
   "execution_count": null,
   "metadata": {
    "id": "ScPKLQ1bHo0O"
   },
   "outputs": [],
   "source": [
    "# 우리는 모집단을 알 수 없지만. 그래도 살짝 살펴봅시다. (보고 나서 못 본 것으로 합시다.ㅎㅎ)\n",
    "\n",
    "plt.figure(figsize=(10,6))\n",
    "sns.histplot(pop2, bins = 100)\n",
    "plt.axvline(np.mean(pop2), color = 'r')\n",
    "plt.text(np.mean(pop2)+1, 3600, f'pop mean : {np.mean(pop2).round(2)}', color = 'r')\n",
    "plt.show()"
   ]
  },
  {
   "cell_type": "markdown",
   "metadata": {
    "id": "qqBXqQEdiTaD"
   },
   "source": [
    "* 표본 조사를 합니다. \n",
    "    * 100명을 임의로 샘플링 해서 \n",
    "    * 표본의 평균과, 표준 오차, 신뢰구간을 계산해 봅시다."
   ]
  },
  {
   "cell_type": "code",
   "execution_count": null,
   "metadata": {
    "id": "-IRbgb0oH8VB"
   },
   "outputs": [],
   "source": [
    "# 표본조사를 합니다. 100건\n",
    "s1 = rd.sample(pop2,100)\n",
    "s1 = pd.Series(s1)\n",
    "s1.mean(), s1.std(), s1.sem()"
   ]
  },
  {
   "cell_type": "code",
   "execution_count": null,
   "metadata": {
    "id": "bS_ypv2_LWDu"
   },
   "outputs": [],
   "source": [
    "1.96 * s1.sem()"
   ]
  },
  {
   "cell_type": "code",
   "execution_count": null,
   "metadata": {
    "id": "PGiOlSY9H8RT"
   },
   "outputs": [],
   "source": [
    "# 95% 신뢰구간\n",
    "s1.mean() - (1.96 * s1.sem()), s1.mean() + (1.96 * s1.sem())"
   ]
  },
  {
   "cell_type": "markdown",
   "metadata": {
    "id": "au9KiXMLiTaE"
   },
   "source": [
    "* 표본평균의 신뢰구간과 모평균을 비교해 봅시다."
   ]
  },
  {
   "cell_type": "code",
   "execution_count": null,
   "metadata": {
    "id": "ms3jT0QvH8Lw"
   },
   "outputs": [],
   "source": [
    "# 모평균은?\n",
    "np.mean(pop2)"
   ]
  },
  {
   "cell_type": "markdown",
   "metadata": {
    "id": "u12z1O0TiTaF"
   },
   "source": [
    "* 95% 신뢰구간에 대한 실험을 해 봅시다.\n",
    "    * 샘플조사를 100번 수행합니다.\n",
    "    * 그때마다 신뢰구간을 계산한 후\n",
    "    * 그 중 몇번이 모평균을 포함하는지 확인해 봅시다.\n",
    "    * 95% 신뢰구간이라면, 100번 중 95번은 모평균을 포함해야 합니다."
   ]
  },
  {
   "cell_type": "code",
   "execution_count": null,
   "metadata": {
    "id": "AGKYKsi3How9"
   },
   "outputs": [],
   "source": [
    "# 100번 샘플링\n",
    "samples = { 'id' : [], 'value' : []}\n",
    "for i in range(100) :\n",
    "    samples['id'] += [i]* 100\n",
    "    samples['value'] += rd.sample(pop2,100)\n",
    "\n",
    "samples = pd.DataFrame(samples)\n",
    "samples.shape"
   ]
  },
  {
   "cell_type": "code",
   "execution_count": null,
   "metadata": {
    "id": "cM5FRndlL9Wn"
   },
   "outputs": [],
   "source": [
    "# errorbar 라는 차트 입니다. \n",
    "# 신뢰구간, 표준오차 구간을 시각화 하는 방법입니다.\n",
    "\n",
    "plt.figure(figsize = (18, 8))\n",
    "sns.pointplot(x = 'id', y = 'value', data = samples, join = False)\n",
    "plt.axhline(np.mean(pop2), color = 'r')\n",
    "plt.show()"
   ]
  },
  {
   "cell_type": "markdown",
   "metadata": {
    "id": "EihRSZT8iTaG"
   },
   "source": [
    "위 그래프에 대한 해석\n",
    "* x축은 100번 시도에 대한 순번(인덱스)\n",
    "* y축은 모평균(빨간 선)을 추정하기 위한 샘플의 평균과, 신뢰구간 표시"
   ]
  },
  {
   "cell_type": "markdown",
   "metadata": {
    "id": "pJwlvt2jUVUN"
   },
   "source": [
    "### (참조) 중심극한 정리"
   ]
  },
  {
   "cell_type": "markdown",
   "metadata": {
    "id": "Uk2Hl-NfyWab"
   },
   "source": [
    "* 표본이 클수록 표집분포는 정규분포에 가까워 진다.\n"
   ]
  },
  {
   "cell_type": "markdown",
   "metadata": {
    "id": "GttXZ2-hBmHS"
   },
   "source": [
    "* 임의의 모집단을 하나 만듭니다."
   ]
  },
  {
   "cell_type": "code",
   "execution_count": null,
   "metadata": {
    "id": "fflUZF3iBj57"
   },
   "outputs": [],
   "source": [
    "pop = [round(rd.expovariate(.3)+165,2) for i in range(10001)]"
   ]
  },
  {
   "cell_type": "markdown",
   "metadata": {
    "id": "P2lta4kJB5PG"
   },
   "source": [
    "* ① 모집단으로 부터 데이터 n개 짜리 표본을 뽑아 표본평균을 계산합니다.\n",
    "* ② ①번 작업을 m번 반복하여 얻은 표본평균 m개로 분포를 그려봅니다."
   ]
  },
  {
   "cell_type": "code",
   "execution_count": null,
   "metadata": {
    "id": "1UoezuANwxif"
   },
   "outputs": [],
   "source": [
    "# 표본의 크기\n",
    "n = 10\n",
    "\n",
    "# 표본의 갯수\n",
    "m = 100\n",
    "\n",
    "sample_mean = [np.mean(rd.sample(pop,n)) for i in range(m)]\n",
    "\n",
    "plt.figure(figsize=(10,6))\n",
    "sns.kdeplot(sample_mean)\n",
    "plt.xlim(160,180)\n",
    "\n",
    "plt.axvline(x=np.mean(sample_mean), color = 'red') #표본평균들의 평균\n",
    "plt.axvline(x=np.mean(pop), color = 'grey') # 모평균\n",
    "\n",
    "plt.text(np.mean(sample_mean)-1.5, 0.02, round(np.mean(sample_mean),2), color = 'red') #표본평균들의 평균\n",
    "plt.text(np.mean(pop)+.5,0.02, round(np.mean(pop),2), color = 'grey') #모평균\n",
    "\n",
    "plt.show() # show"
   ]
  },
  {
   "cell_type": "markdown",
   "metadata": {
    "id": "Dm1Bx1Rowxij"
   },
   "source": [
    "* 그렇다면, 모집단은 어떤 분포일까?\n"
   ]
  },
  {
   "cell_type": "code",
   "execution_count": null,
   "metadata": {
    "id": "9ysjlBktlNuo"
   },
   "outputs": [],
   "source": [
    "plt.figure(figsize=(10,6)) #설정\n",
    "sns.histplot(pop, bins = 100)\n",
    "plt.axvline(x=np.mean(pop), color = 'grey') # 모평균\n",
    "plt.text(np.mean(pop)+.5, 800, round(np.mean(pop),2), color = 'grey')\n",
    "plt.show() "
   ]
  },
  {
   "cell_type": "markdown",
   "metadata": {
    "id": "Xv7rJwJhnE_I"
   },
   "source": [
    "## 3.범주 --> 숫자\n",
    "\n",
    "titanic data에서 Age를 Y로 두고 비교해 봅시다."
   ]
  },
  {
   "cell_type": "markdown",
   "metadata": {
    "id": "n0eqOJBAgv_i"
   },
   "source": [
    "### 1) 시각화 : 평균 비교 barplot, boxplot "
   ]
  },
  {
   "cell_type": "code",
   "execution_count": null,
   "metadata": {
    "id": "NJQhnVuSBq4c"
   },
   "outputs": [],
   "source": [
    "# sns.barplot는 두 범주의 평균 비교 sns.barplot\n",
    "sns.barplot(x=\"Survived\", y=\"Age\", data=titanic)\n",
    "plt.show()"
   ]
  },
  {
   "cell_type": "markdown",
   "metadata": {
    "id": "n8sQTkSnh-mG"
   },
   "source": [
    "위 두 범주간에 평균에 차이가 있나요?"
   ]
  },
  {
   "cell_type": "code",
   "execution_count": null,
   "metadata": {
    "id": "dr5lNzwlD7dQ"
   },
   "outputs": [],
   "source": []
  },
  {
   "cell_type": "code",
   "execution_count": null,
   "metadata": {
    "id": "UukJEX7KAmT8"
   },
   "outputs": [],
   "source": [
    "# 박스플롯으로 비교해 봅시다.\n",
    "titanic.boxplot('Age', 'Survived')\n",
    "plt.show()"
   ]
  },
  {
   "cell_type": "markdown",
   "metadata": {
    "id": "4UHk56yBiSL1"
   },
   "source": [
    "### 2)수치화 : t-test(두 범주), anova(세 범주 이상)"
   ]
  },
  {
   "cell_type": "markdown",
   "metadata": {
    "id": "GZK2CM-Wim3v"
   },
   "source": [
    "#### ①t-test\n",
    "두 집단의 평균을 비교합니다.\n",
    "* 예제는 Two sample T-test와 양측검정만 다룹니다. \n",
    "* 우리는 X --> Y의 관계에서 ,두 변수간에 관련이(차이가) 있는지, 없는지를 확인하는 것이 제일 중요하기 때문입니다.\n",
    "\n",
    "* 주의사항 : 데이터에 NaN이 있으면 계산이 안됩니다. .notnull() 등으로 NaN을 제외한 데이터를 사용해야 합니다.\n",
    "\n",
    "* t 통계량\n",
    "    * 두 평균의 차이를 표준오차로 나눈 값.\n",
    "    * 기본적으로는 두 평균의 차이로 이해해도 좋습니다.\n",
    "    * 우리의 가설(대립가설)은 차이가 있다는 것이므로, t 값이 크던지 작던지 하기를 바랍니다. \n",
    "    * 보통, t 값이 -2보다 작거나, 2보다 크면 차이가 있다고 봅니다. "
   ]
  },
  {
   "cell_type": "code",
   "execution_count": null,
   "metadata": {
    "id": "W588QVPjnE_L"
   },
   "outputs": [],
   "source": [
    "import scipy.stats as spst\n",
    "import numpy as np\n",
    "import random as rd\n"
   ]
  },
  {
   "cell_type": "code",
   "execution_count": null,
   "metadata": {
    "id": "4OodmXKXpoQ3"
   },
   "outputs": [],
   "source": [
    "# 모집단 만들기\n",
    "pop1 = [round(rd.normalvariate(160, 10),1) for i in range(100000)]\n",
    "pop2 = [round(rd.normalvariate(170, 10),1) for i in range(100000)]"
   ]
  },
  {
   "cell_type": "code",
   "execution_count": null,
   "metadata": {
    "id": "cPF5nXvMp1Q-"
   },
   "outputs": [],
   "source": [
    "# 우리는 모집단을 알 수 없지만. 그래도 살짝 살펴봅시다.\n",
    "plt.figure(figsize=(10,6))\n",
    "sns.distplot(pop1, hist=False, kde=True)\n",
    "sns.distplot(pop2, hist=False, kde=True)\n",
    "plt.show()"
   ]
  },
  {
   "cell_type": "code",
   "execution_count": null,
   "metadata": {
    "id": "uYDGmkhXne5j"
   },
   "outputs": [],
   "source": [
    "# 표본을 추출합니다. 먼저 pop1으로 부터 두 샘플을 추출합시다.\n",
    "s1 = rd.sample(pop1,100)\n",
    "s2 = rd.sample(pop1,100)\n"
   ]
  },
  {
   "cell_type": "code",
   "execution_count": null,
   "metadata": {
    "id": "BP1OT6K4qzN9"
   },
   "outputs": [],
   "source": [
    "# t-test\n",
    "spst.ttest_ind(s1, s2)"
   ]
  },
  {
   "cell_type": "markdown",
   "metadata": {
    "id": "rnixsBiMq8wI"
   },
   "source": [
    "p.value의 의미는?"
   ]
  },
  {
   "cell_type": "code",
   "execution_count": null,
   "metadata": {
    "id": "HvP4JK6kq73R"
   },
   "outputs": [],
   "source": []
  },
  {
   "cell_type": "code",
   "execution_count": null,
   "metadata": {
    "id": "ePBOfjTvq7sp"
   },
   "outputs": [],
   "source": [
    "# 이번에는 두 모집단으로 부터 각각 샘플링\n",
    "s1 = rd.sample(pop1,100)\n",
    "s2 = rd.sample(pop2,100)"
   ]
  },
  {
   "cell_type": "code",
   "execution_count": null,
   "metadata": {
    "id": "bCeQ4AsFrIYp"
   },
   "outputs": [],
   "source": [
    "# t-test\n",
    "spst.ttest_ind(s1, s2)"
   ]
  },
  {
   "cell_type": "markdown",
   "metadata": {
    "id": "bLaA72udrL4C"
   },
   "source": [
    "p.value의 의미는?"
   ]
  },
  {
   "cell_type": "code",
   "execution_count": null,
   "metadata": {
    "id": "1ypT6OtHrL4C"
   },
   "outputs": [],
   "source": []
  },
  {
   "cell_type": "markdown",
   "metadata": {
    "id": "KJ3I2aNrrLib"
   },
   "source": [
    "* 이번엔 타이타닉 데이터로 시도해 봅시다.\n",
    "    * 생존여부 --> Age : 생존여부 별로 나이에 차이가 있을것이다.\n"
   ]
  },
  {
   "cell_type": "code",
   "execution_count": null,
   "metadata": {
    "id": "n4kXmaaqSR_4"
   },
   "outputs": [],
   "source": [
    "# 먼저 NaN이 있는지 확인해 봅시다.\n",
    "titanic.isna().sum()"
   ]
  },
  {
   "cell_type": "code",
   "execution_count": null,
   "metadata": {
    "id": "zHCz_442ifcG"
   },
   "outputs": [],
   "source": [
    "temp = titanic.loc[titanic['Age'].notnull()]\n",
    "died = temp.loc[temp['Survived']==0, 'Age']\n",
    "survived = temp.loc[temp['Survived']==1, 'Age']"
   ]
  },
  {
   "cell_type": "code",
   "execution_count": null,
   "metadata": {
    "id": "uSVTNWQdilY_"
   },
   "outputs": [],
   "source": [
    "spst.ttest_ind(died, survived)"
   ]
  },
  {
   "cell_type": "markdown",
   "metadata": {
    "id": "-cfh0-Vtrh-P"
   },
   "source": [
    "#### 실습 : t-test\n",
    "\n",
    "성별에 따라 운임에 차이가 있을 것이다."
   ]
  },
  {
   "cell_type": "code",
   "execution_count": null,
   "metadata": {
    "id": "uUZ4j47prpHQ"
   },
   "outputs": [],
   "source": []
  },
  {
   "cell_type": "code",
   "execution_count": null,
   "metadata": {
    "id": "V5Txlw0KrsOM"
   },
   "outputs": [],
   "source": []
  },
  {
   "cell_type": "code",
   "execution_count": null,
   "metadata": {
    "id": "ZroZdzAHFc1k"
   },
   "outputs": [],
   "source": []
  },
  {
   "cell_type": "markdown",
   "metadata": {
    "id": "gEwfyAAIiuMb"
   },
   "source": [
    "#### ②anova\n",
    "\n",
    "* 분산 분석 **AN**alysis **O**f **VA**riance\n",
    "* 여러 집단 간에 차이는 어떻게 비교할 수 있을까요?\n",
    "* 여기서 기준은 전체 평균 입니다.\n",
    "* 𝐹 통계량 = \n",
    "    * (집단 간 분산)/(집단 내 분산) = (전체 평균 − 각 집단 평균)/(각 집단의 평균 − 개별 값)\n",
    "    * 값이 대략 2~3 이상이면 차이가 있다고 판단합니다."
   ]
  },
  {
   "cell_type": "code",
   "execution_count": null,
   "metadata": {
    "id": "YYiFvvh8G1t9"
   },
   "outputs": [],
   "source": [
    "# Pclass(3 범주) --> Age\n",
    "sns.barplot(x=\"Pclass\", y=\"Age\", data=titanic)\n",
    "plt.show()"
   ]
  },
  {
   "cell_type": "code",
   "execution_count": null,
   "metadata": {
    "id": "gazFwx9ijUaX"
   },
   "outputs": [],
   "source": [
    "titanic.boxplot('Age', 'Pclass')\n",
    "plt.show()"
   ]
  },
  {
   "cell_type": "code",
   "execution_count": null,
   "metadata": {
    "id": "DiZy6QH4ivkR"
   },
   "outputs": [],
   "source": [
    "P_1 = titanic.loc[titanic.Pclass == 1, 'Age']\n",
    "P_2 = titanic.loc[titanic.Pclass == 2, 'Age']\n",
    "P_3 = titanic.loc[titanic.Pclass == 3, 'Age']"
   ]
  },
  {
   "cell_type": "code",
   "execution_count": null,
   "metadata": {
    "id": "9X3posCUjAxQ"
   },
   "outputs": [],
   "source": [
    "spst.f_oneway(P_1, P_2, P_3)"
   ]
  },
  {
   "cell_type": "markdown",
   "metadata": {
    "id": "g7bv5AsgN0sz"
   },
   "source": [
    "\n",
    "#### 실습 ANOVA\n",
    "\n",
    "승선지역(Embarked)별로 운임에 차이가 있을 것이다.\n",
    "* 시각화와 수치화로 확인해 봅시다."
   ]
  },
  {
   "cell_type": "code",
   "execution_count": null,
   "metadata": {
    "id": "UDn3f5fvsDU0"
   },
   "outputs": [],
   "source": []
  },
  {
   "cell_type": "code",
   "execution_count": null,
   "metadata": {
    "id": "lpP_NDaNsDRj"
   },
   "outputs": [],
   "source": []
  },
  {
   "cell_type": "markdown",
   "metadata": {
    "id": "_l7yAOgFi2Nf"
   },
   "source": [
    "# 종합실습"
   ]
  },
  {
   "cell_type": "markdown",
   "metadata": {
    "id": "4xHeN0hii2Ng"
   },
   "source": [
    "## 1.환경준비"
   ]
  },
  {
   "cell_type": "markdown",
   "metadata": {
    "id": "cpYg7nb6i2Ng"
   },
   "source": [
    "* 라이브러리 불러오기"
   ]
  },
  {
   "cell_type": "code",
   "execution_count": null,
   "metadata": {
    "id": "BKzRei8Fi2Ng"
   },
   "outputs": [],
   "source": [
    "import pandas as pd\n",
    "import numpy as np\n",
    "import random as rd\n",
    "\n",
    "import matplotlib.pyplot as plt\n",
    "import seaborn as sns\n",
    "\n",
    "import scipy.stats as spst"
   ]
  },
  {
   "cell_type": "markdown",
   "metadata": {
    "id": "ITf6P0GXi2Nh"
   },
   "source": [
    "* 데이터 불러오기 : 다음의 예제 데이터를 사용합니다.\n",
    "> ① 타이타닉 생존자  \n",
    "② 카시트 매출액\n"
   ]
  },
  {
   "cell_type": "markdown",
   "metadata": {
    "id": "aBF5RNXkoGTH"
   },
   "source": [
    "① 타이타닉 생존자"
   ]
  },
  {
   "cell_type": "markdown",
   "metadata": {
    "id": "TfbvPh-zgmT6"
   },
   "source": [
    "|\t변수\t|\t설명\t|\t값 설명\t|\n",
    "|\t----\t|\t----\t|\t----\t|\n",
    "|\tsurvived\t|\t생존여부\t|\t0 - 사망, 1- 생존\t|\n",
    "|\tPclass\t|\tTicket class\t|\t1 = 1st, 2 = 2nd, 3 = 3rd\t|\n",
    "|\tSex\t|\t성별\t|\t\t|\n",
    "|\tAge\t|\tAge in years\t|\t\t|\n",
    "|\tFare\t|\tPassenger fare\t|\t\t|\n",
    "|\tEmbarked\t|\tPort of Embarkation\t|\tC = Cherbourg, Q = Queenstown, S = Southampton\t|\n"
   ]
  },
  {
   "cell_type": "code",
   "execution_count": null,
   "metadata": {
    "id": "t4AZgZRei2Nh"
   },
   "outputs": [],
   "source": [
    "# 타이타닉 데이터\n",
    "titanic = pd.read_csv('https://raw.githubusercontent.com/DA4BAM/dataset/master/titanic.1.csv', \n",
    "                      usecols = ['Survived','Pclass','Sex','Age','Fare','Embarked'])\n",
    "titanic.head()"
   ]
  },
  {
   "cell_type": "markdown",
   "metadata": {
    "id": "heT5BzYAoKw7"
   },
   "source": [
    "② 카시트 매출액"
   ]
  },
  {
   "cell_type": "markdown",
   "metadata": {
    "id": "zYKHwYHatC4k"
   },
   "source": [
    "|\t변수명\t|\t설명\t|\t구분\t|\n",
    "|\t----\t|\t----\t|\t----\t|\n",
    "|\tSales \t|\t 각 지역 판매액(단위 : 1000달러)\t|\tTarget\t|\n",
    "|\tCompPrice \t|\t 경쟁사 가격(단위 : 달러)\t|\tfeature\t|\n",
    "|\tIncome \t|\t 지역 평균 소득(단위 : 1000달러)\t|\tfeature\t|\n",
    "|\tAdvertising \t|\t 각 지역, 회사의 광고 예산(단위 : 1000달러)\t|\tfeature\t|\n",
    "|\tPopulation \t|\t 지역 인구수(단위 : 1000명)\t|\tfeature\t|\n",
    "|\tPrice \t|\t 자사 지역별 판매가격\t|\tfeature\t|\n",
    "|\tShelveLoc \t|\t 진열상태\t|\tfeature\t|\n",
    "|\tAge \t|\t 지역 인구의 평균 연령\t|\tfeature\t|\n",
    "|\tUrban \t|\t 도심 지역 여부(0,1)\t|\tfeature\t|\n",
    "|\tUS \t|\t 매장이 미국에 있는지 여부(0,1)\t|\tfeature\t|\n"
   ]
  },
  {
   "cell_type": "code",
   "execution_count": null,
   "metadata": {
    "id": "MOrS9BKOi2Ni"
   },
   "outputs": [],
   "source": [
    "# 카시트 매출액\n",
    "path = 'https://raw.githubusercontent.com/JunhoYu/Data-Analysis/main/Carseats.csv'\n",
    "carseat = pd.read_csv(path)\n",
    "carseat.drop('Education', axis = 1, inplace = True)\n",
    "carseat.head()"
   ]
  },
  {
   "cell_type": "markdown",
   "metadata": {
    "id": "iHhPo8ZEi2Ni"
   },
   "source": [
    "## 2.범주 --> 숫자 : 시각화"
   ]
  },
  {
   "cell_type": "markdown",
   "metadata": {
    "id": "7u9Ab_jNi2Nj"
   },
   "source": [
    "① titanic 생존여부에 따라 나이에 차이가 있을까요?\n",
    "* 평균 barplot으로 시각화 해 봅시다."
   ]
  },
  {
   "cell_type": "code",
   "execution_count": null,
   "metadata": {
    "id": "yqEqW4yqi2Nj"
   },
   "outputs": [],
   "source": []
  },
  {
   "cell_type": "markdown",
   "metadata": {
    "id": "9cI_Gt1-yp4q"
   },
   "source": [
    "* 박스플롯으로 시각화 해 봅시다."
   ]
  },
  {
   "cell_type": "code",
   "execution_count": null,
   "metadata": {
    "id": "dbTcRRbMyveq"
   },
   "outputs": [],
   "source": []
  },
  {
   "cell_type": "markdown",
   "metadata": {
    "id": "wOJoFPy3i2Nj"
   },
   "source": [
    "* 위 두 범주간에 평균에 차이가 있나요?"
   ]
  },
  {
   "cell_type": "code",
   "execution_count": null,
   "metadata": {
    "id": "brD8iLGxi2Nj"
   },
   "outputs": [],
   "source": []
  },
  {
   "cell_type": "markdown",
   "metadata": {
    "id": "5VK6TL-Yy7dl"
   },
   "source": [
    "② titanic 성별에 따라 운임에 차이가 있을까요?\n",
    "* 평균 barplot으로 시각화 해 봅시다."
   ]
  },
  {
   "cell_type": "code",
   "execution_count": null,
   "metadata": {
    "id": "eZ8OU9pQy7dx"
   },
   "outputs": [],
   "source": []
  },
  {
   "cell_type": "markdown",
   "metadata": {
    "id": "gwPYbOXiy7dz"
   },
   "source": [
    "* 박스플롯으로 시각화 해 봅시다."
   ]
  },
  {
   "cell_type": "code",
   "execution_count": null,
   "metadata": {
    "id": "iVW5P04Gy7dz"
   },
   "outputs": [],
   "source": []
  },
  {
   "cell_type": "markdown",
   "metadata": {
    "id": "SHXY603Fy7dz"
   },
   "source": [
    "* 위 범주간 평균에 차이가 있나요?"
   ]
  },
  {
   "cell_type": "code",
   "execution_count": null,
   "metadata": {
    "id": "hrvwNS3Oy7d0"
   },
   "outputs": [],
   "source": []
  },
  {
   "cell_type": "markdown",
   "metadata": {
    "id": "1mGazHtdzHI_"
   },
   "source": [
    "③ titanic 승선지역(Embarked)에 따라 나이에 차이가 있을까요?\n",
    "* 평균 barplot으로 시각화 해 봅시다."
   ]
  },
  {
   "cell_type": "code",
   "execution_count": null,
   "metadata": {
    "id": "I56WVAnVzHJA"
   },
   "outputs": [],
   "source": []
  },
  {
   "cell_type": "markdown",
   "metadata": {
    "id": "AKLBnc5tzHJB"
   },
   "source": [
    "* 박스플롯으로 시각화 해 봅시다."
   ]
  },
  {
   "cell_type": "code",
   "execution_count": null,
   "metadata": {
    "id": "e6x7VapnzHJB"
   },
   "outputs": [],
   "source": []
  },
  {
   "cell_type": "markdown",
   "metadata": {
    "id": "qsGWaKpGzHJC"
   },
   "source": [
    "* 위 범주간 평균에 차이가 있나요?"
   ]
  },
  {
   "cell_type": "code",
   "execution_count": null,
   "metadata": {
    "id": "oAq04yndzHJC"
   },
   "outputs": [],
   "source": []
  },
  {
   "cell_type": "markdown",
   "metadata": {
    "id": "FZzwZsP6i2Nm"
   },
   "source": [
    "## 3.수치화 : t-test(두 범주), anova(세 범주 이상)"
   ]
  },
  {
   "cell_type": "markdown",
   "metadata": {
    "id": "GCtCwLkr0IIx"
   },
   "source": [
    "① titanic 생존여부에 따라 나이에 차이가 있을까요?"
   ]
  },
  {
   "cell_type": "markdown",
   "metadata": {
    "id": "8bDgq7Mp0ZBL"
   },
   "source": [
    "* t-test를 수행해 봅시다."
   ]
  },
  {
   "cell_type": "code",
   "execution_count": null,
   "metadata": {
    "id": "-p0imksx0IJC"
   },
   "outputs": [],
   "source": []
  },
  {
   "cell_type": "code",
   "execution_count": null,
   "metadata": {
    "id": "FlEK_vKd0IJD"
   },
   "outputs": [],
   "source": []
  },
  {
   "cell_type": "markdown",
   "metadata": {
    "id": "pYcXu_zb0IJE"
   },
   "source": [
    "* t-test 결과를 해석해 봅시다."
   ]
  },
  {
   "cell_type": "code",
   "execution_count": null,
   "metadata": {
    "id": "2kfaUKHM0IJE"
   },
   "outputs": [],
   "source": []
  },
  {
   "cell_type": "markdown",
   "metadata": {
    "id": "nXnovI1b0IJE"
   },
   "source": [
    "② titanic 성별에 따라 운임에 차이가 있을까요?"
   ]
  },
  {
   "cell_type": "markdown",
   "metadata": {
    "id": "BsOPisXi0htT"
   },
   "source": [
    "* t-test를 수행해 봅시다."
   ]
  },
  {
   "cell_type": "code",
   "execution_count": null,
   "metadata": {
    "id": "p3cTcmzM0htU"
   },
   "outputs": [],
   "source": []
  },
  {
   "cell_type": "code",
   "execution_count": null,
   "metadata": {
    "id": "MOWsftdb0htU"
   },
   "outputs": [],
   "source": []
  },
  {
   "cell_type": "code",
   "execution_count": null,
   "metadata": {
    "id": "Z_ir6Q8nIZt7"
   },
   "outputs": [],
   "source": []
  },
  {
   "cell_type": "markdown",
   "metadata": {
    "id": "4HDpaA5L0htV"
   },
   "source": [
    "* t-test 결과를 해석해 봅시다."
   ]
  },
  {
   "cell_type": "code",
   "execution_count": null,
   "metadata": {
    "id": "toHb4kUY0htV"
   },
   "outputs": [],
   "source": []
  },
  {
   "cell_type": "markdown",
   "metadata": {
    "id": "jF9yw8DA0IJG"
   },
   "source": [
    "③ titanic 승선지역(Embarked)에 따라 나이에 차이가 있을까요?"
   ]
  },
  {
   "cell_type": "markdown",
   "metadata": {
    "id": "_kXwB6WB0m_C"
   },
   "source": [
    "* 분산분석(anova)을 수행해 봅시다."
   ]
  },
  {
   "cell_type": "code",
   "execution_count": null,
   "metadata": {
    "id": "SEGKVzJV0m_D"
   },
   "outputs": [],
   "source": []
  },
  {
   "cell_type": "code",
   "execution_count": null,
   "metadata": {
    "id": "HIE3Yrfp0m_E"
   },
   "outputs": [],
   "source": []
  },
  {
   "cell_type": "markdown",
   "metadata": {
    "id": "tVzeXsXh0m_E"
   },
   "source": [
    "* anova 결과를 해석해 봅시다."
   ]
  },
  {
   "cell_type": "code",
   "execution_count": null,
   "metadata": {
    "id": "TdUHl51T0m_E"
   },
   "outputs": [],
   "source": []
  }
 ],
 "metadata": {
  "colab": {
   "collapsed_sections": [],
   "name": "08과 이변량_범주 vs 숫자.ipynb",
   "provenance": [],
   "toc_visible": true
  },
  "kernelspec": {
   "display_name": "Python 3",
   "language": "python",
   "name": "python3"
  },
  "language_info": {
   "codemirror_mode": {
    "name": "ipython",
    "version": 3
   },
   "file_extension": ".py",
   "mimetype": "text/x-python",
   "name": "python",
   "nbconvert_exporter": "python",
   "pygments_lexer": "ipython3",
   "version": "3.8.8"
  }
 },
 "nbformat": 4,
 "nbformat_minor": 1
}
