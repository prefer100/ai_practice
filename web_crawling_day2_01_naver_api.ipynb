{
 "cells": [
  {
   "cell_type": "code",
   "execution_count": null,
   "id": "43583379",
   "metadata": {},
   "outputs": [],
   "source": [
    "# summary\n",
    "# web : server-client\n",
    "# request,response : get, post\n",
    "# 페이지 종류\n",
    "# - 동적 페이지 : URL 변화 없이 페이지 데이터 변경 : JSON > API\n",
    "# - 정적 페이지 : URL 변화 해서 페이지 데이터 변경 : HTML\n",
    "\n",
    "# 동적 페이지 데이터 수집 프로세스\n",
    "# 1. 웹서비스 분석(개발자도구) : URL\n",
    "# 2. request(url,params,headers) > response(json) : JSON(str)\n",
    "# 3. JSON(str) > list,dict > DataFrame\n",
    "\n",
    "# API를 이용한 데이터 수집\n",
    "# 1. APP 등록 : application key\n",
    "# 2. api 문서 확인\n",
    "# 3. request(url,params,headers(application key)) > response(json) : JSON(str)\n",
    "# 4. JSON(str) > list,dict > DataFrame or Text"
   ]
  },
  {
   "cell_type": "markdown",
   "id": "b260a4e4",
   "metadata": {},
   "source": [
    "### 크롤링 정책\n",
    "- robots.txt 파일에 크롤링 정책 설명 : ex) https://www.ted.com/robots.txt\n",
    "- 크롤링에 대한 법적 제제 X\n",
    "- 과도한 크롤링으로 서비스에 영향을 주었을때 문제가 될 수 있음\n",
    "    - 영업방해, 지적재산권 침해\n",
    "- 크롤링을 할때는 되도록 API를 사용\n",
    "- 사례 : 잡코리아, 사람인 : 2008 ~ 2018 소송 끝 승리"
   ]
  },
  {
   "cell_type": "markdown",
   "id": "67d65110",
   "metadata": {},
   "source": [
    "### 네이버 검색어 트랜드 수집"
   ]
  },
  {
   "cell_type": "code",
   "execution_count": 1,
   "id": "c0995de0",
   "metadata": {},
   "outputs": [],
   "source": [
    "import requests, json\n",
    "import pandas as pd"
   ]
  },
  {
   "cell_type": "code",
   "execution_count": 2,
   "id": "8503fee0",
   "metadata": {},
   "outputs": [],
   "source": [
    "# 1. application key"
   ]
  },
  {
   "cell_type": "code",
   "execution_count": 7,
   "id": "7ecabf09",
   "metadata": {},
   "outputs": [],
   "source": [
    "CLIENT_ID, CLIENT_SECRET = \"비\",\"밀\""
   ]
  },
  {
   "cell_type": "code",
   "execution_count": 3,
   "id": "64cff6bb",
   "metadata": {},
   "outputs": [],
   "source": [
    "# 2. document : url,params, headers"
   ]
  },
  {
   "cell_type": "code",
   "execution_count": 9,
   "id": "763da90c",
   "metadata": {},
   "outputs": [],
   "source": [
    "url = 'https://openapi.naver.com/v1/datalab/search'"
   ]
  },
  {
   "cell_type": "code",
   "execution_count": 21,
   "id": "5e18a8a0",
   "metadata": {},
   "outputs": [],
   "source": [
    "params = {\n",
    "    \"startDate\": \"2018-01-01\",\n",
    "    'endDate' : \"2022-07-31\",\n",
    "    \"timeunit\" : 'month',\n",
    "    \"keywordGroups\" : [\n",
    "        {\"groupName\": \"트위터\", \"keywords\": [\"트위터\",\"트윗\"]},\n",
    "        {\"groupName\": \"페이스북\", \"keywords\": [\"페이스북\",\"페북\"]},\n",
    "        {\"groupName\": \"인스타그램\", \"keywords\": [\"인스타그램\",\"인스타\"]},\n",
    "    ]\n",
    "}"
   ]
  },
  {
   "cell_type": "code",
   "execution_count": 23,
   "id": "9746b84b",
   "metadata": {},
   "outputs": [],
   "source": [
    "params = {\n",
    "    \"startDate\": \"2018-01-01\",\n",
    "    \"endDate\": \"2022-07-31\",\n",
    "    \"timeUnit\": \"month\",\n",
    "    \"keywordGroups\": [ {\"groupName\": \"트위터\", \"keywords\": [\"트위터\", \"트윗\"]}, {\"groupName\": \"페이스북\", \"keywords\": [\"페이스북\", \"페북\"]}, {\"groupName\": \"인스타그램\", \"keywords\": [\"인스타그램\", \"인스타\"]}, ] }"
   ]
  },
  {
   "cell_type": "code",
   "execution_count": 11,
   "id": "e800aaca",
   "metadata": {},
   "outputs": [],
   "source": [
    "headers = {\n",
    "    \"Content-Type\":\"application/json\",\n",
    "    \"X-Naver-Client-Id\": CLIENT_ID,\n",
    "    \"X-Naver-Client-Secret\": CLIENT_SECRET,\n",
    "}"
   ]
  },
  {
   "cell_type": "code",
   "execution_count": 4,
   "id": "39eff750",
   "metadata": {},
   "outputs": [],
   "source": [
    "# 3. request(url,params,headers) > response(json) : JSON(str)"
   ]
  },
  {
   "cell_type": "code",
   "execution_count": null,
   "id": "dbbeeae6",
   "metadata": {},
   "outputs": [],
   "source": [
    "# json.dumps 한글을 영어 특수문자로 바꾸어 표시"
   ]
  },
  {
   "cell_type": "code",
   "execution_count": 24,
   "id": "2794d924",
   "metadata": {},
   "outputs": [
    {
     "data": {
      "text/plain": [
       "<Response [200]>"
      ]
     },
     "execution_count": 24,
     "metadata": {},
     "output_type": "execute_result"
    }
   ],
   "source": [
    "response = requests.post(url, json.dumps(params),headers=headers)\n",
    "response"
   ]
  },
  {
   "cell_type": "code",
   "execution_count": 25,
   "id": "c1f89a4f",
   "metadata": {},
   "outputs": [
    {
     "data": {
      "text/plain": [
       "'{\"startDate\":\"2018-01-01\",\"endDate\":\"2022-07-31\",\"timeUnit\":\"month\",\"results\":[{\"title\":\"트위터\",\"keywords\":[\"트위터\",\"트윗\"],\"data\":[{\"period\":\"2018-01-01\",\"ratio\":14.59502},{\"period\":\"2018-02-01\",\"ratio\":13.0238},{\"period\":\"2018-03-01\",\"ratio\":12.97953},{\"period\":\"2018-04-01\",\"ratio\":12.82991},{\"period\":\"'"
      ]
     },
     "execution_count": 25,
     "metadata": {},
     "output_type": "execute_result"
    }
   ],
   "source": [
    "response.text[:300]"
   ]
  },
  {
   "cell_type": "code",
   "execution_count": 5,
   "id": "71fb6938",
   "metadata": {},
   "outputs": [],
   "source": [
    "# 4. JSON(str) > preprocessing(전처리) > DataFrame"
   ]
  },
  {
   "cell_type": "code",
   "execution_count": 40,
   "id": "0ab84868",
   "metadata": {},
   "outputs": [
    {
     "data": {
      "text/html": [
       "<div>\n",
       "<style scoped>\n",
       "    .dataframe tbody tr th:only-of-type {\n",
       "        vertical-align: middle;\n",
       "    }\n",
       "\n",
       "    .dataframe tbody tr th {\n",
       "        vertical-align: top;\n",
       "    }\n",
       "\n",
       "    .dataframe thead th {\n",
       "        text-align: right;\n",
       "    }\n",
       "</style>\n",
       "<table border=\"1\" class=\"dataframe\">\n",
       "  <thead>\n",
       "    <tr style=\"text-align: right;\">\n",
       "      <th></th>\n",
       "      <th>date</th>\n",
       "      <th>twitter</th>\n",
       "      <th>facebook</th>\n",
       "      <th>instagram</th>\n",
       "    </tr>\n",
       "  </thead>\n",
       "  <tbody>\n",
       "    <tr>\n",
       "      <th>53</th>\n",
       "      <td>2022-06-01</td>\n",
       "      <td>23.24110</td>\n",
       "      <td>20.04381</td>\n",
       "      <td>21.63141</td>\n",
       "    </tr>\n",
       "    <tr>\n",
       "      <th>54</th>\n",
       "      <td>2022-07-01</td>\n",
       "      <td>24.06197</td>\n",
       "      <td>19.53712</td>\n",
       "      <td>21.40551</td>\n",
       "    </tr>\n",
       "  </tbody>\n",
       "</table>\n",
       "</div>"
      ],
      "text/plain": [
       "          date   twitter  facebook  instagram\n",
       "53  2022-06-01  23.24110  20.04381   21.63141\n",
       "54  2022-07-01  24.06197  19.53712   21.40551"
      ]
     },
     "execution_count": 40,
     "metadata": {},
     "output_type": "execute_result"
    }
   ],
   "source": [
    "data = response.json()['results']\n",
    "df = pd.DataFrame({\n",
    "    \"date\" : [period[\"period\"] for period in data[0][\"data\"]],\n",
    "    \"twitter\" : [ratio[\"ratio\"] for ratio in data[0][\"data\"]],\n",
    "    \"facebook\" : [ratio[\"ratio\"] for ratio in data[1][\"data\"]],\n",
    "    \"instagram\" : [ratio[\"ratio\"] for ratio in data[2][\"data\"]],\n",
    "})\n",
    "df.tail(2)"
   ]
  },
  {
   "cell_type": "code",
   "execution_count": 32,
   "id": "bdc63e74",
   "metadata": {},
   "outputs": [
    {
     "data": {
      "text/plain": [
       "[1, 9, 25, 49, 81]"
      ]
     },
     "execution_count": 32,
     "metadata": {},
     "output_type": "execute_result"
    }
   ],
   "source": [
    "# list comprehension : 간단한 for,if문을 사용하여 리스트 데이터를 만들때 사용하는 방법\n",
    "# 0 ~ 9 까지 홀수만 제곱해서 리스트를 출력\n",
    "result = []\n",
    "for num in range(10):\n",
    "#     print(num)\n",
    "    if num % 2:\n",
    "        result.append(num**2)\n",
    "result"
   ]
  },
  {
   "cell_type": "code",
   "execution_count": 33,
   "id": "1c3751d8",
   "metadata": {},
   "outputs": [
    {
     "data": {
      "text/plain": [
       "[1, 9, 25, 49, 81]"
      ]
     },
     "execution_count": 33,
     "metadata": {},
     "output_type": "execute_result"
    }
   ],
   "source": [
    "result = [num**2 for num in range(10) if num % 2]\n",
    "result"
   ]
  },
  {
   "cell_type": "code",
   "execution_count": 6,
   "id": "00c5daa9",
   "metadata": {},
   "outputs": [],
   "source": [
    "# 5. visualization"
   ]
  },
  {
   "cell_type": "code",
   "execution_count": 41,
   "id": "085786e5",
   "metadata": {
    "scrolled": true
   },
   "outputs": [
    {
     "data": {
      "text/plain": [
       "<AxesSubplot:>"
      ]
     },
     "execution_count": 41,
     "metadata": {},
     "output_type": "execute_result"
    },
    {
     "data": {
      "image/png": "[encoded data removed]",
      "text/plain": [
       "<Figure size 1440x360 with 1 Axes>"
      ]
     },
     "metadata": {
      "needs_background": "light"
     },
     "output_type": "display_data"
    }
   ],
   "source": [
    "df.plot(figsize=(20,5))"
   ]
  },
  {
   "cell_type": "markdown",
   "id": "d5cbfd3b",
   "metadata": {},
   "source": [
    "# 과제 : 카카오 API 사용해서 주소를 입력하면 주소 > 위도,경도,우편번호 또는 반대(위도,경도,우편번호 > 주소) API 사용"
   ]
  },
  {
   "cell_type": "code",
   "execution_count": null,
   "id": "fa00eedf",
   "metadata": {},
   "outputs": [],
   "source": [
    "# - RESP API 키 사용\n",
    "# - 문서 > 로컬 > 개발가이드 : https://developers.kakao.com/docs/latest/ko/local/dev-guide"
   ]
  },
  {
   "cell_type": "code",
   "execution_count": null,
   "id": "248e0783",
   "metadata": {},
   "outputs": [],
   "source": [
    "# HACKERTYPER(자랑하고 싶을 때 링크)"
   ]
  },
  {
   "cell_type": "code",
   "execution_count": null,
   "id": "9936522c",
   "metadata": {},
   "outputs": [],
   "source": [
    "# 판다스 정보 : https://pandas.pydata.org/docs/user_guide/10min.html"
   ]
  }
 ],
 "metadata": {
  "kernelspec": {
   "display_name": "Python 3",
   "language": "python",
   "name": "python3"
  },
  "language_info": {
   "codemirror_mode": {
    "name": "ipython",
    "version": 3
   },
   "file_extension": ".py",
   "mimetype": "text/x-python",
   "name": "python",
   "nbconvert_exporter": "python",
   "pygments_lexer": "ipython3",
   "version": "3.8.8"
  }
 },
 "nbformat": 4,
 "nbformat_minor": 5
}
