{
 "cells": [
  {
   "cell_type": "code",
   "execution_count": 1,
   "id": "af948516",
   "metadata": {},
   "outputs": [],
   "source": [
    "# 03번 파일"
   ]
  },
  {
   "cell_type": "markdown",
   "id": "ebcc1b3b",
   "metadata": {},
   "source": [
    "### API\n",
    "- application programing interface\n",
    "- api를 사용해서 데이터를 수집하는 것은 서비스에 데이터를 제공하는 공식적인 방법으로 데이터 수집\n",
    "- naver api : papago api : 번역 서비스\n",
    "- 사용방법\n",
    "    1. 서비스에 앱을 등록\n",
    "    1. app key값을 받아온다.(어떤 유저가 요청하는지 판별)\n",
    "    2. URL에 app key를 담아서 request\n",
    "    3. api가 response로 보내줌 json format(95%~)"
   ]
  },
  {
   "cell_type": "code",
   "execution_count": 2,
   "id": "5031b38a",
   "metadata": {},
   "outputs": [],
   "source": [
    "import pandas as pd\n",
    "import requests, json"
   ]
  },
  {
   "cell_type": "code",
   "execution_count": null,
   "id": "c223ad63",
   "metadata": {},
   "outputs": [],
   "source": [
    "# 1. APP 등록 >  app_key(request_token) 수집\n",
    "# https://developers.naver.com"
   ]
  },
  {
   "cell_type": "code",
   "execution_count": 6,
   "id": "4f625d46",
   "metadata": {},
   "outputs": [],
   "source": [
    "CLIENT_ID, CLIENT_SECRET = '비', \"밀\""
   ]
  },
  {
   "cell_type": "code",
   "execution_count": null,
   "id": "a78bb8cf",
   "metadata": {},
   "outputs": [],
   "source": [
    "# 2. Naver API Document 확인 > URL"
   ]
  },
  {
   "cell_type": "code",
   "execution_count": 7,
   "id": "8f77faa9",
   "metadata": {},
   "outputs": [],
   "source": [
    "txt ='파이썬은 재미있습니다.'\n",
    "url = \"https://openapi.naver.com/v1/papago/n2mt\"\n",
    "params = {\"source\":\"ko\",\"target\":\"en\",\"text\": txt}\n",
    "headers = {\n",
    "    \"Content-Type\": \"application/json\",\n",
    "    \"X-Naver-Client-Id\": CLIENT_ID,\n",
    "    \"X-Naver-Client-Secret\": CLIENT_SECRET,\n",
    "}"
   ]
  },
  {
   "cell_type": "code",
   "execution_count": null,
   "id": "732bb549",
   "metadata": {},
   "outputs": [],
   "source": [
    "# 3. request(url,app_key) > response(json) : JSON(str)"
   ]
  },
  {
   "cell_type": "code",
   "execution_count": null,
   "id": "f0d41348",
   "metadata": {},
   "outputs": [],
   "source": [
    "# json.dumps() : 인터넷 트래픽에서는 영문, 숫자, 특수문자만 사용이 사용가능\n",
    "# 한글과 같은 문자를 인코딩(영문,숫자,특수문자)"
   ]
  },
  {
   "cell_type": "code",
   "execution_count": 8,
   "id": "4f921175",
   "metadata": {},
   "outputs": [
    {
     "data": {
      "text/plain": [
       "({'source': 'ko', 'target': 'en', 'text': '파이썬은 재미있습니다.'},\n",
       " '{\"source\": \"ko\", \"target\": \"en\", \"text\": \"\\\\ud30c\\\\uc774\\\\uc36c\\\\uc740 \\\\uc7ac\\\\ubbf8\\\\uc788\\\\uc2b5\\\\ub2c8\\\\ub2e4.\"}')"
      ]
     },
     "execution_count": 8,
     "metadata": {},
     "output_type": "execute_result"
    }
   ],
   "source": [
    "params, json.dumps(params)"
   ]
  },
  {
   "cell_type": "code",
   "execution_count": 9,
   "id": "5b4d3501",
   "metadata": {},
   "outputs": [
    {
     "data": {
      "text/plain": [
       "<Response [200]>"
      ]
     },
     "execution_count": 9,
     "metadata": {},
     "output_type": "execute_result"
    }
   ],
   "source": [
    "response = requests.post(url,json.dumps(params),headers=headers)\n",
    "response"
   ]
  },
  {
   "cell_type": "code",
   "execution_count": 10,
   "id": "e64f2183",
   "metadata": {},
   "outputs": [
    {
     "data": {
      "text/plain": [
       "'{\"message\":{\"result\":{\"srcLangType\":\"ko\",\"tarLangType\":\"en\",\"translatedText\":\"Python is fun.\",\"engineType\":\"N2MT\",\"pivot\":null,\"dict\":null,\"tarDict\":null},\"@type\":\"response\",\"@service\":\"naverservice.nmt.proxy\",\"@version\":\"1.0.0\"}}'"
      ]
     },
     "execution_count": 10,
     "metadata": {},
     "output_type": "execute_result"
    }
   ],
   "source": [
    "response.text"
   ]
  },
  {
   "cell_type": "code",
   "execution_count": null,
   "id": "f6a73508",
   "metadata": {},
   "outputs": [],
   "source": [
    "# 4. JSON(str) > list,dict > DataFrame"
   ]
  },
  {
   "cell_type": "code",
   "execution_count": 11,
   "id": "807f427c",
   "metadata": {},
   "outputs": [
    {
     "data": {
      "text/plain": [
       "{'message': {'result': {'srcLangType': 'ko',\n",
       "   'tarLangType': 'en',\n",
       "   'translatedText': 'Python is fun.',\n",
       "   'engineType': 'N2MT',\n",
       "   'pivot': None,\n",
       "   'dict': None,\n",
       "   'tarDict': None},\n",
       "  '@type': 'response',\n",
       "  '@service': 'naverservice.nmt.proxy',\n",
       "  '@version': '1.0.0'}}"
      ]
     },
     "execution_count": 11,
     "metadata": {},
     "output_type": "execute_result"
    }
   ],
   "source": [
    "response.json()"
   ]
  },
  {
   "cell_type": "code",
   "execution_count": 13,
   "id": "7b814fad",
   "metadata": {},
   "outputs": [
    {
     "data": {
      "text/plain": [
       "'Python is fun.'"
      ]
     },
     "execution_count": 13,
     "metadata": {},
     "output_type": "execute_result"
    }
   ],
   "source": [
    "txt_en = response.json()['message']['result']['translatedText']\n",
    "txt_en"
   ]
  },
  {
   "cell_type": "code",
   "execution_count": 14,
   "id": "7ebaafb5",
   "metadata": {},
   "outputs": [],
   "source": [
    "# 5. 함수로 작성"
   ]
  },
  {
   "cell_type": "code",
   "execution_count": 22,
   "id": "7d4493aa",
   "metadata": {},
   "outputs": [],
   "source": [
    "def translate(txt):\n",
    "    CLIENT_ID, CLIENT_SECRET = '비', \"밀\"\n",
    "    #TODO\n",
    "    url = \"https://openapi.naver.com/v1/papago/n2mt\"\n",
    "    params = {\"source\":\"ko\",\"target\":\"en\",\"text\": txt}\n",
    "    headers = {\n",
    "        \"Content-Type\": \"application/json\",\n",
    "        \"X-Naver-Client-Id\": CLIENT_ID,\n",
    "        \"X-Naver-Client-Secret\": CLIENT_SECRET,\n",
    "    }\n",
    "    response = requests.post(url,json.dumps(params),headers=headers)\n",
    "    txt_en = response.json()['message']['result']['translatedText']\n",
    "    return txt_en"
   ]
  },
  {
   "cell_type": "code",
   "execution_count": 23,
   "id": "70977736",
   "metadata": {},
   "outputs": [
    {
     "data": {
      "text/plain": [
       "'Web crawling is fun.'"
      ]
     },
     "execution_count": 23,
     "metadata": {},
     "output_type": "execute_result"
    }
   ],
   "source": [
    "txt = '웹크롤링은 재미있습니다.'\n",
    "txt_en = translate(txt)\n",
    "txt_en"
   ]
  },
  {
   "cell_type": "code",
   "execution_count": 24,
   "id": "890a2675",
   "metadata": {},
   "outputs": [],
   "source": [
    "#6. 한글 excel 파일을 영문 excel 파일로 변경"
   ]
  },
  {
   "cell_type": "code",
   "execution_count": 28,
   "id": "12af5c0c",
   "metadata": {},
   "outputs": [
    {
     "data": {
      "text/html": [
       "<div>\n",
       "<style scoped>\n",
       "    .dataframe tbody tr th:only-of-type {\n",
       "        vertical-align: middle;\n",
       "    }\n",
       "\n",
       "    .dataframe tbody tr th {\n",
       "        vertical-align: top;\n",
       "    }\n",
       "\n",
       "    .dataframe thead th {\n",
       "        text-align: right;\n",
       "    }\n",
       "</style>\n",
       "<table border=\"1\" class=\"dataframe\">\n",
       "  <thead>\n",
       "    <tr style=\"text-align: right;\">\n",
       "      <th></th>\n",
       "      <th>category</th>\n",
       "      <th>title</th>\n",
       "    </tr>\n",
       "  </thead>\n",
       "  <tbody>\n",
       "    <tr>\n",
       "      <th>4</th>\n",
       "      <td>104</td>\n",
       "      <td>\"코로나 확진자 '0명'인 날은 절대 오지 않는다\" 美전문가</td>\n",
       "    </tr>\n",
       "    <tr>\n",
       "      <th>5</th>\n",
       "      <td>104</td>\n",
       "      <td>올림픽 다가오는데 도쿄 코로나 확산 빨라져...일주일새 25％↑</td>\n",
       "    </tr>\n",
       "  </tbody>\n",
       "</table>\n",
       "</div>"
      ],
      "text/plain": [
       "   category                                title\n",
       "4       104    \"코로나 확진자 '0명'인 날은 절대 오지 않는다\" 美전문가\n",
       "5       104  올림픽 다가오는데 도쿄 코로나 확산 빨라져...일주일새 25％↑"
      ]
     },
     "execution_count": 28,
     "metadata": {},
     "output_type": "execute_result"
    }
   ],
   "source": [
    "covid = pd.read_excel('covid.xlsx')[['category','title']]\n",
    "covid.tail(2)"
   ]
  },
  {
   "cell_type": "code",
   "execution_count": 35,
   "id": "8237e12a",
   "metadata": {},
   "outputs": [
    {
     "name": "stdout",
     "output_type": "stream",
     "text": [
      "Wall time: 672 ms\n"
     ]
    }
   ],
   "source": [
    "%%time\n",
    "covid_en = covid['title'].apply(translate)"
   ]
  },
  {
   "cell_type": "code",
   "execution_count": 30,
   "id": "33d0a8b5",
   "metadata": {},
   "outputs": [
    {
     "data": {
      "text/plain": [
       "0    SK Bioscience Submits Phase III Clinical Trial...\n",
       "1    41 cumulative COVID-19 confirmed patients at G...\n",
       "2    New COVID-19 infections, 542 people by 9 p.m. ...\n",
       "3    Covid-19 confirmed cases in professional baseb...\n",
       "4    \"The day when there are zero confirmed cases o...\n",
       "5    As the Olympics are approaching, the spread of...\n",
       "Name: title, dtype: object"
      ]
     },
     "execution_count": 30,
     "metadata": {},
     "output_type": "execute_result"
    }
   ],
   "source": [
    "covid_en"
   ]
  },
  {
   "cell_type": "code",
   "execution_count": 32,
   "id": "bc08772b",
   "metadata": {},
   "outputs": [
    {
     "data": {
      "text/html": [
       "<div>\n",
       "<style scoped>\n",
       "    .dataframe tbody tr th:only-of-type {\n",
       "        vertical-align: middle;\n",
       "    }\n",
       "\n",
       "    .dataframe tbody tr th {\n",
       "        vertical-align: top;\n",
       "    }\n",
       "\n",
       "    .dataframe thead th {\n",
       "        text-align: right;\n",
       "    }\n",
       "</style>\n",
       "<table border=\"1\" class=\"dataframe\">\n",
       "  <thead>\n",
       "    <tr style=\"text-align: right;\">\n",
       "      <th></th>\n",
       "      <th>category</th>\n",
       "      <th>title</th>\n",
       "      <th>title_en</th>\n",
       "    </tr>\n",
       "  </thead>\n",
       "  <tbody>\n",
       "    <tr>\n",
       "      <th>0</th>\n",
       "      <td>101</td>\n",
       "      <td>SK바이오사이언스, 코로나19 백신 임상 3상 시험계획 제출</td>\n",
       "      <td>SK Bioscience Submits Phase III Clinical Trial...</td>\n",
       "    </tr>\n",
       "    <tr>\n",
       "      <th>1</th>\n",
       "      <td>102</td>\n",
       "      <td>고양시 노래연습장 코로나19 누적확진 41명</td>\n",
       "      <td>41 cumulative COVID-19 confirmed patients at G...</td>\n",
       "    </tr>\n",
       "    <tr>\n",
       "      <th>2</th>\n",
       "      <td>103</td>\n",
       "      <td>코로나19 신규 감염, 28일 오후 9시까지 542명</td>\n",
       "      <td>New COVID-19 infections, 542 people by 9 p.m. ...</td>\n",
       "    </tr>\n",
       "    <tr>\n",
       "      <th>3</th>\n",
       "      <td>103</td>\n",
       "      <td>프로야구 수도권 구단서 코로나19 확진자 발생</td>\n",
       "      <td>Covid-19 confirmed cases in professional baseb...</td>\n",
       "    </tr>\n",
       "    <tr>\n",
       "      <th>4</th>\n",
       "      <td>104</td>\n",
       "      <td>\"코로나 확진자 '0명'인 날은 절대 오지 않는다\" 美전문가</td>\n",
       "      <td>\"The day when there are zero confirmed cases o...</td>\n",
       "    </tr>\n",
       "    <tr>\n",
       "      <th>5</th>\n",
       "      <td>104</td>\n",
       "      <td>올림픽 다가오는데 도쿄 코로나 확산 빨라져...일주일새 25％↑</td>\n",
       "      <td>As the Olympics are approaching, the spread of...</td>\n",
       "    </tr>\n",
       "  </tbody>\n",
       "</table>\n",
       "</div>"
      ],
      "text/plain": [
       "   category                                title  \\\n",
       "0       101    SK바이오사이언스, 코로나19 백신 임상 3상 시험계획 제출   \n",
       "1       102             고양시 노래연습장 코로나19 누적확진 41명   \n",
       "2       103        코로나19 신규 감염, 28일 오후 9시까지 542명   \n",
       "3       103            프로야구 수도권 구단서 코로나19 확진자 발생   \n",
       "4       104    \"코로나 확진자 '0명'인 날은 절대 오지 않는다\" 美전문가   \n",
       "5       104  올림픽 다가오는데 도쿄 코로나 확산 빨라져...일주일새 25％↑   \n",
       "\n",
       "                                            title_en  \n",
       "0  SK Bioscience Submits Phase III Clinical Trial...  \n",
       "1  41 cumulative COVID-19 confirmed patients at G...  \n",
       "2  New COVID-19 infections, 542 people by 9 p.m. ...  \n",
       "3  Covid-19 confirmed cases in professional baseb...  \n",
       "4  \"The day when there are zero confirmed cases o...  \n",
       "5  As the Olympics are approaching, the spread of...  "
      ]
     },
     "execution_count": 32,
     "metadata": {},
     "output_type": "execute_result"
    }
   ],
   "source": [
    "covid['title_en'] = covid_en\n",
    "covid"
   ]
  },
  {
   "cell_type": "code",
   "execution_count": 33,
   "id": "d3b2c66f",
   "metadata": {},
   "outputs": [],
   "source": [
    "covid.to_excel(\"covid_en.xlsx\",index=False,encoding='utf-8-sig') #sig 달아야 excel에서 한글이 안깨짐"
   ]
  },
  {
   "cell_type": "markdown",
   "id": "5768c979",
   "metadata": {},
   "source": [
    "# %%time : 코드 실행시간 출력"
   ]
  },
  {
   "cell_type": "code",
   "execution_count": 36,
   "id": "6eccffeb",
   "metadata": {},
   "outputs": [],
   "source": [
    "# 함수 : Scope\n",
    "# 변수를 선언할때 함수 밖에서 선언하는 것과 함수 안에서 선언하는 변수의 메모리 저장공간이 다릅니다.\n",
    "# 전역(global)영역 : 함수 밖의 영역\n",
    "# 지역(local)영역 : 함수 안의 영역\n",
    "# global : 지역영역에서 전역영역에 있는 변수를 가져올때 사용하는 명령어"
   ]
  },
  {
   "cell_type": "code",
   "execution_count": 38,
   "id": "c36163d8",
   "metadata": {},
   "outputs": [
    {
     "name": "stdout",
     "output_type": "stream",
     "text": [
      "20\n"
     ]
    }
   ],
   "source": [
    "data = 10\n",
    "def change():\n",
    "    global data # 전역영역에 있는 data를 지역영역으로 가져옴\n",
    "    data = 20\n",
    "change()\n",
    "print(data)"
   ]
  }
 ],
 "metadata": {
  "kernelspec": {
   "display_name": "Python 3",
   "language": "python",
   "name": "python3"
  },
  "language_info": {
   "codemirror_mode": {
    "name": "ipython",
    "version": 3
   },
   "file_extension": ".py",
   "mimetype": "text/x-python",
   "name": "python",
   "nbconvert_exporter": "python",
   "pygments_lexer": "ipython3",
   "version": "3.8.8"
  }
 },
 "nbformat": 4,
 "nbformat_minor": 5
}
