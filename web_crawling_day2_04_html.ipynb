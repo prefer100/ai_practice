{
 "cells": [
  {
   "cell_type": "markdown",
   "id": "da344571",
   "metadata": {},
   "source": [
    "### html\n",
    "- 웹문서를 작성하는 언어\n",
    "- 구성요소\n",
    "    - Document : 한페이지를 나타내는 코드\n",
    "    - Element : 하나의 레이아웃 : Element가 모여서 Document를 만듦\n",
    "    - Tag : Element의 종류를 정의 : 시작태그 + 끝태그 = Element\n",
    "    - Attribute : 속성값 : 시작태그에서 태그의 기능 정의\n",
    "        - id : element를 지정하는 페이지 내에서 유일한 값\n",
    "        - class : element를 지정하는 값으로 페이지 내에서 여러개 사용 가능\n",
    "        - attr : id, class를 제외한 나머지 속성값\n",
    "    - Text : 시작태그와 끝태그 사이의 문자열\n",
    "- 엘리먼트는 계층적 구조를 갖습니다."
   ]
  },
  {
   "cell_type": "code",
   "execution_count": 2,
   "id": "8813f3a0",
   "metadata": {},
   "outputs": [
    {
     "data": {
      "text/html": [
       "<div class=\"wrapper\">\n",
       "    <button id=\"b1\" class=\"btn no1\" value=\"1\">HTML 1</button>\n",
       "    <button id=\"b2\" class=\"btn no2\" value=\"2\">HTML 2</button>\n",
       "    <p>HTML 3</p>\n",
       "</div>\n"
      ],
      "text/plain": [
       "<IPython.core.display.HTML object>"
      ]
     },
     "metadata": {},
     "output_type": "display_data"
    }
   ],
   "source": [
    "%%html\n",
    "<div class=\"wrapper\">\n",
    "    <button id=\"b1\" class=\"btn no1\" value=\"1\">HTML 1</button>\n",
    "    <button id=\"b2\" class=\"btn no2\" value=\"2\">HTML 2</button>\n",
    "    <p>HTML 3</p>\n",
    "</div>"
   ]
  },
  {
   "cell_type": "code",
   "execution_count": 3,
   "id": "dfae3548",
   "metadata": {},
   "outputs": [],
   "source": [
    "# p : 한줄의 문자열 출력bin"
   ]
  },
  {
   "cell_type": "code",
   "execution_count": 4,
   "id": "d03f899b",
   "metadata": {},
   "outputs": [
    {
     "data": {
      "text/html": [
       "<p>python 1</p>\n",
       "<p>python 2</p>\n"
      ],
      "text/plain": [
       "<IPython.core.display.HTML object>"
      ]
     },
     "metadata": {},
     "output_type": "display_data"
    }
   ],
   "source": [
    "%%html\n",
    "<p>python 1</p>\n",
    "<p>python 2</p>"
   ]
  },
  {
   "cell_type": "code",
   "execution_count": 8,
   "id": "c8019778",
   "metadata": {},
   "outputs": [],
   "source": [
    "#span : 한블럭의 문자열 출력"
   ]
  },
  {
   "cell_type": "code",
   "execution_count": 9,
   "id": "bf7891a9",
   "metadata": {},
   "outputs": [
    {
     "data": {
      "text/html": [
       "<span>python 1</span>\n",
       "<span>python 2</span>\n"
      ],
      "text/plain": [
       "<IPython.core.display.HTML object>"
      ]
     },
     "metadata": {},
     "output_type": "display_data"
    }
   ],
   "source": [
    "%%html\n",
    "<span>python 1</span>\n",
    "<span>python 2</span>"
   ]
  },
  {
   "cell_type": "code",
   "execution_count": 10,
   "id": "d1ba6e74",
   "metadata": {},
   "outputs": [],
   "source": [
    "# ul, li : 리스트 문자열 출력"
   ]
  },
  {
   "cell_type": "code",
   "execution_count": 11,
   "id": "fa549d51",
   "metadata": {},
   "outputs": [
    {
     "data": {
      "text/html": [
       "<ul>\n",
       "    <li>python 1</li>\n",
       "    <li>python 2</li>\n",
       "</ul>\n"
      ],
      "text/plain": [
       "<IPython.core.display.HTML object>"
      ]
     },
     "metadata": {},
     "output_type": "display_data"
    }
   ],
   "source": [
    "%%html\n",
    "<ul>\n",
    "    <li>python 1</li>\n",
    "    <li>python 2</li>\n",
    "</ul>"
   ]
  },
  {
   "cell_type": "code",
   "execution_count": 12,
   "id": "43798043",
   "metadata": {},
   "outputs": [],
   "source": [
    "# a : 링크를 나타내는 태그"
   ]
  },
  {
   "cell_type": "code",
   "execution_count": 14,
   "id": "215761b4",
   "metadata": {},
   "outputs": [
    {
     "data": {
      "text/html": [
       "<a href=\"https://kt.com\" target=\"_blink\">Click</a>\n"
      ],
      "text/plain": [
       "<IPython.core.display.HTML object>"
      ]
     },
     "metadata": {},
     "output_type": "display_data"
    }
   ],
   "source": [
    "%%html\n",
    "<a href=\"https://kt.com\" target=\"_blink\">Click</a>"
   ]
  },
  {
   "cell_type": "code",
   "execution_count": 15,
   "id": "0fde0e58",
   "metadata": {},
   "outputs": [],
   "source": [
    "# img : 이미지를 출력하는 태그"
   ]
  },
  {
   "cell_type": "code",
   "execution_count": 16,
   "id": "7cc2e19c",
   "metadata": {},
   "outputs": [
    {
     "data": {
      "text/html": [
       "<img src=\"https://cfm.kt.com/images/v2/layout/gnb-ktlogo.png\" alt=\"kt\">\n"
      ],
      "text/plain": [
       "<IPython.core.display.HTML object>"
      ]
     },
     "metadata": {},
     "output_type": "display_data"
    }
   ],
   "source": [
    "%%html\n",
    "<img src=\"https://cfm.kt.com/images/v2/layout/gnb-ktlogo.png\" alt=\"kt\">"
   ]
  },
  {
   "cell_type": "code",
   "execution_count": 17,
   "id": "aee6e4e6",
   "metadata": {},
   "outputs": [],
   "source": [
    "# iframe : 외부 URL 링크에 해당하는 웹페이지를 출력"
   ]
  },
  {
   "cell_type": "code",
   "execution_count": 19,
   "id": "91b97318",
   "metadata": {},
   "outputs": [
    {
     "data": {
      "text/html": [
       "<iframe src='https://kt.com' width =\"100%\", height=\"400px\">\n"
      ],
      "text/plain": [
       "<IPython.core.display.HTML object>"
      ]
     },
     "metadata": {},
     "output_type": "display_data"
    }
   ],
   "source": [
    "%%html\n",
    "<iframe src='https://kt.com' width =\"100%\", height=\"400px\">"
   ]
  },
  {
   "cell_type": "code",
   "execution_count": 20,
   "id": "c4cee9b2",
   "metadata": {},
   "outputs": [],
   "source": [
    "# div: 레이아웃을 나타내는 태그"
   ]
  },
  {
   "cell_type": "code",
   "execution_count": 21,
   "id": "75a58d7e",
   "metadata": {},
   "outputs": [
    {
     "data": {
      "text/html": [
       "<div>\n",
       "    <p>python 1</p>\n",
       "    <p>python 2</p>\n",
       "</div>\n",
       "<div>\n",
       "    <p>python 3</p>\n",
       "</div>\n"
      ],
      "text/plain": [
       "<IPython.core.display.HTML object>"
      ]
     },
     "metadata": {},
     "output_type": "display_data"
    }
   ],
   "source": [
    "%%html\n",
    "<div>\n",
    "    <p>python 1</p>\n",
    "    <p>python 2</p>\n",
    "</div>\n",
    "<div>\n",
    "    <p>python 3</p>\n",
    "</div>"
   ]
  },
  {
   "cell_type": "code",
   "execution_count": 22,
   "id": "52811a00",
   "metadata": {},
   "outputs": [],
   "source": [
    "# table : 행열 데이터를 출력"
   ]
  },
  {
   "cell_type": "code",
   "execution_count": 23,
   "id": "d337033e",
   "metadata": {},
   "outputs": [
    {
     "data": {
      "text/html": [
       "<table>\n",
       "    <caption>제목</caption>\n",
       "    <thead>\n",
       "        <tr>\n",
       "            <th>column 1</th>\n",
       "            <th>column 2</th>\n",
       "        </tr>\n",
       "    </thead>\n",
       "    <tbody>\n",
       "        <tr>\n",
       "            <th>data 1</th>\n",
       "            <th>data 2</th>\n",
       "        </tr>\n",
       "        <tr>\n",
       "            <th>data 3</th>\n",
       "            <th>data 4</th>\n",
       "        </tr>\n",
       "    </tbody>\n",
       "</table>\n"
      ],
      "text/plain": [
       "<IPython.core.display.HTML object>"
      ]
     },
     "metadata": {},
     "output_type": "display_data"
    }
   ],
   "source": [
    "%%html\n",
    "<table>\n",
    "    <caption>제목</caption>\n",
    "    <thead>\n",
    "        <tr>\n",
    "            <th>column 1</th>\n",
    "            <th>column 2</th>\n",
    "        </tr>\n",
    "    </thead>\n",
    "    <tbody>\n",
    "        <tr>\n",
    "            <th>data 1</th>\n",
    "            <th>data 2</th>\n",
    "        </tr>\n",
    "        <tr>\n",
    "            <th>data 3</th>\n",
    "            <th>data 4</th>\n",
    "        </tr>\n",
    "    </tbody>\n",
    "</table>"
   ]
  },
  {
   "cell_type": "code",
   "execution_count": 24,
   "id": "9c726175",
   "metadata": {},
   "outputs": [],
   "source": [
    "# 부동소수점 에러"
   ]
  },
  {
   "cell_type": "code",
   "execution_count": 25,
   "id": "a31cadca",
   "metadata": {},
   "outputs": [
    {
     "name": "stdout",
     "output_type": "stream",
     "text": [
      "0.1 0.2\n"
     ]
    }
   ],
   "source": [
    "data1, data2 = 0.1, 0.2\n",
    "print(data1,data2)"
   ]
  },
  {
   "cell_type": "code",
   "execution_count": 28,
   "id": "84c78df6",
   "metadata": {},
   "outputs": [
    {
     "data": {
      "text/plain": [
       "False"
      ]
     },
     "execution_count": 28,
     "metadata": {},
     "output_type": "execute_result"
    }
   ],
   "source": [
    "(data1 + data2) == 0.3"
   ]
  },
  {
   "cell_type": "code",
   "execution_count": 29,
   "id": "87ccfe24",
   "metadata": {},
   "outputs": [
    {
     "data": {
      "text/plain": [
       "0.30000000000000004"
      ]
     },
     "execution_count": 29,
     "metadata": {},
     "output_type": "execute_result"
    }
   ],
   "source": [
    "data1 + data2"
   ]
  },
  {
   "cell_type": "code",
   "execution_count": 31,
   "id": "9f1162cd",
   "metadata": {},
   "outputs": [
    {
     "data": {
      "text/plain": [
       "(0.3, True)"
      ]
     },
     "execution_count": 31,
     "metadata": {},
     "output_type": "execute_result"
    }
   ],
   "source": [
    "# 해결방법 1 : 반올림 사용 : round\n",
    "round(data1 + data2,1), round(data1 + data2,1) == 0.3"
   ]
  },
  {
   "cell_type": "code",
   "execution_count": 32,
   "id": "10860492",
   "metadata": {},
   "outputs": [
    {
     "data": {
      "text/plain": [
       "True"
      ]
     },
     "execution_count": 32,
     "metadata": {},
     "output_type": "execute_result"
    }
   ],
   "source": [
    "# 해결방법 2 : 부동소수점으로 변환\n",
    "from decimal import Decimal\n",
    "float(Decimal(str(data1)) + Decimal(str(data2))) == 0.3"
   ]
  },
  {
   "cell_type": "code",
   "execution_count": null,
   "id": "0ef06146",
   "metadata": {},
   "outputs": [],
   "source": []
  }
 ],
 "metadata": {
  "kernelspec": {
   "display_name": "Python 3",
   "language": "python",
   "name": "python3"
  },
  "language_info": {
   "codemirror_mode": {
    "name": "ipython",
    "version": 3
   },
   "file_extension": ".py",
   "mimetype": "text/x-python",
   "name": "python",
   "nbconvert_exporter": "python",
   "pygments_lexer": "ipython3",
   "version": "3.8.8"
  }
 },
 "nbformat": 4,
 "nbformat_minor": 5
}
