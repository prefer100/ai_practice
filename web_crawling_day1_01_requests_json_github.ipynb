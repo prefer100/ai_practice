{
 "cells": [
  {
   "cell_type": "markdown",
   "id": "7e90d27d",
   "metadata": {},
   "source": [
    "### WebCrawling\n",
    "- 웹페이지의 종류\n",
    "    - 정적페이지 : 페이지의 데이터가 변경될때 URL이 변경\n",
    "    - 동적페이지 : 페이지의 데이터가 변경될때 URL이 변경 X\n",
    "- requests package\n",
    "    - 브라우져의 URL을 입력하면 서버에서 데이터를 다운받아 화면에 출력 : URL > DATA\n",
    "    - requests 패키지 : URL > DATA"
   ]
  },
  {
   "cell_type": "markdown",
   "id": "ca4f9d41",
   "metadata": {},
   "source": [
    "### Naver Stock Data\n",
    "- Kospi 지수\n",
    "- Kosdaq 지수\n",
    "- USD : 원달러 환율"
   ]
  },
  {
   "cell_type": "code",
   "execution_count": 1,
   "id": "e643c1b7",
   "metadata": {},
   "outputs": [],
   "source": [
    "import requests\n",
    "import pandas as pd"
   ]
  },
  {
   "cell_type": "code",
   "execution_count": 2,
   "id": "f6437a79",
   "metadata": {},
   "outputs": [],
   "source": [
    "# 1. 웹서비스를 분석 : 크롬 개발자 도구 : URL\n",
    "# https://m.stock.naver.com"
   ]
  },
  {
   "cell_type": "code",
   "execution_count": 4,
   "id": "301881e5",
   "metadata": {},
   "outputs": [],
   "source": [
    "url = 'https://m.stock.naver.com/api/index/KOSPI/price?pageSize=10&page=4'"
   ]
  },
  {
   "cell_type": "code",
   "execution_count": 5,
   "id": "229f5e18",
   "metadata": {},
   "outputs": [],
   "source": [
    "# 2. request(url) > response(json) : JSON(str)"
   ]
  },
  {
   "cell_type": "code",
   "execution_count": 7,
   "id": "cf65a870",
   "metadata": {},
   "outputs": [
    {
     "data": {
      "text/plain": [
       "<Response [200]>"
      ]
     },
     "execution_count": 7,
     "metadata": {},
     "output_type": "execute_result"
    }
   ],
   "source": [
    "response = requests.get(url)\n",
    "response"
   ]
  },
  {
   "cell_type": "code",
   "execution_count": 9,
   "id": "173cb5dc",
   "metadata": {},
   "outputs": [
    {
     "data": {
      "text/plain": [
       "'[{\"localTradedAt\":\"2022-06-22\",\"closePrice\":\"2,342.81\",\"compareToPreviousClosePrice\":\"-66.12\",\"compareToPreviousPrice\":{\"code\":\"5\",\"text\":\"하락\",\"name\":\"FALLING\"},\"fluctuationsRatio\":\"-2.74\",\"openPrice\"'"
      ]
     },
     "execution_count": 9,
     "metadata": {},
     "output_type": "execute_result"
    }
   ],
   "source": [
    "response.text[:200]"
   ]
  },
  {
   "cell_type": "code",
   "execution_count": 10,
   "id": "b0af7688",
   "metadata": {},
   "outputs": [],
   "source": [
    "# 3. JSON(str) > list,dict > DataFrame"
   ]
  },
  {
   "cell_type": "code",
   "execution_count": 13,
   "id": "c8df73ac",
   "metadata": {},
   "outputs": [
    {
     "data": {
      "text/plain": [
       "(list,\n",
       " [{'localTradedAt': '2022-06-22',\n",
       "   'closePrice': '2,342.81',\n",
       "   'compareToPreviousClosePrice': '-66.12',\n",
       "   'compareToPreviousPrice': {'code': '5', 'text': '하락', 'name': 'FALLING'},\n",
       "   'fluctuationsRatio': '-2.74',\n",
       "   'openPrice': '2,417.11',\n",
       "   'highPrice': '2,418.05',\n",
       "   'lowPrice': '2,342.81'},\n",
       "  {'localTradedAt': '2022-06-21',\n",
       "   'closePrice': '2,408.93',\n",
       "   'compareToPreviousClosePrice': '17.90',\n",
       "   'compareToPreviousPrice': {'code': '2', 'text': '상승', 'name': 'RISING'},\n",
       "   'fluctuationsRatio': '0.75',\n",
       "   'openPrice': '2,402.99',\n",
       "   'highPrice': '2,423.48',\n",
       "   'lowPrice': '2,385.60'}])"
      ]
     },
     "execution_count": 13,
     "metadata": {},
     "output_type": "execute_result"
    }
   ],
   "source": [
    "data = response.json()\n",
    "type(data), data[:2]"
   ]
  },
  {
   "cell_type": "code",
   "execution_count": 16,
   "id": "4c8e2883",
   "metadata": {},
   "outputs": [
    {
     "data": {
      "text/html": [
       "<div>\n",
       "<style scoped>\n",
       "    .dataframe tbody tr th:only-of-type {\n",
       "        vertical-align: middle;\n",
       "    }\n",
       "\n",
       "    .dataframe tbody tr th {\n",
       "        vertical-align: top;\n",
       "    }\n",
       "\n",
       "    .dataframe thead th {\n",
       "        text-align: right;\n",
       "    }\n",
       "</style>\n",
       "<table border=\"1\" class=\"dataframe\">\n",
       "  <thead>\n",
       "    <tr style=\"text-align: right;\">\n",
       "      <th></th>\n",
       "      <th>localTradedAt</th>\n",
       "      <th>closePrice</th>\n",
       "    </tr>\n",
       "  </thead>\n",
       "  <tbody>\n",
       "    <tr>\n",
       "      <th>8</th>\n",
       "      <td>2022-06-10</td>\n",
       "      <td>2,595.87</td>\n",
       "    </tr>\n",
       "    <tr>\n",
       "      <th>9</th>\n",
       "      <td>2022-06-09</td>\n",
       "      <td>2,625.44</td>\n",
       "    </tr>\n",
       "  </tbody>\n",
       "</table>\n",
       "</div>"
      ],
      "text/plain": [
       "  localTradedAt closePrice\n",
       "8    2022-06-10   2,595.87\n",
       "9    2022-06-09   2,625.44"
      ]
     },
     "execution_count": 16,
     "metadata": {},
     "output_type": "execute_result"
    }
   ],
   "source": [
    "df= pd.DataFrame(data)[['localTradedAt','closePrice']]\n",
    "df.tail(2)"
   ]
  },
  {
   "cell_type": "code",
   "execution_count": null,
   "id": "f4bc97e8",
   "metadata": {},
   "outputs": [],
   "source": [
    "# 4. 함수 만들기\n",
    "# params : pagesize, page"
   ]
  },
  {
   "cell_type": "code",
   "execution_count": 29,
   "id": "7d6fe6ae",
   "metadata": {},
   "outputs": [],
   "source": [
    "def stock_price(pagesize,page):\n",
    "    url = f'https://m.stock.naver.com/api/index/KOSPI/price?pageSize={pagesize}&page={page}'\n",
    "    response = requests.get(url)\n",
    "    data = response.json()\n",
    "    return pd.DataFrame(data)[[\"localTradedAt\",\"closePrice\"]]"
   ]
  },
  {
   "cell_type": "code",
   "execution_count": 32,
   "id": "968121f5",
   "metadata": {},
   "outputs": [
    {
     "data": {
      "text/html": [
       "<div>\n",
       "<style scoped>\n",
       "    .dataframe tbody tr th:only-of-type {\n",
       "        vertical-align: middle;\n",
       "    }\n",
       "\n",
       "    .dataframe tbody tr th {\n",
       "        vertical-align: top;\n",
       "    }\n",
       "\n",
       "    .dataframe thead th {\n",
       "        text-align: right;\n",
       "    }\n",
       "</style>\n",
       "<table border=\"1\" class=\"dataframe\">\n",
       "  <thead>\n",
       "    <tr style=\"text-align: right;\">\n",
       "      <th></th>\n",
       "      <th>localTradedAt</th>\n",
       "      <th>closePrice</th>\n",
       "    </tr>\n",
       "  </thead>\n",
       "  <tbody>\n",
       "    <tr>\n",
       "      <th>28</th>\n",
       "      <td>2022-05-11</td>\n",
       "      <td>2,592.27</td>\n",
       "    </tr>\n",
       "    <tr>\n",
       "      <th>29</th>\n",
       "      <td>2022-05-10</td>\n",
       "      <td>2,596.56</td>\n",
       "    </tr>\n",
       "  </tbody>\n",
       "</table>\n",
       "</div>"
      ],
      "text/plain": [
       "   localTradedAt closePrice\n",
       "28    2022-05-11   2,592.27\n",
       "29    2022-05-10   2,596.56"
      ]
     },
     "execution_count": 32,
     "metadata": {},
     "output_type": "execute_result"
    }
   ],
   "source": [
    "df = stock_price(30,2)\n",
    "df.tail(2)"
   ]
  },
  {
   "cell_type": "code",
   "execution_count": 33,
   "id": "d5604a69",
   "metadata": {},
   "outputs": [],
   "source": [
    "#KOSDAQ 데이터 수집 코드 작성"
   ]
  },
  {
   "cell_type": "code",
   "execution_count": 34,
   "id": "dbd53ad0",
   "metadata": {},
   "outputs": [],
   "source": [
    "# 1. 웹서비스 분석 : URL"
   ]
  },
  {
   "cell_type": "code",
   "execution_count": 38,
   "id": "e7874879",
   "metadata": {},
   "outputs": [],
   "source": [
    "url2 = 'https://m.stock.naver.com/api/index/KOSDAQ/price?pageSize=10&page=2'"
   ]
  },
  {
   "cell_type": "code",
   "execution_count": 40,
   "id": "6b7c994f",
   "metadata": {},
   "outputs": [
    {
     "data": {
      "text/plain": [
       "<Response [200]>"
      ]
     },
     "execution_count": 40,
     "metadata": {},
     "output_type": "execute_result"
    }
   ],
   "source": [
    "# 2. request(url) > response(json) : JSON(str)\n",
    "response = requests.get(url2)\n",
    "response"
   ]
  },
  {
   "cell_type": "code",
   "execution_count": 42,
   "id": "e53fb203",
   "metadata": {},
   "outputs": [
    {
     "data": {
      "text/plain": [
       "'[{\"localTradedAt\":\"2022-07-20\",\"closePrice\":\"790.72\",\"compareToPreviousClosePrice\":\"8.39\",\"compareToPreviousPrice\":{\"code\":\"2\",\"text\":\"상승\",\"name\":\"RISING\"},\"fluctuationsRatio\":\"1.07\",\"openPrice\":\"792.'"
      ]
     },
     "execution_count": 42,
     "metadata": {},
     "output_type": "execute_result"
    }
   ],
   "source": [
    "response.text[:200]"
   ]
  },
  {
   "cell_type": "code",
   "execution_count": 36,
   "id": "74fe993b",
   "metadata": {},
   "outputs": [],
   "source": [
    "# 3.JSON(str) > list,dict > DataFrame"
   ]
  },
  {
   "cell_type": "code",
   "execution_count": 43,
   "id": "ba956a97",
   "metadata": {},
   "outputs": [
    {
     "data": {
      "text/plain": [
       "(list,\n",
       " [{'localTradedAt': '2022-07-20',\n",
       "   'closePrice': '790.72',\n",
       "   'compareToPreviousClosePrice': '8.39',\n",
       "   'compareToPreviousPrice': {'code': '2', 'text': '상승', 'name': 'RISING'},\n",
       "   'fluctuationsRatio': '1.07',\n",
       "   'openPrice': '792.94',\n",
       "   'highPrice': '795.92',\n",
       "   'lowPrice': '788.02'},\n",
       "  {'localTradedAt': '2022-07-19',\n",
       "   'closePrice': '782.33',\n",
       "   'compareToPreviousClosePrice': '5.61',\n",
       "   'compareToPreviousPrice': {'code': '2', 'text': '상승', 'name': 'RISING'},\n",
       "   'fluctuationsRatio': '0.72',\n",
       "   'openPrice': '773.73',\n",
       "   'highPrice': '782.33',\n",
       "   'lowPrice': '771.69'}])"
      ]
     },
     "execution_count": 43,
     "metadata": {},
     "output_type": "execute_result"
    }
   ],
   "source": [
    "data = response.json()\n",
    "type(data), data[:2]"
   ]
  },
  {
   "cell_type": "code",
   "execution_count": 44,
   "id": "b33bb9c4",
   "metadata": {},
   "outputs": [
    {
     "data": {
      "text/html": [
       "<div>\n",
       "<style scoped>\n",
       "    .dataframe tbody tr th:only-of-type {\n",
       "        vertical-align: middle;\n",
       "    }\n",
       "\n",
       "    .dataframe tbody tr th {\n",
       "        vertical-align: top;\n",
       "    }\n",
       "\n",
       "    .dataframe thead th {\n",
       "        text-align: right;\n",
       "    }\n",
       "</style>\n",
       "<table border=\"1\" class=\"dataframe\">\n",
       "  <thead>\n",
       "    <tr style=\"text-align: right;\">\n",
       "      <th></th>\n",
       "      <th>localTradedAt</th>\n",
       "      <th>closePrice</th>\n",
       "    </tr>\n",
       "  </thead>\n",
       "  <tbody>\n",
       "    <tr>\n",
       "      <th>8</th>\n",
       "      <td>2022-07-08</td>\n",
       "      <td>766.48</td>\n",
       "    </tr>\n",
       "    <tr>\n",
       "      <th>9</th>\n",
       "      <td>2022-07-07</td>\n",
       "      <td>757.97</td>\n",
       "    </tr>\n",
       "  </tbody>\n",
       "</table>\n",
       "</div>"
      ],
      "text/plain": [
       "  localTradedAt closePrice\n",
       "8    2022-07-08     766.48\n",
       "9    2022-07-07     757.97"
      ]
     },
     "execution_count": 44,
     "metadata": {},
     "output_type": "execute_result"
    }
   ],
   "source": [
    "df= pd.DataFrame(data)[['localTradedAt','closePrice']]\n",
    "df.tail(2)"
   ]
  },
  {
   "cell_type": "code",
   "execution_count": 49,
   "id": "eceb2bb7",
   "metadata": {},
   "outputs": [],
   "source": [
    "def stock_price(pagesize,page,code=\"KOSPI\"):\n",
    "    '''\n",
    "    This function is crawling stock price from naver webpage\n",
    "    Params \n",
    "    ------\n",
    "    pagesize : int : one page size\n",
    "    page : int : page number\n",
    "    code : str : KOSPI or KOSDAQ\n",
    "    Return\n",
    "    -------\n",
    "    type : DataFrame : display date,price columns\n",
    "    '''\n",
    "    url = f'https://m.stock.naver.com/api/index/{code}/price?pageSize={pagesize}&page={page}'\n",
    "    response = requests.get(url)\n",
    "    data = response.json()\n",
    "    return pd.DataFrame(data)[[\"localTradedAt\",\"closePrice\"]]"
   ]
  },
  {
   "cell_type": "markdown",
   "id": "85f92fb0",
   "metadata": {},
   "source": [
    "pageSize=30 page=2라면 2페이지에서부터 자료 30개를 요청하는 것"
   ]
  },
  {
   "cell_type": "code",
   "execution_count": 46,
   "id": "deac8adc",
   "metadata": {},
   "outputs": [],
   "source": [
    "kospi = stock_price(60,1)\n",
    "kosdaq = stock_price(60,1,\"KOSDAQ\")"
   ]
  },
  {
   "cell_type": "code",
   "execution_count": 50,
   "id": "2475526e",
   "metadata": {},
   "outputs": [
    {
     "name": "stdout",
     "output_type": "stream",
     "text": [
      "Help on function stock_price in module __main__:\n",
      "\n",
      "stock_price(pagesize, page, code='KOSPI')\n",
      "    This function is crawling stock price from naver webpage\n",
      "    Params \n",
      "    ------\n",
      "    pagesize : int : one page size\n",
      "    page : int : page number\n",
      "    code : str : KOSPI or KOSDAQ\n",
      "    Return\n",
      "    -------\n",
      "    type : DataFrame : display date,price columns\n",
      "\n"
     ]
    }
   ],
   "source": [
    "#docstring : 함수를 사용하는 방법을 문자열로 작성\n",
    "#help(),shif + tab\n",
    "help(stock_price)"
   ]
  },
  {
   "cell_type": "code",
   "execution_count": 51,
   "id": "872b2078",
   "metadata": {},
   "outputs": [],
   "source": [
    "d1 = \"python\""
   ]
  },
  {
   "cell_type": "code",
   "execution_count": 52,
   "id": "6f62ff5d",
   "metadata": {},
   "outputs": [
    {
     "data": {
      "text/plain": [
       "'PYTHON'"
      ]
     },
     "execution_count": 52,
     "metadata": {},
     "output_type": "execute_result"
    }
   ],
   "source": [
    "d1.upper()"
   ]
  },
  {
   "cell_type": "markdown",
   "id": "f039ee45",
   "metadata": {},
   "source": [
    "### 원달러 환율 데이터 수집\n",
    "    - https://m.stock.naver.com/ > 시장지표 > 미국 USD > 일별시세(더보기)"
   ]
  },
  {
   "cell_type": "code",
   "execution_count": 54,
   "id": "129dc90e",
   "metadata": {},
   "outputs": [],
   "source": [
    "#최근 60일치 원달러 환율 데이터 수집"
   ]
  },
  {
   "cell_type": "code",
   "execution_count": 55,
   "id": "3189bf4e",
   "metadata": {},
   "outputs": [],
   "source": [
    "# 1. 웹서비스 분석 : URL"
   ]
  },
  {
   "cell_type": "code",
   "execution_count": 73,
   "id": "d2f39563",
   "metadata": {},
   "outputs": [],
   "source": [
    "page,pagesize = 1,60\n",
    "url3 = f'https://api.stock.naver.com/marketindex/exchange/FX_USDKRW/prices?page={page}&pageSize={pagesize}'"
   ]
  },
  {
   "cell_type": "code",
   "execution_count": 56,
   "id": "4193d378",
   "metadata": {},
   "outputs": [],
   "source": [
    "# 2. request(url) > response(json) : JSON(str)"
   ]
  },
  {
   "cell_type": "code",
   "execution_count": 74,
   "id": "82b29f29",
   "metadata": {},
   "outputs": [
    {
     "data": {
      "text/plain": [
       "<Response [200]>"
      ]
     },
     "execution_count": 74,
     "metadata": {},
     "output_type": "execute_result"
    }
   ],
   "source": [
    "response = requests.get(url3)\n",
    "response"
   ]
  },
  {
   "cell_type": "code",
   "execution_count": 57,
   "id": "9f9e9ac2",
   "metadata": {},
   "outputs": [],
   "source": [
    "# 3. JSON(str) > list,dict > DataFrame"
   ]
  },
  {
   "cell_type": "code",
   "execution_count": null,
   "id": "eab10955",
   "metadata": {},
   "outputs": [],
   "source": [
    "data = response.json()\n",
    "usd = pd.DataFrame(data)[[\"localTradedAt\",\"closePrice\"]]\n",
    "usd.tail(2)"
   ]
  },
  {
   "cell_type": "code",
   "execution_count": 68,
   "id": "254c6fc3",
   "metadata": {},
   "outputs": [],
   "source": [
    "def usd_ans(pagesize,page):\n",
    "    url3 = f'https://api.stock.naver.com/marketindex/exchange/FX_USDKRW/prices?page={page}&pageSize={pagesize}'\n",
    "    response = requests.get(url3)\n",
    "    data = response.json()\n",
    "    return pd.DataFrame(data)[[\"localTradedAt\",\"closePrice\"]]"
   ]
  },
  {
   "cell_type": "code",
   "execution_count": 69,
   "id": "8787aacc",
   "metadata": {},
   "outputs": [],
   "source": [
    "usd = usd_ans(60,1)"
   ]
  },
  {
   "cell_type": "code",
   "execution_count": 70,
   "id": "9f022a52",
   "metadata": {},
   "outputs": [
    {
     "data": {
      "text/html": [
       "<div>\n",
       "<style scoped>\n",
       "    .dataframe tbody tr th:only-of-type {\n",
       "        vertical-align: middle;\n",
       "    }\n",
       "\n",
       "    .dataframe tbody tr th {\n",
       "        vertical-align: top;\n",
       "    }\n",
       "\n",
       "    .dataframe thead th {\n",
       "        text-align: right;\n",
       "    }\n",
       "</style>\n",
       "<table border=\"1\" class=\"dataframe\">\n",
       "  <thead>\n",
       "    <tr style=\"text-align: right;\">\n",
       "      <th></th>\n",
       "      <th>localTradedAt</th>\n",
       "      <th>closePrice</th>\n",
       "    </tr>\n",
       "  </thead>\n",
       "  <tbody>\n",
       "    <tr>\n",
       "      <th>58</th>\n",
       "      <td>2022-05-11</td>\n",
       "      <td>1,274.50</td>\n",
       "    </tr>\n",
       "    <tr>\n",
       "      <th>59</th>\n",
       "      <td>2022-05-10</td>\n",
       "      <td>1,276.00</td>\n",
       "    </tr>\n",
       "  </tbody>\n",
       "</table>\n",
       "</div>"
      ],
      "text/plain": [
       "   localTradedAt closePrice\n",
       "58    2022-05-11   1,274.50\n",
       "59    2022-05-10   1,276.00"
      ]
     },
     "execution_count": 70,
     "metadata": {},
     "output_type": "execute_result"
    }
   ],
   "source": [
    "usd.tail(2)"
   ]
  },
  {
   "cell_type": "code",
   "execution_count": 75,
   "id": "095f52be",
   "metadata": {},
   "outputs": [
    {
     "data": {
      "text/plain": [
       "<Response [200]>"
      ]
     },
     "execution_count": 75,
     "metadata": {},
     "output_type": "execute_result"
    }
   ],
   "source": [
    "page,pagesize = 1,60\n",
    "url4 = f'https://api.stock.naver.com/marketindex/exchange/FX_JPYKRW/prices?page={page}&pageSize={pagesize}'\n",
    "response = requests.get(url4)\n",
    "response"
   ]
  },
  {
   "cell_type": "code",
   "execution_count": 76,
   "id": "1480b7d2",
   "metadata": {},
   "outputs": [],
   "source": [
    "# 데이터분석\n",
    "# 상관관계분석 : 두 데이터 집합 사이에 어떤 관계가 있는지 확인하는 분석방법\n",
    "# 원달러 환율이 높으면 코스피, 코스닥 지수가 낮다."
   ]
  },
  {
   "cell_type": "code",
   "execution_count": 77,
   "id": "4a34dffa",
   "metadata": {},
   "outputs": [],
   "source": [
    "# 피어슨 상관계수 : df.corr()\n",
    "# 1과 가까울수록 강한 양의 상관관계를 갖는다.\n",
    "# -1과 가까울수록 강한 음의 상관관계를 갖는다.\n",
    "# 0과 가까울수록 관계가 없다."
   ]
  },
  {
   "cell_type": "code",
   "execution_count": 112,
   "id": "68000810",
   "metadata": {},
   "outputs": [
    {
     "data": {
      "text/html": [
       "<div>\n",
       "<style scoped>\n",
       "    .dataframe tbody tr th:only-of-type {\n",
       "        vertical-align: middle;\n",
       "    }\n",
       "\n",
       "    .dataframe tbody tr th {\n",
       "        vertical-align: top;\n",
       "    }\n",
       "\n",
       "    .dataframe thead th {\n",
       "        text-align: right;\n",
       "    }\n",
       "</style>\n",
       "<table border=\"1\" class=\"dataframe\">\n",
       "  <thead>\n",
       "    <tr style=\"text-align: right;\">\n",
       "      <th></th>\n",
       "      <th>localTradedAt</th>\n",
       "      <th>kospi</th>\n",
       "      <th>kosdaq</th>\n",
       "      <th>usd</th>\n",
       "    </tr>\n",
       "  </thead>\n",
       "  <tbody>\n",
       "    <tr>\n",
       "      <th>0</th>\n",
       "      <td>2022-08-03</td>\n",
       "      <td>2,456.12</td>\n",
       "      <td>813.72</td>\n",
       "      <td>813.72</td>\n",
       "    </tr>\n",
       "    <tr>\n",
       "      <th>1</th>\n",
       "      <td>2022-08-02</td>\n",
       "      <td>2,439.62</td>\n",
       "      <td>804.34</td>\n",
       "      <td>804.34</td>\n",
       "    </tr>\n",
       "    <tr>\n",
       "      <th>2</th>\n",
       "      <td>2022-08-01</td>\n",
       "      <td>2,452.25</td>\n",
       "      <td>807.61</td>\n",
       "      <td>807.61</td>\n",
       "    </tr>\n",
       "    <tr>\n",
       "      <th>3</th>\n",
       "      <td>2022-07-29</td>\n",
       "      <td>2,451.50</td>\n",
       "      <td>803.62</td>\n",
       "      <td>803.62</td>\n",
       "    </tr>\n",
       "    <tr>\n",
       "      <th>4</th>\n",
       "      <td>2022-07-28</td>\n",
       "      <td>2,435.27</td>\n",
       "      <td>798.32</td>\n",
       "      <td>798.32</td>\n",
       "    </tr>\n",
       "    <tr>\n",
       "      <th>5</th>\n",
       "      <td>2022-07-27</td>\n",
       "      <td>2,415.53</td>\n",
       "      <td>795.70</td>\n",
       "      <td>795.70</td>\n",
       "    </tr>\n",
       "    <tr>\n",
       "      <th>6</th>\n",
       "      <td>2022-07-26</td>\n",
       "      <td>2,412.96</td>\n",
       "      <td>789.93</td>\n",
       "      <td>789.93</td>\n",
       "    </tr>\n",
       "    <tr>\n",
       "      <th>7</th>\n",
       "      <td>2022-07-25</td>\n",
       "      <td>2,403.69</td>\n",
       "      <td>789.69</td>\n",
       "      <td>789.69</td>\n",
       "    </tr>\n",
       "    <tr>\n",
       "      <th>8</th>\n",
       "      <td>2022-07-22</td>\n",
       "      <td>2,393.14</td>\n",
       "      <td>789.75</td>\n",
       "      <td>789.75</td>\n",
       "    </tr>\n",
       "    <tr>\n",
       "      <th>9</th>\n",
       "      <td>2022-07-21</td>\n",
       "      <td>2,409.16</td>\n",
       "      <td>795.15</td>\n",
       "      <td>795.15</td>\n",
       "    </tr>\n",
       "    <tr>\n",
       "      <th>10</th>\n",
       "      <td>2022-07-20</td>\n",
       "      <td>2,386.85</td>\n",
       "      <td>790.72</td>\n",
       "      <td>790.72</td>\n",
       "    </tr>\n",
       "    <tr>\n",
       "      <th>11</th>\n",
       "      <td>2022-07-19</td>\n",
       "      <td>2,370.97</td>\n",
       "      <td>782.33</td>\n",
       "      <td>782.33</td>\n",
       "    </tr>\n",
       "    <tr>\n",
       "      <th>12</th>\n",
       "      <td>2022-07-18</td>\n",
       "      <td>2,375.25</td>\n",
       "      <td>776.72</td>\n",
       "      <td>776.72</td>\n",
       "    </tr>\n",
       "    <tr>\n",
       "      <th>13</th>\n",
       "      <td>2022-07-15</td>\n",
       "      <td>2,330.98</td>\n",
       "      <td>762.39</td>\n",
       "      <td>762.39</td>\n",
       "    </tr>\n",
       "    <tr>\n",
       "      <th>14</th>\n",
       "      <td>2022-07-14</td>\n",
       "      <td>2,322.32</td>\n",
       "      <td>766.08</td>\n",
       "      <td>766.08</td>\n",
       "    </tr>\n",
       "    <tr>\n",
       "      <th>15</th>\n",
       "      <td>2022-07-13</td>\n",
       "      <td>2,328.61</td>\n",
       "      <td>763.18</td>\n",
       "      <td>763.18</td>\n",
       "    </tr>\n",
       "    <tr>\n",
       "      <th>16</th>\n",
       "      <td>2022-07-12</td>\n",
       "      <td>2,317.76</td>\n",
       "      <td>750.78</td>\n",
       "      <td>750.78</td>\n",
       "    </tr>\n",
       "    <tr>\n",
       "      <th>17</th>\n",
       "      <td>2022-07-11</td>\n",
       "      <td>2,340.27</td>\n",
       "      <td>767.04</td>\n",
       "      <td>767.04</td>\n",
       "    </tr>\n",
       "    <tr>\n",
       "      <th>18</th>\n",
       "      <td>2022-07-08</td>\n",
       "      <td>2,350.61</td>\n",
       "      <td>766.48</td>\n",
       "      <td>766.48</td>\n",
       "    </tr>\n",
       "    <tr>\n",
       "      <th>19</th>\n",
       "      <td>2022-07-07</td>\n",
       "      <td>2,334.27</td>\n",
       "      <td>757.97</td>\n",
       "      <td>757.97</td>\n",
       "    </tr>\n",
       "    <tr>\n",
       "      <th>20</th>\n",
       "      <td>2022-07-06</td>\n",
       "      <td>2,292.01</td>\n",
       "      <td>744.63</td>\n",
       "      <td>744.63</td>\n",
       "    </tr>\n",
       "    <tr>\n",
       "      <th>21</th>\n",
       "      <td>2022-07-05</td>\n",
       "      <td>2,341.78</td>\n",
       "      <td>750.95</td>\n",
       "      <td>750.95</td>\n",
       "    </tr>\n",
       "    <tr>\n",
       "      <th>22</th>\n",
       "      <td>2022-07-04</td>\n",
       "      <td>2,300.34</td>\n",
       "      <td>722.73</td>\n",
       "      <td>722.73</td>\n",
       "    </tr>\n",
       "    <tr>\n",
       "      <th>23</th>\n",
       "      <td>2022-07-01</td>\n",
       "      <td>2,305.42</td>\n",
       "      <td>729.48</td>\n",
       "      <td>729.48</td>\n",
       "    </tr>\n",
       "    <tr>\n",
       "      <th>24</th>\n",
       "      <td>2022-06-30</td>\n",
       "      <td>2,332.64</td>\n",
       "      <td>745.44</td>\n",
       "      <td>745.44</td>\n",
       "    </tr>\n",
       "    <tr>\n",
       "      <th>25</th>\n",
       "      <td>2022-06-29</td>\n",
       "      <td>2,377.99</td>\n",
       "      <td>762.35</td>\n",
       "      <td>762.35</td>\n",
       "    </tr>\n",
       "    <tr>\n",
       "      <th>26</th>\n",
       "      <td>2022-06-28</td>\n",
       "      <td>2,422.09</td>\n",
       "      <td>769.51</td>\n",
       "      <td>769.51</td>\n",
       "    </tr>\n",
       "    <tr>\n",
       "      <th>27</th>\n",
       "      <td>2022-06-27</td>\n",
       "      <td>2,401.92</td>\n",
       "      <td>770.60</td>\n",
       "      <td>770.60</td>\n",
       "    </tr>\n",
       "    <tr>\n",
       "      <th>28</th>\n",
       "      <td>2022-06-24</td>\n",
       "      <td>2,366.60</td>\n",
       "      <td>750.30</td>\n",
       "      <td>750.30</td>\n",
       "    </tr>\n",
       "    <tr>\n",
       "      <th>29</th>\n",
       "      <td>2022-06-23</td>\n",
       "      <td>2,314.32</td>\n",
       "      <td>714.38</td>\n",
       "      <td>714.38</td>\n",
       "    </tr>\n",
       "    <tr>\n",
       "      <th>30</th>\n",
       "      <td>2022-06-22</td>\n",
       "      <td>2,342.81</td>\n",
       "      <td>746.96</td>\n",
       "      <td>746.96</td>\n",
       "    </tr>\n",
       "    <tr>\n",
       "      <th>31</th>\n",
       "      <td>2022-06-21</td>\n",
       "      <td>2,408.93</td>\n",
       "      <td>778.30</td>\n",
       "      <td>778.30</td>\n",
       "    </tr>\n",
       "    <tr>\n",
       "      <th>32</th>\n",
       "      <td>2022-06-20</td>\n",
       "      <td>2,391.03</td>\n",
       "      <td>769.92</td>\n",
       "      <td>769.92</td>\n",
       "    </tr>\n",
       "    <tr>\n",
       "      <th>33</th>\n",
       "      <td>2022-06-17</td>\n",
       "      <td>2,440.93</td>\n",
       "      <td>798.69</td>\n",
       "      <td>798.69</td>\n",
       "    </tr>\n",
       "    <tr>\n",
       "      <th>34</th>\n",
       "      <td>2022-06-16</td>\n",
       "      <td>2,451.41</td>\n",
       "      <td>802.15</td>\n",
       "      <td>802.15</td>\n",
       "    </tr>\n",
       "    <tr>\n",
       "      <th>35</th>\n",
       "      <td>2022-06-15</td>\n",
       "      <td>2,447.38</td>\n",
       "      <td>799.41</td>\n",
       "      <td>799.41</td>\n",
       "    </tr>\n",
       "    <tr>\n",
       "      <th>36</th>\n",
       "      <td>2022-06-14</td>\n",
       "      <td>2,492.97</td>\n",
       "      <td>823.58</td>\n",
       "      <td>823.58</td>\n",
       "    </tr>\n",
       "    <tr>\n",
       "      <th>37</th>\n",
       "      <td>2022-06-13</td>\n",
       "      <td>2,504.51</td>\n",
       "      <td>828.77</td>\n",
       "      <td>828.77</td>\n",
       "    </tr>\n",
       "    <tr>\n",
       "      <th>38</th>\n",
       "      <td>2022-06-10</td>\n",
       "      <td>2,595.87</td>\n",
       "      <td>869.86</td>\n",
       "      <td>869.86</td>\n",
       "    </tr>\n",
       "    <tr>\n",
       "      <th>39</th>\n",
       "      <td>2022-06-09</td>\n",
       "      <td>2,625.44</td>\n",
       "      <td>877.18</td>\n",
       "      <td>877.18</td>\n",
       "    </tr>\n",
       "    <tr>\n",
       "      <th>40</th>\n",
       "      <td>2022-06-08</td>\n",
       "      <td>2,626.15</td>\n",
       "      <td>874.95</td>\n",
       "      <td>874.95</td>\n",
       "    </tr>\n",
       "    <tr>\n",
       "      <th>41</th>\n",
       "      <td>2022-06-07</td>\n",
       "      <td>2,626.34</td>\n",
       "      <td>873.78</td>\n",
       "      <td>873.78</td>\n",
       "    </tr>\n",
       "    <tr>\n",
       "      <th>42</th>\n",
       "      <td>2022-06-03</td>\n",
       "      <td>2,670.65</td>\n",
       "      <td>891.51</td>\n",
       "      <td>891.51</td>\n",
       "    </tr>\n",
       "    <tr>\n",
       "      <th>43</th>\n",
       "      <td>2022-06-02</td>\n",
       "      <td>2,658.99</td>\n",
       "      <td>891.14</td>\n",
       "      <td>891.14</td>\n",
       "    </tr>\n",
       "    <tr>\n",
       "      <th>44</th>\n",
       "      <td>2022-05-31</td>\n",
       "      <td>2,685.90</td>\n",
       "      <td>893.36</td>\n",
       "      <td>893.36</td>\n",
       "    </tr>\n",
       "    <tr>\n",
       "      <th>45</th>\n",
       "      <td>2022-05-30</td>\n",
       "      <td>2,669.66</td>\n",
       "      <td>886.44</td>\n",
       "      <td>886.44</td>\n",
       "    </tr>\n",
       "    <tr>\n",
       "      <th>46</th>\n",
       "      <td>2022-05-27</td>\n",
       "      <td>2,638.05</td>\n",
       "      <td>873.97</td>\n",
       "      <td>873.97</td>\n",
       "    </tr>\n",
       "    <tr>\n",
       "      <th>47</th>\n",
       "      <td>2022-05-26</td>\n",
       "      <td>2,612.45</td>\n",
       "      <td>871.43</td>\n",
       "      <td>871.43</td>\n",
       "    </tr>\n",
       "    <tr>\n",
       "      <th>48</th>\n",
       "      <td>2022-05-25</td>\n",
       "      <td>2,617.22</td>\n",
       "      <td>872.69</td>\n",
       "      <td>872.69</td>\n",
       "    </tr>\n",
       "    <tr>\n",
       "      <th>49</th>\n",
       "      <td>2022-05-24</td>\n",
       "      <td>2,605.87</td>\n",
       "      <td>865.07</td>\n",
       "      <td>865.07</td>\n",
       "    </tr>\n",
       "    <tr>\n",
       "      <th>50</th>\n",
       "      <td>2022-05-23</td>\n",
       "      <td>2,647.38</td>\n",
       "      <td>883.59</td>\n",
       "      <td>883.59</td>\n",
       "    </tr>\n",
       "    <tr>\n",
       "      <th>51</th>\n",
       "      <td>2022-05-20</td>\n",
       "      <td>2,639.29</td>\n",
       "      <td>879.88</td>\n",
       "      <td>879.88</td>\n",
       "    </tr>\n",
       "    <tr>\n",
       "      <th>52</th>\n",
       "      <td>2022-05-19</td>\n",
       "      <td>2,592.34</td>\n",
       "      <td>863.80</td>\n",
       "      <td>863.80</td>\n",
       "    </tr>\n",
       "    <tr>\n",
       "      <th>53</th>\n",
       "      <td>2022-05-18</td>\n",
       "      <td>2,625.98</td>\n",
       "      <td>871.57</td>\n",
       "      <td>871.57</td>\n",
       "    </tr>\n",
       "    <tr>\n",
       "      <th>54</th>\n",
       "      <td>2022-05-17</td>\n",
       "      <td>2,620.44</td>\n",
       "      <td>865.98</td>\n",
       "      <td>865.98</td>\n",
       "    </tr>\n",
       "    <tr>\n",
       "      <th>55</th>\n",
       "      <td>2022-05-16</td>\n",
       "      <td>2,596.58</td>\n",
       "      <td>856.25</td>\n",
       "      <td>856.25</td>\n",
       "    </tr>\n",
       "    <tr>\n",
       "      <th>56</th>\n",
       "      <td>2022-05-13</td>\n",
       "      <td>2,604.24</td>\n",
       "      <td>853.08</td>\n",
       "      <td>853.08</td>\n",
       "    </tr>\n",
       "    <tr>\n",
       "      <th>57</th>\n",
       "      <td>2022-05-12</td>\n",
       "      <td>2,550.08</td>\n",
       "      <td>833.66</td>\n",
       "      <td>833.66</td>\n",
       "    </tr>\n",
       "    <tr>\n",
       "      <th>58</th>\n",
       "      <td>2022-05-11</td>\n",
       "      <td>2,592.27</td>\n",
       "      <td>866.34</td>\n",
       "      <td>866.34</td>\n",
       "    </tr>\n",
       "    <tr>\n",
       "      <th>59</th>\n",
       "      <td>2022-05-10</td>\n",
       "      <td>2,596.56</td>\n",
       "      <td>856.14</td>\n",
       "      <td>856.14</td>\n",
       "    </tr>\n",
       "  </tbody>\n",
       "</table>\n",
       "</div>"
      ],
      "text/plain": [
       "   localTradedAt     kospi  kosdaq     usd\n",
       "0     2022-08-03  2,456.12  813.72  813.72\n",
       "1     2022-08-02  2,439.62  804.34  804.34\n",
       "2     2022-08-01  2,452.25  807.61  807.61\n",
       "3     2022-07-29  2,451.50  803.62  803.62\n",
       "4     2022-07-28  2,435.27  798.32  798.32\n",
       "5     2022-07-27  2,415.53  795.70  795.70\n",
       "6     2022-07-26  2,412.96  789.93  789.93\n",
       "7     2022-07-25  2,403.69  789.69  789.69\n",
       "8     2022-07-22  2,393.14  789.75  789.75\n",
       "9     2022-07-21  2,409.16  795.15  795.15\n",
       "10    2022-07-20  2,386.85  790.72  790.72\n",
       "11    2022-07-19  2,370.97  782.33  782.33\n",
       "12    2022-07-18  2,375.25  776.72  776.72\n",
       "13    2022-07-15  2,330.98  762.39  762.39\n",
       "14    2022-07-14  2,322.32  766.08  766.08\n",
       "15    2022-07-13  2,328.61  763.18  763.18\n",
       "16    2022-07-12  2,317.76  750.78  750.78\n",
       "17    2022-07-11  2,340.27  767.04  767.04\n",
       "18    2022-07-08  2,350.61  766.48  766.48\n",
       "19    2022-07-07  2,334.27  757.97  757.97\n",
       "20    2022-07-06  2,292.01  744.63  744.63\n",
       "21    2022-07-05  2,341.78  750.95  750.95\n",
       "22    2022-07-04  2,300.34  722.73  722.73\n",
       "23    2022-07-01  2,305.42  729.48  729.48\n",
       "24    2022-06-30  2,332.64  745.44  745.44\n",
       "25    2022-06-29  2,377.99  762.35  762.35\n",
       "26    2022-06-28  2,422.09  769.51  769.51\n",
       "27    2022-06-27  2,401.92  770.60  770.60\n",
       "28    2022-06-24  2,366.60  750.30  750.30\n",
       "29    2022-06-23  2,314.32  714.38  714.38\n",
       "30    2022-06-22  2,342.81  746.96  746.96\n",
       "31    2022-06-21  2,408.93  778.30  778.30\n",
       "32    2022-06-20  2,391.03  769.92  769.92\n",
       "33    2022-06-17  2,440.93  798.69  798.69\n",
       "34    2022-06-16  2,451.41  802.15  802.15\n",
       "35    2022-06-15  2,447.38  799.41  799.41\n",
       "36    2022-06-14  2,492.97  823.58  823.58\n",
       "37    2022-06-13  2,504.51  828.77  828.77\n",
       "38    2022-06-10  2,595.87  869.86  869.86\n",
       "39    2022-06-09  2,625.44  877.18  877.18\n",
       "40    2022-06-08  2,626.15  874.95  874.95\n",
       "41    2022-06-07  2,626.34  873.78  873.78\n",
       "42    2022-06-03  2,670.65  891.51  891.51\n",
       "43    2022-06-02  2,658.99  891.14  891.14\n",
       "44    2022-05-31  2,685.90  893.36  893.36\n",
       "45    2022-05-30  2,669.66  886.44  886.44\n",
       "46    2022-05-27  2,638.05  873.97  873.97\n",
       "47    2022-05-26  2,612.45  871.43  871.43\n",
       "48    2022-05-25  2,617.22  872.69  872.69\n",
       "49    2022-05-24  2,605.87  865.07  865.07\n",
       "50    2022-05-23  2,647.38  883.59  883.59\n",
       "51    2022-05-20  2,639.29  879.88  879.88\n",
       "52    2022-05-19  2,592.34  863.80  863.80\n",
       "53    2022-05-18  2,625.98  871.57  871.57\n",
       "54    2022-05-17  2,620.44  865.98  865.98\n",
       "55    2022-05-16  2,596.58  856.25  856.25\n",
       "56    2022-05-13  2,604.24  853.08  853.08\n",
       "57    2022-05-12  2,550.08  833.66  833.66\n",
       "58    2022-05-11  2,592.27  866.34  866.34\n",
       "59    2022-05-10  2,596.56  856.14  856.14"
      ]
     },
     "execution_count": 112,
     "metadata": {},
     "output_type": "execute_result"
    }
   ],
   "source": [
    "# 데이터 전처리\n",
    "df = kospi.copy()\n",
    "df['kosdaq']= kosdaq[\"closePrice\"]\n",
    "df['usd']= kosdaq[\"closePrice\"]\n",
    "df = df.rename(columns={\"closePrice\":\"kospi\"})\n",
    "df"
   ]
  },
  {
   "cell_type": "code",
   "execution_count": 91,
   "id": "f34cc1f4",
   "metadata": {},
   "outputs": [],
   "source": [
    "#컬럼의 데이터 타입 변경 : str > float\n",
    "# df[column].apply() : 모든 데이터를 함수에 대입한 결과를 출력\n",
    "df['kospi'] = df[\"kospi\"].apply(lambda data: float(data.replace(\",\",\"\")))\n",
    "df['kosdaq'] = df[\"kosdaq\"].apply(lambda data: float(data.replace(\",\",\"\")))\n",
    "df['usd'] = df[\"usd\"].apply(lambda data: float(data.replace(\",\",\"\")))"
   ]
  },
  {
   "cell_type": "code",
   "execution_count": 92,
   "id": "05670bd0",
   "metadata": {},
   "outputs": [
    {
     "data": {
      "text/plain": [
       "localTradedAt     object\n",
       "kospi            float64\n",
       "kosdaq           float64\n",
       "usd              float64\n",
       "dtype: object"
      ]
     },
     "execution_count": 92,
     "metadata": {},
     "output_type": "execute_result"
    }
   ],
   "source": [
    "df.dtypes"
   ]
  },
  {
   "cell_type": "code",
   "execution_count": 93,
   "id": "83197c4d",
   "metadata": {
    "scrolled": true
   },
   "outputs": [
    {
     "data": {
      "text/html": [
       "<div>\n",
       "<style scoped>\n",
       "    .dataframe tbody tr th:only-of-type {\n",
       "        vertical-align: middle;\n",
       "    }\n",
       "\n",
       "    .dataframe tbody tr th {\n",
       "        vertical-align: top;\n",
       "    }\n",
       "\n",
       "    .dataframe thead th {\n",
       "        text-align: right;\n",
       "    }\n",
       "</style>\n",
       "<table border=\"1\" class=\"dataframe\">\n",
       "  <thead>\n",
       "    <tr style=\"text-align: right;\">\n",
       "      <th></th>\n",
       "      <th>kospi</th>\n",
       "      <th>kosdaq</th>\n",
       "      <th>usd</th>\n",
       "    </tr>\n",
       "  </thead>\n",
       "  <tbody>\n",
       "    <tr>\n",
       "      <th>kospi</th>\n",
       "      <td>1.000000</td>\n",
       "      <td>0.984042</td>\n",
       "      <td>0.984042</td>\n",
       "    </tr>\n",
       "    <tr>\n",
       "      <th>kosdaq</th>\n",
       "      <td>0.984042</td>\n",
       "      <td>1.000000</td>\n",
       "      <td>1.000000</td>\n",
       "    </tr>\n",
       "    <tr>\n",
       "      <th>usd</th>\n",
       "      <td>0.984042</td>\n",
       "      <td>1.000000</td>\n",
       "      <td>1.000000</td>\n",
       "    </tr>\n",
       "  </tbody>\n",
       "</table>\n",
       "</div>"
      ],
      "text/plain": [
       "           kospi    kosdaq       usd\n",
       "kospi   1.000000  0.984042  0.984042\n",
       "kosdaq  0.984042  1.000000  1.000000\n",
       "usd     0.984042  1.000000  1.000000"
      ]
     },
     "execution_count": 93,
     "metadata": {},
     "output_type": "execute_result"
    }
   ],
   "source": [
    "df[['kospi','kosdaq','usd']].corr()"
   ]
  },
  {
   "cell_type": "code",
   "execution_count": null,
   "id": "ca2a4c36",
   "metadata": {},
   "outputs": [],
   "source": [
    "# kospi - kosdaq : 0.984 : 1과 가까우면 강한 양의 상관관계\n",
    "# kospi - usd : -0.878 : -1과 가까우면 강한 음의 상관관계"
   ]
  },
  {
   "cell_type": "code",
   "execution_count": 94,
   "id": "188f03c9",
   "metadata": {},
   "outputs": [],
   "source": [
    "# copy(), apply, lambda"
   ]
  },
  {
   "cell_type": "code",
   "execution_count": null,
   "id": "cf58ea45",
   "metadata": {},
   "outputs": [],
   "source": [
    "# copy()"
   ]
  },
  {
   "cell_type": "code",
   "execution_count": 97,
   "id": "15d42d89",
   "metadata": {},
   "outputs": [
    {
     "name": "stdout",
     "output_type": "stream",
     "text": [
      "[1, 2, 3] [1, 2, 3] [1, 2, 3]\n",
      "[1, 4, 3] [1, 4, 3] [1, 2, 3]\n"
     ]
    }
   ],
   "source": [
    "data1 = [1,2,3]\n",
    "data2 = data1 #주소값 복사 : 얕은 복사(call by reference)\n",
    "data3 = data1.copy() # 값 복사 : 깊은복사(call by value)\n",
    "print(data1,data2,data3) # [1,2,3], [1,2,3]\n",
    "data1[1] = 4\n",
    "print(data1,data2,data3) # [1,4,3], [1,2,3](???)"
   ]
  },
  {
   "cell_type": "code",
   "execution_count": 98,
   "id": "1c87ff1d",
   "metadata": {},
   "outputs": [
    {
     "data": {
      "text/html": [
       "<div>\n",
       "<style scoped>\n",
       "    .dataframe tbody tr th:only-of-type {\n",
       "        vertical-align: middle;\n",
       "    }\n",
       "\n",
       "    .dataframe tbody tr th {\n",
       "        vertical-align: top;\n",
       "    }\n",
       "\n",
       "    .dataframe thead th {\n",
       "        text-align: right;\n",
       "    }\n",
       "</style>\n",
       "<table border=\"1\" class=\"dataframe\">\n",
       "  <thead>\n",
       "    <tr style=\"text-align: right;\">\n",
       "      <th></th>\n",
       "      <th>age</th>\n",
       "    </tr>\n",
       "  </thead>\n",
       "  <tbody>\n",
       "    <tr>\n",
       "      <th>0</th>\n",
       "      <td>23</td>\n",
       "    </tr>\n",
       "    <tr>\n",
       "      <th>1</th>\n",
       "      <td>36</td>\n",
       "    </tr>\n",
       "    <tr>\n",
       "      <th>2</th>\n",
       "      <td>27</td>\n",
       "    </tr>\n",
       "  </tbody>\n",
       "</table>\n",
       "</div>"
      ],
      "text/plain": [
       "   age\n",
       "0   23\n",
       "1   36\n",
       "2   27"
      ]
     },
     "execution_count": 98,
     "metadata": {},
     "output_type": "execute_result"
    }
   ],
   "source": [
    "df = pd.DataFrame([{\"age\":23},{'age':36},{'age':27}])\n",
    "df"
   ]
  },
  {
   "cell_type": "code",
   "execution_count": 99,
   "id": "2abf25a5",
   "metadata": {},
   "outputs": [],
   "source": [
    "# 연령대 컬럼을 추가\n",
    "def change_ages(age):\n",
    "    return age // 10 * 10"
   ]
  },
  {
   "cell_type": "code",
   "execution_count": 101,
   "id": "2bc24a5f",
   "metadata": {},
   "outputs": [
    {
     "data": {
      "text/plain": [
       "30"
      ]
     },
     "execution_count": 101,
     "metadata": {},
     "output_type": "execute_result"
    }
   ],
   "source": [
    "age = 39\n",
    "age // 10 * 10"
   ]
  },
  {
   "cell_type": "code",
   "execution_count": 102,
   "id": "8e915630",
   "metadata": {},
   "outputs": [
    {
     "data": {
      "text/plain": [
       "0    23\n",
       "1    36\n",
       "2    27\n",
       "Name: age, dtype: int64"
      ]
     },
     "execution_count": 102,
     "metadata": {},
     "output_type": "execute_result"
    }
   ],
   "source": [
    "df['age']"
   ]
  },
  {
   "cell_type": "code",
   "execution_count": 105,
   "id": "eca26a92",
   "metadata": {},
   "outputs": [],
   "source": [
    "df['ages'] =  df['age'].apply(change_ages)"
   ]
  },
  {
   "cell_type": "code",
   "execution_count": 106,
   "id": "20ebf3b3",
   "metadata": {},
   "outputs": [
    {
     "data": {
      "text/html": [
       "<div>\n",
       "<style scoped>\n",
       "    .dataframe tbody tr th:only-of-type {\n",
       "        vertical-align: middle;\n",
       "    }\n",
       "\n",
       "    .dataframe tbody tr th {\n",
       "        vertical-align: top;\n",
       "    }\n",
       "\n",
       "    .dataframe thead th {\n",
       "        text-align: right;\n",
       "    }\n",
       "</style>\n",
       "<table border=\"1\" class=\"dataframe\">\n",
       "  <thead>\n",
       "    <tr style=\"text-align: right;\">\n",
       "      <th></th>\n",
       "      <th>age</th>\n",
       "      <th>ages</th>\n",
       "    </tr>\n",
       "  </thead>\n",
       "  <tbody>\n",
       "    <tr>\n",
       "      <th>0</th>\n",
       "      <td>23</td>\n",
       "      <td>20</td>\n",
       "    </tr>\n",
       "    <tr>\n",
       "      <th>1</th>\n",
       "      <td>36</td>\n",
       "      <td>30</td>\n",
       "    </tr>\n",
       "    <tr>\n",
       "      <th>2</th>\n",
       "      <td>27</td>\n",
       "      <td>20</td>\n",
       "    </tr>\n",
       "  </tbody>\n",
       "</table>\n",
       "</div>"
      ],
      "text/plain": [
       "   age  ages\n",
       "0   23    20\n",
       "1   36    30\n",
       "2   27    20"
      ]
     },
     "execution_count": 106,
     "metadata": {},
     "output_type": "execute_result"
    }
   ],
   "source": [
    "df"
   ]
  },
  {
   "cell_type": "code",
   "execution_count": 107,
   "id": "713027ed",
   "metadata": {},
   "outputs": [],
   "source": [
    "# lambda : 일회성 함수\n",
    "# 사용이유 : 간단한 함수를 메모리를 절약하여 사용"
   ]
  },
  {
   "cell_type": "code",
   "execution_count": 108,
   "id": "210a368e",
   "metadata": {},
   "outputs": [],
   "source": [
    "# 함수 3개 사용, 메모리 3칸 사용\n",
    "def plus(n1,n2):\n",
    "    return n1 + n2\n",
    "def minus(n1,n2):\n",
    "    return n1 - n2\n",
    "def calc(func,n1,n2):\n",
    "    return func(n1,n2)"
   ]
  },
  {
   "cell_type": "code",
   "execution_count": 109,
   "id": "6fd1033b",
   "metadata": {},
   "outputs": [
    {
     "data": {
      "text/plain": [
       "(3, -1)"
      ]
     },
     "execution_count": 109,
     "metadata": {},
     "output_type": "execute_result"
    }
   ],
   "source": [
    "calc(plus,1,2),calc(minus,1,2)"
   ]
  },
  {
   "cell_type": "code",
   "execution_count": 110,
   "id": "a652d1ad",
   "metadata": {},
   "outputs": [
    {
     "data": {
      "text/plain": [
       "(5, 5)"
      ]
     },
     "execution_count": 110,
     "metadata": {},
     "output_type": "execute_result"
    }
   ],
   "source": [
    "plus_lambda = lambda n1,n2: n1+n2\n",
    "plus(2,3),plus_lambda(2,3)"
   ]
  },
  {
   "cell_type": "code",
   "execution_count": 111,
   "id": "443a41a2",
   "metadata": {},
   "outputs": [
    {
     "data": {
      "text/plain": [
       "(3, -1)"
      ]
     },
     "execution_count": 111,
     "metadata": {},
     "output_type": "execute_result"
    }
   ],
   "source": [
    "# 함수 1개 사용, 메모리 1칸 사용\n",
    "def calc(func,n1,n2):\n",
    "    return func(n1,n2)\n",
    "\n",
    "calc(lambda n1,n2: n1+ n2,1,2), calc(lambda n1,n2:n1-n2,1,2)"
   ]
  },
  {
   "cell_type": "markdown",
   "id": "31a47bfa",
   "metadata": {},
   "source": [
    "# lambda 사용 관련 질문 답변\n",
    "\n",
    "- 람다는 임시함수로 메모리를 점유하고 있지 않습니다. def 함수명 으로 정의된 함수는 프로그램 종료 때 소멸되기 때문에 일명 글로벌 함수라고도 합니다. 람다는 함수사용후 즉각 메모리에서 소멸됩니다.\n",
    "- 람다는 지속적으로 사용되지 않는 임시목적의 함수"
   ]
  },
  {
   "cell_type": "markdown",
   "id": "a8d5ed6a",
   "metadata": {},
   "source": [
    "# 상관관계 질문 답변\n",
    "- 상관관계 0.7 굉장히 높음 0.4~0.5도 관계있다 생각하는 편\n",
    "- 기준이 절대적인건 아님 업계 도메인마다 다름\n",
    "- standard 는 아래와 같습니다.r이 -1.0과 -0.7 사이이면, 강한 음적 선형관계, r이 -0.7과 -0.3 사이이면, 뚜렷한 음적 선형관계, r이 -0.3과 -0.1 사이이면, 약한 음적 선형관계, r이 -0.1과 +0.1 사이이면, 거의 무시될 수 있는 선형관계, r이 +0.1과 +0.3 사이이면, 약한 양적 선형관계, r이 +0.3과 +0.7 사이이면, 뚜렷한 양적 선형관계, r이 +0.7과 +1.0 사이이면, 강한 양적 선형관계"
   ]
  },
  {
   "cell_type": "code",
   "execution_count": 113,
   "id": "cd717138",
   "metadata": {},
   "outputs": [],
   "source": [
    "# summary\n",
    "# 웹페이지의 종류\n",
    "# - 정적페이지 : 데이터가 변경될 때 URL 변경 O : HTML\n",
    "# - 동적페이지 : 데이터가 변경될 때 URL 변경 X : JSON\n",
    "\n",
    "# 웹크롤링 절차\n",
    "# 1. 웹서비스 분석 : 크롬 개발자 도구 : URL\n",
    "# 2. request(url) > response(json) : JSON(str)\n",
    "# 3. JSON(str) > list,dict > DataFrame"
   ]
  },
  {
   "cell_type": "code",
   "execution_count": null,
   "id": "e56931f9",
   "metadata": {},
   "outputs": [],
   "source": []
  }
 ],
 "metadata": {
  "kernelspec": {
   "display_name": "Python 3",
   "language": "python",
   "name": "python3"
  },
  "language_info": {
   "codemirror_mode": {
    "name": "ipython",
    "version": 3
   },
   "file_extension": ".py",
   "mimetype": "text/x-python",
   "name": "python",
   "nbconvert_exporter": "python",
   "pygments_lexer": "ipython3",
   "version": "3.8.8"
  }
 },
 "nbformat": 4,
 "nbformat_minor": 5
}
